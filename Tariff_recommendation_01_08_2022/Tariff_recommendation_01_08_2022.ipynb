{
 "cells": [
  {
   "cell_type": "markdown",
   "id": "d3e87509",
   "metadata": {},
   "source": [
    "# Рекомендация тарифов\n",
    "# Tariff recommendation"
   ]
  },
  {
   "cell_type": "markdown",
   "id": "4d2ac326",
   "metadata": {},
   "source": [
    "Оператор мобильной связи выяснил: многие клиенты пользуются архивными тарифами. Они хотят построить систему, способную проанализировать поведение клиентов и предложить пользователям новый тариф: «Смарт» или «Ультра».\n",
    "\n",
    "В вашем распоряжении данные о поведении клиентов, которые уже перешли на эти тарифы (из проекта курса «Статистический анализ данных»). Нужно построить модель для задачи классификации, которая выберет подходящий тариф. Предобработка данных не понадобится — вы её уже сделали.\n",
    "\n",
    "Постройте модель с максимально большим значением *accuracy*. Нужно довести долю правильных ответов по крайней мере до 0.75."
   ]
  },
  {
   "cell_type": "code",
   "execution_count": 4,
   "id": "ce94c0dd",
   "metadata": {},
   "outputs": [],
   "source": [
    "import pandas as pd\n",
    "import numpy as np\n",
    "import os\n",
    "from sklearn.model_selection import train_test_split\n",
    "from sklearn.metrics import accuracy_score, precision_score, recall_score, f1_score, roc_auc_score, confusion_matrix\n",
    "from sklearn.tree import DecisionTreeClassifier\n",
    "from sklearn.ensemble import RandomForestClassifier\n",
    "from sklearn.linear_model import LogisticRegression\n",
    "from sklearn.dummy import DummyClassifier\n",
    "#from sklearn.metrics import plot_confusion_matrix"
   ]
  },
  {
   "cell_type": "code",
   "execution_count": 5,
   "id": "a2a726e3",
   "metadata": {},
   "outputs": [],
   "source": [
    "\n",
    "pth1 = 'users_behavior.csv'\n",
    "pth2 = '/datasets/users_behavior.csv'\n",
    "\n",
    "if os.path.exists(pth1):\n",
    "    df = pd.read_csv(pth1)\n",
    "elif os.path.exists(pth2):\n",
    "    df = pd.read_csv(pth2)\n",
    "else:\n",
    "    print('Something is wrong, что-то пошло не так')"
   ]
  },
  {
   "cell_type": "code",
   "execution_count": 6,
   "id": "43b34751",
   "metadata": {},
   "outputs": [
    {
     "name": "stdout",
     "output_type": "stream",
     "text": [
      "<class 'pandas.core.frame.DataFrame'>\n",
      "RangeIndex: 3214 entries, 0 to 3213\n",
      "Data columns (total 5 columns):\n",
      " #   Column    Non-Null Count  Dtype  \n",
      "---  ------    --------------  -----  \n",
      " 0   calls     3214 non-null   float64\n",
      " 1   minutes   3214 non-null   float64\n",
      " 2   messages  3214 non-null   float64\n",
      " 3   mb_used   3214 non-null   float64\n",
      " 4   is_ultra  3214 non-null   int64  \n",
      "dtypes: float64(4), int64(1)\n",
      "memory usage: 125.7 KB\n"
     ]
    }
   ],
   "source": [
    "df.info()"
   ]
  },
  {
   "cell_type": "code",
   "execution_count": 7,
   "id": "70adc8db",
   "metadata": {},
   "outputs": [
    {
     "data": {
      "text/html": [
       "<div>\n",
       "<style scoped>\n",
       "    .dataframe tbody tr th:only-of-type {\n",
       "        vertical-align: middle;\n",
       "    }\n",
       "\n",
       "    .dataframe tbody tr th {\n",
       "        vertical-align: top;\n",
       "    }\n",
       "\n",
       "    .dataframe thead th {\n",
       "        text-align: right;\n",
       "    }\n",
       "</style>\n",
       "<table border=\"1\" class=\"dataframe\">\n",
       "  <thead>\n",
       "    <tr style=\"text-align: right;\">\n",
       "      <th></th>\n",
       "      <th>calls</th>\n",
       "      <th>minutes</th>\n",
       "      <th>messages</th>\n",
       "      <th>mb_used</th>\n",
       "      <th>is_ultra</th>\n",
       "    </tr>\n",
       "  </thead>\n",
       "  <tbody>\n",
       "    <tr>\n",
       "      <th>0</th>\n",
       "      <td>40.0</td>\n",
       "      <td>311.90</td>\n",
       "      <td>83.0</td>\n",
       "      <td>19915.42</td>\n",
       "      <td>0</td>\n",
       "    </tr>\n",
       "    <tr>\n",
       "      <th>1</th>\n",
       "      <td>85.0</td>\n",
       "      <td>516.75</td>\n",
       "      <td>56.0</td>\n",
       "      <td>22696.96</td>\n",
       "      <td>0</td>\n",
       "    </tr>\n",
       "    <tr>\n",
       "      <th>2</th>\n",
       "      <td>77.0</td>\n",
       "      <td>467.66</td>\n",
       "      <td>86.0</td>\n",
       "      <td>21060.45</td>\n",
       "      <td>0</td>\n",
       "    </tr>\n",
       "    <tr>\n",
       "      <th>3</th>\n",
       "      <td>106.0</td>\n",
       "      <td>745.53</td>\n",
       "      <td>81.0</td>\n",
       "      <td>8437.39</td>\n",
       "      <td>1</td>\n",
       "    </tr>\n",
       "    <tr>\n",
       "      <th>4</th>\n",
       "      <td>66.0</td>\n",
       "      <td>418.74</td>\n",
       "      <td>1.0</td>\n",
       "      <td>14502.75</td>\n",
       "      <td>0</td>\n",
       "    </tr>\n",
       "    <tr>\n",
       "      <th>...</th>\n",
       "      <td>...</td>\n",
       "      <td>...</td>\n",
       "      <td>...</td>\n",
       "      <td>...</td>\n",
       "      <td>...</td>\n",
       "    </tr>\n",
       "    <tr>\n",
       "      <th>3209</th>\n",
       "      <td>122.0</td>\n",
       "      <td>910.98</td>\n",
       "      <td>20.0</td>\n",
       "      <td>35124.90</td>\n",
       "      <td>1</td>\n",
       "    </tr>\n",
       "    <tr>\n",
       "      <th>3210</th>\n",
       "      <td>25.0</td>\n",
       "      <td>190.36</td>\n",
       "      <td>0.0</td>\n",
       "      <td>3275.61</td>\n",
       "      <td>0</td>\n",
       "    </tr>\n",
       "    <tr>\n",
       "      <th>3211</th>\n",
       "      <td>97.0</td>\n",
       "      <td>634.44</td>\n",
       "      <td>70.0</td>\n",
       "      <td>13974.06</td>\n",
       "      <td>0</td>\n",
       "    </tr>\n",
       "    <tr>\n",
       "      <th>3212</th>\n",
       "      <td>64.0</td>\n",
       "      <td>462.32</td>\n",
       "      <td>90.0</td>\n",
       "      <td>31239.78</td>\n",
       "      <td>0</td>\n",
       "    </tr>\n",
       "    <tr>\n",
       "      <th>3213</th>\n",
       "      <td>80.0</td>\n",
       "      <td>566.09</td>\n",
       "      <td>6.0</td>\n",
       "      <td>29480.52</td>\n",
       "      <td>1</td>\n",
       "    </tr>\n",
       "  </tbody>\n",
       "</table>\n",
       "<p>3214 rows × 5 columns</p>\n",
       "</div>"
      ],
      "text/plain": [
       "      calls  minutes  messages   mb_used  is_ultra\n",
       "0      40.0   311.90      83.0  19915.42         0\n",
       "1      85.0   516.75      56.0  22696.96         0\n",
       "2      77.0   467.66      86.0  21060.45         0\n",
       "3     106.0   745.53      81.0   8437.39         1\n",
       "4      66.0   418.74       1.0  14502.75         0\n",
       "...     ...      ...       ...       ...       ...\n",
       "3209  122.0   910.98      20.0  35124.90         1\n",
       "3210   25.0   190.36       0.0   3275.61         0\n",
       "3211   97.0   634.44      70.0  13974.06         0\n",
       "3212   64.0   462.32      90.0  31239.78         0\n",
       "3213   80.0   566.09       6.0  29480.52         1\n",
       "\n",
       "[3214 rows x 5 columns]"
      ]
     },
     "execution_count": 7,
     "metadata": {},
     "output_type": "execute_result"
    }
   ],
   "source": [
    "df"
   ]
  },
  {
   "cell_type": "code",
   "execution_count": 8,
   "id": "a915a9d3",
   "metadata": {},
   "outputs": [
    {
     "data": {
      "text/html": [
       "<div>\n",
       "<style scoped>\n",
       "    .dataframe tbody tr th:only-of-type {\n",
       "        vertical-align: middle;\n",
       "    }\n",
       "\n",
       "    .dataframe tbody tr th {\n",
       "        vertical-align: top;\n",
       "    }\n",
       "\n",
       "    .dataframe thead th {\n",
       "        text-align: right;\n",
       "    }\n",
       "</style>\n",
       "<table border=\"1\" class=\"dataframe\">\n",
       "  <thead>\n",
       "    <tr style=\"text-align: right;\">\n",
       "      <th></th>\n",
       "      <th>calls</th>\n",
       "      <th>minutes</th>\n",
       "      <th>messages</th>\n",
       "      <th>mb_used</th>\n",
       "      <th>is_ultra</th>\n",
       "    </tr>\n",
       "  </thead>\n",
       "  <tbody>\n",
       "    <tr>\n",
       "      <th>count</th>\n",
       "      <td>3214.000000</td>\n",
       "      <td>3214.000000</td>\n",
       "      <td>3214.000000</td>\n",
       "      <td>3214.000000</td>\n",
       "      <td>3214.000000</td>\n",
       "    </tr>\n",
       "    <tr>\n",
       "      <th>mean</th>\n",
       "      <td>63.038892</td>\n",
       "      <td>438.208787</td>\n",
       "      <td>38.281269</td>\n",
       "      <td>17207.673836</td>\n",
       "      <td>0.306472</td>\n",
       "    </tr>\n",
       "    <tr>\n",
       "      <th>std</th>\n",
       "      <td>33.236368</td>\n",
       "      <td>234.569872</td>\n",
       "      <td>36.148326</td>\n",
       "      <td>7570.968246</td>\n",
       "      <td>0.461100</td>\n",
       "    </tr>\n",
       "    <tr>\n",
       "      <th>min</th>\n",
       "      <td>0.000000</td>\n",
       "      <td>0.000000</td>\n",
       "      <td>0.000000</td>\n",
       "      <td>0.000000</td>\n",
       "      <td>0.000000</td>\n",
       "    </tr>\n",
       "    <tr>\n",
       "      <th>25%</th>\n",
       "      <td>40.000000</td>\n",
       "      <td>274.575000</td>\n",
       "      <td>9.000000</td>\n",
       "      <td>12491.902500</td>\n",
       "      <td>0.000000</td>\n",
       "    </tr>\n",
       "    <tr>\n",
       "      <th>50%</th>\n",
       "      <td>62.000000</td>\n",
       "      <td>430.600000</td>\n",
       "      <td>30.000000</td>\n",
       "      <td>16943.235000</td>\n",
       "      <td>0.000000</td>\n",
       "    </tr>\n",
       "    <tr>\n",
       "      <th>75%</th>\n",
       "      <td>82.000000</td>\n",
       "      <td>571.927500</td>\n",
       "      <td>57.000000</td>\n",
       "      <td>21424.700000</td>\n",
       "      <td>1.000000</td>\n",
       "    </tr>\n",
       "    <tr>\n",
       "      <th>max</th>\n",
       "      <td>244.000000</td>\n",
       "      <td>1632.060000</td>\n",
       "      <td>224.000000</td>\n",
       "      <td>49745.730000</td>\n",
       "      <td>1.000000</td>\n",
       "    </tr>\n",
       "  </tbody>\n",
       "</table>\n",
       "</div>"
      ],
      "text/plain": [
       "             calls      minutes     messages       mb_used     is_ultra\n",
       "count  3214.000000  3214.000000  3214.000000   3214.000000  3214.000000\n",
       "mean     63.038892   438.208787    38.281269  17207.673836     0.306472\n",
       "std      33.236368   234.569872    36.148326   7570.968246     0.461100\n",
       "min       0.000000     0.000000     0.000000      0.000000     0.000000\n",
       "25%      40.000000   274.575000     9.000000  12491.902500     0.000000\n",
       "50%      62.000000   430.600000    30.000000  16943.235000     0.000000\n",
       "75%      82.000000   571.927500    57.000000  21424.700000     1.000000\n",
       "max     244.000000  1632.060000   224.000000  49745.730000     1.000000"
      ]
     },
     "execution_count": 8,
     "metadata": {},
     "output_type": "execute_result"
    }
   ],
   "source": [
    "df.describe()"
   ]
  },
  {
   "cell_type": "markdown",
   "id": "e749d58b",
   "metadata": {},
   "source": [
    "Датасет содержит 3214 строк и 5 столбоцов. \n",
    "\n",
    "Все столбы в правильном формате, нигде нет пропусков.\n",
    "Судя по `df.describe()` датасет не содержит выбросов. \n",
    "\n",
    "Во всех столбцах среднее значение близко к медианному, а стандартное отклонение не превышает среднего значения. Таким образом столбцы не требуют корректировок.\n",
    "\n",
    "Скорее всего столбцы `calls` и `messages` целочисленные, но датасет небольшого размера и поэтому преобразовывать их нет большого смысла."
   ]
  },
  {
   "cell_type": "code",
   "execution_count": 9,
   "id": "3b6df1fd",
   "metadata": {},
   "outputs": [
    {
     "data": {
      "text/plain": [
       "0    2229\n",
       "1     985\n",
       "Name: is_ultra, dtype: int64"
      ]
     },
     "execution_count": 9,
     "metadata": {},
     "output_type": "execute_result"
    }
   ],
   "source": [
    "df.is_ultra.value_counts()"
   ]
  },
  {
   "cell_type": "markdown",
   "id": "f2ac8e70",
   "metadata": {},
   "source": [
    "985 к 2229 или примерно 30% пользователей тарифа \"Смарт\" относительно всех пользователей. То есть датасет условно сбалансирован"
   ]
  },
  {
   "cell_type": "code",
   "execution_count": 10,
   "id": "51fb3b34",
   "metadata": {},
   "outputs": [
    {
     "data": {
      "image/png": "[encoded data removed]",
      "text/plain": [
       "<Figure size 1000x1200 with 6 Axes>"
      ]
     },
     "metadata": {},
     "output_type": "display_data"
    }
   ],
   "source": [
    "df.hist(bins=20, figsize=(10, 12))\n",
    "None"
   ]
  },
  {
   "cell_type": "markdown",
   "id": "2f445b70",
   "metadata": {},
   "source": [
    "практически все данные в колонках имеют нормальное распределение, кроме `messages`, который имеет скос вправо."
   ]
  },
  {
   "cell_type": "code",
   "execution_count": 11,
   "id": "b6b9875c",
   "metadata": {},
   "outputs": [
    {
     "data": {
      "text/html": [
       "<div>\n",
       "<style scoped>\n",
       "    .dataframe tbody tr th:only-of-type {\n",
       "        vertical-align: middle;\n",
       "    }\n",
       "\n",
       "    .dataframe tbody tr th {\n",
       "        vertical-align: top;\n",
       "    }\n",
       "\n",
       "    .dataframe thead th {\n",
       "        text-align: right;\n",
       "    }\n",
       "</style>\n",
       "<table border=\"1\" class=\"dataframe\">\n",
       "  <thead>\n",
       "    <tr style=\"text-align: right;\">\n",
       "      <th></th>\n",
       "      <th>calls</th>\n",
       "      <th>minutes</th>\n",
       "      <th>messages</th>\n",
       "      <th>mb_used</th>\n",
       "      <th>is_ultra</th>\n",
       "    </tr>\n",
       "  </thead>\n",
       "  <tbody>\n",
       "    <tr>\n",
       "      <th>calls</th>\n",
       "      <td>1.000000</td>\n",
       "      <td>0.982083</td>\n",
       "      <td>0.177385</td>\n",
       "      <td>0.286442</td>\n",
       "      <td>0.207122</td>\n",
       "    </tr>\n",
       "    <tr>\n",
       "      <th>minutes</th>\n",
       "      <td>0.982083</td>\n",
       "      <td>1.000000</td>\n",
       "      <td>0.173110</td>\n",
       "      <td>0.280967</td>\n",
       "      <td>0.206955</td>\n",
       "    </tr>\n",
       "    <tr>\n",
       "      <th>messages</th>\n",
       "      <td>0.177385</td>\n",
       "      <td>0.173110</td>\n",
       "      <td>1.000000</td>\n",
       "      <td>0.195721</td>\n",
       "      <td>0.203830</td>\n",
       "    </tr>\n",
       "    <tr>\n",
       "      <th>mb_used</th>\n",
       "      <td>0.286442</td>\n",
       "      <td>0.280967</td>\n",
       "      <td>0.195721</td>\n",
       "      <td>1.000000</td>\n",
       "      <td>0.198568</td>\n",
       "    </tr>\n",
       "    <tr>\n",
       "      <th>is_ultra</th>\n",
       "      <td>0.207122</td>\n",
       "      <td>0.206955</td>\n",
       "      <td>0.203830</td>\n",
       "      <td>0.198568</td>\n",
       "      <td>1.000000</td>\n",
       "    </tr>\n",
       "  </tbody>\n",
       "</table>\n",
       "</div>"
      ],
      "text/plain": [
       "             calls   minutes  messages   mb_used  is_ultra\n",
       "calls     1.000000  0.982083  0.177385  0.286442  0.207122\n",
       "minutes   0.982083  1.000000  0.173110  0.280967  0.206955\n",
       "messages  0.177385  0.173110  1.000000  0.195721  0.203830\n",
       "mb_used   0.286442  0.280967  0.195721  1.000000  0.198568\n",
       "is_ultra  0.207122  0.206955  0.203830  0.198568  1.000000"
      ]
     },
     "execution_count": 11,
     "metadata": {},
     "output_type": "execute_result"
    }
   ],
   "source": [
    "df.corr()"
   ]
  },
  {
   "cell_type": "markdown",
   "id": "93e8d84d",
   "metadata": {},
   "source": [
    "Большая корреляция наблюдается только у количества минут `minutes` и количества звонков `calls`, что очень даже логично.\n",
    "\n",
    "Остальные параметры мало коррелированы друг с другом."
   ]
  },
  {
   "cell_type": "code",
   "execution_count": null,
   "id": "07893824",
   "metadata": {},
   "outputs": [],
   "source": []
  },
  {
   "cell_type": "markdown",
   "id": "b50cf4d9",
   "metadata": {},
   "source": [
    "## Разбейте данные на выборки"
   ]
  },
  {
   "cell_type": "markdown",
   "id": "98eba91d",
   "metadata": {},
   "source": [
    "Целевым признаком в датасете является столбец `is_ultra`, остальные столбцы - признаки. На этом основании и разделим выборку."
   ]
  },
  {
   "cell_type": "code",
   "execution_count": 12,
   "id": "6ce6cc57",
   "metadata": {},
   "outputs": [],
   "source": [
    "#отделение признаков из исходного датасета\n",
    "features = df.drop('is_ultra', axis=1)"
   ]
  },
  {
   "cell_type": "code",
   "execution_count": 13,
   "id": "09319d0f",
   "metadata": {},
   "outputs": [],
   "source": [
    "#отделение целевого признака из исходного датасета\n",
    "target = df.is_ultra"
   ]
  },
  {
   "cell_type": "code",
   "execution_count": null,
   "id": "62242a75",
   "metadata": {},
   "outputs": [],
   "source": []
  },
  {
   "cell_type": "code",
   "execution_count": 14,
   "id": "0dfe7479",
   "metadata": {},
   "outputs": [],
   "source": [
    "#отделение 60% на обучающую выборку и 40% на валидационную и тестовую выборки\n",
    "features_train, features_next, target_train, target_next = train_test_split(\n",
    "    features, \n",
    "    target, \n",
    "    test_size=0.4, \n",
    "    shuffle=True, \n",
    "    stratify=target, \n",
    "    random_state=12345)"
   ]
  },
  {
   "cell_type": "code",
   "execution_count": 15,
   "id": "8bff9e14",
   "metadata": {},
   "outputs": [],
   "source": [
    "#разделение оставшихся 40% ещё на две выборки по 20%\n",
    "features_valid, features_test, target_valid, target_test = train_test_split(\n",
    "    features_next, target_next, test_size=0.5, random_state=12345, stratify=target_next)"
   ]
  },
  {
   "cell_type": "markdown",
   "id": "bb5e97ff",
   "metadata": {},
   "source": [
    "Проверка размеров получившихся выборок"
   ]
  },
  {
   "cell_type": "code",
   "execution_count": 16,
   "id": "2faecb1f",
   "metadata": {},
   "outputs": [
    {
     "data": {
      "text/plain": [
       "(1928, 4)"
      ]
     },
     "execution_count": 16,
     "metadata": {},
     "output_type": "execute_result"
    }
   ],
   "source": [
    "features_train.shape"
   ]
  },
  {
   "cell_type": "code",
   "execution_count": 17,
   "id": "857bb8c6",
   "metadata": {},
   "outputs": [
    {
     "data": {
      "text/plain": [
       "(1928,)"
      ]
     },
     "execution_count": 17,
     "metadata": {},
     "output_type": "execute_result"
    }
   ],
   "source": [
    "target_train.shape"
   ]
  },
  {
   "cell_type": "code",
   "execution_count": 18,
   "id": "4d1d4f87",
   "metadata": {},
   "outputs": [
    {
     "data": {
      "text/plain": [
       "(643, 4)"
      ]
     },
     "execution_count": 18,
     "metadata": {},
     "output_type": "execute_result"
    }
   ],
   "source": [
    "features_valid.shape"
   ]
  },
  {
   "cell_type": "code",
   "execution_count": 19,
   "id": "189431a7",
   "metadata": {},
   "outputs": [
    {
     "data": {
      "text/plain": [
       "(643,)"
      ]
     },
     "execution_count": 19,
     "metadata": {},
     "output_type": "execute_result"
    }
   ],
   "source": [
    "target_valid.shape"
   ]
  },
  {
   "cell_type": "code",
   "execution_count": 20,
   "id": "9dc9cf52",
   "metadata": {},
   "outputs": [
    {
     "data": {
      "text/plain": [
       "(643, 4)"
      ]
     },
     "execution_count": 20,
     "metadata": {},
     "output_type": "execute_result"
    }
   ],
   "source": [
    "features_test.shape"
   ]
  },
  {
   "cell_type": "code",
   "execution_count": 21,
   "id": "938115ae",
   "metadata": {
    "scrolled": true
   },
   "outputs": [
    {
     "data": {
      "text/plain": [
       "(643,)"
      ]
     },
     "execution_count": 21,
     "metadata": {},
     "output_type": "execute_result"
    }
   ],
   "source": [
    "target_test.shape"
   ]
  },
  {
   "cell_type": "markdown",
   "id": "32d2a415",
   "metadata": {},
   "source": [
    "Получились выборки длиной 1928, 643 и 643. Это примерно соответствует 60%, 20% и 20%"
   ]
  },
  {
   "cell_type": "code",
   "execution_count": null,
   "id": "38074f64",
   "metadata": {},
   "outputs": [],
   "source": []
  },
  {
   "cell_type": "markdown",
   "id": "43dc7780",
   "metadata": {},
   "source": [
    "проверка распределения нулей и единиц в целевых выборках"
   ]
  },
  {
   "cell_type": "code",
   "execution_count": 22,
   "id": "aa5ab094",
   "metadata": {},
   "outputs": [
    {
     "data": {
      "text/plain": [
       "0.3065352697095436"
      ]
     },
     "execution_count": 22,
     "metadata": {},
     "output_type": "execute_result"
    }
   ],
   "source": [
    "target_train.mean()"
   ]
  },
  {
   "cell_type": "code",
   "execution_count": 23,
   "id": "8a8e9498",
   "metadata": {},
   "outputs": [
    {
     "data": {
      "text/plain": [
       "0.30637636080870917"
      ]
     },
     "execution_count": 23,
     "metadata": {},
     "output_type": "execute_result"
    }
   ],
   "source": [
    "target_valid.mean()"
   ]
  },
  {
   "cell_type": "code",
   "execution_count": 24,
   "id": "2a46b17b",
   "metadata": {},
   "outputs": [
    {
     "data": {
      "text/plain": [
       "0.30637636080870917"
      ]
     },
     "execution_count": 24,
     "metadata": {},
     "output_type": "execute_result"
    }
   ],
   "source": [
    "target_test.mean()"
   ]
  },
  {
   "cell_type": "markdown",
   "id": "07387c91",
   "metadata": {},
   "source": [
    "распределения во всех выборках остались одинаковы, в каждой примерно по 30% единиц"
   ]
  },
  {
   "cell_type": "markdown",
   "id": "a69de0b4",
   "metadata": {},
   "source": [
    "## Исследуйте модели"
   ]
  },
  {
   "cell_type": "markdown",
   "id": "b2039cbf",
   "metadata": {},
   "source": [
    "Поскольку стоит задача классификации, значит подойдут три модели: \"Решающее дерево\", \"Случайный лес\" и \"Логистическая регрессия\""
   ]
  },
  {
   "cell_type": "markdown",
   "id": "99412ac2",
   "metadata": {},
   "source": [
    "<div class=\"alert alert-block alert-info\">\n",
    "    \n",
    "Модель \"Решающее дерево\" `DecisionTreeClassifier`"
   ]
  },
  {
   "cell_type": "code",
   "execution_count": 25,
   "id": "4351271e",
   "metadata": {},
   "outputs": [
    {
     "name": "stdout",
     "output_type": "stream",
     "text": [
      "max_depth = 1 result = 0.7402799377916018\n",
      "max_depth = 2 result = 0.7729393468118196\n",
      "max_depth = 3 result = 0.7776049766718507\n",
      "max_depth = 4 result = 0.7542768273716952\n",
      "max_depth = 5 result = 0.7853810264385692\n",
      "max_depth = 6 result = 0.7744945567651633\n",
      "max_depth = 7 result = 0.7869362363919129\n",
      "max_depth = 8 result = 0.80248833592535\n",
      "max_depth = 9 result = 0.7822706065318819\n",
      "max_depth = 10 result = 0.7729393468118196\n",
      "max_depth = 11 result = 0.7620528771384136\n",
      "max_depth = 12 result = 0.7527216174183515\n",
      "max_depth = 13 result = 0.744945567651633\n",
      "max_depth = 14 result = 0.7558320373250389\n",
      "max_depth = 15 result = 0.7480559875583204\n",
      "max_depth = 16 result = 0.7387247278382582\n",
      "max_depth = 17 result = 0.7153965785381027\n",
      "max_depth = 18 result = 0.7076205287713841\n",
      "max_depth = 19 result = 0.7045101088646968\n"
     ]
    }
   ],
   "source": [
    "for j in range(1,20):\n",
    "    max_depth = j\n",
    "    model = DecisionTreeClassifier(random_state=12345, max_depth=max_depth)\n",
    "    model.fit(features_train, target_train)\n",
    "    \n",
    "    predictions = model.predict(features_valid)\n",
    "    result = accuracy_score(target_valid, predictions)\n",
    "    print('max_depth =', j, 'result =',  result)"
   ]
  },
  {
   "cell_type": "markdown",
   "id": "8da6f760",
   "metadata": {},
   "source": [
    "Наибольшие результаты почему то для глубины всего 5 и для глубины 8"
   ]
  },
  {
   "cell_type": "code",
   "execution_count": null,
   "id": "80bdf22b",
   "metadata": {},
   "outputs": [],
   "source": []
  },
  {
   "cell_type": "markdown",
   "id": "5fc84d86",
   "metadata": {},
   "source": [
    "<div class=\"alert alert-block alert-info\">\n",
    "\n",
    "Модель \"Случайный лес\" `RandomForestClassifier`"
   ]
  },
  {
   "cell_type": "code",
   "execution_count": 26,
   "id": "90cd27ed",
   "metadata": {},
   "outputs": [
    {
     "name": "stdout",
     "output_type": "stream",
     "text": [
      "n_estimators = 1 result = 0.6998444790046656\n",
      "n_estimators = 2 result = 0.7433903576982893\n",
      "n_estimators = 3 result = 0.7418351477449455\n",
      "n_estimators = 4 result = 0.7558320373250389\n",
      "n_estimators = 5 result = 0.7527216174183515\n",
      "n_estimators = 6 result = 0.7729393468118196\n",
      "n_estimators = 7 result = 0.7698289269051322\n",
      "n_estimators = 8 result = 0.776049766718507\n",
      "n_estimators = 9 result = 0.7698289269051322\n",
      "n_estimators = 10 result = 0.7869362363919129\n",
      "n_estimators = 11 result = 0.7807153965785381\n",
      "n_estimators = 12 result = 0.7853810264385692\n",
      "n_estimators = 13 result = 0.7884914463452566\n",
      "n_estimators = 14 result = 0.7869362363919129\n",
      "n_estimators = 15 result = 0.7884914463452566\n",
      "n_estimators = 16 result = 0.7869362363919129\n",
      "n_estimators = 17 result = 0.7916018662519441\n",
      "n_estimators = 18 result = 0.7916018662519441\n",
      "n_estimators = 19 result = 0.7931570762052877\n"
     ]
    }
   ],
   "source": [
    "n = []\n",
    "res = []\n",
    "for est in range(1, 20):\n",
    "    model = RandomForestClassifier(random_state=12345, n_estimators=est)\n",
    "    model.fit(features_train, target_train)\n",
    "    result = model.score(features_valid, target_valid)\n",
    "    n.append(est)\n",
    "    res.append(result)\n",
    "    print('n_estimators =', est, 'result =',  result)"
   ]
  },
  {
   "cell_type": "code",
   "execution_count": 27,
   "id": "c7ef6e8b",
   "metadata": {},
   "outputs": [
    {
     "data": {
      "text/plain": [
       "<Axes: xlabel='n_estimators'>"
      ]
     },
     "execution_count": 27,
     "metadata": {},
     "output_type": "execute_result"
    },
    {
     "data": {
      "image/png": "[encoded data removed]",
      "text/plain": [
       "<Figure size 800x600 with 1 Axes>"
      ]
     },
     "metadata": {},
     "output_type": "display_data"
    }
   ],
   "source": [
    "pd.DataFrame(data = {'n_estimators':n, 'result':res}).plot(y='result', x='n_estimators', kind='bar', figsize=(8, 6))"
   ]
  },
  {
   "cell_type": "markdown",
   "id": "30fe4721",
   "metadata": {},
   "source": [
    "начиная с 4-х деревьев результат предсказания больше чем 0,78, и практически не меняется начиная с 10ти деревьев"
   ]
  },
  {
   "cell_type": "markdown",
   "id": "6eca26f0",
   "metadata": {},
   "source": [
    "Эксперимент с разными значениями `random_state`, при `n_estimators=10`"
   ]
  },
  {
   "cell_type": "code",
   "execution_count": 28,
   "id": "d0acc2f9",
   "metadata": {},
   "outputs": [
    {
     "name": "stdout",
     "output_type": "stream",
     "text": [
      "random_state = 0 result = 0.7682737169517885\n",
      "random_state = 1 result = 0.7900466562986003\n",
      "random_state = 12 result = 0.7853810264385692\n",
      "random_state = 123 result = 0.776049766718507\n",
      "random_state = 1234 result = 0.7931570762052877\n",
      "random_state = 12345 result = 0.7869362363919129\n",
      "random_state = 123456 result = 0.80248833592535\n",
      "random_state = 1234567 result = 0.7838258164852255\n",
      "random_state = 12345678 result = 0.7884914463452566\n",
      "random_state = 123456789 result = 0.7791601866251944\n"
     ]
    }
   ],
   "source": [
    "for rand in [0, 1, 12, 123, 1234, 12345, 123456, 1234567, 12345678, 123456789]:\n",
    "    model = RandomForestClassifier(random_state=rand, n_estimators=10)\n",
    "    model.fit(features_train, target_train)\n",
    "    result = model.score(features_valid, target_valid)\n",
    "    print('random_state =', rand, 'result =',  result)"
   ]
  },
  {
   "cell_type": "markdown",
   "id": "ef4cf4e2",
   "metadata": {},
   "source": [
    "неожиданно самый большой результат при `random_state = 123456`"
   ]
  },
  {
   "cell_type": "markdown",
   "id": "6a9bd52e",
   "metadata": {},
   "source": [
    "<div class=\"alert alert-block alert-info\">\n",
    "\n",
    "Модель \"Логистическая регрессия\" `LogisticRegression`"
   ]
  },
  {
   "cell_type": "code",
   "execution_count": 29,
   "id": "324e497e",
   "metadata": {},
   "outputs": [
    {
     "name": "stdout",
     "output_type": "stream",
     "text": [
      "max_iter = 100 result = 0.7387247278382582\n",
      "max_iter = 200 result = 0.7387247278382582\n",
      "max_iter = 300 result = 0.7387247278382582\n",
      "max_iter = 400 result = 0.7387247278382582\n",
      "max_iter = 500 result = 0.7387247278382582\n",
      "max_iter = 600 result = 0.7387247278382582\n",
      "max_iter = 700 result = 0.7387247278382582\n",
      "max_iter = 800 result = 0.7387247278382582\n",
      "max_iter = 900 result = 0.7387247278382582\n"
     ]
    }
   ],
   "source": [
    "for m_iter in range(100, 1000, 100):\n",
    "    model = LogisticRegression(random_state=12345, solver='lbfgs', max_iter=m_iter)\n",
    "    model.fit(features_train, target_train)\n",
    "    result = model.score(features_valid, target_valid)\n",
    "    print('max_iter =', m_iter, 'result =',  result)\n",
    "    "
   ]
  },
  {
   "cell_type": "markdown",
   "id": "1458945a",
   "metadata": {},
   "source": [
    "от количества итераций не наблюдается зависимости"
   ]
  },
  {
   "cell_type": "markdown",
   "id": "42ca2cf6",
   "metadata": {},
   "source": [
    "проверка модели на разных `solver`"
   ]
  },
  {
   "cell_type": "code",
   "execution_count": 30,
   "id": "61ce3064",
   "metadata": {},
   "outputs": [
    {
     "name": "stderr",
     "output_type": "stream",
     "text": [
      "/home/dron/.local/lib/python3.9/site-packages/scipy/optimize/_linesearch.py:457: LineSearchWarning: The line search algorithm did not converge\n",
      "  warn('The line search algorithm did not converge', LineSearchWarning)\n",
      "/home/dron/.local/lib/python3.9/site-packages/scipy/optimize/_linesearch.py:306: LineSearchWarning: The line search algorithm did not converge\n",
      "  warn('The line search algorithm did not converge', LineSearchWarning)\n"
     ]
    },
    {
     "data": {
      "text/plain": [
       "0.7387247278382582"
      ]
     },
     "execution_count": 30,
     "metadata": {},
     "output_type": "execute_result"
    }
   ],
   "source": [
    "model = LogisticRegression(random_state=12345, solver='newton-cg', max_iter=1000)\n",
    "model.fit(features_train, target_train)\n",
    "result = model.score(features_valid, target_valid)\n",
    "result\n",
    "    "
   ]
  },
  {
   "cell_type": "code",
   "execution_count": 31,
   "id": "6258d4c4",
   "metadata": {},
   "outputs": [
    {
     "data": {
      "text/plain": [
       "0.71850699844479"
      ]
     },
     "execution_count": 31,
     "metadata": {},
     "output_type": "execute_result"
    }
   ],
   "source": [
    "model = LogisticRegression(random_state=12345, solver='liblinear', max_iter=1000)\n",
    "model.fit(features_train, target_train)\n",
    "result = model.score(features_valid, target_valid)\n",
    "result"
   ]
  },
  {
   "cell_type": "code",
   "execution_count": 32,
   "id": "54deda30",
   "metadata": {},
   "outputs": [
    {
     "name": "stderr",
     "output_type": "stream",
     "text": [
      "/home/dron/.local/lib/python3.9/site-packages/sklearn/linear_model/_sag.py:350: ConvergenceWarning: The max_iter was reached which means the coef_ did not converge\n",
      "  warnings.warn(\n"
     ]
    },
    {
     "data": {
      "text/plain": [
       "0.702954898911353"
      ]
     },
     "execution_count": 32,
     "metadata": {},
     "output_type": "execute_result"
    }
   ],
   "source": [
    "model = LogisticRegression(random_state=12345, solver='sag', max_iter=1000)\n",
    "model.fit(features_train, target_train)\n",
    "result = model.score(features_valid, target_valid)\n",
    "result"
   ]
  },
  {
   "cell_type": "code",
   "execution_count": 33,
   "id": "728d7aff",
   "metadata": {},
   "outputs": [
    {
     "name": "stderr",
     "output_type": "stream",
     "text": [
      "/home/dron/.local/lib/python3.9/site-packages/sklearn/linear_model/_sag.py:350: ConvergenceWarning: The max_iter was reached which means the coef_ did not converge\n",
      "  warnings.warn(\n"
     ]
    },
    {
     "data": {
      "text/plain": [
       "0.6936236391912908"
      ]
     },
     "execution_count": 33,
     "metadata": {},
     "output_type": "execute_result"
    }
   ],
   "source": [
    "model = LogisticRegression(random_state=12345, solver='saga', max_iter=1000)\n",
    "model.fit(features_train, target_train)\n",
    "result = model.score(features_valid, target_valid)\n",
    "result"
   ]
  },
  {
   "cell_type": "markdown",
   "id": "6bf8e362",
   "metadata": {},
   "source": [
    "наибольший результат у модели с `solver='newton-cg'`"
   ]
  },
  {
   "cell_type": "code",
   "execution_count": null,
   "id": "c2bbc039",
   "metadata": {},
   "outputs": [],
   "source": []
  },
  {
   "cell_type": "markdown",
   "id": "69b40cd2",
   "metadata": {},
   "source": [
    "Проверка работы модели при разных коэффициентах С"
   ]
  },
  {
   "cell_type": "code",
   "execution_count": 34,
   "id": "4d4cdd77",
   "metadata": {},
   "outputs": [
    {
     "name": "stdout",
     "output_type": "stream",
     "text": [
      "0.71850699844479\n",
      "0.71850699844479\n",
      "0.71850699844479\n",
      "0.71850699844479\n",
      "0.71850699844479\n",
      "0.71850699844479\n",
      "0.71850699844479\n",
      "0.71850699844479\n",
      "0.71850699844479\n",
      "0.71850699844479\n",
      "0.71850699844479\n",
      "0.71850699844479\n",
      "0.71850699844479\n",
      "0.71850699844479\n",
      "0.71850699844479\n",
      "0.71850699844479\n",
      "0.71850699844479\n",
      "0.71850699844479\n",
      "0.71850699844479\n",
      "0.71850699844479\n"
     ]
    }
   ],
   "source": [
    "for j in np.arange(0.1, 1.1, 0.05):\n",
    "    \n",
    "    model = LogisticRegression(random_state=12345, solver='liblinear', max_iter=1000, C=j)\n",
    "    model.fit(features_train, target_train)\n",
    "    result = model.score(features_valid, target_valid)\n",
    "    print(result)"
   ]
  },
  {
   "cell_type": "markdown",
   "id": "8f64f785",
   "metadata": {},
   "source": [
    "Лучшие результаты получаются при коэффициентах близких к 1"
   ]
  },
  {
   "cell_type": "code",
   "execution_count": null,
   "id": "d4bbba1b",
   "metadata": {},
   "outputs": [],
   "source": []
  },
  {
   "cell_type": "code",
   "execution_count": 35,
   "id": "6ccb25e6",
   "metadata": {},
   "outputs": [],
   "source": [
    "final_table = pd.DataFrame(data = \n",
    "                           {'name_model':['DecisionTreeClassifier', 'RandomForestClassifier', 'LogisticRegression'], \n",
    "                            'accuracy':[0.8025, 0.7869, 0.7387], \n",
    "                            'max_depth':[8, '-', '-'], \n",
    "                            'n_estimators':['-', 10, '-'], \n",
    "                            'solver':['-', '-', 'newton-cg'], \n",
    "                            'C':['-', '-', 1]\n",
    "                           }\n",
    "                          )"
   ]
  },
  {
   "cell_type": "code",
   "execution_count": 36,
   "id": "13650d7f",
   "metadata": {},
   "outputs": [
    {
     "data": {
      "text/html": [
       "<div>\n",
       "<style scoped>\n",
       "    .dataframe tbody tr th:only-of-type {\n",
       "        vertical-align: middle;\n",
       "    }\n",
       "\n",
       "    .dataframe tbody tr th {\n",
       "        vertical-align: top;\n",
       "    }\n",
       "\n",
       "    .dataframe thead th {\n",
       "        text-align: right;\n",
       "    }\n",
       "</style>\n",
       "<table border=\"1\" class=\"dataframe\">\n",
       "  <thead>\n",
       "    <tr style=\"text-align: right;\">\n",
       "      <th></th>\n",
       "      <th>name_model</th>\n",
       "      <th>accuracy</th>\n",
       "      <th>max_depth</th>\n",
       "      <th>n_estimators</th>\n",
       "      <th>solver</th>\n",
       "      <th>C</th>\n",
       "    </tr>\n",
       "  </thead>\n",
       "  <tbody>\n",
       "    <tr>\n",
       "      <th>0</th>\n",
       "      <td>DecisionTreeClassifier</td>\n",
       "      <td>0.8025</td>\n",
       "      <td>8</td>\n",
       "      <td>-</td>\n",
       "      <td>-</td>\n",
       "      <td>-</td>\n",
       "    </tr>\n",
       "    <tr>\n",
       "      <th>1</th>\n",
       "      <td>RandomForestClassifier</td>\n",
       "      <td>0.7869</td>\n",
       "      <td>-</td>\n",
       "      <td>10</td>\n",
       "      <td>-</td>\n",
       "      <td>-</td>\n",
       "    </tr>\n",
       "    <tr>\n",
       "      <th>2</th>\n",
       "      <td>LogisticRegression</td>\n",
       "      <td>0.7387</td>\n",
       "      <td>-</td>\n",
       "      <td>-</td>\n",
       "      <td>newton-cg</td>\n",
       "      <td>1</td>\n",
       "    </tr>\n",
       "  </tbody>\n",
       "</table>\n",
       "</div>"
      ],
      "text/plain": [
       "               name_model  accuracy max_depth n_estimators     solver  C\n",
       "0  DecisionTreeClassifier    0.8025         8            -          -  -\n",
       "1  RandomForestClassifier    0.7869         -           10          -  -\n",
       "2      LogisticRegression    0.7387         -            -  newton-cg  1"
      ]
     },
     "execution_count": 36,
     "metadata": {},
     "output_type": "execute_result"
    }
   ],
   "source": [
    "final_table"
   ]
  },
  {
   "cell_type": "markdown",
   "id": "19150642",
   "metadata": {},
   "source": [
    "## Проверьте модель на тестовой выборке"
   ]
  },
  {
   "cell_type": "markdown",
   "id": "b227e774",
   "metadata": {},
   "source": [
    "Случайный лес имеет максимальную долю правильных ответов, при количестве деревьев около 10ти.\n",
    "\n",
    "\n",
    "Поэтому для дальнейшей проверке выберу именно эту модель"
   ]
  },
  {
   "cell_type": "code",
   "execution_count": 37,
   "id": "0c014038",
   "metadata": {},
   "outputs": [
    {
     "data": {
      "text/plain": [
       "0.80248833592535"
      ]
     },
     "execution_count": 37,
     "metadata": {},
     "output_type": "execute_result"
    }
   ],
   "source": [
    "#проверка на валидационной выборке\n",
    "model = RandomForestClassifier(random_state=123456, n_estimators=10)\n",
    "model.fit(features_train, target_train)\n",
    "result = model.score(features_valid, target_valid)\n",
    "result"
   ]
  },
  {
   "cell_type": "code",
   "execution_count": 38,
   "id": "a77beb32",
   "metadata": {},
   "outputs": [
    {
     "data": {
      "text/html": [
       "<style>#sk-container-id-1 {color: black;background-color: white;}#sk-container-id-1 pre{padding: 0;}#sk-container-id-1 div.sk-toggleable {background-color: white;}#sk-container-id-1 label.sk-toggleable__label {cursor: pointer;display: block;width: 100%;margin-bottom: 0;padding: 0.3em;box-sizing: border-box;text-align: center;}#sk-container-id-1 label.sk-toggleable__label-arrow:before {content: \"▸\";float: left;margin-right: 0.25em;color: #696969;}#sk-container-id-1 label.sk-toggleable__label-arrow:hover:before {color: black;}#sk-container-id-1 div.sk-estimator:hover label.sk-toggleable__label-arrow:before {color: black;}#sk-container-id-1 div.sk-toggleable__content {max-height: 0;max-width: 0;overflow: hidden;text-align: left;background-color: #f0f8ff;}#sk-container-id-1 div.sk-toggleable__content pre {margin: 0.2em;color: black;border-radius: 0.25em;background-color: #f0f8ff;}#sk-container-id-1 input.sk-toggleable__control:checked~div.sk-toggleable__content {max-height: 200px;max-width: 100%;overflow: auto;}#sk-container-id-1 input.sk-toggleable__control:checked~label.sk-toggleable__label-arrow:before {content: \"▾\";}#sk-container-id-1 div.sk-estimator input.sk-toggleable__control:checked~label.sk-toggleable__label {background-color: #d4ebff;}#sk-container-id-1 div.sk-label input.sk-toggleable__control:checked~label.sk-toggleable__label {background-color: #d4ebff;}#sk-container-id-1 input.sk-hidden--visually {border: 0;clip: rect(1px 1px 1px 1px);clip: rect(1px, 1px, 1px, 1px);height: 1px;margin: -1px;overflow: hidden;padding: 0;position: absolute;width: 1px;}#sk-container-id-1 div.sk-estimator {font-family: monospace;background-color: #f0f8ff;border: 1px dotted black;border-radius: 0.25em;box-sizing: border-box;margin-bottom: 0.5em;}#sk-container-id-1 div.sk-estimator:hover {background-color: #d4ebff;}#sk-container-id-1 div.sk-parallel-item::after {content: \"\";width: 100%;border-bottom: 1px solid gray;flex-grow: 1;}#sk-container-id-1 div.sk-label:hover label.sk-toggleable__label {background-color: #d4ebff;}#sk-container-id-1 div.sk-serial::before {content: \"\";position: absolute;border-left: 1px solid gray;box-sizing: border-box;top: 0;bottom: 0;left: 50%;z-index: 0;}#sk-container-id-1 div.sk-serial {display: flex;flex-direction: column;align-items: center;background-color: white;padding-right: 0.2em;padding-left: 0.2em;position: relative;}#sk-container-id-1 div.sk-item {position: relative;z-index: 1;}#sk-container-id-1 div.sk-parallel {display: flex;align-items: stretch;justify-content: center;background-color: white;position: relative;}#sk-container-id-1 div.sk-item::before, #sk-container-id-1 div.sk-parallel-item::before {content: \"\";position: absolute;border-left: 1px solid gray;box-sizing: border-box;top: 0;bottom: 0;left: 50%;z-index: -1;}#sk-container-id-1 div.sk-parallel-item {display: flex;flex-direction: column;z-index: 1;position: relative;background-color: white;}#sk-container-id-1 div.sk-parallel-item:first-child::after {align-self: flex-end;width: 50%;}#sk-container-id-1 div.sk-parallel-item:last-child::after {align-self: flex-start;width: 50%;}#sk-container-id-1 div.sk-parallel-item:only-child::after {width: 0;}#sk-container-id-1 div.sk-dashed-wrapped {border: 1px dashed gray;margin: 0 0.4em 0.5em 0.4em;box-sizing: border-box;padding-bottom: 0.4em;background-color: white;}#sk-container-id-1 div.sk-label label {font-family: monospace;font-weight: bold;display: inline-block;line-height: 1.2em;}#sk-container-id-1 div.sk-label-container {text-align: center;}#sk-container-id-1 div.sk-container {/* jupyter's `normalize.less` sets `[hidden] { display: none; }` but bootstrap.min.css set `[hidden] { display: none !important; }` so we also need the `!important` here to be able to override the default hidden behavior on the sphinx rendered scikit-learn.org. See: https://github.com/scikit-learn/scikit-learn/issues/21755 */display: inline-block !important;position: relative;}#sk-container-id-1 div.sk-text-repr-fallback {display: none;}</style><div id=\"sk-container-id-1\" class=\"sk-top-container\"><div class=\"sk-text-repr-fallback\"><pre>RandomForestClassifier(n_estimators=10, random_state=123456)</pre><b>In a Jupyter environment, please rerun this cell to show the HTML representation or trust the notebook. <br />On GitHub, the HTML representation is unable to render, please try loading this page with nbviewer.org.</b></div><div class=\"sk-container\" hidden><div class=\"sk-item\"><div class=\"sk-estimator sk-toggleable\"><input class=\"sk-toggleable__control sk-hidden--visually\" id=\"sk-estimator-id-1\" type=\"checkbox\" checked><label for=\"sk-estimator-id-1\" class=\"sk-toggleable__label sk-toggleable__label-arrow\">RandomForestClassifier</label><div class=\"sk-toggleable__content\"><pre>RandomForestClassifier(n_estimators=10, random_state=123456)</pre></div></div></div></div></div>"
      ],
      "text/plain": [
       "RandomForestClassifier(n_estimators=10, random_state=123456)"
      ]
     },
     "execution_count": 38,
     "metadata": {},
     "output_type": "execute_result"
    }
   ],
   "source": [
    "model"
   ]
  },
  {
   "cell_type": "code",
   "execution_count": 39,
   "id": "81697321",
   "metadata": {},
   "outputs": [
    {
     "data": {
      "text/plain": [
       "0.7822706065318819"
      ]
     },
     "execution_count": 39,
     "metadata": {},
     "output_type": "execute_result"
    }
   ],
   "source": [
    "#проверка на тестовой выборке\n",
    "result = model.score(features_test, target_test)\n",
    "result"
   ]
  },
  {
   "cell_type": "markdown",
   "id": "dbb4c143",
   "metadata": {},
   "source": [
    "качество модели `accuracy` на тестовой выборке для модели \"случайный лес\" оказалось около 78%"
   ]
  },
  {
   "cell_type": "code",
   "execution_count": null,
   "id": "7ba47764",
   "metadata": {},
   "outputs": [],
   "source": []
  },
  {
   "cell_type": "markdown",
   "id": "b9f91065",
   "metadata": {},
   "source": [
    "## (бонус) Проверьте модели на адекватность"
   ]
  },
  {
   "cell_type": "markdown",
   "id": "b393cd2e",
   "metadata": {},
   "source": [
    "Расчет метрики `accuracy`"
   ]
  },
  {
   "cell_type": "code",
   "execution_count": 40,
   "id": "f858f7c2",
   "metadata": {
    "scrolled": true
   },
   "outputs": [
    {
     "data": {
      "text/plain": [
       "0.7822706065318819"
      ]
     },
     "execution_count": 40,
     "metadata": {},
     "output_type": "execute_result"
    }
   ],
   "source": [
    "#accuracy\n",
    "predictions = model.predict(features_test) # предсказания модели на тестовой выборке\n",
    "result = accuracy_score(target_test, predictions) # качество модели\n",
    "result"
   ]
  },
  {
   "cell_type": "markdown",
   "id": "6dacf4a5",
   "metadata": {},
   "source": [
    "Метрика `accuracy` показывает долю правильных ответов модели. Получается что верных ответов около 78%."
   ]
  },
  {
   "cell_type": "code",
   "execution_count": null,
   "id": "6f99f9b5",
   "metadata": {},
   "outputs": [],
   "source": []
  },
  {
   "cell_type": "markdown",
   "id": "b83e9417",
   "metadata": {},
   "source": [
    "Расчет метрики `precision`"
   ]
  },
  {
   "cell_type": "code",
   "execution_count": 41,
   "id": "5accd9b0",
   "metadata": {},
   "outputs": [
    {
     "data": {
      "text/plain": [
       "0.5329949238578681"
      ]
     },
     "execution_count": 41,
     "metadata": {},
     "output_type": "execute_result"
    }
   ],
   "source": [
    "#precision\n",
    "precision_score(predictions, target_test)"
   ]
  },
  {
   "cell_type": "markdown",
   "id": "04174833",
   "metadata": {},
   "source": [
    "Точность модели составила всего 53%."
   ]
  },
  {
   "cell_type": "code",
   "execution_count": null,
   "id": "9cbf914b",
   "metadata": {},
   "outputs": [],
   "source": []
  },
  {
   "cell_type": "markdown",
   "id": "be1dd7f4",
   "metadata": {},
   "source": [
    "Расчет метрики `recall`"
   ]
  },
  {
   "cell_type": "code",
   "execution_count": 42,
   "id": "024db3ac",
   "metadata": {
    "scrolled": true
   },
   "outputs": [
    {
     "data": {
      "text/plain": [
       "0.6862745098039216"
      ]
     },
     "execution_count": 42,
     "metadata": {},
     "output_type": "execute_result"
    }
   ],
   "source": [
    "#recall\n",
    "recall_score(predictions, target_test)"
   ]
  },
  {
   "cell_type": "markdown",
   "id": "fd433dc7",
   "metadata": {},
   "source": [
    "Полнота модели составила около 70%"
   ]
  },
  {
   "cell_type": "code",
   "execution_count": null,
   "id": "e749f726",
   "metadata": {},
   "outputs": [],
   "source": []
  },
  {
   "cell_type": "markdown",
   "id": "9c03ae98",
   "metadata": {},
   "source": [
    "Расчет метрики `f1_score`"
   ]
  },
  {
   "cell_type": "code",
   "execution_count": 43,
   "id": "7fc1025c",
   "metadata": {
    "scrolled": true
   },
   "outputs": [
    {
     "data": {
      "text/plain": [
       "0.6"
      ]
     },
     "execution_count": 43,
     "metadata": {},
     "output_type": "execute_result"
    }
   ],
   "source": [
    "#F1 score\n",
    "f1_score(target_test, predictions)"
   ]
  },
  {
   "cell_type": "markdown",
   "id": "8a9db9b2",
   "metadata": {},
   "source": [
    "среднее гармоническое `precision` и `recall` составило 0,6"
   ]
  },
  {
   "cell_type": "code",
   "execution_count": null,
   "id": "1a401d4a",
   "metadata": {},
   "outputs": [],
   "source": []
  },
  {
   "cell_type": "markdown",
   "id": "46b91798",
   "metadata": {},
   "source": [
    "Расчет метрики `roc_auc_score`"
   ]
  },
  {
   "cell_type": "code",
   "execution_count": 44,
   "id": "e8249041",
   "metadata": {
    "scrolled": true
   },
   "outputs": [
    {
     "data": {
      "text/plain": [
       "0.7126858027361088"
      ]
     },
     "execution_count": 44,
     "metadata": {},
     "output_type": "execute_result"
    }
   ],
   "source": [
    "#roc_auc_score\n",
    "roc_auc_score(target_test, predictions)"
   ]
  },
  {
   "cell_type": "markdown",
   "id": "f8d65254",
   "metadata": {},
   "source": [
    "Для случайной величины roc_auc_score равен 0,5. Значит модель определяет лучше чем вероятность случайной величины."
   ]
  },
  {
   "cell_type": "code",
   "execution_count": null,
   "id": "847dd620",
   "metadata": {},
   "outputs": [],
   "source": []
  },
  {
   "cell_type": "markdown",
   "id": "4c4b643d",
   "metadata": {},
   "source": [
    "Расчет матрицы ошибок"
   ]
  },
  {
   "cell_type": "code",
   "execution_count": 45,
   "id": "38eff7c8",
   "metadata": {},
   "outputs": [
    {
     "data": {
      "text/plain": [
       "array([[398,  48],\n",
       "       [ 92, 105]])"
      ]
     },
     "execution_count": 45,
     "metadata": {},
     "output_type": "execute_result"
    }
   ],
   "source": [
    "#confusion_matrix\n",
    "confusion_matrix(target_test, predictions)"
   ]
  },
  {
   "cell_type": "markdown",
   "id": "604826ac",
   "metadata": {},
   "source": [
    "Из всех 643 тестовых обьектов (сумма всех коэффициентов матрицы 398 + 48 + 92 + 105):\n",
    "\n",
    "- 398 являются 1 и определены верно как 1\n",
    "- 105 являются 0 и определены верно как 0\n",
    "- 48 являются 1 и определены НЕ верно, как 0\n",
    "- 92 являются 0 и определены НЕ верно как 1"
   ]
  },
  {
   "cell_type": "code",
   "execution_count": null,
   "id": "82579d9b",
   "metadata": {},
   "outputs": [],
   "source": []
  },
  {
   "cell_type": "markdown",
   "id": "1a1c44cb",
   "metadata": {},
   "source": [
    "Считаю что полученая модель обладает низкой адекватностью. \n",
    "\n",
    "Несмотря на нормальное распределение входных данных, отсутствия выбросов, пропусков и дублирования - ни одна из метрик и близко не достигает величины 0,9."
   ]
  },
  {
   "cell_type": "markdown",
   "id": "3922cffe",
   "metadata": {},
   "source": [
    "<div class=\"alert alert-info\">\n",
    "    \n",
    "Попытка использовать DummyClassifier\n",
    "</div>"
   ]
  },
  {
   "cell_type": "code",
   "execution_count": 46,
   "id": "93362eb6",
   "metadata": {},
   "outputs": [
    {
     "data": {
      "text/plain": [
       "0.6936236391912908"
      ]
     },
     "execution_count": 46,
     "metadata": {},
     "output_type": "execute_result"
    }
   ],
   "source": [
    "#Стратегия strategy='most_frequent' обучение с наиболее часто встречающимся значением\n",
    "dummy = DummyClassifier(strategy='most_frequent')\n",
    "dummy.fit(features_train, target_train)\n",
    "dummy_pred = dummy.predict(features_test)\n",
    "test_score = accuracy_score(target_test, dummy_pred)\n",
    "\n",
    "test_score"
   ]
  },
  {
   "cell_type": "code",
   "execution_count": 47,
   "id": "94d01b86",
   "metadata": {
    "scrolled": true
   },
   "outputs": [
    {
     "data": {
      "text/plain": [
       "array([0, 0, 0, 0, 0, 0, 0, 0, 0, 0, 0, 0, 0, 0, 0, 0, 0, 0, 0, 0, 0, 0,\n",
       "       0, 0, 0, 0, 0, 0, 0, 0, 0, 0, 0, 0, 0, 0, 0, 0, 0, 0, 0, 0, 0, 0,\n",
       "       0, 0, 0, 0, 0, 0, 0, 0, 0, 0, 0, 0, 0, 0, 0, 0, 0, 0, 0, 0, 0, 0,\n",
       "       0, 0, 0, 0, 0, 0, 0, 0, 0, 0, 0, 0, 0, 0, 0, 0, 0, 0, 0, 0, 0, 0,\n",
       "       0, 0, 0, 0, 0, 0, 0, 0, 0, 0, 0, 0, 0, 0, 0, 0, 0, 0, 0, 0, 0, 0,\n",
       "       0, 0, 0, 0, 0, 0, 0, 0, 0, 0, 0, 0, 0, 0, 0, 0, 0, 0, 0, 0, 0, 0,\n",
       "       0, 0, 0, 0, 0, 0, 0, 0, 0, 0, 0, 0, 0, 0, 0, 0, 0, 0, 0, 0, 0, 0,\n",
       "       0, 0, 0, 0, 0, 0, 0, 0, 0, 0, 0, 0, 0, 0, 0, 0, 0, 0, 0, 0, 0, 0,\n",
       "       0, 0, 0, 0, 0, 0, 0, 0, 0, 0, 0, 0, 0, 0, 0, 0, 0, 0, 0, 0, 0, 0,\n",
       "       0, 0, 0, 0, 0, 0, 0, 0, 0, 0, 0, 0, 0, 0, 0, 0, 0, 0, 0, 0, 0, 0,\n",
       "       0, 0, 0, 0, 0, 0, 0, 0, 0, 0, 0, 0, 0, 0, 0, 0, 0, 0, 0, 0, 0, 0,\n",
       "       0, 0, 0, 0, 0, 0, 0, 0, 0, 0, 0, 0, 0, 0, 0, 0, 0, 0, 0, 0, 0, 0,\n",
       "       0, 0, 0, 0, 0, 0, 0, 0, 0, 0, 0, 0, 0, 0, 0, 0, 0, 0, 0, 0, 0, 0,\n",
       "       0, 0, 0, 0, 0, 0, 0, 0, 0, 0, 0, 0, 0, 0, 0, 0, 0, 0, 0, 0, 0, 0,\n",
       "       0, 0, 0, 0, 0, 0, 0, 0, 0, 0, 0, 0, 0, 0, 0, 0, 0, 0, 0, 0, 0, 0,\n",
       "       0, 0, 0, 0, 0, 0, 0, 0, 0, 0, 0, 0, 0, 0, 0, 0, 0, 0, 0, 0, 0, 0,\n",
       "       0, 0, 0, 0, 0, 0, 0, 0, 0, 0, 0, 0, 0, 0, 0, 0, 0, 0, 0, 0, 0, 0,\n",
       "       0, 0, 0, 0, 0, 0, 0, 0, 0, 0, 0, 0, 0, 0, 0, 0, 0, 0, 0, 0, 0, 0,\n",
       "       0, 0, 0, 0, 0, 0, 0, 0, 0, 0, 0, 0, 0, 0, 0, 0, 0, 0, 0, 0, 0, 0,\n",
       "       0, 0, 0, 0, 0, 0, 0, 0, 0, 0, 0, 0, 0, 0, 0, 0, 0, 0, 0, 0, 0, 0,\n",
       "       0, 0, 0, 0, 0, 0, 0, 0, 0, 0, 0, 0, 0, 0, 0, 0, 0, 0, 0, 0, 0, 0,\n",
       "       0, 0, 0, 0, 0, 0, 0, 0, 0, 0, 0, 0, 0, 0, 0, 0, 0, 0, 0, 0, 0, 0,\n",
       "       0, 0, 0, 0, 0, 0, 0, 0, 0, 0, 0, 0, 0, 0, 0, 0, 0, 0, 0, 0, 0, 0,\n",
       "       0, 0, 0, 0, 0, 0, 0, 0, 0, 0, 0, 0, 0, 0, 0, 0, 0, 0, 0, 0, 0, 0,\n",
       "       0, 0, 0, 0, 0, 0, 0, 0, 0, 0, 0, 0, 0, 0, 0, 0, 0, 0, 0, 0, 0, 0,\n",
       "       0, 0, 0, 0, 0, 0, 0, 0, 0, 0, 0, 0, 0, 0, 0, 0, 0, 0, 0, 0, 0, 0,\n",
       "       0, 0, 0, 0, 0, 0, 0, 0, 0, 0, 0, 0, 0, 0, 0, 0, 0, 0, 0, 0, 0, 0,\n",
       "       0, 0, 0, 0, 0, 0, 0, 0, 0, 0, 0, 0, 0, 0, 0, 0, 0, 0, 0, 0, 0, 0,\n",
       "       0, 0, 0, 0, 0, 0, 0, 0, 0, 0, 0, 0, 0, 0, 0, 0, 0, 0, 0, 0, 0, 0,\n",
       "       0, 0, 0, 0, 0])"
      ]
     },
     "execution_count": 47,
     "metadata": {},
     "output_type": "execute_result"
    }
   ],
   "source": [
    "dummy_pred"
   ]
  },
  {
   "cell_type": "markdown",
   "id": "c885f014",
   "metadata": {},
   "source": [
    "То есть аиболее часто встречающееся значение это ноль"
   ]
  },
  {
   "cell_type": "code",
   "execution_count": 48,
   "id": "514db045",
   "metadata": {},
   "outputs": [
    {
     "data": {
      "text/plain": [
       "0.6936236391912908"
      ]
     },
     "execution_count": 48,
     "metadata": {},
     "output_type": "execute_result"
    }
   ],
   "source": [
    "#Стратегия strategy='prior'\n",
    "dummy = DummyClassifier(strategy='prior')\n",
    "dummy.fit(features_train, target_train)\n",
    "dummy_pred = dummy.predict(features_test)\n",
    "test_score = accuracy_score(target_test, dummy_pred)\n",
    "\n",
    "test_score"
   ]
  },
  {
   "cell_type": "code",
   "execution_count": 49,
   "id": "9932a73e",
   "metadata": {},
   "outputs": [
    {
     "data": {
      "text/plain": [
       "0.5645412130637636"
      ]
     },
     "execution_count": 49,
     "metadata": {},
     "output_type": "execute_result"
    }
   ],
   "source": [
    "#Стратегия strategy='stratified'\n",
    "dummy = DummyClassifier(strategy='stratified')\n",
    "dummy.fit(features_train, target_train)\n",
    "dummy_pred = dummy.predict(features_test)\n",
    "test_score = accuracy_score(target_test, dummy_pred)\n",
    "\n",
    "test_score"
   ]
  },
  {
   "cell_type": "code",
   "execution_count": 50,
   "id": "f2193e6e",
   "metadata": {},
   "outputs": [
    {
     "data": {
      "text/plain": [
       "0.48833592534992226"
      ]
     },
     "execution_count": 50,
     "metadata": {},
     "output_type": "execute_result"
    }
   ],
   "source": [
    "#Стратегия strategy='uniform'\n",
    "dummy = DummyClassifier(strategy='uniform')\n",
    "dummy.fit(features_train, target_train)\n",
    "dummy_pred = dummy.predict(features_test)\n",
    "test_score = accuracy_score(target_test, dummy_pred)\n",
    "\n",
    "test_score"
   ]
  },
  {
   "cell_type": "code",
   "execution_count": 51,
   "id": "5cb63754",
   "metadata": {},
   "outputs": [
    {
     "data": {
      "text/plain": [
       "0.6936236391912908"
      ]
     },
     "execution_count": 51,
     "metadata": {},
     "output_type": "execute_result"
    }
   ],
   "source": [
    "#Стратегия strategy='constant' для константы 0\n",
    "dummy = DummyClassifier(strategy='constant', constant = 0)\n",
    "dummy.fit(features_train, target_train)\n",
    "dummy_pred = dummy.predict(features_test)\n",
    "test_score = accuracy_score(target_test, dummy_pred)\n",
    "\n",
    "test_score"
   ]
  },
  {
   "cell_type": "code",
   "execution_count": 52,
   "id": "275e768b",
   "metadata": {},
   "outputs": [
    {
     "data": {
      "text/plain": [
       "0.30637636080870917"
      ]
     },
     "execution_count": 52,
     "metadata": {},
     "output_type": "execute_result"
    }
   ],
   "source": [
    "#Стратегия strategy='constant' для константы 1\n",
    "dummy = DummyClassifier(strategy='constant', constant = 1)\n",
    "dummy.fit(features_train, target_train)\n",
    "dummy_pred = dummy.predict(features_test)\n",
    "test_score = accuracy_score(target_test, dummy_pred)\n",
    "\n",
    "test_score"
   ]
  },
  {
   "cell_type": "markdown",
   "id": "1fa6143b",
   "metadata": {},
   "source": [
    "Качество на модели \"случайный лес\" составило около 0.7823, все возможные модели на классификаторе DummyClassifier имели качество не выше 0.6936. То есть полученная модель обладает большей вменяемостью."
   ]
  },
  {
   "cell_type": "code",
   "execution_count": null,
   "id": "95390490",
   "metadata": {},
   "outputs": [],
   "source": []
  },
  {
   "cell_type": "markdown",
   "id": "2dc61597",
   "metadata": {},
   "source": [
    "## Выводы"
   ]
  },
  {
   "cell_type": "markdown",
   "id": "a887ae8b",
   "metadata": {},
   "source": [
    "**Проведено краткое исследование различных моделей классификации.**\n",
    "\n",
    "\n",
    "\n",
    "- Сбалансированность данных в исходном датасете составляет около 30%\n",
    "-- -- \n",
    "**Одни из лучших результатов имеет модель \"случайный лес\"**\n",
    "- качество модели `accuracy` на тестовой выборке для модели \"случайный лес\" оказалось около 78%\n",
    "- Точность модели `precision` составила всего 53%.\n",
    "- Полнота модели `recall` составила около 70%\n",
    "- среднее гармоническое `precision` и `recall` составило около 0,61\n",
    "- `roc_auc` составил примерно 0.71\n",
    "-- --\n",
    "**Из всех 643 тестовых обьектов модель определила следующее:**\n",
    "\n",
    "- 398 пользователей перешли на новый тариф и модель это верно определила (являются 1 и определены верно как 1)\n",
    "- 105 пользователей НЕ перешли на новый тариф и модель это верно определила (являются 0 и определены верно как 0)\n",
    "- 48 пользователей перешли на новый тариф, но модель определила что остались на старом тарифе (являются 1 и определены НЕ верно, как 0)\n",
    "- 92 пользователей НЕ перешли на новый тариф, но модель посчитала что перешли (являются 0 и определены НЕ верно как 1)\n",
    "\n",
    "\n",
    "-- --\n",
    "**Полученая модель обладает низкой адекватностью.**\n",
    "\n",
    "Несмотря на нормальное распределение входных данных, отсутствия выбросов, пропусков и дублирования - ни одна из метрик не достигает величины 0,9.\n",
    "\n",
    "-- --\n",
    "Качество модели \"случайный лес\" составило около 0.7823, все возможные модели на классификаторе DummyClassifier имели качество не выше 0.6936. То есть полученная модель обладает большей вменяемостью."
   ]
  },
  {
   "cell_type": "code",
   "execution_count": null,
   "id": "9972d2fa",
   "metadata": {},
   "outputs": [],
   "source": []
  }
 ],
 "metadata": {
  "ExecuteTimeLog": [
   {
    "duration": 1096,
    "start_time": "2022-08-04T05:32:34.950Z"
   },
   {
    "duration": 162,
    "start_time": "2022-08-04T05:32:36.050Z"
   },
   {
    "duration": 14,
    "start_time": "2022-08-04T05:32:36.217Z"
   },
   {
    "duration": 20,
    "start_time": "2022-08-04T05:32:36.233Z"
   },
   {
    "duration": 24,
    "start_time": "2022-08-04T05:32:36.255Z"
   },
   {
    "duration": 5,
    "start_time": "2022-08-04T05:32:36.281Z"
   },
   {
    "duration": 1096,
    "start_time": "2022-08-04T05:32:36.303Z"
   },
   {
    "duration": 18,
    "start_time": "2022-08-04T05:32:37.402Z"
   },
   {
    "duration": 8,
    "start_time": "2022-08-04T05:32:37.421Z"
   },
   {
    "duration": 5,
    "start_time": "2022-08-04T05:32:37.431Z"
   },
   {
    "duration": 12,
    "start_time": "2022-08-04T05:32:37.438Z"
   },
   {
    "duration": 4,
    "start_time": "2022-08-04T05:33:05.719Z"
   },
   {
    "duration": 66,
    "start_time": "2022-08-04T05:33:05.725Z"
   },
   {
    "duration": 12,
    "start_time": "2022-08-04T05:33:05.793Z"
   },
   {
    "duration": 31,
    "start_time": "2022-08-04T05:33:05.806Z"
   },
   {
    "duration": 27,
    "start_time": "2022-08-04T05:33:05.840Z"
   },
   {
    "duration": 5,
    "start_time": "2022-08-04T05:33:05.869Z"
   },
   {
    "duration": 761,
    "start_time": "2022-08-04T05:33:05.876Z"
   },
   {
    "duration": 11,
    "start_time": "2022-08-04T05:33:06.639Z"
   },
   {
    "duration": 9,
    "start_time": "2022-08-04T05:33:06.652Z"
   },
   {
    "duration": 5,
    "start_time": "2022-08-04T05:33:06.662Z"
   },
   {
    "duration": 131,
    "start_time": "2022-08-04T05:33:06.669Z"
   },
   {
    "duration": 4,
    "start_time": "2022-08-04T05:35:02.387Z"
   },
   {
    "duration": 81,
    "start_time": "2022-08-04T05:35:02.393Z"
   },
   {
    "duration": 11,
    "start_time": "2022-08-04T05:35:02.476Z"
   },
   {
    "duration": 13,
    "start_time": "2022-08-04T05:35:02.488Z"
   },
   {
    "duration": 39,
    "start_time": "2022-08-04T05:35:02.503Z"
   },
   {
    "duration": 5,
    "start_time": "2022-08-04T05:35:02.544Z"
   },
   {
    "duration": 645,
    "start_time": "2022-08-04T05:35:02.550Z"
   },
   {
    "duration": 10,
    "start_time": "2022-08-04T05:35:03.202Z"
   },
   {
    "duration": 16,
    "start_time": "2022-08-04T05:35:03.214Z"
   },
   {
    "duration": 14,
    "start_time": "2022-08-04T05:35:03.232Z"
   },
   {
    "duration": 28,
    "start_time": "2022-08-04T05:35:03.248Z"
   },
   {
    "duration": 6,
    "start_time": "2022-08-04T05:35:06.056Z"
   },
   {
    "duration": 6,
    "start_time": "2022-08-04T05:35:07.264Z"
   },
   {
    "duration": 3,
    "start_time": "2022-08-04T05:35:08.375Z"
   },
   {
    "duration": 4,
    "start_time": "2022-08-04T05:35:09.594Z"
   },
   {
    "duration": 4,
    "start_time": "2022-08-04T05:35:09.900Z"
   },
   {
    "duration": 4,
    "start_time": "2022-08-04T05:35:10.517Z"
   },
   {
    "duration": 4,
    "start_time": "2022-08-04T05:35:11.031Z"
   },
   {
    "duration": 5,
    "start_time": "2022-08-04T05:35:11.666Z"
   },
   {
    "duration": 5,
    "start_time": "2022-08-04T05:35:15.088Z"
   },
   {
    "duration": 5,
    "start_time": "2022-08-04T05:35:16.554Z"
   },
   {
    "duration": 3,
    "start_time": "2022-08-04T05:35:17.306Z"
   },
   {
    "duration": 61,
    "start_time": "2022-08-04T05:36:02.444Z"
   },
   {
    "duration": 59,
    "start_time": "2022-08-04T05:43:26.621Z"
   },
   {
    "duration": 3,
    "start_time": "2022-08-04T05:54:41.921Z"
   },
   {
    "duration": 7,
    "start_time": "2022-08-04T05:54:46.029Z"
   },
   {
    "duration": 3,
    "start_time": "2022-08-04T05:55:53.783Z"
   },
   {
    "duration": 7,
    "start_time": "2022-08-04T05:55:54.231Z"
   },
   {
    "duration": 3,
    "start_time": "2022-08-04T05:57:00.897Z"
   },
   {
    "duration": 7,
    "start_time": "2022-08-04T05:57:01.442Z"
   },
   {
    "duration": 3,
    "start_time": "2022-08-04T05:57:09.698Z"
   },
   {
    "duration": 9,
    "start_time": "2022-08-04T05:57:10.398Z"
   },
   {
    "duration": 4,
    "start_time": "2022-08-04T05:57:23.598Z"
   },
   {
    "duration": 7,
    "start_time": "2022-08-04T05:57:24.030Z"
   },
   {
    "duration": 4,
    "start_time": "2022-08-04T05:57:49.721Z"
   },
   {
    "duration": 7,
    "start_time": "2022-08-04T05:57:50.143Z"
   },
   {
    "duration": 4,
    "start_time": "2022-08-04T05:58:46.707Z"
   },
   {
    "duration": 7,
    "start_time": "2022-08-04T05:58:47.104Z"
   },
   {
    "duration": 4,
    "start_time": "2022-08-04T05:59:02.409Z"
   },
   {
    "duration": 7,
    "start_time": "2022-08-04T05:59:02.841Z"
   },
   {
    "duration": 4,
    "start_time": "2022-08-04T06:00:44.777Z"
   },
   {
    "duration": 10,
    "start_time": "2022-08-04T06:00:44.962Z"
   },
   {
    "duration": 4,
    "start_time": "2022-08-04T06:01:48.258Z"
   },
   {
    "duration": 8,
    "start_time": "2022-08-04T06:01:48.631Z"
   },
   {
    "duration": 3,
    "start_time": "2022-08-04T06:02:13.750Z"
   },
   {
    "duration": 7,
    "start_time": "2022-08-04T06:02:14.131Z"
   },
   {
    "duration": 51,
    "start_time": "2022-08-04T06:02:58.491Z"
   },
   {
    "duration": 7,
    "start_time": "2022-08-04T06:02:58.739Z"
   },
   {
    "duration": 4,
    "start_time": "2022-08-04T06:03:04.520Z"
   },
   {
    "duration": 7,
    "start_time": "2022-08-04T06:03:04.996Z"
   },
   {
    "duration": 17,
    "start_time": "2022-08-04T06:05:01.514Z"
   },
   {
    "duration": 12,
    "start_time": "2022-08-04T06:05:19.726Z"
   },
   {
    "duration": 5,
    "start_time": "2022-08-04T06:05:48.659Z"
   },
   {
    "duration": 10,
    "start_time": "2022-08-04T06:05:49.763Z"
   },
   {
    "duration": 5,
    "start_time": "2022-08-04T06:06:08.698Z"
   },
   {
    "duration": 10,
    "start_time": "2022-08-04T06:06:09.763Z"
   },
   {
    "duration": 4,
    "start_time": "2022-08-04T06:07:28.662Z"
   },
   {
    "duration": 9,
    "start_time": "2022-08-04T06:07:29.200Z"
   },
   {
    "duration": 47,
    "start_time": "2022-08-04T06:07:55.723Z"
   },
   {
    "duration": 5,
    "start_time": "2022-08-04T06:08:05.192Z"
   },
   {
    "duration": 11,
    "start_time": "2022-08-04T06:08:05.647Z"
   },
   {
    "duration": 7,
    "start_time": "2022-08-04T06:08:34.969Z"
   },
   {
    "duration": 13,
    "start_time": "2022-08-04T06:08:35.563Z"
   },
   {
    "duration": 4,
    "start_time": "2022-08-04T06:08:52.025Z"
   },
   {
    "duration": 9,
    "start_time": "2022-08-04T06:08:52.522Z"
   },
   {
    "duration": 5,
    "start_time": "2022-08-04T06:10:15.725Z"
   },
   {
    "duration": 10,
    "start_time": "2022-08-04T06:10:16.504Z"
   },
   {
    "duration": 5,
    "start_time": "2022-08-04T06:22:37.886Z"
   },
   {
    "duration": 12,
    "start_time": "2022-08-04T06:22:38.555Z"
   },
   {
    "duration": 1150,
    "start_time": "2022-08-04T06:44:36.187Z"
   },
   {
    "duration": 59,
    "start_time": "2022-08-04T06:44:37.339Z"
   },
   {
    "duration": 11,
    "start_time": "2022-08-04T06:44:37.400Z"
   },
   {
    "duration": 25,
    "start_time": "2022-08-04T06:44:37.414Z"
   },
   {
    "duration": 26,
    "start_time": "2022-08-04T06:44:37.441Z"
   },
   {
    "duration": 6,
    "start_time": "2022-08-04T06:44:37.469Z"
   },
   {
    "duration": 902,
    "start_time": "2022-08-04T06:44:37.477Z"
   },
   {
    "duration": 11,
    "start_time": "2022-08-04T06:44:38.381Z"
   },
   {
    "duration": 13,
    "start_time": "2022-08-04T06:44:38.405Z"
   },
   {
    "duration": 6,
    "start_time": "2022-08-04T06:44:38.421Z"
   },
   {
    "duration": 13,
    "start_time": "2022-08-04T06:44:38.429Z"
   },
   {
    "duration": 10,
    "start_time": "2022-08-04T06:44:38.445Z"
   },
   {
    "duration": 5,
    "start_time": "2022-08-04T06:44:38.457Z"
   },
   {
    "duration": 6,
    "start_time": "2022-08-04T06:44:38.463Z"
   },
   {
    "duration": 5,
    "start_time": "2022-08-04T06:44:38.470Z"
   },
   {
    "duration": 12,
    "start_time": "2022-08-04T06:44:38.477Z"
   },
   {
    "duration": 15,
    "start_time": "2022-08-04T06:44:38.490Z"
   },
   {
    "duration": 4,
    "start_time": "2022-08-04T06:44:38.507Z"
   },
   {
    "duration": 6,
    "start_time": "2022-08-04T06:44:38.513Z"
   },
   {
    "duration": 5,
    "start_time": "2022-08-04T06:44:38.520Z"
   },
   {
    "duration": 6,
    "start_time": "2022-08-04T06:44:38.527Z"
   },
   {
    "duration": 206,
    "start_time": "2022-08-04T06:44:38.535Z"
   },
   {
    "duration": 895,
    "start_time": "2022-08-04T06:44:38.743Z"
   },
   {
    "duration": 245,
    "start_time": "2022-08-04T06:44:39.640Z"
   },
   {
    "duration": 486,
    "start_time": "2022-08-04T06:44:39.887Z"
   },
   {
    "duration": 342,
    "start_time": "2022-08-04T06:44:40.375Z"
   },
   {
    "duration": 133,
    "start_time": "2022-08-04T06:44:40.719Z"
   },
   {
    "duration": 12,
    "start_time": "2022-08-04T06:44:40.855Z"
   },
   {
    "duration": 193,
    "start_time": "2022-08-04T06:44:40.868Z"
   },
   {
    "duration": 228,
    "start_time": "2022-08-04T06:44:41.063Z"
   },
   {
    "duration": 142,
    "start_time": "2022-08-04T06:44:41.293Z"
   },
   {
    "duration": 5,
    "start_time": "2022-08-04T06:44:41.437Z"
   },
   {
    "duration": 13,
    "start_time": "2022-08-04T06:44:41.443Z"
   },
   {
    "duration": 61,
    "start_time": "2022-08-04T06:44:41.458Z"
   },
   {
    "duration": 5,
    "start_time": "2022-08-04T06:44:41.521Z"
   },
   {
    "duration": 15,
    "start_time": "2022-08-04T06:44:41.528Z"
   },
   {
    "duration": 11,
    "start_time": "2022-08-04T06:44:41.545Z"
   },
   {
    "duration": 5,
    "start_time": "2022-08-04T06:44:41.558Z"
   },
   {
    "duration": 40,
    "start_time": "2022-08-04T06:44:41.565Z"
   },
   {
    "duration": 5,
    "start_time": "2022-08-04T06:44:41.607Z"
   },
   {
    "duration": 12,
    "start_time": "2022-08-04T06:44:41.613Z"
   },
   {
    "duration": 6,
    "start_time": "2022-08-04T06:44:41.627Z"
   },
   {
    "duration": 6,
    "start_time": "2022-08-04T06:50:08.966Z"
   },
   {
    "duration": 9,
    "start_time": "2022-08-04T06:50:09.540Z"
   },
   {
    "duration": 5182,
    "start_time": "2022-08-04T06:51:52.125Z"
   },
   {
    "duration": 859,
    "start_time": "2022-08-04T06:52:20.794Z"
   },
   {
    "duration": 473,
    "start_time": "2022-08-04T06:54:13.338Z"
   },
   {
    "duration": 5,
    "start_time": "2022-08-04T06:56:17.171Z"
   },
   {
    "duration": 10,
    "start_time": "2022-08-04T06:56:18.298Z"
   },
   {
    "duration": 52,
    "start_time": "2022-08-04T06:56:48.677Z"
   },
   {
    "duration": 4,
    "start_time": "2022-08-04T06:56:54.381Z"
   },
   {
    "duration": 10,
    "start_time": "2022-08-04T06:56:55.653Z"
   },
   {
    "duration": 4,
    "start_time": "2022-08-04T06:57:21.328Z"
   },
   {
    "duration": 11,
    "start_time": "2022-08-04T06:57:21.806Z"
   },
   {
    "duration": 48,
    "start_time": "2022-08-04T06:58:29.837Z"
   },
   {
    "duration": 4,
    "start_time": "2022-08-04T06:58:33.281Z"
   },
   {
    "duration": 11,
    "start_time": "2022-08-04T06:58:42.051Z"
   },
   {
    "duration": 44,
    "start_time": "2022-08-04T06:58:58.602Z"
   },
   {
    "duration": 5,
    "start_time": "2022-08-04T06:58:58.934Z"
   },
   {
    "duration": 9,
    "start_time": "2022-08-04T06:58:59.499Z"
   },
   {
    "duration": 48,
    "start_time": "2022-08-04T06:59:03.432Z"
   },
   {
    "duration": 4,
    "start_time": "2022-08-04T06:59:03.925Z"
   },
   {
    "duration": 9,
    "start_time": "2022-08-04T06:59:06.054Z"
   },
   {
    "duration": 1148,
    "start_time": "2022-08-04T06:59:47.124Z"
   },
   {
    "duration": 56,
    "start_time": "2022-08-04T06:59:48.275Z"
   },
   {
    "duration": 13,
    "start_time": "2022-08-04T06:59:48.333Z"
   },
   {
    "duration": 20,
    "start_time": "2022-08-04T06:59:48.348Z"
   },
   {
    "duration": 24,
    "start_time": "2022-08-04T06:59:48.371Z"
   },
   {
    "duration": 7,
    "start_time": "2022-08-04T06:59:48.397Z"
   },
   {
    "duration": 971,
    "start_time": "2022-08-04T06:59:48.406Z"
   },
   {
    "duration": 11,
    "start_time": "2022-08-04T06:59:49.378Z"
   },
   {
    "duration": 14,
    "start_time": "2022-08-04T06:59:49.391Z"
   },
   {
    "duration": 8,
    "start_time": "2022-08-04T06:59:49.407Z"
   },
   {
    "duration": 13,
    "start_time": "2022-08-04T06:59:49.416Z"
   },
   {
    "duration": 5,
    "start_time": "2022-08-04T06:59:49.430Z"
   },
   {
    "duration": 7,
    "start_time": "2022-08-04T06:59:49.437Z"
   },
   {
    "duration": 7,
    "start_time": "2022-08-04T06:59:49.448Z"
   },
   {
    "duration": 7,
    "start_time": "2022-08-04T06:59:49.457Z"
   },
   {
    "duration": 7,
    "start_time": "2022-08-04T06:59:49.465Z"
   },
   {
    "duration": 9,
    "start_time": "2022-08-04T06:59:49.473Z"
   },
   {
    "duration": 24,
    "start_time": "2022-08-04T06:59:49.483Z"
   },
   {
    "duration": 7,
    "start_time": "2022-08-04T06:59:49.509Z"
   },
   {
    "duration": 6,
    "start_time": "2022-08-04T06:59:49.518Z"
   },
   {
    "duration": 9,
    "start_time": "2022-08-04T06:59:49.526Z"
   },
   {
    "duration": 196,
    "start_time": "2022-08-04T06:59:49.537Z"
   },
   {
    "duration": 871,
    "start_time": "2022-08-04T06:59:49.735Z"
   },
   {
    "duration": 233,
    "start_time": "2022-08-04T06:59:50.608Z"
   },
   {
    "duration": 551,
    "start_time": "2022-08-04T06:59:50.843Z"
   },
   {
    "duration": 314,
    "start_time": "2022-08-04T06:59:51.402Z"
   },
   {
    "duration": 123,
    "start_time": "2022-08-04T06:59:51.718Z"
   },
   {
    "duration": 12,
    "start_time": "2022-08-04T06:59:51.843Z"
   },
   {
    "duration": 195,
    "start_time": "2022-08-04T06:59:51.856Z"
   },
   {
    "duration": 214,
    "start_time": "2022-08-04T06:59:52.053Z"
   },
   {
    "duration": 141,
    "start_time": "2022-08-04T06:59:52.269Z"
   },
   {
    "duration": 6,
    "start_time": "2022-08-04T06:59:52.412Z"
   },
   {
    "duration": 27,
    "start_time": "2022-08-04T06:59:52.420Z"
   },
   {
    "duration": 56,
    "start_time": "2022-08-04T06:59:52.450Z"
   },
   {
    "duration": 6,
    "start_time": "2022-08-04T06:59:52.508Z"
   },
   {
    "duration": 11,
    "start_time": "2022-08-04T06:59:52.515Z"
   },
   {
    "duration": 16,
    "start_time": "2022-08-04T06:59:52.527Z"
   },
   {
    "duration": 6,
    "start_time": "2022-08-04T06:59:52.545Z"
   },
   {
    "duration": 9,
    "start_time": "2022-08-04T06:59:52.552Z"
   },
   {
    "duration": 6,
    "start_time": "2022-08-04T06:59:52.563Z"
   },
   {
    "duration": 32,
    "start_time": "2022-08-04T06:59:52.572Z"
   },
   {
    "duration": 6,
    "start_time": "2022-08-04T06:59:52.606Z"
   },
   {
    "duration": 114,
    "start_time": "2022-08-04T07:07:01.254Z"
   },
   {
    "duration": 5,
    "start_time": "2022-08-04T07:07:53.667Z"
   },
   {
    "duration": 1092,
    "start_time": "2022-08-04T07:08:01.245Z"
   },
   {
    "duration": 123,
    "start_time": "2022-08-04T07:08:02.339Z"
   },
   {
    "duration": 15,
    "start_time": "2022-08-04T07:08:02.464Z"
   },
   {
    "duration": 28,
    "start_time": "2022-08-04T07:08:02.482Z"
   },
   {
    "duration": 25,
    "start_time": "2022-08-04T07:08:02.512Z"
   },
   {
    "duration": 6,
    "start_time": "2022-08-04T07:08:02.539Z"
   },
   {
    "duration": 1036,
    "start_time": "2022-08-04T07:08:02.546Z"
   },
   {
    "duration": 21,
    "start_time": "2022-08-04T07:08:03.583Z"
   },
   {
    "duration": 3,
    "start_time": "2022-08-04T07:08:03.606Z"
   },
   {
    "duration": 5,
    "start_time": "2022-08-04T07:08:03.612Z"
   },
   {
    "duration": 9,
    "start_time": "2022-08-04T07:08:03.618Z"
   },
   {
    "duration": 6,
    "start_time": "2022-08-04T07:08:03.629Z"
   },
   {
    "duration": 9,
    "start_time": "2022-08-04T07:08:03.636Z"
   },
   {
    "duration": 7,
    "start_time": "2022-08-04T07:08:03.647Z"
   },
   {
    "duration": 7,
    "start_time": "2022-08-04T07:08:03.655Z"
   },
   {
    "duration": 6,
    "start_time": "2022-08-04T07:08:03.664Z"
   },
   {
    "duration": 39,
    "start_time": "2022-08-04T07:08:03.671Z"
   },
   {
    "duration": 6,
    "start_time": "2022-08-04T07:08:03.712Z"
   },
   {
    "duration": 5,
    "start_time": "2022-08-04T07:08:03.720Z"
   },
   {
    "duration": 5,
    "start_time": "2022-08-04T07:08:03.727Z"
   },
   {
    "duration": 5,
    "start_time": "2022-08-04T07:08:03.734Z"
   },
   {
    "duration": 198,
    "start_time": "2022-08-04T07:08:03.741Z"
   },
   {
    "duration": 866,
    "start_time": "2022-08-04T07:08:03.941Z"
   },
   {
    "duration": 253,
    "start_time": "2022-08-04T07:08:04.809Z"
   },
   {
    "duration": 561,
    "start_time": "2022-08-04T07:08:05.064Z"
   },
   {
    "duration": 331,
    "start_time": "2022-08-04T07:08:05.627Z"
   },
   {
    "duration": 128,
    "start_time": "2022-08-04T07:08:05.960Z"
   },
   {
    "duration": 17,
    "start_time": "2022-08-04T07:08:06.092Z"
   },
   {
    "duration": 187,
    "start_time": "2022-08-04T07:08:06.111Z"
   },
   {
    "duration": 220,
    "start_time": "2022-08-04T07:08:06.303Z"
   },
   {
    "duration": 138,
    "start_time": "2022-08-04T07:08:06.525Z"
   },
   {
    "duration": 5,
    "start_time": "2022-08-04T07:08:06.665Z"
   },
   {
    "duration": 27,
    "start_time": "2022-08-04T07:08:06.672Z"
   },
   {
    "duration": 53,
    "start_time": "2022-08-04T07:08:06.700Z"
   },
   {
    "duration": 5,
    "start_time": "2022-08-04T07:08:06.755Z"
   },
   {
    "duration": 11,
    "start_time": "2022-08-04T07:08:06.762Z"
   },
   {
    "duration": 9,
    "start_time": "2022-08-04T07:08:06.775Z"
   },
   {
    "duration": 6,
    "start_time": "2022-08-04T07:08:06.803Z"
   },
   {
    "duration": 6,
    "start_time": "2022-08-04T07:08:06.810Z"
   },
   {
    "duration": 6,
    "start_time": "2022-08-04T07:08:06.817Z"
   },
   {
    "duration": 9,
    "start_time": "2022-08-04T07:08:06.825Z"
   },
   {
    "duration": 6,
    "start_time": "2022-08-04T07:08:06.835Z"
   },
   {
    "duration": 147,
    "start_time": "2022-08-04T07:08:06.843Z"
   },
   {
    "duration": 12,
    "start_time": "2022-08-04T07:10:03.735Z"
   },
   {
    "duration": 6,
    "start_time": "2022-08-04T07:10:33.738Z"
   },
   {
    "duration": 5,
    "start_time": "2022-08-04T07:15:30.203Z"
   },
   {
    "duration": 5,
    "start_time": "2022-08-04T07:15:36.463Z"
   },
   {
    "duration": 6,
    "start_time": "2022-08-04T07:16:14.660Z"
   },
   {
    "duration": 5,
    "start_time": "2022-08-04T07:16:15.708Z"
   },
   {
    "duration": 6,
    "start_time": "2022-08-04T07:16:29.777Z"
   },
   {
    "duration": 4,
    "start_time": "2022-08-04T07:16:30.833Z"
   },
   {
    "duration": 6,
    "start_time": "2022-08-04T07:17:37.512Z"
   },
   {
    "duration": 7,
    "start_time": "2022-08-04T07:17:38.135Z"
   },
   {
    "duration": 5,
    "start_time": "2022-08-04T07:18:17.971Z"
   },
   {
    "duration": 7,
    "start_time": "2022-08-04T07:18:18.935Z"
   },
   {
    "duration": 11,
    "start_time": "2022-08-04T07:18:47.674Z"
   },
   {
    "duration": 6,
    "start_time": "2022-08-04T07:19:09.259Z"
   },
   {
    "duration": 6,
    "start_time": "2022-08-04T07:19:10.489Z"
   },
   {
    "duration": 4,
    "start_time": "2022-08-04T09:26:26.625Z"
   },
   {
    "duration": 4,
    "start_time": "2022-08-04T09:27:25.563Z"
   },
   {
    "duration": 11,
    "start_time": "2022-08-04T09:27:42.488Z"
   },
   {
    "duration": 3,
    "start_time": "2022-08-04T09:29:01.362Z"
   },
   {
    "duration": 1111,
    "start_time": "2022-08-04T09:29:09.548Z"
   },
   {
    "duration": 56,
    "start_time": "2022-08-04T09:29:10.661Z"
   },
   {
    "duration": 12,
    "start_time": "2022-08-04T09:29:10.718Z"
   },
   {
    "duration": 21,
    "start_time": "2022-08-04T09:29:10.732Z"
   },
   {
    "duration": 25,
    "start_time": "2022-08-04T09:29:10.755Z"
   },
   {
    "duration": 24,
    "start_time": "2022-08-04T09:29:10.781Z"
   },
   {
    "duration": 982,
    "start_time": "2022-08-04T09:29:10.808Z"
   },
   {
    "duration": 19,
    "start_time": "2022-08-04T09:29:11.792Z"
   },
   {
    "duration": 3,
    "start_time": "2022-08-04T09:29:11.813Z"
   },
   {
    "duration": 10,
    "start_time": "2022-08-04T09:29:11.819Z"
   },
   {
    "duration": 11,
    "start_time": "2022-08-04T09:29:11.831Z"
   },
   {
    "duration": 7,
    "start_time": "2022-08-04T09:29:11.844Z"
   },
   {
    "duration": 5,
    "start_time": "2022-08-04T09:29:11.853Z"
   },
   {
    "duration": 11,
    "start_time": "2022-08-04T09:29:11.860Z"
   },
   {
    "duration": 7,
    "start_time": "2022-08-04T09:29:11.873Z"
   },
   {
    "duration": 4,
    "start_time": "2022-08-04T09:29:11.903Z"
   },
   {
    "duration": 17,
    "start_time": "2022-08-04T09:29:11.909Z"
   },
   {
    "duration": 6,
    "start_time": "2022-08-04T09:29:11.928Z"
   },
   {
    "duration": 8,
    "start_time": "2022-08-04T09:29:11.936Z"
   },
   {
    "duration": 13,
    "start_time": "2022-08-04T09:29:11.945Z"
   },
   {
    "duration": 6,
    "start_time": "2022-08-04T09:29:11.960Z"
   },
   {
    "duration": 187,
    "start_time": "2022-08-04T09:29:11.968Z"
   },
   {
    "duration": 891,
    "start_time": "2022-08-04T09:29:12.157Z"
   },
   {
    "duration": 253,
    "start_time": "2022-08-04T09:29:13.050Z"
   },
   {
    "duration": 552,
    "start_time": "2022-08-04T09:29:13.305Z"
   },
   {
    "duration": 361,
    "start_time": "2022-08-04T09:29:13.859Z"
   },
   {
    "duration": 129,
    "start_time": "2022-08-04T09:29:14.222Z"
   },
   {
    "duration": 12,
    "start_time": "2022-08-04T09:29:14.354Z"
   },
   {
    "duration": 218,
    "start_time": "2022-08-04T09:29:14.367Z"
   },
   {
    "duration": 218,
    "start_time": "2022-08-04T09:29:14.587Z"
   },
   {
    "duration": 133,
    "start_time": "2022-08-04T09:29:14.807Z"
   },
   {
    "duration": 4,
    "start_time": "2022-08-04T09:29:14.942Z"
   },
   {
    "duration": 12,
    "start_time": "2022-08-04T09:29:14.948Z"
   },
   {
    "duration": 64,
    "start_time": "2022-08-04T09:29:14.961Z"
   },
   {
    "duration": 5,
    "start_time": "2022-08-04T09:29:15.027Z"
   },
   {
    "duration": 16,
    "start_time": "2022-08-04T09:29:15.034Z"
   },
   {
    "duration": 10,
    "start_time": "2022-08-04T09:29:15.052Z"
   },
   {
    "duration": 5,
    "start_time": "2022-08-04T09:29:15.064Z"
   },
   {
    "duration": 33,
    "start_time": "2022-08-04T09:29:15.071Z"
   },
   {
    "duration": 6,
    "start_time": "2022-08-04T09:29:15.107Z"
   },
   {
    "duration": 6,
    "start_time": "2022-08-04T09:29:15.115Z"
   },
   {
    "duration": 7,
    "start_time": "2022-08-04T09:29:15.123Z"
   },
   {
    "duration": 4,
    "start_time": "2022-08-04T09:29:15.132Z"
   },
   {
    "duration": 208,
    "start_time": "2022-08-04T09:29:15.138Z"
   },
   {
    "duration": 6,
    "start_time": "2022-08-04T09:29:15.347Z"
   },
   {
    "duration": 167,
    "start_time": "2022-08-04T09:29:33.840Z"
   },
   {
    "duration": 167,
    "start_time": "2022-08-04T09:32:21.008Z"
   },
   {
    "duration": 160,
    "start_time": "2022-08-04T09:32:30.037Z"
   },
   {
    "duration": 178,
    "start_time": "2022-08-04T09:32:40.955Z"
   },
   {
    "duration": 6,
    "start_time": "2022-08-04T10:18:55.105Z"
   },
   {
    "duration": 5,
    "start_time": "2022-08-04T10:19:34.153Z"
   },
   {
    "duration": 4,
    "start_time": "2022-08-04T10:19:46.776Z"
   },
   {
    "duration": 5,
    "start_time": "2022-08-04T10:19:55.925Z"
   },
   {
    "duration": 2,
    "start_time": "2022-08-04T10:19:59.939Z"
   },
   {
    "duration": 7,
    "start_time": "2022-08-04T10:20:53.468Z"
   },
   {
    "duration": 6,
    "start_time": "2022-08-04T10:21:58.701Z"
   },
   {
    "duration": 150,
    "start_time": "2022-08-04T10:21:59.250Z"
   },
   {
    "duration": 4,
    "start_time": "2022-08-04T10:22:15.289Z"
   },
   {
    "duration": 6,
    "start_time": "2022-08-04T10:23:08.689Z"
   },
   {
    "duration": 6,
    "start_time": "2022-08-04T10:23:41.959Z"
   },
   {
    "duration": 7,
    "start_time": "2022-08-04T10:24:04.737Z"
   },
   {
    "duration": 8,
    "start_time": "2022-08-04T10:24:11.236Z"
   },
   {
    "duration": 6,
    "start_time": "2022-08-04T10:24:17.670Z"
   },
   {
    "duration": 6,
    "start_time": "2022-08-04T10:24:32.678Z"
   },
   {
    "duration": 6,
    "start_time": "2022-08-04T10:24:37.005Z"
   },
   {
    "duration": 7,
    "start_time": "2022-08-04T10:24:40.218Z"
   },
   {
    "duration": 7,
    "start_time": "2022-08-04T10:24:41.677Z"
   },
   {
    "duration": 7,
    "start_time": "2022-08-04T10:24:42.531Z"
   },
   {
    "duration": 6,
    "start_time": "2022-08-04T10:24:43.324Z"
   },
   {
    "duration": 7,
    "start_time": "2022-08-04T10:24:44.118Z"
   },
   {
    "duration": 6,
    "start_time": "2022-08-04T10:24:44.850Z"
   },
   {
    "duration": 6,
    "start_time": "2022-08-04T10:24:45.594Z"
   },
   {
    "duration": 8,
    "start_time": "2022-08-04T10:24:46.419Z"
   },
   {
    "duration": 6,
    "start_time": "2022-08-04T10:24:48.075Z"
   },
   {
    "duration": 7,
    "start_time": "2022-08-04T10:24:48.877Z"
   },
   {
    "duration": 7,
    "start_time": "2022-08-04T10:24:49.619Z"
   },
   {
    "duration": 6,
    "start_time": "2022-08-04T10:24:50.372Z"
   },
   {
    "duration": 6,
    "start_time": "2022-08-04T10:24:51.123Z"
   },
   {
    "duration": 6,
    "start_time": "2022-08-04T10:24:52.491Z"
   },
   {
    "duration": 6,
    "start_time": "2022-08-04T10:24:53.221Z"
   },
   {
    "duration": 6,
    "start_time": "2022-08-04T10:24:53.982Z"
   },
   {
    "duration": 6,
    "start_time": "2022-08-04T10:26:08.042Z"
   },
   {
    "duration": 114,
    "start_time": "2022-08-04T10:26:37.590Z"
   },
   {
    "duration": 11,
    "start_time": "2022-08-04T10:27:13.319Z"
   },
   {
    "duration": 6,
    "start_time": "2022-08-04T10:27:24.160Z"
   },
   {
    "duration": 6,
    "start_time": "2022-08-04T10:27:26.629Z"
   },
   {
    "duration": 7,
    "start_time": "2022-08-04T10:27:27.852Z"
   },
   {
    "duration": 7,
    "start_time": "2022-08-04T10:27:30.756Z"
   },
   {
    "duration": 7,
    "start_time": "2022-08-04T10:27:32.358Z"
   },
   {
    "duration": 7,
    "start_time": "2022-08-04T10:27:33.307Z"
   },
   {
    "duration": 9,
    "start_time": "2022-08-04T10:28:06.595Z"
   },
   {
    "duration": 6,
    "start_time": "2022-08-04T10:28:14.873Z"
   },
   {
    "duration": 161,
    "start_time": "2022-08-04T10:33:10.395Z"
   },
   {
    "duration": 1106,
    "start_time": "2022-08-04T10:43:07.857Z"
   },
   {
    "duration": 57,
    "start_time": "2022-08-04T10:43:08.966Z"
   },
   {
    "duration": 17,
    "start_time": "2022-08-04T10:43:09.025Z"
   },
   {
    "duration": 29,
    "start_time": "2022-08-04T10:43:09.045Z"
   },
   {
    "duration": 28,
    "start_time": "2022-08-04T10:43:09.076Z"
   },
   {
    "duration": 5,
    "start_time": "2022-08-04T10:43:09.106Z"
   },
   {
    "duration": 954,
    "start_time": "2022-08-04T10:43:09.113Z"
   },
   {
    "duration": 12,
    "start_time": "2022-08-04T10:43:10.068Z"
   },
   {
    "duration": 9,
    "start_time": "2022-08-04T10:43:10.081Z"
   },
   {
    "duration": 3,
    "start_time": "2022-08-04T10:43:10.102Z"
   },
   {
    "duration": 10,
    "start_time": "2022-08-04T10:43:10.107Z"
   },
   {
    "duration": 6,
    "start_time": "2022-08-04T10:43:10.119Z"
   },
   {
    "duration": 11,
    "start_time": "2022-08-04T10:43:10.126Z"
   },
   {
    "duration": 6,
    "start_time": "2022-08-04T10:43:10.139Z"
   },
   {
    "duration": 11,
    "start_time": "2022-08-04T10:43:10.147Z"
   },
   {
    "duration": 7,
    "start_time": "2022-08-04T10:43:10.160Z"
   },
   {
    "duration": 9,
    "start_time": "2022-08-04T10:43:10.169Z"
   },
   {
    "duration": 27,
    "start_time": "2022-08-04T10:43:10.180Z"
   },
   {
    "duration": 8,
    "start_time": "2022-08-04T10:43:10.209Z"
   },
   {
    "duration": 21,
    "start_time": "2022-08-04T10:43:10.218Z"
   },
   {
    "duration": 7,
    "start_time": "2022-08-04T10:43:10.241Z"
   },
   {
    "duration": 202,
    "start_time": "2022-08-04T10:43:10.250Z"
   },
   {
    "duration": 925,
    "start_time": "2022-08-04T10:43:10.454Z"
   },
   {
    "duration": 254,
    "start_time": "2022-08-04T10:43:11.381Z"
   },
   {
    "duration": 555,
    "start_time": "2022-08-04T10:43:11.637Z"
   },
   {
    "duration": 344,
    "start_time": "2022-08-04T10:43:12.193Z"
   },
   {
    "duration": 126,
    "start_time": "2022-08-04T10:43:12.539Z"
   },
   {
    "duration": 12,
    "start_time": "2022-08-04T10:43:12.669Z"
   },
   {
    "duration": 214,
    "start_time": "2022-08-04T10:43:12.683Z"
   },
   {
    "duration": 214,
    "start_time": "2022-08-04T10:43:12.899Z"
   },
   {
    "duration": 134,
    "start_time": "2022-08-04T10:43:13.115Z"
   },
   {
    "duration": 4,
    "start_time": "2022-08-04T10:43:13.252Z"
   },
   {
    "duration": 23,
    "start_time": "2022-08-04T10:43:13.258Z"
   },
   {
    "duration": 69,
    "start_time": "2022-08-04T10:43:13.283Z"
   },
   {
    "duration": 5,
    "start_time": "2022-08-04T10:43:13.354Z"
   },
   {
    "duration": 44,
    "start_time": "2022-08-04T10:43:13.360Z"
   },
   {
    "duration": 22,
    "start_time": "2022-08-04T10:43:13.406Z"
   },
   {
    "duration": 27,
    "start_time": "2022-08-04T10:43:13.430Z"
   },
   {
    "duration": 26,
    "start_time": "2022-08-04T10:43:13.459Z"
   },
   {
    "duration": 32,
    "start_time": "2022-08-04T10:43:13.486Z"
   },
   {
    "duration": 42,
    "start_time": "2022-08-04T10:43:13.520Z"
   },
   {
    "duration": 32,
    "start_time": "2022-08-04T10:43:13.563Z"
   },
   {
    "duration": 28,
    "start_time": "2022-08-04T10:43:13.597Z"
   },
   {
    "duration": 22,
    "start_time": "2022-08-04T10:43:13.627Z"
   },
   {
    "duration": 28,
    "start_time": "2022-08-04T10:43:13.650Z"
   },
   {
    "duration": 24,
    "start_time": "2022-08-04T10:43:13.680Z"
   },
   {
    "duration": 35,
    "start_time": "2022-08-04T10:43:13.706Z"
   },
   {
    "duration": 19,
    "start_time": "2022-08-04T10:43:13.743Z"
   },
   {
    "duration": 31,
    "start_time": "2022-08-04T10:43:13.764Z"
   },
   {
    "duration": 1205,
    "start_time": "2022-08-04T10:51:22.420Z"
   },
   {
    "duration": 56,
    "start_time": "2022-08-04T10:51:23.627Z"
   },
   {
    "duration": 15,
    "start_time": "2022-08-04T10:51:23.685Z"
   },
   {
    "duration": 29,
    "start_time": "2022-08-04T10:51:23.702Z"
   },
   {
    "duration": 25,
    "start_time": "2022-08-04T10:51:23.733Z"
   },
   {
    "duration": 5,
    "start_time": "2022-08-04T10:51:23.760Z"
   },
   {
    "duration": 993,
    "start_time": "2022-08-04T10:51:23.767Z"
   },
   {
    "duration": 13,
    "start_time": "2022-08-04T10:51:24.762Z"
   },
   {
    "duration": 3,
    "start_time": "2022-08-04T10:51:24.777Z"
   },
   {
    "duration": 4,
    "start_time": "2022-08-04T10:51:24.802Z"
   },
   {
    "duration": 9,
    "start_time": "2022-08-04T10:51:24.808Z"
   },
   {
    "duration": 16,
    "start_time": "2022-08-04T10:51:24.819Z"
   },
   {
    "duration": 7,
    "start_time": "2022-08-04T10:51:24.836Z"
   },
   {
    "duration": 5,
    "start_time": "2022-08-04T10:51:24.845Z"
   },
   {
    "duration": 8,
    "start_time": "2022-08-04T10:51:24.853Z"
   },
   {
    "duration": 13,
    "start_time": "2022-08-04T10:51:24.862Z"
   },
   {
    "duration": 29,
    "start_time": "2022-08-04T10:51:24.877Z"
   },
   {
    "duration": 6,
    "start_time": "2022-08-04T10:51:24.908Z"
   },
   {
    "duration": 7,
    "start_time": "2022-08-04T10:51:24.915Z"
   },
   {
    "duration": 8,
    "start_time": "2022-08-04T10:51:24.924Z"
   },
   {
    "duration": 7,
    "start_time": "2022-08-04T10:51:24.934Z"
   },
   {
    "duration": 205,
    "start_time": "2022-08-04T10:51:24.943Z"
   },
   {
    "duration": 896,
    "start_time": "2022-08-04T10:51:25.150Z"
   },
   {
    "duration": 245,
    "start_time": "2022-08-04T10:51:26.047Z"
   },
   {
    "duration": 628,
    "start_time": "2022-08-04T10:51:26.294Z"
   },
   {
    "duration": 361,
    "start_time": "2022-08-04T10:51:26.923Z"
   },
   {
    "duration": 139,
    "start_time": "2022-08-04T10:51:27.286Z"
   },
   {
    "duration": 15,
    "start_time": "2022-08-04T10:51:27.430Z"
   },
   {
    "duration": 210,
    "start_time": "2022-08-04T10:51:27.447Z"
   },
   {
    "duration": 220,
    "start_time": "2022-08-04T10:51:27.659Z"
   },
   {
    "duration": 135,
    "start_time": "2022-08-04T10:51:27.881Z"
   },
   {
    "duration": 5,
    "start_time": "2022-08-04T10:51:28.017Z"
   },
   {
    "duration": 24,
    "start_time": "2022-08-04T10:51:28.024Z"
   },
   {
    "duration": 62,
    "start_time": "2022-08-04T10:51:28.050Z"
   },
   {
    "duration": 8,
    "start_time": "2022-08-04T10:51:28.114Z"
   },
   {
    "duration": 19,
    "start_time": "2022-08-04T10:51:28.124Z"
   },
   {
    "duration": 20,
    "start_time": "2022-08-04T10:51:28.145Z"
   },
   {
    "duration": 8,
    "start_time": "2022-08-04T10:51:28.167Z"
   },
   {
    "duration": 8,
    "start_time": "2022-08-04T10:51:28.177Z"
   },
   {
    "duration": 22,
    "start_time": "2022-08-04T10:51:28.187Z"
   },
   {
    "duration": 9,
    "start_time": "2022-08-04T10:51:28.211Z"
   },
   {
    "duration": 8,
    "start_time": "2022-08-04T10:51:28.222Z"
   },
   {
    "duration": 29,
    "start_time": "2022-08-04T10:51:28.232Z"
   },
   {
    "duration": 14,
    "start_time": "2022-08-04T10:51:28.263Z"
   },
   {
    "duration": 20,
    "start_time": "2022-08-04T10:51:28.278Z"
   },
   {
    "duration": 28,
    "start_time": "2022-08-04T10:51:28.299Z"
   },
   {
    "duration": 19,
    "start_time": "2022-08-04T10:51:28.329Z"
   },
   {
    "duration": 10,
    "start_time": "2022-08-04T10:51:28.350Z"
   },
   {
    "duration": 17,
    "start_time": "2022-08-04T10:51:28.362Z"
   },
   {
    "duration": 6,
    "start_time": "2022-08-04T10:51:39.685Z"
   }
  ],
  "kernelspec": {
   "display_name": "Python 3 (ipykernel)",
   "language": "python",
   "name": "python3"
  },
  "language_info": {
   "codemirror_mode": {
    "name": "ipython",
    "version": 3
   },
   "file_extension": ".py",
   "mimetype": "text/x-python",
   "name": "python",
   "nbconvert_exporter": "python",
   "pygments_lexer": "ipython3",
   "version": "3.9.2"
  },
  "toc": {
   "base_numbering": 1,
   "nav_menu": {},
   "number_sections": true,
   "sideBar": true,
   "skip_h1_title": true,
   "title_cell": "Table of Contents",
   "title_sidebar": "Contents",
   "toc_cell": false,
   "toc_position": {},
   "toc_section_display": true,
   "toc_window_display": false
  }
 },
 "nbformat": 4,
 "nbformat_minor": 5
}

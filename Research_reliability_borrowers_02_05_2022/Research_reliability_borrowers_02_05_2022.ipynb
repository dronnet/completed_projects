{
 "cells": [
  {
   "cell_type": "markdown",
   "id": "aab00389",
   "metadata": {},
   "source": [
    "# Исследование надежности заемщиков.\n",
    "# Research reliability borrowers"
   ]
  },
  {
   "cell_type": "markdown",
   "id": "307e0b38",
   "metadata": {},
   "source": [
    "# Задача\n",
    "\n",
    "<b>Нужно разобраться, влияет ли семейное положение и количество детей клиента на факт погашения кредита в срок. Входные данные от банка — статистика о платёжеспособности клиентов.<b>"
   ]
  },
  {
   "cell_type": "markdown",
   "id": "f98f9183",
   "metadata": {},
   "source": [
    "### Шаг 1. Обзор данных\n",
    "### Step 1. Data overview"
   ]
  },
  {
   "cell_type": "code",
   "execution_count": 1,
   "id": "213ee945",
   "metadata": {},
   "outputs": [],
   "source": [
    "import pandas as pd"
   ]
  },
  {
   "cell_type": "code",
   "execution_count": 2,
   "id": "8047e81a",
   "metadata": {},
   "outputs": [],
   "source": [
    "df = pd.read_csv('./data.csv')"
   ]
  },
  {
   "cell_type": "code",
   "execution_count": 3,
   "id": "174cca48",
   "metadata": {},
   "outputs": [
    {
     "name": "stdout",
     "output_type": "stream",
     "text": [
      "<class 'pandas.core.frame.DataFrame'>\n",
      "RangeIndex: 21525 entries, 0 to 21524\n",
      "Data columns (total 12 columns):\n",
      " #   Column            Non-Null Count  Dtype  \n",
      "---  ------            --------------  -----  \n",
      " 0   children          21525 non-null  int64  \n",
      " 1   days_employed     19351 non-null  float64\n",
      " 2   dob_years         21525 non-null  int64  \n",
      " 3   education         21525 non-null  object \n",
      " 4   education_id      21525 non-null  int64  \n",
      " 5   family_status     21525 non-null  object \n",
      " 6   family_status_id  21525 non-null  int64  \n",
      " 7   gender            21525 non-null  object \n",
      " 8   income_type       21525 non-null  object \n",
      " 9   debt              21525 non-null  int64  \n",
      " 10  total_income      19351 non-null  float64\n",
      " 11  purpose           21525 non-null  object \n",
      "dtypes: float64(2), int64(5), object(5)\n",
      "memory usage: 2.0+ MB\n"
     ]
    }
   ],
   "source": [
    "df.info()"
   ]
  },
  {
   "cell_type": "markdown",
   "id": "75f91f05",
   "metadata": {},
   "source": [
    "<div class=\"alert alert-block alert-info\">\n",
    "\n",
    "Данные содержат 21 525 строк и 12 столбцов. Все строки, кроме двух, не имеют пропущеных значений. \n",
    "    Название столбцов \"правильные\" и не требуют исправлений.\n",
    "\n",
    "Строки `days_employed` и `total_income` имеют пропущенные значения и при этом имеют одинаковый тип данных `float64`. Необычным является и то что количество пропусков полность одинаково. Это наводит на мысль что возможно пропуски в одинаковых строках.\n",
    "    \n",
    "</div>"
   ]
  },
  {
   "cell_type": "code",
   "execution_count": 4,
   "id": "995e8fac",
   "metadata": {},
   "outputs": [
    {
     "data": {
      "text/html": [
       "<div>\n",
       "<style scoped>\n",
       "    .dataframe tbody tr th:only-of-type {\n",
       "        vertical-align: middle;\n",
       "    }\n",
       "\n",
       "    .dataframe tbody tr th {\n",
       "        vertical-align: top;\n",
       "    }\n",
       "\n",
       "    .dataframe thead th {\n",
       "        text-align: right;\n",
       "    }\n",
       "</style>\n",
       "<table border=\"1\" class=\"dataframe\">\n",
       "  <thead>\n",
       "    <tr style=\"text-align: right;\">\n",
       "      <th></th>\n",
       "      <th>children</th>\n",
       "      <th>days_employed</th>\n",
       "      <th>dob_years</th>\n",
       "      <th>education</th>\n",
       "      <th>education_id</th>\n",
       "      <th>family_status</th>\n",
       "      <th>family_status_id</th>\n",
       "      <th>gender</th>\n",
       "      <th>income_type</th>\n",
       "      <th>debt</th>\n",
       "      <th>total_income</th>\n",
       "      <th>purpose</th>\n",
       "    </tr>\n",
       "  </thead>\n",
       "  <tbody>\n",
       "    <tr>\n",
       "      <th>0</th>\n",
       "      <td>1</td>\n",
       "      <td>-8437.673028</td>\n",
       "      <td>42</td>\n",
       "      <td>высшее</td>\n",
       "      <td>0</td>\n",
       "      <td>женат / замужем</td>\n",
       "      <td>0</td>\n",
       "      <td>F</td>\n",
       "      <td>сотрудник</td>\n",
       "      <td>0</td>\n",
       "      <td>253875.639453</td>\n",
       "      <td>покупка жилья</td>\n",
       "    </tr>\n",
       "    <tr>\n",
       "      <th>1</th>\n",
       "      <td>1</td>\n",
       "      <td>-4024.803754</td>\n",
       "      <td>36</td>\n",
       "      <td>среднее</td>\n",
       "      <td>1</td>\n",
       "      <td>женат / замужем</td>\n",
       "      <td>0</td>\n",
       "      <td>F</td>\n",
       "      <td>сотрудник</td>\n",
       "      <td>0</td>\n",
       "      <td>112080.014102</td>\n",
       "      <td>приобретение автомобиля</td>\n",
       "    </tr>\n",
       "    <tr>\n",
       "      <th>2</th>\n",
       "      <td>0</td>\n",
       "      <td>-5623.422610</td>\n",
       "      <td>33</td>\n",
       "      <td>Среднее</td>\n",
       "      <td>1</td>\n",
       "      <td>женат / замужем</td>\n",
       "      <td>0</td>\n",
       "      <td>M</td>\n",
       "      <td>сотрудник</td>\n",
       "      <td>0</td>\n",
       "      <td>145885.952297</td>\n",
       "      <td>покупка жилья</td>\n",
       "    </tr>\n",
       "    <tr>\n",
       "      <th>3</th>\n",
       "      <td>3</td>\n",
       "      <td>-4124.747207</td>\n",
       "      <td>32</td>\n",
       "      <td>среднее</td>\n",
       "      <td>1</td>\n",
       "      <td>женат / замужем</td>\n",
       "      <td>0</td>\n",
       "      <td>M</td>\n",
       "      <td>сотрудник</td>\n",
       "      <td>0</td>\n",
       "      <td>267628.550329</td>\n",
       "      <td>дополнительное образование</td>\n",
       "    </tr>\n",
       "    <tr>\n",
       "      <th>4</th>\n",
       "      <td>0</td>\n",
       "      <td>340266.072047</td>\n",
       "      <td>53</td>\n",
       "      <td>среднее</td>\n",
       "      <td>1</td>\n",
       "      <td>гражданский брак</td>\n",
       "      <td>1</td>\n",
       "      <td>F</td>\n",
       "      <td>пенсионер</td>\n",
       "      <td>0</td>\n",
       "      <td>158616.077870</td>\n",
       "      <td>сыграть свадьбу</td>\n",
       "    </tr>\n",
       "  </tbody>\n",
       "</table>\n",
       "</div>"
      ],
      "text/plain": [
       "   children  days_employed  dob_years education  education_id  \\\n",
       "0         1   -8437.673028         42    высшее             0   \n",
       "1         1   -4024.803754         36   среднее             1   \n",
       "2         0   -5623.422610         33   Среднее             1   \n",
       "3         3   -4124.747207         32   среднее             1   \n",
       "4         0  340266.072047         53   среднее             1   \n",
       "\n",
       "      family_status  family_status_id gender income_type  debt   total_income  \\\n",
       "0   женат / замужем                 0      F   сотрудник     0  253875.639453   \n",
       "1   женат / замужем                 0      F   сотрудник     0  112080.014102   \n",
       "2   женат / замужем                 0      M   сотрудник     0  145885.952297   \n",
       "3   женат / замужем                 0      M   сотрудник     0  267628.550329   \n",
       "4  гражданский брак                 1      F   пенсионер     0  158616.077870   \n",
       "\n",
       "                      purpose  \n",
       "0               покупка жилья  \n",
       "1     приобретение автомобиля  \n",
       "2               покупка жилья  \n",
       "3  дополнительное образование  \n",
       "4             сыграть свадьбу  "
      ]
     },
     "execution_count": 4,
     "metadata": {},
     "output_type": "execute_result"
    }
   ],
   "source": [
    "df.head()"
   ]
  },
  {
   "cell_type": "code",
   "execution_count": 5,
   "id": "41745f01",
   "metadata": {},
   "outputs": [
    {
     "data": {
      "text/plain": [
       "Index(['children', 'days_employed', 'dob_years', 'education', 'education_id',\n",
       "       'family_status', 'family_status_id', 'gender', 'income_type', 'debt',\n",
       "       'total_income', 'purpose'],\n",
       "      dtype='object')"
      ]
     },
     "execution_count": 5,
     "metadata": {},
     "output_type": "execute_result"
    }
   ],
   "source": [
    "df.columns #получение списка с названиями столбцов"
   ]
  },
  {
   "cell_type": "code",
   "execution_count": 6,
   "id": "aff18dec",
   "metadata": {},
   "outputs": [
    {
     "name": "stdout",
     "output_type": "stream",
     "text": [
      "children [-1, 0, 1, 2, 3, 4, 5, 20]\n",
      "\n",
      "dob_years [0, 19, 20, 21, 22, 23, 24, 25, 26, 27, 28, 29, 30, 31, 32, 33, 34, 35, 36, 37, 38, 39, 40, 41, 42, 43, 44, 45, 46, 47, 48, 49, 50, 51, 52, 53, 54, 55, 56, 57, 58, 59, 60, 61, 62, 63, 64, 65, 66, 67, 68, 69, 70, 71, 72, 73, 74, 75]\n",
      "\n",
      "education ['ВЫСШЕЕ', 'Высшее', 'НАЧАЛЬНОЕ', 'НЕОКОНЧЕННОЕ ВЫСШЕЕ', 'Начальное', 'Неоконченное высшее', 'СРЕДНЕЕ', 'Среднее', 'УЧЕНАЯ СТЕПЕНЬ', 'Ученая степень', 'высшее', 'начальное', 'неоконченное высшее', 'среднее', 'ученая степень']\n",
      "\n",
      "education_id [0, 1, 2, 3, 4]\n",
      "\n",
      "family_status ['Не женат / не замужем', 'в разводе', 'вдовец / вдова', 'гражданский брак', 'женат / замужем']\n",
      "\n",
      "family_status_id [0, 1, 2, 3, 4]\n",
      "\n",
      "gender ['F', 'M', 'XNA']\n",
      "\n",
      "income_type ['безработный', 'в декрете', 'госслужащий', 'компаньон', 'пенсионер', 'предприниматель', 'сотрудник', 'студент']\n",
      "\n",
      "debt [0, 1]\n",
      "\n",
      "purpose ['автомобили', 'автомобиль', 'высшее образование', 'дополнительное образование', 'жилье', 'заняться высшим образованием', 'заняться образованием', 'на покупку автомобиля', 'на покупку подержанного автомобиля', 'на покупку своего автомобиля', 'на проведение свадьбы', 'недвижимость', 'образование', 'операции с жильем', 'операции с коммерческой недвижимостью', 'операции с недвижимостью', 'операции со своей недвижимостью', 'покупка жилой недвижимости', 'покупка жилья', 'покупка жилья для сдачи', 'покупка жилья для семьи', 'покупка коммерческой недвижимости', 'покупка недвижимости', 'покупка своего жилья', 'получение высшего образования', 'получение дополнительного образования', 'получение образования', 'приобретение автомобиля', 'профильное образование', 'ремонт жилью', 'свадьба', 'свой автомобиль', 'сделка с автомобилем', 'сделка с подержанным автомобилем', 'строительство жилой недвижимости', 'строительство недвижимости', 'строительство собственной недвижимости', 'сыграть свадьбу']\n",
      "\n"
     ]
    }
   ],
   "source": [
    "#просмотр уникальных значений столбцов, исключая столбцы с данными типа float64\n",
    "list_columns = ['children', 'dob_years', 'education', 'education_id',\n",
    "       'family_status', 'family_status_id', 'gender', 'income_type', 'debt',\n",
    "        'purpose']\n",
    "for j in list_columns:\n",
    "    print(j, sorted(df[j].unique()))\n",
    "    print()"
   ]
  },
  {
   "cell_type": "markdown",
   "id": "fec9e431",
   "metadata": {},
   "source": [
    "<div class=\"alert alert-block alert-info\">\n",
    "    Просмотр показывает что встречаются некоторые ошибки в данных и странности, например:\n",
    "    \n",
    "    'children' - отрицательное количество детей, ненормально большое число детей 20\n",
    "    'dob_years' - нулевой возраст человека\n",
    "    'education' - одинаковое образование, записанное разными регистрами\n",
    "    'education_id' - нормально\n",
    "    'family_status' - нормально\n",
    "    'family_status_id' - нормально, количество типов соответствует предыдущему столбцу\n",
    "    'gender' - есть непонятный пол \"XNA\"\n",
    "    'income_type' - нормально\n",
    "    'debt' - нормально\n",
    "    'purpose' - повторяющиеся значения написанные разными формулировками\n",
    "        \n",
    "</div>"
   ]
  },
  {
   "cell_type": "markdown",
   "id": "46170407",
   "metadata": {},
   "source": [
    "### Шаг 2.1 Заполнение пропусков\n",
    "### Step 2.1 Fill the pass"
   ]
  },
  {
   "cell_type": "code",
   "execution_count": 7,
   "id": "0aa0d0b0",
   "metadata": {},
   "outputs": [
    {
     "data": {
      "text/plain": [
       "children               0\n",
       "days_employed       2174\n",
       "dob_years              0\n",
       "education              0\n",
       "education_id           0\n",
       "family_status          0\n",
       "family_status_id       0\n",
       "gender                 0\n",
       "income_type            0\n",
       "debt                   0\n",
       "total_income        2174\n",
       "purpose                0\n",
       "dtype: int64"
      ]
     },
     "execution_count": 7,
     "metadata": {},
     "output_type": "execute_result"
    }
   ],
   "source": [
    "#дополнительная проверка на наличие пустых значений\n",
    "df.isna().sum()"
   ]
  },
  {
   "cell_type": "code",
   "execution_count": 8,
   "id": "88922bdc",
   "metadata": {},
   "outputs": [
    {
     "data": {
      "text/plain": [
       "54"
      ]
     },
     "execution_count": 8,
     "metadata": {},
     "output_type": "execute_result"
    }
   ],
   "source": [
    "#проверка на наличие полных дубликатов строк\n",
    "df.duplicated().sum()"
   ]
  },
  {
   "cell_type": "code",
   "execution_count": 9,
   "id": "5221906a",
   "metadata": {},
   "outputs": [],
   "source": [
    "#избавимся от полных дубликатов и перезапишем датафрейм, со сбросом индексов и удалим столбец с индексами\n",
    "df = df.drop_duplicates().reset_index(drop=True)"
   ]
  },
  {
   "cell_type": "code",
   "execution_count": 10,
   "id": "c4e5f1e5",
   "metadata": {},
   "outputs": [
    {
     "data": {
      "text/html": [
       "<div>\n",
       "<style scoped>\n",
       "    .dataframe tbody tr th:only-of-type {\n",
       "        vertical-align: middle;\n",
       "    }\n",
       "\n",
       "    .dataframe tbody tr th {\n",
       "        vertical-align: top;\n",
       "    }\n",
       "\n",
       "    .dataframe thead th {\n",
       "        text-align: right;\n",
       "    }\n",
       "</style>\n",
       "<table border=\"1\" class=\"dataframe\">\n",
       "  <thead>\n",
       "    <tr style=\"text-align: right;\">\n",
       "      <th></th>\n",
       "      <th>children</th>\n",
       "      <th>days_employed</th>\n",
       "      <th>dob_years</th>\n",
       "      <th>education</th>\n",
       "      <th>education_id</th>\n",
       "      <th>family_status</th>\n",
       "      <th>family_status_id</th>\n",
       "      <th>gender</th>\n",
       "      <th>income_type</th>\n",
       "      <th>debt</th>\n",
       "      <th>total_income</th>\n",
       "      <th>purpose</th>\n",
       "    </tr>\n",
       "  </thead>\n",
       "  <tbody>\n",
       "    <tr>\n",
       "      <th>0</th>\n",
       "      <td>1</td>\n",
       "      <td>-8437.673028</td>\n",
       "      <td>42</td>\n",
       "      <td>высшее</td>\n",
       "      <td>0</td>\n",
       "      <td>женат / замужем</td>\n",
       "      <td>0</td>\n",
       "      <td>F</td>\n",
       "      <td>сотрудник</td>\n",
       "      <td>0</td>\n",
       "      <td>253875.639453</td>\n",
       "      <td>покупка жилья</td>\n",
       "    </tr>\n",
       "    <tr>\n",
       "      <th>1</th>\n",
       "      <td>1</td>\n",
       "      <td>-4024.803754</td>\n",
       "      <td>36</td>\n",
       "      <td>среднее</td>\n",
       "      <td>1</td>\n",
       "      <td>женат / замужем</td>\n",
       "      <td>0</td>\n",
       "      <td>F</td>\n",
       "      <td>сотрудник</td>\n",
       "      <td>0</td>\n",
       "      <td>112080.014102</td>\n",
       "      <td>приобретение автомобиля</td>\n",
       "    </tr>\n",
       "    <tr>\n",
       "      <th>2</th>\n",
       "      <td>0</td>\n",
       "      <td>-5623.422610</td>\n",
       "      <td>33</td>\n",
       "      <td>Среднее</td>\n",
       "      <td>1</td>\n",
       "      <td>женат / замужем</td>\n",
       "      <td>0</td>\n",
       "      <td>M</td>\n",
       "      <td>сотрудник</td>\n",
       "      <td>0</td>\n",
       "      <td>145885.952297</td>\n",
       "      <td>покупка жилья</td>\n",
       "    </tr>\n",
       "    <tr>\n",
       "      <th>3</th>\n",
       "      <td>3</td>\n",
       "      <td>-4124.747207</td>\n",
       "      <td>32</td>\n",
       "      <td>среднее</td>\n",
       "      <td>1</td>\n",
       "      <td>женат / замужем</td>\n",
       "      <td>0</td>\n",
       "      <td>M</td>\n",
       "      <td>сотрудник</td>\n",
       "      <td>0</td>\n",
       "      <td>267628.550329</td>\n",
       "      <td>дополнительное образование</td>\n",
       "    </tr>\n",
       "    <tr>\n",
       "      <th>4</th>\n",
       "      <td>0</td>\n",
       "      <td>340266.072047</td>\n",
       "      <td>53</td>\n",
       "      <td>среднее</td>\n",
       "      <td>1</td>\n",
       "      <td>гражданский брак</td>\n",
       "      <td>1</td>\n",
       "      <td>F</td>\n",
       "      <td>пенсионер</td>\n",
       "      <td>0</td>\n",
       "      <td>158616.077870</td>\n",
       "      <td>сыграть свадьбу</td>\n",
       "    </tr>\n",
       "  </tbody>\n",
       "</table>\n",
       "</div>"
      ],
      "text/plain": [
       "   children  days_employed  dob_years education  education_id  \\\n",
       "0         1   -8437.673028         42    высшее             0   \n",
       "1         1   -4024.803754         36   среднее             1   \n",
       "2         0   -5623.422610         33   Среднее             1   \n",
       "3         3   -4124.747207         32   среднее             1   \n",
       "4         0  340266.072047         53   среднее             1   \n",
       "\n",
       "      family_status  family_status_id gender income_type  debt   total_income  \\\n",
       "0   женат / замужем                 0      F   сотрудник     0  253875.639453   \n",
       "1   женат / замужем                 0      F   сотрудник     0  112080.014102   \n",
       "2   женат / замужем                 0      M   сотрудник     0  145885.952297   \n",
       "3   женат / замужем                 0      M   сотрудник     0  267628.550329   \n",
       "4  гражданский брак                 1      F   пенсионер     0  158616.077870   \n",
       "\n",
       "                      purpose  \n",
       "0               покупка жилья  \n",
       "1     приобретение автомобиля  \n",
       "2               покупка жилья  \n",
       "3  дополнительное образование  \n",
       "4             сыграть свадьбу  "
      ]
     },
     "execution_count": 10,
     "metadata": {},
     "output_type": "execute_result"
    }
   ],
   "source": [
    "df.head()"
   ]
  },
  {
   "cell_type": "code",
   "execution_count": 11,
   "id": "ad7c960b",
   "metadata": {},
   "outputs": [
    {
     "name": "stdout",
     "output_type": "stream",
     "text": [
      "<class 'pandas.core.frame.DataFrame'>\n",
      "RangeIndex: 21471 entries, 0 to 21470\n",
      "Data columns (total 12 columns):\n",
      " #   Column            Non-Null Count  Dtype  \n",
      "---  ------            --------------  -----  \n",
      " 0   children          21471 non-null  int64  \n",
      " 1   days_employed     19351 non-null  float64\n",
      " 2   dob_years         21471 non-null  int64  \n",
      " 3   education         21471 non-null  object \n",
      " 4   education_id      21471 non-null  int64  \n",
      " 5   family_status     21471 non-null  object \n",
      " 6   family_status_id  21471 non-null  int64  \n",
      " 7   gender            21471 non-null  object \n",
      " 8   income_type       21471 non-null  object \n",
      " 9   debt              21471 non-null  int64  \n",
      " 10  total_income      19351 non-null  float64\n",
      " 11  purpose           21471 non-null  object \n",
      "dtypes: float64(2), int64(5), object(5)\n",
      "memory usage: 2.0+ MB\n"
     ]
    }
   ],
   "source": [
    "df.info()"
   ]
  },
  {
   "cell_type": "markdown",
   "id": "b24ed244",
   "metadata": {},
   "source": [
    "<div class=\"alert alert-block alert-info\">\n",
    "количество строк, после удаления дубликатов, уменьшилось с 21525 до 21471\n",
    "</div>"
   ]
  },
  {
   "cell_type": "code",
   "execution_count": 12,
   "id": "58706038",
   "metadata": {},
   "outputs": [
    {
     "data": {
      "text/plain": [
       "0"
      ]
     },
     "execution_count": 12,
     "metadata": {},
     "output_type": "execute_result"
    }
   ],
   "source": [
    "#доп проверка на наличие дубликатов строк\n",
    "df.duplicated().sum()"
   ]
  },
  {
   "cell_type": "code",
   "execution_count": 13,
   "id": "933d46ab",
   "metadata": {},
   "outputs": [
    {
     "data": {
      "text/html": [
       "<div>\n",
       "<style scoped>\n",
       "    .dataframe tbody tr th:only-of-type {\n",
       "        vertical-align: middle;\n",
       "    }\n",
       "\n",
       "    .dataframe tbody tr th {\n",
       "        vertical-align: top;\n",
       "    }\n",
       "\n",
       "    .dataframe thead th {\n",
       "        text-align: right;\n",
       "    }\n",
       "</style>\n",
       "<table border=\"1\" class=\"dataframe\">\n",
       "  <thead>\n",
       "    <tr style=\"text-align: right;\">\n",
       "      <th></th>\n",
       "      <th>children</th>\n",
       "      <th>days_employed</th>\n",
       "      <th>dob_years</th>\n",
       "      <th>education</th>\n",
       "      <th>education_id</th>\n",
       "      <th>family_status</th>\n",
       "      <th>family_status_id</th>\n",
       "      <th>gender</th>\n",
       "      <th>income_type</th>\n",
       "      <th>debt</th>\n",
       "      <th>total_income</th>\n",
       "      <th>purpose</th>\n",
       "    </tr>\n",
       "  </thead>\n",
       "  <tbody>\n",
       "    <tr>\n",
       "      <th>12</th>\n",
       "      <td>0</td>\n",
       "      <td>NaN</td>\n",
       "      <td>65</td>\n",
       "      <td>среднее</td>\n",
       "      <td>1</td>\n",
       "      <td>гражданский брак</td>\n",
       "      <td>1</td>\n",
       "      <td>M</td>\n",
       "      <td>пенсионер</td>\n",
       "      <td>0</td>\n",
       "      <td>NaN</td>\n",
       "      <td>сыграть свадьбу</td>\n",
       "    </tr>\n",
       "    <tr>\n",
       "      <th>26</th>\n",
       "      <td>0</td>\n",
       "      <td>NaN</td>\n",
       "      <td>41</td>\n",
       "      <td>среднее</td>\n",
       "      <td>1</td>\n",
       "      <td>женат / замужем</td>\n",
       "      <td>0</td>\n",
       "      <td>M</td>\n",
       "      <td>госслужащий</td>\n",
       "      <td>0</td>\n",
       "      <td>NaN</td>\n",
       "      <td>образование</td>\n",
       "    </tr>\n",
       "    <tr>\n",
       "      <th>29</th>\n",
       "      <td>0</td>\n",
       "      <td>NaN</td>\n",
       "      <td>63</td>\n",
       "      <td>среднее</td>\n",
       "      <td>1</td>\n",
       "      <td>Не женат / не замужем</td>\n",
       "      <td>4</td>\n",
       "      <td>F</td>\n",
       "      <td>пенсионер</td>\n",
       "      <td>0</td>\n",
       "      <td>NaN</td>\n",
       "      <td>строительство жилой недвижимости</td>\n",
       "    </tr>\n",
       "    <tr>\n",
       "      <th>41</th>\n",
       "      <td>0</td>\n",
       "      <td>NaN</td>\n",
       "      <td>50</td>\n",
       "      <td>среднее</td>\n",
       "      <td>1</td>\n",
       "      <td>женат / замужем</td>\n",
       "      <td>0</td>\n",
       "      <td>F</td>\n",
       "      <td>госслужащий</td>\n",
       "      <td>0</td>\n",
       "      <td>NaN</td>\n",
       "      <td>сделка с подержанным автомобилем</td>\n",
       "    </tr>\n",
       "    <tr>\n",
       "      <th>55</th>\n",
       "      <td>0</td>\n",
       "      <td>NaN</td>\n",
       "      <td>54</td>\n",
       "      <td>среднее</td>\n",
       "      <td>1</td>\n",
       "      <td>гражданский брак</td>\n",
       "      <td>1</td>\n",
       "      <td>F</td>\n",
       "      <td>пенсионер</td>\n",
       "      <td>1</td>\n",
       "      <td>NaN</td>\n",
       "      <td>сыграть свадьбу</td>\n",
       "    </tr>\n",
       "  </tbody>\n",
       "</table>\n",
       "</div>"
      ],
      "text/plain": [
       "    children  days_employed  dob_years education  education_id  \\\n",
       "12         0            NaN         65   среднее             1   \n",
       "26         0            NaN         41   среднее             1   \n",
       "29         0            NaN         63   среднее             1   \n",
       "41         0            NaN         50   среднее             1   \n",
       "55         0            NaN         54   среднее             1   \n",
       "\n",
       "            family_status  family_status_id gender  income_type  debt  \\\n",
       "12       гражданский брак                 1      M    пенсионер     0   \n",
       "26        женат / замужем                 0      M  госслужащий     0   \n",
       "29  Не женат / не замужем                 4      F    пенсионер     0   \n",
       "41        женат / замужем                 0      F  госслужащий     0   \n",
       "55       гражданский брак                 1      F    пенсионер     1   \n",
       "\n",
       "    total_income                           purpose  \n",
       "12           NaN                   сыграть свадьбу  \n",
       "26           NaN                       образование  \n",
       "29           NaN  строительство жилой недвижимости  \n",
       "41           NaN  сделка с подержанным автомобилем  \n",
       "55           NaN                   сыграть свадьбу  "
      ]
     },
     "execution_count": 13,
     "metadata": {},
     "output_type": "execute_result"
    }
   ],
   "source": [
    "#просмотр строк с пропущенными значениями\n",
    "df[df['total_income'].isna()].head()"
   ]
  },
  {
   "cell_type": "markdown",
   "id": "9ea2d5f7",
   "metadata": {},
   "source": [
    "<div class=\"alert alert-block alert-info\">\n",
    "Пропущенные значения в столбцах days_employed и total_income типа NaN, команда tail() даёт тот же результат\n",
    "</div>"
   ]
  },
  {
   "cell_type": "code",
   "execution_count": 14,
   "id": "f7e695d3",
   "metadata": {},
   "outputs": [
    {
     "data": {
      "text/plain": [
       "9.873783242513158"
      ]
     },
     "execution_count": 14,
     "metadata": {},
     "output_type": "execute_result"
    }
   ],
   "source": [
    "#расчет процентов пропусков\n",
    "100*(21471 - 19351) / 21471 #Полное кол-во значений 21471, кол-во значений в строках с пропусками 21471"
   ]
  },
  {
   "cell_type": "markdown",
   "id": "2242a057",
   "metadata": {},
   "source": [
    "<div class=\"alert alert-block alert-info\">\n",
    "Доля пропущенных значений практически 10%. Не сильно много, но и не мало. От таких строк лучше не избавляться (не удалять их), т.к. они повлияют на дальнейшие вычисления.\n",
    "    \n",
    "Пропуски находятся в столбцах \"общий трудовой стаж в днях\" и \"ежемесячный доход\". Причем пропуски синхронны, т.е. находятся в одной строке и принадлежат одному человеку. Возможно люди не заполнили эту информацию, потому что не работали официально.\n",
    "    \n",
    "Заполнить пропуски медианным значением лучше, потому что заработная плата у людей сильно отличается. В результате при заполнении средним значением у человека окажется з/п больше чем у большинства, что исказит результаты. Так же, с точки зрения теории вероятности, наиболее вероятно что человек имеет небольшую зарплату.\n",
    "</div>"
   ]
  },
  {
   "cell_type": "code",
   "execution_count": 15,
   "id": "77e010aa",
   "metadata": {},
   "outputs": [
    {
     "data": {
      "text/plain": [
       "145017.93753253992"
      ]
     },
     "execution_count": 15,
     "metadata": {},
     "output_type": "execute_result"
    }
   ],
   "source": [
    "#расчет медианного значения по столбцу total_income\n",
    "total_income_median = df['total_income'].median()\n",
    "total_income_median"
   ]
  },
  {
   "cell_type": "code",
   "execution_count": 16,
   "id": "f68a021b",
   "metadata": {},
   "outputs": [],
   "source": [
    "#заполнение столбца total_income медианным значением\n",
    "df['total_income'] = df['total_income'].fillna(total_income_median)"
   ]
  },
  {
   "cell_type": "code",
   "execution_count": 17,
   "id": "9b7ed111",
   "metadata": {},
   "outputs": [
    {
     "name": "stdout",
     "output_type": "stream",
     "text": [
      "<class 'pandas.core.frame.DataFrame'>\n",
      "RangeIndex: 21471 entries, 0 to 21470\n",
      "Data columns (total 12 columns):\n",
      " #   Column            Non-Null Count  Dtype  \n",
      "---  ------            --------------  -----  \n",
      " 0   children          21471 non-null  int64  \n",
      " 1   days_employed     19351 non-null  float64\n",
      " 2   dob_years         21471 non-null  int64  \n",
      " 3   education         21471 non-null  object \n",
      " 4   education_id      21471 non-null  int64  \n",
      " 5   family_status     21471 non-null  object \n",
      " 6   family_status_id  21471 non-null  int64  \n",
      " 7   gender            21471 non-null  object \n",
      " 8   income_type       21471 non-null  object \n",
      " 9   debt              21471 non-null  int64  \n",
      " 10  total_income      21471 non-null  float64\n",
      " 11  purpose           21471 non-null  object \n",
      "dtypes: float64(2), int64(5), object(5)\n",
      "memory usage: 2.0+ MB\n"
     ]
    }
   ],
   "source": [
    "#проверка \n",
    "df.info()"
   ]
  },
  {
   "cell_type": "code",
   "execution_count": 18,
   "id": "faac9eba",
   "metadata": {},
   "outputs": [
    {
     "data": {
      "text/plain": [
       "children                           0\n",
       "days_employed                    NaN\n",
       "dob_years                         65\n",
       "education                    среднее\n",
       "education_id                       1\n",
       "family_status       гражданский брак\n",
       "family_status_id                   1\n",
       "gender                             M\n",
       "income_type                пенсионер\n",
       "debt                               0\n",
       "total_income           145017.937533\n",
       "purpose              сыграть свадьбу\n",
       "Name: 12, dtype: object"
      ]
     },
     "execution_count": 18,
     "metadata": {},
     "output_type": "execute_result"
    }
   ],
   "source": [
    "df.loc[12] #проверка для 12-й строки. Данные в total_income действительно заменились"
   ]
  },
  {
   "cell_type": "markdown",
   "id": "e645657b",
   "metadata": {},
   "source": [
    "### Шаг 2.2 Проверка данных на аномалии и исправления."
   ]
  },
  {
   "cell_type": "code",
   "execution_count": 19,
   "id": "406f7ee2",
   "metadata": {},
   "outputs": [
    {
     "data": {
      "text/plain": [
       "16307   -18388.949901\n",
       "4297    -17615.563266\n",
       "7325    -16593.472817\n",
       "17804   -16264.699501\n",
       "16796   -16119.687737\n",
       "             ...     \n",
       "21435             NaN\n",
       "21441             NaN\n",
       "21443             NaN\n",
       "21448             NaN\n",
       "21456             NaN\n",
       "Name: days_employed, Length: 21471, dtype: float64"
      ]
     },
     "execution_count": 19,
     "metadata": {},
     "output_type": "execute_result"
    }
   ],
   "source": [
    "#Работа со столбцом days_employed - общий трудовой стаж в днях\n",
    "df['days_employed'].sort_values()"
   ]
  },
  {
   "cell_type": "code",
   "execution_count": 20,
   "id": "18a371d8",
   "metadata": {},
   "outputs": [
    {
     "data": {
      "text/plain": [
       "6950     401755.400475\n",
       "9997     401715.811749\n",
       "7660     401675.093434\n",
       "2156     401674.466633\n",
       "7790     401663.850046\n",
       "             ...      \n",
       "21435              NaN\n",
       "21441              NaN\n",
       "21443              NaN\n",
       "21448              NaN\n",
       "21456              NaN\n",
       "Name: days_employed, Length: 21471, dtype: float64"
      ]
     },
     "execution_count": 20,
     "metadata": {},
     "output_type": "execute_result"
    }
   ],
   "source": [
    "# просмотр того же столбца с целью увидеть данные \"по убыванию\"\n",
    "df['days_employed'].sort_values(ascending=False)"
   ]
  },
  {
   "cell_type": "markdown",
   "id": "0fa96b19",
   "metadata": {},
   "source": [
    "<div class=\"alert alert-block alert-info\">\n",
    "Встречаются дробные положительные и отрицательные числа, а так же отсутствующие данные типа NaN\n",
    "</div>"
   ]
  },
  {
   "cell_type": "code",
   "execution_count": 21,
   "id": "9620d4e8",
   "metadata": {},
   "outputs": [
    {
     "data": {
      "text/plain": [
       "15906"
      ]
     },
     "execution_count": 21,
     "metadata": {},
     "output_type": "execute_result"
    }
   ],
   "source": [
    "#количество отрицательных данных\n",
    "df[df['days_employed'] < 0]['days_employed'].count()"
   ]
  },
  {
   "cell_type": "code",
   "execution_count": 22,
   "id": "ef90463b",
   "metadata": {},
   "outputs": [
    {
     "data": {
      "text/plain": [
       "-18388.949900568383"
      ]
     },
     "execution_count": 22,
     "metadata": {},
     "output_type": "execute_result"
    }
   ],
   "source": [
    "#мин значение в отрицательных данных\n",
    "df[df['days_employed'] < 0]['days_employed'].min()"
   ]
  },
  {
   "cell_type": "code",
   "execution_count": 23,
   "id": "0a52afd9",
   "metadata": {},
   "outputs": [
    {
     "data": {
      "text/plain": [
       "-24.14163324048118"
      ]
     },
     "execution_count": 23,
     "metadata": {},
     "output_type": "execute_result"
    }
   ],
   "source": [
    "#макс значение в отрицательных данных\n",
    "df[df['days_employed'] < 0]['days_employed'].max()"
   ]
  },
  {
   "cell_type": "markdown",
   "id": "b4bb502a",
   "metadata": {},
   "source": [
    "<div class=\"alert alert-block alert-info\">\n",
    "</div>"
   ]
  },
  {
   "cell_type": "code",
   "execution_count": 24,
   "id": "b52acf4b",
   "metadata": {},
   "outputs": [
    {
     "data": {
      "text/plain": [
       "3445"
      ]
     },
     "execution_count": 24,
     "metadata": {},
     "output_type": "execute_result"
    }
   ],
   "source": [
    "#количество положительных данных\n",
    "df[df['days_employed'] > 0]['days_employed'].count()"
   ]
  },
  {
   "cell_type": "code",
   "execution_count": 25,
   "id": "5e7c4481",
   "metadata": {},
   "outputs": [
    {
     "data": {
      "text/plain": [
       "328728.72060451825"
      ]
     },
     "execution_count": 25,
     "metadata": {},
     "output_type": "execute_result"
    }
   ],
   "source": [
    "#мин значение в положительных данных\n",
    "df[df['days_employed'] > 0]['days_employed'].min()"
   ]
  },
  {
   "cell_type": "code",
   "execution_count": 26,
   "id": "ba9c14da",
   "metadata": {},
   "outputs": [
    {
     "data": {
      "text/plain": [
       "401755.40047533"
      ]
     },
     "execution_count": 26,
     "metadata": {},
     "output_type": "execute_result"
    }
   ],
   "source": [
    "#макс значение в положительных данных\n",
    "df[df['days_employed'] > 0]['days_employed'].max()"
   ]
  },
  {
   "cell_type": "markdown",
   "id": "6cc824c1",
   "metadata": {},
   "source": [
    "<div class=\"alert alert-block alert-info\">\n",
    "</div>"
   ]
  },
  {
   "cell_type": "code",
   "execution_count": 27,
   "id": "89b1c70b",
   "metadata": {},
   "outputs": [
    {
     "data": {
      "text/plain": [
       "2120"
      ]
     },
     "execution_count": 27,
     "metadata": {},
     "output_type": "execute_result"
    }
   ],
   "source": [
    "#количество пустых данных\n",
    "df['days_employed'].isna().sum()"
   ]
  },
  {
   "cell_type": "code",
   "execution_count": 28,
   "id": "3b919780",
   "metadata": {},
   "outputs": [
    {
     "data": {
      "text/plain": [
       "0"
      ]
     },
     "execution_count": 28,
     "metadata": {},
     "output_type": "execute_result"
    }
   ],
   "source": [
    "#количество нулевых данных\n",
    "df[df['days_employed'] == 0]['days_employed'].count()"
   ]
  },
  {
   "cell_type": "markdown",
   "id": "4f500098",
   "metadata": {},
   "source": [
    "<div class=\"alert alert-block alert-info\">\n",
    "Отрицательных данных намного больше чем положительных. При этом положительных и отсутствующих данных примерно поровну (во всяком случае они одного порядка)\n",
    "    \n",
    "Не похоже что \"минусы\" появились при заполнении. Не могло столько людей ошибиться и написать отрицательный трудовой стаж. Так же большинство людей не знает сколько дней они работали, но многие знают сколько лет, но при этом данные дробные. Похоже что это связано с расчетом машинным методом.   \n",
    "\n",
    "    \n",
    "    В году примерно 247 рабочих дней.\n",
    "    \n",
    "Если посчитать стаж в годах, то для \"положительных данных\" получается нереальное число, около 1400 лет.\n",
    "\n",
    "Для отрицательных данных, числа более вменяемые, максимум 72 года.\n",
    "    \n",
    "Заменим \"положительные\" данные медианным значением \"отрицательных\" данных\n",
    "</div>"
   ]
  },
  {
   "cell_type": "code",
   "execution_count": 29,
   "id": "76238a76",
   "metadata": {},
   "outputs": [],
   "source": [
    "#расчет медианного значения по столбцу days_employed. \n",
    "#В расчёте участвуют только отрицательные данные, как более достоверные\n",
    "days_employed_median = df[df['days_employed'] < 0 ]['days_employed'].median()"
   ]
  },
  {
   "cell_type": "code",
   "execution_count": 30,
   "id": "c19910ee",
   "metadata": {},
   "outputs": [
    {
     "data": {
      "text/plain": [
       "-1630.0193809778218"
      ]
     },
     "execution_count": 30,
     "metadata": {},
     "output_type": "execute_result"
    }
   ],
   "source": [
    "days_employed_median"
   ]
  },
  {
   "cell_type": "code",
   "execution_count": 31,
   "id": "3fb71972",
   "metadata": {},
   "outputs": [],
   "source": [
    "#замена NaN на медианное значение\n",
    "df['days_employed'] = df['days_employed'].fillna(days_employed_median)"
   ]
  },
  {
   "cell_type": "code",
   "execution_count": 32,
   "id": "a13d9d0f",
   "metadata": {},
   "outputs": [
    {
     "data": {
      "text/plain": [
       "0         -8437.673028\n",
       "1         -4024.803754\n",
       "2         -5623.422610\n",
       "3         -4124.747207\n",
       "4        340266.072047\n",
       "             ...      \n",
       "21466     -4529.316663\n",
       "21467    343937.404131\n",
       "21468     -2113.346888\n",
       "21469     -3112.481705\n",
       "21470     -1984.507589\n",
       "Name: days_employed, Length: 21471, dtype: float64"
      ]
     },
     "execution_count": 32,
     "metadata": {},
     "output_type": "execute_result"
    }
   ],
   "source": [
    "df['days_employed'] #длина стала 21471, значения NaN исчезли"
   ]
  },
  {
   "cell_type": "code",
   "execution_count": 33,
   "id": "cb69ab2d",
   "metadata": {},
   "outputs": [],
   "source": [
    "#замена положительных значений на медианное отрицательное\n",
    "df.loc[df['days_employed'] > 0, 'days_employed'] = days_employed_median"
   ]
  },
  {
   "cell_type": "code",
   "execution_count": 34,
   "id": "10983ba0",
   "metadata": {},
   "outputs": [],
   "source": [
    "#изменение знака с минуса на плюс для столбца days_employed\n",
    "df['days_employed'] = df['days_employed'].abs()"
   ]
  },
  {
   "cell_type": "code",
   "execution_count": 35,
   "id": "9acb37a6",
   "metadata": {},
   "outputs": [
    {
     "data": {
      "text/plain": [
       "0    8437.673028\n",
       "1    4024.803754\n",
       "2    5623.422610\n",
       "3    4124.747207\n",
       "4    1630.019381\n",
       "Name: days_employed, dtype: float64"
      ]
     },
     "execution_count": 35,
     "metadata": {},
     "output_type": "execute_result"
    }
   ],
   "source": [
    "#проверка изменений\n",
    "df['days_employed'].head()"
   ]
  },
  {
   "cell_type": "markdown",
   "id": "7e0b0918",
   "metadata": {},
   "source": [
    "<div class=\"alert alert-block alert-info\">\n",
    "по идее, трудовой стаж необходимо перевести в целочисленный тип. Это уменьшит занимаемое данными место и кроме того, не может стаж быть дробным числом.\n",
    "    \n",
    "</div>"
   ]
  },
  {
   "cell_type": "markdown",
   "id": "fd68055c",
   "metadata": {},
   "source": [
    "### Шаг 2.3. Изменение типов данных.\n",
    "### Step 2.3. Change data type."
   ]
  },
  {
   "cell_type": "code",
   "execution_count": 36,
   "id": "d9a27c75",
   "metadata": {},
   "outputs": [],
   "source": [
    "#замена данных с вещественного типа на int в столбце total_income \n",
    "df['total_income'] = df['total_income'].astype('int')"
   ]
  },
  {
   "cell_type": "code",
   "execution_count": 37,
   "id": "759accc4",
   "metadata": {},
   "outputs": [
    {
     "data": {
      "text/plain": [
       "0        253875\n",
       "1        112080\n",
       "2        145885\n",
       "3        267628\n",
       "4        158616\n",
       "          ...  \n",
       "21466    224791\n",
       "21467    155999\n",
       "21468     89672\n",
       "21469    244093\n",
       "21470     82047\n",
       "Name: total_income, Length: 21471, dtype: int64"
      ]
     },
     "execution_count": 37,
     "metadata": {},
     "output_type": "execute_result"
    }
   ],
   "source": [
    "#проверка\n",
    "df['total_income']"
   ]
  },
  {
   "cell_type": "markdown",
   "id": "6658fdd1",
   "metadata": {},
   "source": [
    "### Шаг 2.4. Удаление дубликатов.\n",
    "### Step 2.4. Delete of  duplicates."
   ]
  },
  {
   "cell_type": "code",
   "execution_count": 38,
   "id": "506861f6",
   "metadata": {},
   "outputs": [],
   "source": [
    "#обработка неявных дубликатов. Неявные дубликаты присутствуют в двух столбцах education, purpose"
   ]
  },
  {
   "cell_type": "code",
   "execution_count": 39,
   "id": "5693ff34",
   "metadata": {},
   "outputs": [],
   "source": [
    "#функция для замены неявных дубликатов\n",
    "def replace_duplicates(wrong_values, correct_value, column):\n",
    "    try:\n",
    "        for wrong_value in wrong_values: # перебираем неверные данные\n",
    "            df[column] = df[column].replace(wrong_value, correct_value) # заменяем неверные данные на верные\n",
    "    except:\n",
    "        print('Нет такого столбца!')"
   ]
  },
  {
   "cell_type": "markdown",
   "id": "46bdcf94",
   "metadata": {},
   "source": [
    "<div class=\"alert alert-block alert-info\">\n",
    "    \n",
    "Замена дубликатов в столбце `education`\n",
    "</div>"
   ]
  },
  {
   "cell_type": "code",
   "execution_count": 40,
   "id": "1b9c96c6",
   "metadata": {},
   "outputs": [],
   "source": [
    "#все буквы в нижний регистр\n",
    "df['education'] = df['education'].str.lower()"
   ]
  },
  {
   "cell_type": "code",
   "execution_count": 41,
   "id": "4299d01a",
   "metadata": {},
   "outputs": [
    {
     "data": {
      "text/plain": [
       "array(['высшее', 'среднее', 'неоконченное высшее', 'начальное',\n",
       "       'ученая степень'], dtype=object)"
      ]
     },
     "execution_count": 41,
     "metadata": {},
     "output_type": "execute_result"
    }
   ],
   "source": [
    "#проверка\n",
    "df['education'].unique()"
   ]
  },
  {
   "cell_type": "markdown",
   "id": "6d5052cd",
   "metadata": {},
   "source": [
    "<div class=\"alert alert-block alert-info\">\n",
    "    \n",
    "Замена дубликатов в столбце `purpose`\n",
    "</div>"
   ]
  },
  {
   "cell_type": "code",
   "execution_count": 42,
   "id": "f113f76f",
   "metadata": {
    "scrolled": true
   },
   "outputs": [
    {
     "data": {
      "text/plain": [
       "array(['покупка жилья', 'приобретение автомобиля',\n",
       "       'дополнительное образование', 'сыграть свадьбу',\n",
       "       'операции с жильем', 'образование', 'на проведение свадьбы',\n",
       "       'покупка жилья для семьи', 'покупка недвижимости',\n",
       "       'покупка коммерческой недвижимости', 'покупка жилой недвижимости',\n",
       "       'строительство собственной недвижимости', 'недвижимость',\n",
       "       'строительство недвижимости', 'на покупку подержанного автомобиля',\n",
       "       'на покупку своего автомобиля',\n",
       "       'операции с коммерческой недвижимостью',\n",
       "       'строительство жилой недвижимости', 'жилье',\n",
       "       'операции со своей недвижимостью', 'автомобили',\n",
       "       'заняться образованием', 'сделка с подержанным автомобилем',\n",
       "       'получение образования', 'автомобиль', 'свадьба',\n",
       "       'получение дополнительного образования', 'покупка своего жилья',\n",
       "       'операции с недвижимостью', 'получение высшего образования',\n",
       "       'свой автомобиль', 'сделка с автомобилем',\n",
       "       'профильное образование', 'высшее образование',\n",
       "       'покупка жилья для сдачи', 'на покупку автомобиля', 'ремонт жилью',\n",
       "       'заняться высшим образованием'], dtype=object)"
      ]
     },
     "execution_count": 42,
     "metadata": {},
     "output_type": "execute_result"
    }
   ],
   "source": [
    "#проверка\n",
    "df['purpose'].unique()"
   ]
  },
  {
   "cell_type": "code",
   "execution_count": 43,
   "id": "5f21ab74",
   "metadata": {},
   "outputs": [],
   "source": [
    "#функция для замены неявных дубликатов НОВАЯ_ВЕРСИЯ v1\n",
    "def replace_dubl2(purpose):\n",
    "    if  'авто' in purpose:\n",
    "        return 'операции с автомобилем'\n",
    "    elif 'недвиж' in purpose or 'жиль' in purpose:\n",
    "        return 'операции с недвижимостью'\n",
    "    elif 'свадьб' in purpose:\n",
    "        return 'проведение свадьбы'\n",
    "    elif 'образо' in purpose:\n",
    "        return 'получение образования'"
   ]
  },
  {
   "cell_type": "code",
   "execution_count": 44,
   "id": "7c47ef4d",
   "metadata": {},
   "outputs": [],
   "source": [
    "df['purpose_category'] = df['purpose'].apply(replace_dubl2)"
   ]
  },
  {
   "cell_type": "code",
   "execution_count": 45,
   "id": "c6d0a1c2",
   "metadata": {},
   "outputs": [
    {
     "data": {
      "text/plain": [
       "array(['операции с недвижимостью', 'операции с автомобилем',\n",
       "       'получение образования', 'проведение свадьбы'], dtype=object)"
      ]
     },
     "execution_count": 45,
     "metadata": {},
     "output_type": "execute_result"
    }
   ],
   "source": [
    "#проверка\n",
    "df['purpose_category'].unique()"
   ]
  },
  {
   "cell_type": "markdown",
   "id": "a159ff24",
   "metadata": {},
   "source": [
    "<div class=\"alert alert-block alert-info\">\n",
    "\n",
    "<b>Обработка аномальных значений<b>\n",
    "\n",
    "    \n",
    "Столбец `children`\n",
    "    \n",
    "</div>"
   ]
  },
  {
   "cell_type": "code",
   "execution_count": 46,
   "id": "bbeb9481",
   "metadata": {},
   "outputs": [
    {
     "data": {
      "text/plain": [
       "47"
      ]
     },
     "execution_count": 46,
     "metadata": {},
     "output_type": "execute_result"
    }
   ],
   "source": [
    "#обработка столбца children, подсчёт количества записей с \"отрицательным\" ребёнком\n",
    "df[df['children'] == -1]['children'].count()"
   ]
  },
  {
   "cell_type": "code",
   "execution_count": 47,
   "id": "0a74ee0a",
   "metadata": {},
   "outputs": [
    {
     "data": {
      "text/plain": [
       "76"
      ]
     },
     "execution_count": 47,
     "metadata": {},
     "output_type": "execute_result"
    }
   ],
   "source": [
    "#подсчёт количества записей с 20-ю детьми (интересно кол-во людей)\n",
    "df[df['children'] == 20]['children'].count()"
   ]
  },
  {
   "cell_type": "code",
   "execution_count": 48,
   "id": "63576add",
   "metadata": {},
   "outputs": [
    {
     "data": {
      "text/plain": [
       "0.5395649946439384"
      ]
     },
     "execution_count": 48,
     "metadata": {},
     "output_type": "execute_result"
    }
   ],
   "source": [
    "df['children'].mean() #среднее кол-во детей"
   ]
  },
  {
   "cell_type": "code",
   "execution_count": 49,
   "id": "031ff2a3",
   "metadata": {},
   "outputs": [
    {
     "data": {
      "text/plain": [
       "0.0"
      ]
     },
     "execution_count": 49,
     "metadata": {},
     "output_type": "execute_result"
    }
   ],
   "source": [
    "df['children'].median() #медианное кол-во детей"
   ]
  },
  {
   "cell_type": "code",
   "execution_count": 50,
   "id": "326a267b",
   "metadata": {},
   "outputs": [],
   "source": [
    "#т.к. медианное кол-во детей = 0, то заменим ячейки с отрицательными значениями на 0\n",
    "df.loc[df['children'] == -1, 'children'] = 0"
   ]
  },
  {
   "cell_type": "code",
   "execution_count": 51,
   "id": "16c33a14",
   "metadata": {},
   "outputs": [
    {
     "data": {
      "text/plain": [
       "array([ 1,  0,  3,  2,  4, 20,  5])"
      ]
     },
     "execution_count": 51,
     "metadata": {},
     "output_type": "execute_result"
    }
   ],
   "source": [
    "#проверка\n",
    "df['children'].unique()"
   ]
  },
  {
   "cell_type": "markdown",
   "id": "5aebbb04",
   "metadata": {},
   "source": [
    "<div class=\"alert alert-block alert-info\">\n",
    "    \n",
    "столбец `dob_years` \n",
    "</div>"
   ]
  },
  {
   "cell_type": "code",
   "execution_count": 52,
   "id": "209d6f46",
   "metadata": {},
   "outputs": [
    {
     "data": {
      "text/plain": [
       "101"
      ]
     },
     "execution_count": 52,
     "metadata": {},
     "output_type": "execute_result"
    }
   ],
   "source": [
    "#dob_years, обработка нулевого возраста, подсчёт записей с нулевым возрастом\n",
    "df[df['dob_years'] == 0]['dob_years'].count()"
   ]
  },
  {
   "cell_type": "code",
   "execution_count": 53,
   "id": "3586d13e",
   "metadata": {},
   "outputs": [
    {
     "data": {
      "text/plain": [
       "42"
      ]
     },
     "execution_count": 53,
     "metadata": {},
     "output_type": "execute_result"
    }
   ],
   "source": [
    "#медиана возраста клиентов\n",
    "dob_years_median = int(df['dob_years'].median())\n",
    "dob_years_median"
   ]
  },
  {
   "cell_type": "code",
   "execution_count": 54,
   "id": "7f278b3a",
   "metadata": {},
   "outputs": [],
   "source": [
    "#замена нулевого возраста на медиану\n",
    "df.loc[df['dob_years'] == 0, 'dob_years'] = dob_years_median"
   ]
  },
  {
   "cell_type": "code",
   "execution_count": 55,
   "id": "4f2bd903",
   "metadata": {},
   "outputs": [
    {
     "data": {
      "text/plain": [
       "array([42, 36, 33, 32, 53, 27, 43, 50, 35, 41, 40, 65, 54, 56, 26, 48, 24,\n",
       "       21, 57, 67, 28, 63, 62, 47, 34, 68, 25, 31, 30, 20, 49, 37, 45, 61,\n",
       "       64, 44, 52, 46, 23, 38, 39, 51, 59, 29, 60, 55, 58, 71, 22, 73, 66,\n",
       "       69, 19, 72, 70, 74, 75])"
      ]
     },
     "execution_count": 55,
     "metadata": {},
     "output_type": "execute_result"
    }
   ],
   "source": [
    "#проверка\n",
    "df['dob_years'].unique()"
   ]
  },
  {
   "cell_type": "markdown",
   "id": "8fd499c0",
   "metadata": {},
   "source": [
    "<div class=\"alert alert-block alert-info\">\n",
    "    \n",
    "столбец `gender` \n",
    "</div>"
   ]
  },
  {
   "cell_type": "code",
   "execution_count": 56,
   "id": "03d29a69",
   "metadata": {},
   "outputs": [
    {
     "data": {
      "text/plain": [
       "1"
      ]
     },
     "execution_count": 56,
     "metadata": {},
     "output_type": "execute_result"
    }
   ],
   "source": [
    "#проверка количества человек со \"странным\" полом 'XNA'\n",
    "df[df['gender'] == 'XNA']['gender'].count()"
   ]
  },
  {
   "cell_type": "code",
   "execution_count": 57,
   "id": "d99768ea",
   "metadata": {},
   "outputs": [
    {
     "data": {
      "text/plain": [
       "14189"
      ]
     },
     "execution_count": 57,
     "metadata": {},
     "output_type": "execute_result"
    }
   ],
   "source": [
    "#проверка количества человек женского пола\n",
    "df[df['gender'] == 'F']['gender'].count()"
   ]
  },
  {
   "cell_type": "code",
   "execution_count": 58,
   "id": "799d3edc",
   "metadata": {},
   "outputs": [
    {
     "data": {
      "text/plain": [
       "7281"
      ]
     },
     "execution_count": 58,
     "metadata": {},
     "output_type": "execute_result"
    }
   ],
   "source": [
    "#проверка количества человек мужского пола\n",
    "df[df['gender'] == 'M']['gender'].count()"
   ]
  },
  {
   "cell_type": "code",
   "execution_count": 59,
   "id": "f0026cc2",
   "metadata": {},
   "outputs": [],
   "source": [
    "#количество женщин примерно в два раза больше чем мужчин.\n",
    "#Следовательно наиболее вероятно что человек с полом 'XNA'на самом деле имеет женский пол.\n",
    "#замена на женский пол\n",
    "df.loc[df['gender'] == 'XNA', 'gender'] = 'F'"
   ]
  },
  {
   "cell_type": "code",
   "execution_count": 60,
   "id": "b20ac28a",
   "metadata": {},
   "outputs": [
    {
     "data": {
      "text/plain": [
       "array(['F', 'M'], dtype=object)"
      ]
     },
     "execution_count": 60,
     "metadata": {},
     "output_type": "execute_result"
    }
   ],
   "source": [
    "#проверка\n",
    "df['gender'].unique()"
   ]
  },
  {
   "cell_type": "markdown",
   "id": "5e0dd1bb",
   "metadata": {},
   "source": [
    "### Шаг 2.5. Формирование дополнительных датафреймов словарей, декомпозиция исходного датафрейма.\n",
    "### Step 2.5. Formation of additional dataframes of dictionaries, decomposition of the original dataframe."
   ]
  },
  {
   "cell_type": "code",
   "execution_count": 61,
   "id": "872ffcf4",
   "metadata": {},
   "outputs": [
    {
     "data": {
      "text/html": [
       "<div>\n",
       "<style scoped>\n",
       "    .dataframe tbody tr th:only-of-type {\n",
       "        vertical-align: middle;\n",
       "    }\n",
       "\n",
       "    .dataframe tbody tr th {\n",
       "        vertical-align: top;\n",
       "    }\n",
       "\n",
       "    .dataframe thead th {\n",
       "        text-align: right;\n",
       "    }\n",
       "</style>\n",
       "<table border=\"1\" class=\"dataframe\">\n",
       "  <thead>\n",
       "    <tr style=\"text-align: right;\">\n",
       "      <th></th>\n",
       "      <th>education</th>\n",
       "      <th>education_id</th>\n",
       "    </tr>\n",
       "  </thead>\n",
       "  <tbody>\n",
       "    <tr>\n",
       "      <th>0</th>\n",
       "      <td>высшее</td>\n",
       "      <td>0</td>\n",
       "    </tr>\n",
       "    <tr>\n",
       "      <th>1</th>\n",
       "      <td>среднее</td>\n",
       "      <td>1</td>\n",
       "    </tr>\n",
       "    <tr>\n",
       "      <th>2</th>\n",
       "      <td>среднее</td>\n",
       "      <td>1</td>\n",
       "    </tr>\n",
       "  </tbody>\n",
       "</table>\n",
       "</div>"
      ],
      "text/plain": [
       "  education  education_id\n",
       "0    высшее             0\n",
       "1   среднее             1\n",
       "2   среднее             1"
      ]
     },
     "execution_count": 61,
     "metadata": {},
     "output_type": "execute_result"
    }
   ],
   "source": [
    "#новый датафрейм с колонками 'education', 'education_id'\n",
    "df_education = df[['education', 'education_id']]\n",
    "df_education.head(3)"
   ]
  },
  {
   "cell_type": "code",
   "execution_count": 62,
   "id": "2fe7d4b6",
   "metadata": {},
   "outputs": [
    {
     "data": {
      "text/html": [
       "<div>\n",
       "<style scoped>\n",
       "    .dataframe tbody tr th:only-of-type {\n",
       "        vertical-align: middle;\n",
       "    }\n",
       "\n",
       "    .dataframe tbody tr th {\n",
       "        vertical-align: top;\n",
       "    }\n",
       "\n",
       "    .dataframe thead th {\n",
       "        text-align: right;\n",
       "    }\n",
       "</style>\n",
       "<table border=\"1\" class=\"dataframe\">\n",
       "  <thead>\n",
       "    <tr style=\"text-align: right;\">\n",
       "      <th></th>\n",
       "      <th>family_status</th>\n",
       "      <th>family_status_id</th>\n",
       "    </tr>\n",
       "  </thead>\n",
       "  <tbody>\n",
       "    <tr>\n",
       "      <th>21468</th>\n",
       "      <td>гражданский брак</td>\n",
       "      <td>1</td>\n",
       "    </tr>\n",
       "    <tr>\n",
       "      <th>21469</th>\n",
       "      <td>женат / замужем</td>\n",
       "      <td>0</td>\n",
       "    </tr>\n",
       "    <tr>\n",
       "      <th>21470</th>\n",
       "      <td>женат / замужем</td>\n",
       "      <td>0</td>\n",
       "    </tr>\n",
       "  </tbody>\n",
       "</table>\n",
       "</div>"
      ],
      "text/plain": [
       "          family_status  family_status_id\n",
       "21468  гражданский брак                 1\n",
       "21469   женат / замужем                 0\n",
       "21470   женат / замужем                 0"
      ]
     },
     "execution_count": 62,
     "metadata": {},
     "output_type": "execute_result"
    }
   ],
   "source": [
    "#новый датафрейм с колонками  family_status family_status_id\n",
    "df_family_status = df[['family_status', 'family_status_id']]\n",
    "df_family_status.tail(3)"
   ]
  },
  {
   "cell_type": "markdown",
   "id": "0ddce646",
   "metadata": {},
   "source": [
    "<div class=\"alert alert-block alert-danger\">\n",
    "    \n",
    "\n",
    "</div>"
   ]
  },
  {
   "cell_type": "code",
   "execution_count": 63,
   "id": "3d1f60e1",
   "metadata": {},
   "outputs": [
    {
     "data": {
      "text/html": [
       "<div>\n",
       "<style scoped>\n",
       "    .dataframe tbody tr th:only-of-type {\n",
       "        vertical-align: middle;\n",
       "    }\n",
       "\n",
       "    .dataframe tbody tr th {\n",
       "        vertical-align: top;\n",
       "    }\n",
       "\n",
       "    .dataframe thead th {\n",
       "        text-align: right;\n",
       "    }\n",
       "</style>\n",
       "<table border=\"1\" class=\"dataframe\">\n",
       "  <thead>\n",
       "    <tr style=\"text-align: right;\">\n",
       "      <th></th>\n",
       "      <th>family_status</th>\n",
       "      <th>family_status_id</th>\n",
       "    </tr>\n",
       "  </thead>\n",
       "  <tbody>\n",
       "    <tr>\n",
       "      <th>0</th>\n",
       "      <td>женат / замужем</td>\n",
       "      <td>0</td>\n",
       "    </tr>\n",
       "  </tbody>\n",
       "</table>\n",
       "</div>"
      ],
      "text/plain": [
       "     family_status  family_status_id\n",
       "0  женат / замужем                 0"
      ]
     },
     "metadata": {},
     "output_type": "display_data"
    },
    {
     "data": {
      "text/html": [
       "<div>\n",
       "<style scoped>\n",
       "    .dataframe tbody tr th:only-of-type {\n",
       "        vertical-align: middle;\n",
       "    }\n",
       "\n",
       "    .dataframe tbody tr th {\n",
       "        vertical-align: top;\n",
       "    }\n",
       "\n",
       "    .dataframe thead th {\n",
       "        text-align: right;\n",
       "    }\n",
       "</style>\n",
       "<table border=\"1\" class=\"dataframe\">\n",
       "  <thead>\n",
       "    <tr style=\"text-align: right;\">\n",
       "      <th></th>\n",
       "      <th>family_status</th>\n",
       "      <th>family_status_id</th>\n",
       "    </tr>\n",
       "  </thead>\n",
       "  <tbody>\n",
       "    <tr>\n",
       "      <th>4</th>\n",
       "      <td>гражданский брак</td>\n",
       "      <td>1</td>\n",
       "    </tr>\n",
       "  </tbody>\n",
       "</table>\n",
       "</div>"
      ],
      "text/plain": [
       "      family_status  family_status_id\n",
       "4  гражданский брак                 1"
      ]
     },
     "metadata": {},
     "output_type": "display_data"
    },
    {
     "data": {
      "text/html": [
       "<div>\n",
       "<style scoped>\n",
       "    .dataframe tbody tr th:only-of-type {\n",
       "        vertical-align: middle;\n",
       "    }\n",
       "\n",
       "    .dataframe tbody tr th {\n",
       "        vertical-align: top;\n",
       "    }\n",
       "\n",
       "    .dataframe thead th {\n",
       "        text-align: right;\n",
       "    }\n",
       "</style>\n",
       "<table border=\"1\" class=\"dataframe\">\n",
       "  <thead>\n",
       "    <tr style=\"text-align: right;\">\n",
       "      <th></th>\n",
       "      <th>family_status</th>\n",
       "      <th>family_status_id</th>\n",
       "    </tr>\n",
       "  </thead>\n",
       "  <tbody>\n",
       "    <tr>\n",
       "      <th>18</th>\n",
       "      <td>вдовец / вдова</td>\n",
       "      <td>2</td>\n",
       "    </tr>\n",
       "  </tbody>\n",
       "</table>\n",
       "</div>"
      ],
      "text/plain": [
       "     family_status  family_status_id\n",
       "18  вдовец / вдова                 2"
      ]
     },
     "metadata": {},
     "output_type": "display_data"
    },
    {
     "data": {
      "text/html": [
       "<div>\n",
       "<style scoped>\n",
       "    .dataframe tbody tr th:only-of-type {\n",
       "        vertical-align: middle;\n",
       "    }\n",
       "\n",
       "    .dataframe tbody tr th {\n",
       "        vertical-align: top;\n",
       "    }\n",
       "\n",
       "    .dataframe thead th {\n",
       "        text-align: right;\n",
       "    }\n",
       "</style>\n",
       "<table border=\"1\" class=\"dataframe\">\n",
       "  <thead>\n",
       "    <tr style=\"text-align: right;\">\n",
       "      <th></th>\n",
       "      <th>family_status</th>\n",
       "      <th>family_status_id</th>\n",
       "    </tr>\n",
       "  </thead>\n",
       "  <tbody>\n",
       "    <tr>\n",
       "      <th>19</th>\n",
       "      <td>в разводе</td>\n",
       "      <td>3</td>\n",
       "    </tr>\n",
       "  </tbody>\n",
       "</table>\n",
       "</div>"
      ],
      "text/plain": [
       "   family_status  family_status_id\n",
       "19     в разводе                 3"
      ]
     },
     "metadata": {},
     "output_type": "display_data"
    },
    {
     "data": {
      "text/html": [
       "<div>\n",
       "<style scoped>\n",
       "    .dataframe tbody tr th:only-of-type {\n",
       "        vertical-align: middle;\n",
       "    }\n",
       "\n",
       "    .dataframe tbody tr th {\n",
       "        vertical-align: top;\n",
       "    }\n",
       "\n",
       "    .dataframe thead th {\n",
       "        text-align: right;\n",
       "    }\n",
       "</style>\n",
       "<table border=\"1\" class=\"dataframe\">\n",
       "  <thead>\n",
       "    <tr style=\"text-align: right;\">\n",
       "      <th></th>\n",
       "      <th>family_status</th>\n",
       "      <th>family_status_id</th>\n",
       "    </tr>\n",
       "  </thead>\n",
       "  <tbody>\n",
       "    <tr>\n",
       "      <th>24</th>\n",
       "      <td>Не женат / не замужем</td>\n",
       "      <td>4</td>\n",
       "    </tr>\n",
       "  </tbody>\n",
       "</table>\n",
       "</div>"
      ],
      "text/plain": [
       "            family_status  family_status_id\n",
       "24  Не женат / не замужем                 4"
      ]
     },
     "metadata": {},
     "output_type": "display_data"
    }
   ],
   "source": [
    "#выяснение какой id соответствует семейному статусу\n",
    "for j in range(0,5):\n",
    "    \n",
    "    display(df_family_status[df_family_status['family_status_id'] == j].head(1))"
   ]
  },
  {
   "cell_type": "markdown",
   "id": "316f9fa5",
   "metadata": {},
   "source": [
    "<div class=\"alert alert-block alert-danger\">\n",
    "    \n",
    "\n",
    "</div>"
   ]
  },
  {
   "cell_type": "code",
   "execution_count": 64,
   "id": "996b4a94",
   "metadata": {},
   "outputs": [
    {
     "data": {
      "text/html": [
       "<div>\n",
       "<style scoped>\n",
       "    .dataframe tbody tr th:only-of-type {\n",
       "        vertical-align: middle;\n",
       "    }\n",
       "\n",
       "    .dataframe tbody tr th {\n",
       "        vertical-align: top;\n",
       "    }\n",
       "\n",
       "    .dataframe thead th {\n",
       "        text-align: right;\n",
       "    }\n",
       "</style>\n",
       "<table border=\"1\" class=\"dataframe\">\n",
       "  <thead>\n",
       "    <tr style=\"text-align: right;\">\n",
       "      <th></th>\n",
       "      <th>children</th>\n",
       "      <th>days_employed</th>\n",
       "      <th>dob_years</th>\n",
       "      <th>education_id</th>\n",
       "      <th>family_status_id</th>\n",
       "      <th>gender</th>\n",
       "      <th>income_type</th>\n",
       "      <th>debt</th>\n",
       "      <th>total_income</th>\n",
       "      <th>purpose</th>\n",
       "      <th>purpose_category</th>\n",
       "    </tr>\n",
       "  </thead>\n",
       "  <tbody>\n",
       "    <tr>\n",
       "      <th>0</th>\n",
       "      <td>1</td>\n",
       "      <td>8437.673028</td>\n",
       "      <td>42</td>\n",
       "      <td>0</td>\n",
       "      <td>0</td>\n",
       "      <td>F</td>\n",
       "      <td>сотрудник</td>\n",
       "      <td>0</td>\n",
       "      <td>253875</td>\n",
       "      <td>покупка жилья</td>\n",
       "      <td>операции с недвижимостью</td>\n",
       "    </tr>\n",
       "    <tr>\n",
       "      <th>1</th>\n",
       "      <td>1</td>\n",
       "      <td>4024.803754</td>\n",
       "      <td>36</td>\n",
       "      <td>1</td>\n",
       "      <td>0</td>\n",
       "      <td>F</td>\n",
       "      <td>сотрудник</td>\n",
       "      <td>0</td>\n",
       "      <td>112080</td>\n",
       "      <td>приобретение автомобиля</td>\n",
       "      <td>операции с автомобилем</td>\n",
       "    </tr>\n",
       "    <tr>\n",
       "      <th>2</th>\n",
       "      <td>0</td>\n",
       "      <td>5623.422610</td>\n",
       "      <td>33</td>\n",
       "      <td>1</td>\n",
       "      <td>0</td>\n",
       "      <td>M</td>\n",
       "      <td>сотрудник</td>\n",
       "      <td>0</td>\n",
       "      <td>145885</td>\n",
       "      <td>покупка жилья</td>\n",
       "      <td>операции с недвижимостью</td>\n",
       "    </tr>\n",
       "  </tbody>\n",
       "</table>\n",
       "</div>"
      ],
      "text/plain": [
       "   children  days_employed  dob_years  education_id  family_status_id gender  \\\n",
       "0         1    8437.673028         42             0                 0      F   \n",
       "1         1    4024.803754         36             1                 0      F   \n",
       "2         0    5623.422610         33             1                 0      M   \n",
       "\n",
       "  income_type  debt  total_income                  purpose  \\\n",
       "0   сотрудник     0        253875            покупка жилья   \n",
       "1   сотрудник     0        112080  приобретение автомобиля   \n",
       "2   сотрудник     0        145885            покупка жилья   \n",
       "\n",
       "           purpose_category  \n",
       "0  операции с недвижимостью  \n",
       "1    операции с автомобилем  \n",
       "2  операции с недвижимостью  "
      ]
     },
     "execution_count": 64,
     "metadata": {},
     "output_type": "execute_result"
    }
   ],
   "source": [
    "#удаление из исходного df столбцов 'education' и 'family_status'\n",
    "df = df.drop(columns=['education', 'family_status'])\n",
    "df.head(3)"
   ]
  },
  {
   "cell_type": "markdown",
   "id": "a624549f",
   "metadata": {},
   "source": [
    "### Шаг 2.6. Категоризация дохода."
   ]
  },
  {
   "cell_type": "code",
   "execution_count": 65,
   "id": "a2fa4b69",
   "metadata": {},
   "outputs": [],
   "source": [
    "#добавление столбца total_income_category с категориями клиентов по доходам\n",
    "df.loc[df['total_income'] <= 30000, 'total_income_category'] = 'E'\n",
    "df.loc[(df['total_income'] >= 30001)&(df['total_income'] <= 50000), 'total_income_category'] = 'D'\n",
    "df.loc[(df['total_income'] >= 50001)&(df['total_income'] <= 200000), 'total_income_category'] = 'C'\n",
    "df.loc[(df['total_income'] >= 200001)&(df['total_income'] <= 1000000), 'total_income_category'] = 'B'\n",
    "df.loc[df['total_income'] >= 1000000, 'total_income_category'] = 'A'"
   ]
  },
  {
   "cell_type": "code",
   "execution_count": 66,
   "id": "05449b45",
   "metadata": {},
   "outputs": [
    {
     "data": {
      "text/html": [
       "<div>\n",
       "<style scoped>\n",
       "    .dataframe tbody tr th:only-of-type {\n",
       "        vertical-align: middle;\n",
       "    }\n",
       "\n",
       "    .dataframe tbody tr th {\n",
       "        vertical-align: top;\n",
       "    }\n",
       "\n",
       "    .dataframe thead th {\n",
       "        text-align: right;\n",
       "    }\n",
       "</style>\n",
       "<table border=\"1\" class=\"dataframe\">\n",
       "  <thead>\n",
       "    <tr style=\"text-align: right;\">\n",
       "      <th></th>\n",
       "      <th>children</th>\n",
       "      <th>days_employed</th>\n",
       "      <th>dob_years</th>\n",
       "      <th>education_id</th>\n",
       "      <th>family_status_id</th>\n",
       "      <th>gender</th>\n",
       "      <th>income_type</th>\n",
       "      <th>debt</th>\n",
       "      <th>total_income</th>\n",
       "      <th>purpose</th>\n",
       "      <th>purpose_category</th>\n",
       "      <th>total_income_category</th>\n",
       "    </tr>\n",
       "  </thead>\n",
       "  <tbody>\n",
       "    <tr>\n",
       "      <th>0</th>\n",
       "      <td>1</td>\n",
       "      <td>8437.673028</td>\n",
       "      <td>42</td>\n",
       "      <td>0</td>\n",
       "      <td>0</td>\n",
       "      <td>F</td>\n",
       "      <td>сотрудник</td>\n",
       "      <td>0</td>\n",
       "      <td>253875</td>\n",
       "      <td>покупка жилья</td>\n",
       "      <td>операции с недвижимостью</td>\n",
       "      <td>B</td>\n",
       "    </tr>\n",
       "    <tr>\n",
       "      <th>1</th>\n",
       "      <td>1</td>\n",
       "      <td>4024.803754</td>\n",
       "      <td>36</td>\n",
       "      <td>1</td>\n",
       "      <td>0</td>\n",
       "      <td>F</td>\n",
       "      <td>сотрудник</td>\n",
       "      <td>0</td>\n",
       "      <td>112080</td>\n",
       "      <td>приобретение автомобиля</td>\n",
       "      <td>операции с автомобилем</td>\n",
       "      <td>C</td>\n",
       "    </tr>\n",
       "    <tr>\n",
       "      <th>2</th>\n",
       "      <td>0</td>\n",
       "      <td>5623.422610</td>\n",
       "      <td>33</td>\n",
       "      <td>1</td>\n",
       "      <td>0</td>\n",
       "      <td>M</td>\n",
       "      <td>сотрудник</td>\n",
       "      <td>0</td>\n",
       "      <td>145885</td>\n",
       "      <td>покупка жилья</td>\n",
       "      <td>операции с недвижимостью</td>\n",
       "      <td>C</td>\n",
       "    </tr>\n",
       "  </tbody>\n",
       "</table>\n",
       "</div>"
      ],
      "text/plain": [
       "   children  days_employed  dob_years  education_id  family_status_id gender  \\\n",
       "0         1    8437.673028         42             0                 0      F   \n",
       "1         1    4024.803754         36             1                 0      F   \n",
       "2         0    5623.422610         33             1                 0      M   \n",
       "\n",
       "  income_type  debt  total_income                  purpose  \\\n",
       "0   сотрудник     0        253875            покупка жилья   \n",
       "1   сотрудник     0        112080  приобретение автомобиля   \n",
       "2   сотрудник     0        145885            покупка жилья   \n",
       "\n",
       "           purpose_category total_income_category  \n",
       "0  операции с недвижимостью                     B  \n",
       "1    операции с автомобилем                     C  \n",
       "2  операции с недвижимостью                     C  "
      ]
     },
     "execution_count": 66,
     "metadata": {},
     "output_type": "execute_result"
    }
   ],
   "source": [
    "df.head(3)"
   ]
  },
  {
   "cell_type": "markdown",
   "id": "477387e5",
   "metadata": {},
   "source": [
    "### Шаг 2.7. Категоризация целей кредита.\n",
    "### Step 2.7. Categorization of loan purposes."
   ]
  },
  {
   "cell_type": "raw",
   "id": "ec337a3f",
   "metadata": {},
   "source": [
    "#функция для замены значений\n",
    "#'покупка_недвижимости', 'автомобиль', 'образование', 'свадьба','строительство_ремонт_недвижимости'\n",
    "def purpose_category_func(value):\n",
    "    if value == 'покупка_недвижимости' or value == 'строительство_ремонт_недвижимости':\n",
    "        return 'операции с недвижимостью'\n",
    "    elif value == 'автомобиль': return 'операции с автомобилем'\n",
    "    elif value == 'образование': return 'получение образования'\n",
    "    elif value == 'свадьба': return 'проведение свадьбы'\n",
    "    else: return 'Несуществующие данные'\n",
    "    "
   ]
  },
  {
   "cell_type": "raw",
   "id": "d19f5406",
   "metadata": {},
   "source": [
    "#формирование нового столбца purpose_category\n",
    "df['purpose_category'] = df['purpose'].apply(purpose_category_func)"
   ]
  },
  {
   "cell_type": "code",
   "execution_count": 67,
   "id": "802958f7",
   "metadata": {},
   "outputs": [
    {
     "data": {
      "text/html": [
       "<div>\n",
       "<style scoped>\n",
       "    .dataframe tbody tr th:only-of-type {\n",
       "        vertical-align: middle;\n",
       "    }\n",
       "\n",
       "    .dataframe tbody tr th {\n",
       "        vertical-align: top;\n",
       "    }\n",
       "\n",
       "    .dataframe thead th {\n",
       "        text-align: right;\n",
       "    }\n",
       "</style>\n",
       "<table border=\"1\" class=\"dataframe\">\n",
       "  <thead>\n",
       "    <tr style=\"text-align: right;\">\n",
       "      <th></th>\n",
       "      <th>children</th>\n",
       "      <th>days_employed</th>\n",
       "      <th>dob_years</th>\n",
       "      <th>education_id</th>\n",
       "      <th>family_status_id</th>\n",
       "      <th>gender</th>\n",
       "      <th>income_type</th>\n",
       "      <th>debt</th>\n",
       "      <th>total_income</th>\n",
       "      <th>purpose</th>\n",
       "      <th>purpose_category</th>\n",
       "      <th>total_income_category</th>\n",
       "    </tr>\n",
       "  </thead>\n",
       "  <tbody>\n",
       "    <tr>\n",
       "      <th>0</th>\n",
       "      <td>1</td>\n",
       "      <td>8437.673028</td>\n",
       "      <td>42</td>\n",
       "      <td>0</td>\n",
       "      <td>0</td>\n",
       "      <td>F</td>\n",
       "      <td>сотрудник</td>\n",
       "      <td>0</td>\n",
       "      <td>253875</td>\n",
       "      <td>покупка жилья</td>\n",
       "      <td>операции с недвижимостью</td>\n",
       "      <td>B</td>\n",
       "    </tr>\n",
       "    <tr>\n",
       "      <th>1</th>\n",
       "      <td>1</td>\n",
       "      <td>4024.803754</td>\n",
       "      <td>36</td>\n",
       "      <td>1</td>\n",
       "      <td>0</td>\n",
       "      <td>F</td>\n",
       "      <td>сотрудник</td>\n",
       "      <td>0</td>\n",
       "      <td>112080</td>\n",
       "      <td>приобретение автомобиля</td>\n",
       "      <td>операции с автомобилем</td>\n",
       "      <td>C</td>\n",
       "    </tr>\n",
       "    <tr>\n",
       "      <th>2</th>\n",
       "      <td>0</td>\n",
       "      <td>5623.422610</td>\n",
       "      <td>33</td>\n",
       "      <td>1</td>\n",
       "      <td>0</td>\n",
       "      <td>M</td>\n",
       "      <td>сотрудник</td>\n",
       "      <td>0</td>\n",
       "      <td>145885</td>\n",
       "      <td>покупка жилья</td>\n",
       "      <td>операции с недвижимостью</td>\n",
       "      <td>C</td>\n",
       "    </tr>\n",
       "  </tbody>\n",
       "</table>\n",
       "</div>"
      ],
      "text/plain": [
       "   children  days_employed  dob_years  education_id  family_status_id gender  \\\n",
       "0         1    8437.673028         42             0                 0      F   \n",
       "1         1    4024.803754         36             1                 0      F   \n",
       "2         0    5623.422610         33             1                 0      M   \n",
       "\n",
       "  income_type  debt  total_income                  purpose  \\\n",
       "0   сотрудник     0        253875            покупка жилья   \n",
       "1   сотрудник     0        112080  приобретение автомобиля   \n",
       "2   сотрудник     0        145885            покупка жилья   \n",
       "\n",
       "           purpose_category total_income_category  \n",
       "0  операции с недвижимостью                     B  \n",
       "1    операции с автомобилем                     C  \n",
       "2  операции с недвижимостью                     C  "
      ]
     },
     "execution_count": 67,
     "metadata": {},
     "output_type": "execute_result"
    }
   ],
   "source": [
    "#проверка что \"категоризация целей кредита\" выполнена\n",
    "df.head(3)"
   ]
  },
  {
   "cell_type": "code",
   "execution_count": 68,
   "id": "fc987a9b",
   "metadata": {},
   "outputs": [
    {
     "data": {
      "text/plain": [
       "0        операции с недвижимостью\n",
       "1          операции с автомобилем\n",
       "2        операции с недвижимостью\n",
       "3           получение образования\n",
       "4              проведение свадьбы\n",
       "                   ...           \n",
       "21466    операции с недвижимостью\n",
       "21467      операции с автомобилем\n",
       "21468    операции с недвижимостью\n",
       "21469      операции с автомобилем\n",
       "21470      операции с автомобилем\n",
       "Name: purpose_category, Length: 21471, dtype: object"
      ]
     },
     "execution_count": 68,
     "metadata": {},
     "output_type": "execute_result"
    }
   ],
   "source": [
    "#проверка\n",
    "df['purpose_category']"
   ]
  },
  {
   "cell_type": "markdown",
   "id": "8b0d7862",
   "metadata": {},
   "source": [
    "### Ответы на вопросы.\n",
    "### Answers on questions"
   ]
  },
  {
   "cell_type": "markdown",
   "id": "b97668f4",
   "metadata": {},
   "source": [
    "##### Вопрос 1:"
   ]
  },
  {
   "cell_type": "markdown",
   "id": "44d0e5a5",
   "metadata": {},
   "source": [
    "Есть ли зависимость между количеством детей и возвратом кредита в срок?"
   ]
  },
  {
   "cell_type": "code",
   "execution_count": 69,
   "id": "2b0c0868",
   "metadata": {},
   "outputs": [
    {
     "data": {
      "text/plain": [
       "Index(['children', 'days_employed', 'dob_years', 'education_id',\n",
       "       'family_status_id', 'gender', 'income_type', 'debt', 'total_income',\n",
       "       'purpose', 'purpose_category', 'total_income_category'],\n",
       "      dtype='object')"
      ]
     },
     "execution_count": 69,
     "metadata": {},
     "output_type": "execute_result"
    }
   ],
   "source": [
    "df.columns"
   ]
  },
  {
   "cell_type": "code",
   "execution_count": 70,
   "id": "f4aaa1f2",
   "metadata": {},
   "outputs": [
    {
     "data": {
      "text/html": [
       "<div>\n",
       "<style scoped>\n",
       "    .dataframe tbody tr th:only-of-type {\n",
       "        vertical-align: middle;\n",
       "    }\n",
       "\n",
       "    .dataframe tbody tr th {\n",
       "        vertical-align: top;\n",
       "    }\n",
       "\n",
       "    .dataframe thead th {\n",
       "        text-align: right;\n",
       "    }\n",
       "</style>\n",
       "<table border=\"1\" class=\"dataframe\">\n",
       "  <thead>\n",
       "    <tr style=\"text-align: right;\">\n",
       "      <th></th>\n",
       "      <th>debt</th>\n",
       "    </tr>\n",
       "    <tr>\n",
       "      <th>children</th>\n",
       "      <th></th>\n",
       "    </tr>\n",
       "  </thead>\n",
       "  <tbody>\n",
       "    <tr>\n",
       "      <th>0</th>\n",
       "      <td>0.075173</td>\n",
       "    </tr>\n",
       "    <tr>\n",
       "      <th>1</th>\n",
       "      <td>0.092327</td>\n",
       "    </tr>\n",
       "    <tr>\n",
       "      <th>2</th>\n",
       "      <td>0.094542</td>\n",
       "    </tr>\n",
       "    <tr>\n",
       "      <th>3</th>\n",
       "      <td>0.081818</td>\n",
       "    </tr>\n",
       "    <tr>\n",
       "      <th>4</th>\n",
       "      <td>0.097561</td>\n",
       "    </tr>\n",
       "    <tr>\n",
       "      <th>5</th>\n",
       "      <td>0.000000</td>\n",
       "    </tr>\n",
       "    <tr>\n",
       "      <th>20</th>\n",
       "      <td>0.105263</td>\n",
       "    </tr>\n",
       "  </tbody>\n",
       "</table>\n",
       "</div>"
      ],
      "text/plain": [
       "              debt\n",
       "children          \n",
       "0         0.075173\n",
       "1         0.092327\n",
       "2         0.094542\n",
       "3         0.081818\n",
       "4         0.097561\n",
       "5         0.000000\n",
       "20        0.105263"
      ]
     },
     "execution_count": 70,
     "metadata": {},
     "output_type": "execute_result"
    }
   ],
   "source": [
    "df.groupby(['children']).agg({'debt':'mean'})"
   ]
  },
  {
   "cell_type": "code",
   "execution_count": 71,
   "id": "fb83a3b0",
   "metadata": {},
   "outputs": [],
   "source": [
    "children_pivot = df.pivot_table(index=['children'], values='debt', aggfunc=('count', 'mean', 'sum'))"
   ]
  },
  {
   "cell_type": "code",
   "execution_count": 72,
   "id": "65e8d52b",
   "metadata": {},
   "outputs": [
    {
     "data": {
      "text/html": [
       "<div>\n",
       "<style scoped>\n",
       "    .dataframe tbody tr th:only-of-type {\n",
       "        vertical-align: middle;\n",
       "    }\n",
       "\n",
       "    .dataframe tbody tr th {\n",
       "        vertical-align: top;\n",
       "    }\n",
       "\n",
       "    .dataframe thead th {\n",
       "        text-align: right;\n",
       "    }\n",
       "</style>\n",
       "<table border=\"1\" class=\"dataframe\">\n",
       "  <thead>\n",
       "    <tr style=\"text-align: right;\">\n",
       "      <th></th>\n",
       "      <th>count</th>\n",
       "      <th>mean</th>\n",
       "      <th>sum</th>\n",
       "    </tr>\n",
       "    <tr>\n",
       "      <th>children</th>\n",
       "      <th></th>\n",
       "      <th></th>\n",
       "      <th></th>\n",
       "    </tr>\n",
       "  </thead>\n",
       "  <tbody>\n",
       "    <tr>\n",
       "      <th>0</th>\n",
       "      <td>14154</td>\n",
       "      <td>0.075173</td>\n",
       "      <td>1064</td>\n",
       "    </tr>\n",
       "    <tr>\n",
       "      <th>1</th>\n",
       "      <td>4809</td>\n",
       "      <td>0.092327</td>\n",
       "      <td>444</td>\n",
       "    </tr>\n",
       "    <tr>\n",
       "      <th>2</th>\n",
       "      <td>2052</td>\n",
       "      <td>0.094542</td>\n",
       "      <td>194</td>\n",
       "    </tr>\n",
       "    <tr>\n",
       "      <th>3</th>\n",
       "      <td>330</td>\n",
       "      <td>0.081818</td>\n",
       "      <td>27</td>\n",
       "    </tr>\n",
       "    <tr>\n",
       "      <th>4</th>\n",
       "      <td>41</td>\n",
       "      <td>0.097561</td>\n",
       "      <td>4</td>\n",
       "    </tr>\n",
       "    <tr>\n",
       "      <th>5</th>\n",
       "      <td>9</td>\n",
       "      <td>0.000000</td>\n",
       "      <td>0</td>\n",
       "    </tr>\n",
       "    <tr>\n",
       "      <th>20</th>\n",
       "      <td>76</td>\n",
       "      <td>0.105263</td>\n",
       "      <td>8</td>\n",
       "    </tr>\n",
       "  </tbody>\n",
       "</table>\n",
       "</div>"
      ],
      "text/plain": [
       "          count      mean   sum\n",
       "children                       \n",
       "0         14154  0.075173  1064\n",
       "1          4809  0.092327   444\n",
       "2          2052  0.094542   194\n",
       "3           330  0.081818    27\n",
       "4            41  0.097561     4\n",
       "5             9  0.000000     0\n",
       "20           76  0.105263     8"
      ]
     },
     "execution_count": 72,
     "metadata": {},
     "output_type": "execute_result"
    }
   ],
   "source": [
    "children_pivot"
   ]
  },
  {
   "cell_type": "markdown",
   "id": "1d49ea0c",
   "metadata": {},
   "source": [
    "##### Вывод 1:"
   ]
  },
  {
   "cell_type": "markdown",
   "id": "3c015ea1",
   "metadata": {},
   "source": [
    "<div class=\"alert alert-block alert-info\">\n",
    "    \n",
    "Наблюдается связь, хоть и небольшая, между количеством детей и среднего показателя по возврату кредита. Семьи не имеющие детей возвращают кредиты в срок чаще (7,5% невозвратов), чем семьи имеющие 1,2,3 и 4 ребенка (примерно 9,5% невозвратов). \n",
    "    \n",
    "Семьи имеющие 5 детей вообще ни разу не имели задолженности по кредитам, думаю не стоит этому доверять, т.к. выборка слишком мала, всего для 9ти человек.\n",
    "    \n",
    "Семьи имеющие 20 детей имеют максимальный риск невозврата кредита, около 10.5% невозвратов.\n",
    "</div>"
   ]
  },
  {
   "cell_type": "markdown",
   "id": "100ce549",
   "metadata": {},
   "source": [
    "##### Вопрос 2:"
   ]
  },
  {
   "cell_type": "markdown",
   "id": "fefbf69f",
   "metadata": {},
   "source": [
    "Есть ли зависимость между семейным положением и возвратом кредита в срок?"
   ]
  },
  {
   "cell_type": "code",
   "execution_count": 73,
   "id": "521fc2dc",
   "metadata": {},
   "outputs": [],
   "source": [
    "family_status_pivot = df.pivot_table(index=['family_status_id'], values='debt', aggfunc=('count', 'mean'))"
   ]
  },
  {
   "cell_type": "code",
   "execution_count": 74,
   "id": "b2274ace",
   "metadata": {},
   "outputs": [
    {
     "data": {
      "text/html": [
       "<div>\n",
       "<style scoped>\n",
       "    .dataframe tbody tr th:only-of-type {\n",
       "        vertical-align: middle;\n",
       "    }\n",
       "\n",
       "    .dataframe tbody tr th {\n",
       "        vertical-align: top;\n",
       "    }\n",
       "\n",
       "    .dataframe thead th {\n",
       "        text-align: right;\n",
       "    }\n",
       "</style>\n",
       "<table border=\"1\" class=\"dataframe\">\n",
       "  <thead>\n",
       "    <tr style=\"text-align: right;\">\n",
       "      <th></th>\n",
       "      <th>count</th>\n",
       "      <th>mean</th>\n",
       "    </tr>\n",
       "    <tr>\n",
       "      <th>family_status_id</th>\n",
       "      <th></th>\n",
       "      <th></th>\n",
       "    </tr>\n",
       "  </thead>\n",
       "  <tbody>\n",
       "    <tr>\n",
       "      <th>2</th>\n",
       "      <td>959</td>\n",
       "      <td>0.065693</td>\n",
       "    </tr>\n",
       "    <tr>\n",
       "      <th>3</th>\n",
       "      <td>1195</td>\n",
       "      <td>0.071130</td>\n",
       "    </tr>\n",
       "    <tr>\n",
       "      <th>0</th>\n",
       "      <td>12344</td>\n",
       "      <td>0.075421</td>\n",
       "    </tr>\n",
       "    <tr>\n",
       "      <th>1</th>\n",
       "      <td>4163</td>\n",
       "      <td>0.093202</td>\n",
       "    </tr>\n",
       "    <tr>\n",
       "      <th>4</th>\n",
       "      <td>2810</td>\n",
       "      <td>0.097509</td>\n",
       "    </tr>\n",
       "  </tbody>\n",
       "</table>\n",
       "</div>"
      ],
      "text/plain": [
       "                  count      mean\n",
       "family_status_id                 \n",
       "2                   959  0.065693\n",
       "3                  1195  0.071130\n",
       "0                 12344  0.075421\n",
       "1                  4163  0.093202\n",
       "4                  2810  0.097509"
      ]
     },
     "execution_count": 74,
     "metadata": {},
     "output_type": "execute_result"
    }
   ],
   "source": [
    "family_status_pivot.sort_values('mean')"
   ]
  },
  {
   "cell_type": "markdown",
   "id": "08f409c5",
   "metadata": {},
   "source": [
    "##### Вывод 2:"
   ]
  },
  {
   "cell_type": "markdown",
   "id": "a48406d3",
   "metadata": {},
   "source": [
    "<div class=\"alert alert-block alert-info\">\n",
    "Семьи имеющие 2-й семейный статус (вдова/вдовец) имеют минимальный риск по возврату. Максмимальный риск имеют семьи со статусом 1 и 4.\n",
    "</div>"
   ]
  },
  {
   "cell_type": "markdown",
   "id": "88d767c4",
   "metadata": {},
   "source": [
    "##### Вопрос 3:"
   ]
  },
  {
   "cell_type": "markdown",
   "id": "36f7f6b9",
   "metadata": {},
   "source": [
    "Есть ли зависимость между уровнем дохода и возвратом кредита в срок?"
   ]
  },
  {
   "cell_type": "code",
   "execution_count": 75,
   "id": "c95c791c",
   "metadata": {},
   "outputs": [],
   "source": [
    "income_category_pivot = df.pivot_table(index=['total_income_category'], values='debt', aggfunc=('count', 'mean'))"
   ]
  },
  {
   "cell_type": "code",
   "execution_count": 76,
   "id": "727241b5",
   "metadata": {},
   "outputs": [
    {
     "data": {
      "text/html": [
       "<div>\n",
       "<style scoped>\n",
       "    .dataframe tbody tr th:only-of-type {\n",
       "        vertical-align: middle;\n",
       "    }\n",
       "\n",
       "    .dataframe tbody tr th {\n",
       "        vertical-align: top;\n",
       "    }\n",
       "\n",
       "    .dataframe thead th {\n",
       "        text-align: right;\n",
       "    }\n",
       "</style>\n",
       "<table border=\"1\" class=\"dataframe\">\n",
       "  <thead>\n",
       "    <tr style=\"text-align: right;\">\n",
       "      <th></th>\n",
       "      <th>count</th>\n",
       "      <th>mean</th>\n",
       "    </tr>\n",
       "    <tr>\n",
       "      <th>total_income_category</th>\n",
       "      <th></th>\n",
       "      <th></th>\n",
       "    </tr>\n",
       "  </thead>\n",
       "  <tbody>\n",
       "    <tr>\n",
       "      <th>D</th>\n",
       "      <td>350</td>\n",
       "      <td>0.060000</td>\n",
       "    </tr>\n",
       "    <tr>\n",
       "      <th>B</th>\n",
       "      <td>5041</td>\n",
       "      <td>0.070621</td>\n",
       "    </tr>\n",
       "    <tr>\n",
       "      <th>A</th>\n",
       "      <td>25</td>\n",
       "      <td>0.080000</td>\n",
       "    </tr>\n",
       "    <tr>\n",
       "      <th>C</th>\n",
       "      <td>16033</td>\n",
       "      <td>0.084825</td>\n",
       "    </tr>\n",
       "    <tr>\n",
       "      <th>E</th>\n",
       "      <td>22</td>\n",
       "      <td>0.090909</td>\n",
       "    </tr>\n",
       "  </tbody>\n",
       "</table>\n",
       "</div>"
      ],
      "text/plain": [
       "                       count      mean\n",
       "total_income_category                 \n",
       "D                        350  0.060000\n",
       "B                       5041  0.070621\n",
       "A                         25  0.080000\n",
       "C                      16033  0.084825\n",
       "E                         22  0.090909"
      ]
     },
     "execution_count": 76,
     "metadata": {},
     "output_type": "execute_result"
    }
   ],
   "source": [
    "income_category_pivot.sort_values('mean')"
   ]
  },
  {
   "cell_type": "markdown",
   "id": "adc9a4b5",
   "metadata": {},
   "source": [
    "##### Вывод 3:"
   ]
  },
  {
   "cell_type": "markdown",
   "id": "0a1a7238",
   "metadata": {},
   "source": [
    "<div class=\"alert alert-block alert-info\">\n",
    "    \n",
    "Минимальный риск по возврату имеют клиенты с уровнем дохода `D` (около 6%). А максимальный риск клиенты с уровнем дохода `C` и `E` (около 8,7%)\n",
    "     \n",
    "</div>"
   ]
  },
  {
   "cell_type": "markdown",
   "id": "99c51f74",
   "metadata": {},
   "source": [
    "##### Вопрос 4:"
   ]
  },
  {
   "cell_type": "markdown",
   "id": "0bdac8c3",
   "metadata": {},
   "source": [
    "Как разные цели кредита влияют на его возврат в срок?"
   ]
  },
  {
   "cell_type": "code",
   "execution_count": 77,
   "id": "21cf603b",
   "metadata": {},
   "outputs": [],
   "source": [
    "purpose_category_pivot = df.pivot_table(index=['purpose_category'], values='debt', aggfunc=('count', 'mean', 'sum'))"
   ]
  },
  {
   "cell_type": "code",
   "execution_count": 78,
   "id": "71c03368",
   "metadata": {},
   "outputs": [
    {
     "data": {
      "text/html": [
       "<div>\n",
       "<style scoped>\n",
       "    .dataframe tbody tr th:only-of-type {\n",
       "        vertical-align: middle;\n",
       "    }\n",
       "\n",
       "    .dataframe tbody tr th {\n",
       "        vertical-align: top;\n",
       "    }\n",
       "\n",
       "    .dataframe thead th {\n",
       "        text-align: right;\n",
       "    }\n",
       "</style>\n",
       "<table border=\"1\" class=\"dataframe\">\n",
       "  <thead>\n",
       "    <tr style=\"text-align: right;\">\n",
       "      <th></th>\n",
       "      <th>count</th>\n",
       "      <th>mean</th>\n",
       "      <th>sum</th>\n",
       "    </tr>\n",
       "    <tr>\n",
       "      <th>purpose_category</th>\n",
       "      <th></th>\n",
       "      <th></th>\n",
       "      <th></th>\n",
       "    </tr>\n",
       "  </thead>\n",
       "  <tbody>\n",
       "    <tr>\n",
       "      <th>операции с недвижимостью</th>\n",
       "      <td>10814</td>\n",
       "      <td>0.072314</td>\n",
       "      <td>782</td>\n",
       "    </tr>\n",
       "    <tr>\n",
       "      <th>проведение свадьбы</th>\n",
       "      <td>2335</td>\n",
       "      <td>0.079657</td>\n",
       "      <td>186</td>\n",
       "    </tr>\n",
       "    <tr>\n",
       "      <th>получение образования</th>\n",
       "      <td>4014</td>\n",
       "      <td>0.092177</td>\n",
       "      <td>370</td>\n",
       "    </tr>\n",
       "    <tr>\n",
       "      <th>операции с автомобилем</th>\n",
       "      <td>4308</td>\n",
       "      <td>0.093547</td>\n",
       "      <td>403</td>\n",
       "    </tr>\n",
       "  </tbody>\n",
       "</table>\n",
       "</div>"
      ],
      "text/plain": [
       "                          count      mean  sum\n",
       "purpose_category                              \n",
       "операции с недвижимостью  10814  0.072314  782\n",
       "проведение свадьбы         2335  0.079657  186\n",
       "получение образования      4014  0.092177  370\n",
       "операции с автомобилем     4308  0.093547  403"
      ]
     },
     "execution_count": 78,
     "metadata": {},
     "output_type": "execute_result"
    }
   ],
   "source": [
    "purpose_category_pivot.sort_values('mean')"
   ]
  },
  {
   "cell_type": "markdown",
   "id": "91a60e06",
   "metadata": {},
   "source": [
    "##### Вывод 4:"
   ]
  },
  {
   "cell_type": "markdown",
   "id": "1f6686ff",
   "metadata": {},
   "source": [
    "<div class=\"alert alert-block alert-info\">\n",
    "    \n",
    "`Операции с недвижимостью` и `проведение свадьбы` находятся в минимальной группе риска (7,2%). \n",
    "    \n",
    "В то время как `получение образования` и `операции с автомобилем` именют выше риск невозврата кредита в срок (около 9,2%).\n",
    "</div>"
   ]
  },
  {
   "cell_type": "markdown",
   "id": "2b00ade4",
   "metadata": {},
   "source": [
    "##### Вопрос 5:"
   ]
  },
  {
   "cell_type": "markdown",
   "id": "3316c182",
   "metadata": {},
   "source": [
    "Как влияют другие данные на возврат кредита в срок?"
   ]
  },
  {
   "cell_type": "code",
   "execution_count": 79,
   "id": "12745173",
   "metadata": {},
   "outputs": [],
   "source": [
    "education_pivot = df.pivot_table(index=['education_id'], values='debt', aggfunc=('count', 'mean'))"
   ]
  },
  {
   "cell_type": "code",
   "execution_count": 80,
   "id": "dc2f36bf",
   "metadata": {},
   "outputs": [
    {
     "data": {
      "text/html": [
       "<div>\n",
       "<style scoped>\n",
       "    .dataframe tbody tr th:only-of-type {\n",
       "        vertical-align: middle;\n",
       "    }\n",
       "\n",
       "    .dataframe tbody tr th {\n",
       "        vertical-align: top;\n",
       "    }\n",
       "\n",
       "    .dataframe thead th {\n",
       "        text-align: right;\n",
       "    }\n",
       "</style>\n",
       "<table border=\"1\" class=\"dataframe\">\n",
       "  <thead>\n",
       "    <tr style=\"text-align: right;\">\n",
       "      <th></th>\n",
       "      <th>count</th>\n",
       "      <th>mean</th>\n",
       "    </tr>\n",
       "    <tr>\n",
       "      <th>education_id</th>\n",
       "      <th></th>\n",
       "      <th></th>\n",
       "    </tr>\n",
       "  </thead>\n",
       "  <tbody>\n",
       "    <tr>\n",
       "      <th>4</th>\n",
       "      <td>6</td>\n",
       "      <td>0.000000</td>\n",
       "    </tr>\n",
       "    <tr>\n",
       "      <th>0</th>\n",
       "      <td>5251</td>\n",
       "      <td>0.052942</td>\n",
       "    </tr>\n",
       "    <tr>\n",
       "      <th>1</th>\n",
       "      <td>15188</td>\n",
       "      <td>0.089808</td>\n",
       "    </tr>\n",
       "    <tr>\n",
       "      <th>2</th>\n",
       "      <td>744</td>\n",
       "      <td>0.091398</td>\n",
       "    </tr>\n",
       "    <tr>\n",
       "      <th>3</th>\n",
       "      <td>282</td>\n",
       "      <td>0.109929</td>\n",
       "    </tr>\n",
       "  </tbody>\n",
       "</table>\n",
       "</div>"
      ],
      "text/plain": [
       "              count      mean\n",
       "education_id                 \n",
       "4                 6  0.000000\n",
       "0              5251  0.052942\n",
       "1             15188  0.089808\n",
       "2               744  0.091398\n",
       "3               282  0.109929"
      ]
     },
     "execution_count": 80,
     "metadata": {},
     "output_type": "execute_result"
    }
   ],
   "source": [
    "education_pivot.sort_values('mean')"
   ]
  },
  {
   "cell_type": "markdown",
   "id": "344e7561",
   "metadata": {},
   "source": [
    "<div class=\"alert alert-block alert-info\">\n",
    "    \n",
    "Наименее рискованные клиенты имеют `высшее образование`.\n",
    "</div>"
   ]
  },
  {
   "cell_type": "code",
   "execution_count": 81,
   "id": "2dfd9af9",
   "metadata": {},
   "outputs": [],
   "source": [
    "gender_pivot = df.pivot_table(index=['gender'], values='debt', aggfunc=('count', 'mean'))"
   ]
  },
  {
   "cell_type": "code",
   "execution_count": 82,
   "id": "25e04716",
   "metadata": {},
   "outputs": [
    {
     "data": {
      "text/html": [
       "<div>\n",
       "<style scoped>\n",
       "    .dataframe tbody tr th:only-of-type {\n",
       "        vertical-align: middle;\n",
       "    }\n",
       "\n",
       "    .dataframe tbody tr th {\n",
       "        vertical-align: top;\n",
       "    }\n",
       "\n",
       "    .dataframe thead th {\n",
       "        text-align: right;\n",
       "    }\n",
       "</style>\n",
       "<table border=\"1\" class=\"dataframe\">\n",
       "  <thead>\n",
       "    <tr style=\"text-align: right;\">\n",
       "      <th></th>\n",
       "      <th>count</th>\n",
       "      <th>mean</th>\n",
       "    </tr>\n",
       "    <tr>\n",
       "      <th>gender</th>\n",
       "      <th></th>\n",
       "      <th></th>\n",
       "    </tr>\n",
       "  </thead>\n",
       "  <tbody>\n",
       "    <tr>\n",
       "      <th>F</th>\n",
       "      <td>14190</td>\n",
       "      <td>0.070049</td>\n",
       "    </tr>\n",
       "    <tr>\n",
       "      <th>M</th>\n",
       "      <td>7281</td>\n",
       "      <td>0.102596</td>\n",
       "    </tr>\n",
       "  </tbody>\n",
       "</table>\n",
       "</div>"
      ],
      "text/plain": [
       "        count      mean\n",
       "gender                 \n",
       "F       14190  0.070049\n",
       "M        7281  0.102596"
      ]
     },
     "execution_count": 82,
     "metadata": {},
     "output_type": "execute_result"
    }
   ],
   "source": [
    "gender_pivot"
   ]
  },
  {
   "cell_type": "markdown",
   "id": "6f48ede2",
   "metadata": {},
   "source": [
    "<div class=\"alert alert-block alert-info\">\n",
    "\n",
    "Женщины чаще возвращают кредит в срок, чем мужчины.\n",
    "</div>"
   ]
  },
  {
   "cell_type": "code",
   "execution_count": 83,
   "id": "f25543c2",
   "metadata": {},
   "outputs": [],
   "source": [
    "gender_education_pivot = df.pivot_table(index=['gender', 'education_id'], values='debt', aggfunc=('count', 'mean'))"
   ]
  },
  {
   "cell_type": "code",
   "execution_count": 84,
   "id": "008f8f2b",
   "metadata": {},
   "outputs": [
    {
     "data": {
      "text/html": [
       "<div>\n",
       "<style scoped>\n",
       "    .dataframe tbody tr th:only-of-type {\n",
       "        vertical-align: middle;\n",
       "    }\n",
       "\n",
       "    .dataframe tbody tr th {\n",
       "        vertical-align: top;\n",
       "    }\n",
       "\n",
       "    .dataframe thead th {\n",
       "        text-align: right;\n",
       "    }\n",
       "</style>\n",
       "<table border=\"1\" class=\"dataframe\">\n",
       "  <thead>\n",
       "    <tr style=\"text-align: right;\">\n",
       "      <th></th>\n",
       "      <th></th>\n",
       "      <th>count</th>\n",
       "      <th>mean</th>\n",
       "    </tr>\n",
       "    <tr>\n",
       "      <th>gender</th>\n",
       "      <th>education_id</th>\n",
       "      <th></th>\n",
       "      <th></th>\n",
       "    </tr>\n",
       "  </thead>\n",
       "  <tbody>\n",
       "    <tr>\n",
       "      <th>F</th>\n",
       "      <th>4</th>\n",
       "      <td>2</td>\n",
       "      <td>0.000000</td>\n",
       "    </tr>\n",
       "    <tr>\n",
       "      <th>M</th>\n",
       "      <th>4</th>\n",
       "      <td>4</td>\n",
       "      <td>0.000000</td>\n",
       "    </tr>\n",
       "    <tr>\n",
       "      <th>F</th>\n",
       "      <th>0</th>\n",
       "      <td>3540</td>\n",
       "      <td>0.047175</td>\n",
       "    </tr>\n",
       "    <tr>\n",
       "      <th>M</th>\n",
       "      <th>0</th>\n",
       "      <td>1711</td>\n",
       "      <td>0.064874</td>\n",
       "    </tr>\n",
       "    <tr>\n",
       "      <th rowspan=\"2\" valign=\"top\">F</th>\n",
       "      <th>1</th>\n",
       "      <td>10024</td>\n",
       "      <td>0.076816</td>\n",
       "    </tr>\n",
       "    <tr>\n",
       "      <th>2</th>\n",
       "      <td>461</td>\n",
       "      <td>0.088937</td>\n",
       "    </tr>\n",
       "    <tr>\n",
       "      <th>M</th>\n",
       "      <th>2</th>\n",
       "      <td>283</td>\n",
       "      <td>0.095406</td>\n",
       "    </tr>\n",
       "    <tr>\n",
       "      <th>F</th>\n",
       "      <th>3</th>\n",
       "      <td>163</td>\n",
       "      <td>0.098160</td>\n",
       "    </tr>\n",
       "    <tr>\n",
       "      <th rowspan=\"2\" valign=\"top\">M</th>\n",
       "      <th>1</th>\n",
       "      <td>5164</td>\n",
       "      <td>0.115027</td>\n",
       "    </tr>\n",
       "    <tr>\n",
       "      <th>3</th>\n",
       "      <td>119</td>\n",
       "      <td>0.126050</td>\n",
       "    </tr>\n",
       "  </tbody>\n",
       "</table>\n",
       "</div>"
      ],
      "text/plain": [
       "                     count      mean\n",
       "gender education_id                 \n",
       "F      4                 2  0.000000\n",
       "M      4                 4  0.000000\n",
       "F      0              3540  0.047175\n",
       "M      0              1711  0.064874\n",
       "F      1             10024  0.076816\n",
       "       2               461  0.088937\n",
       "M      2               283  0.095406\n",
       "F      3               163  0.098160\n",
       "M      1              5164  0.115027\n",
       "       3               119  0.126050"
      ]
     },
     "execution_count": 84,
     "metadata": {},
     "output_type": "execute_result"
    }
   ],
   "source": [
    "gender_education_pivot.sort_values('mean')"
   ]
  },
  {
   "cell_type": "markdown",
   "id": "ec22d314",
   "metadata": {},
   "source": [
    "<div class=\"alert alert-block alert-info\">\n",
    "\n",
    "Женщины имеющие высшее образование наименее рискованный класс, около 4.7% невозврата.\n",
    "</div>"
   ]
  },
  {
   "cell_type": "markdown",
   "id": "c3dbfecd",
   "metadata": {},
   "source": [
    "##### Вывод 5:"
   ]
  },
  {
   "cell_type": "markdown",
   "id": "50080695",
   "metadata": {},
   "source": [
    "<div class=\"alert alert-block alert-info\">\n",
    "    \n",
    "Наименее рискованные клиенты имеют `высшее образование`.\n",
    "    \n",
    "Женщины чаще возвращают кредит в срок, чем мужчины.\n",
    "    \n",
    "Женщины имеющие высшее образование наименее рискованный класс, около 4.7% невозврата.\n",
    "</div>"
   ]
  },
  {
   "cell_type": "markdown",
   "id": "423c6ba2",
   "metadata": {},
   "source": [
    "## Общий вывод:\n",
    "## General conclusion:"
   ]
  },
  {
   "cell_type": "markdown",
   "id": "488cd293",
   "metadata": {},
   "source": [
    "<div class=\"alert alert-block alert-info\">\n",
    "\n",
    "    Влияет ли семейное положение и количество детей клиента на факт погашения кредита в срок?\n",
    "\n",
    "Согласно этому исследованию, семейное положение клиента оказывает влияние на возврат кредита в срок.\n",
    "Семьи имеющие 2-й семейный статус `вдова/вдовец` имеют минимальный риск по возврату (около 6,6%). \n",
    "Максмимальный риск имеют семьи со статусом 1 `гражданский брак` и 4 `Не женат/не замужем`, около 9,5%.\n",
    "    \n",
    "Количество детей клиента так же оказывает влияние:\n",
    "Семьи не имеющие детей возвращают кредиты в срок чаще (7,5% невозвратов), чем семьи имеющие 1,2,3 и 4 ребенка(примерно 9,5% невозвратов). \n",
    "        \n",
    "Семьи имеющие 20 детей имеют максимальный риск невозврата кредита, около 10,5%.\n",
    "   \n",
    "Минимальный риск по возврату имеют клиенты с уровнем дохода `D` (около 6%). А максимальный риск клиенты с уровнем дохода `C` и `E` (около 8,7%)\n",
    "\n",
    "`Операции с недвижимостью` и `проведение свадьбы` находятся в минимальной группе риска (7,2%).  \n",
    "В то время как `получение образования` и `операции с автомобилем` именют выше риск невозврата кредита в срок (около 9,2%).    \n",
    "Женщины имеющие высшее образование один из наименее рискованный классов, около 4,7% невозвратов.\n",
    "    \n",
    "\n",
    "</div>"
   ]
  },
  {
   "cell_type": "code",
   "execution_count": 85,
   "id": "f190c082",
   "metadata": {},
   "outputs": [],
   "source": [
    "kredit = [\n",
    "    \n",
    "    ['Семьи без детей', 7.5],\n",
    "    ['Семьи 1,2,3,4 ребенка', 9.5],\n",
    "    ['Вдова/вдовец', 6.6],\n",
    "    ['Гражданский брак/Не женат/не замужем', 9.5],\n",
    "    ['Уровень дохода D', 6],\n",
    "    ['Уровень дохода C и E', 8.7],\n",
    "    ['Женщины c высшим образованием ', 4.7],\n",
    "    ['недвижимость/свадьба', 7.2],\n",
    "    ['образование/автомобиль', 9.2]\n",
    "]\n",
    "col = ['тип клиента', '% невозврата']"
   ]
  },
  {
   "cell_type": "code",
   "execution_count": 86,
   "id": "42808896",
   "metadata": {},
   "outputs": [],
   "source": [
    "table_result = pd.DataFrame(data = kredit, columns=col)"
   ]
  },
  {
   "cell_type": "markdown",
   "id": "468bfbef",
   "metadata": {},
   "source": [
    "<div class=\"alert alert-block alert-info\">\n",
    "\n",
    "Результат по исследованию в виде таблицы.\n",
    "</div>"
   ]
  },
  {
   "cell_type": "code",
   "execution_count": 87,
   "id": "8ff467cc",
   "metadata": {},
   "outputs": [
    {
     "data": {
      "text/html": [
       "<div>\n",
       "<style scoped>\n",
       "    .dataframe tbody tr th:only-of-type {\n",
       "        vertical-align: middle;\n",
       "    }\n",
       "\n",
       "    .dataframe tbody tr th {\n",
       "        vertical-align: top;\n",
       "    }\n",
       "\n",
       "    .dataframe thead th {\n",
       "        text-align: right;\n",
       "    }\n",
       "</style>\n",
       "<table border=\"1\" class=\"dataframe\">\n",
       "  <thead>\n",
       "    <tr style=\"text-align: right;\">\n",
       "      <th></th>\n",
       "      <th>тип клиента</th>\n",
       "      <th>% невозврата</th>\n",
       "    </tr>\n",
       "  </thead>\n",
       "  <tbody>\n",
       "    <tr>\n",
       "      <th>6</th>\n",
       "      <td>Женщины c высшим образованием</td>\n",
       "      <td>4.7</td>\n",
       "    </tr>\n",
       "    <tr>\n",
       "      <th>4</th>\n",
       "      <td>Уровень дохода D</td>\n",
       "      <td>6.0</td>\n",
       "    </tr>\n",
       "    <tr>\n",
       "      <th>2</th>\n",
       "      <td>Вдова/вдовец</td>\n",
       "      <td>6.6</td>\n",
       "    </tr>\n",
       "    <tr>\n",
       "      <th>7</th>\n",
       "      <td>недвижимость/свадьба</td>\n",
       "      <td>7.2</td>\n",
       "    </tr>\n",
       "    <tr>\n",
       "      <th>0</th>\n",
       "      <td>Семьи без детей</td>\n",
       "      <td>7.5</td>\n",
       "    </tr>\n",
       "    <tr>\n",
       "      <th>5</th>\n",
       "      <td>Уровень дохода C и E</td>\n",
       "      <td>8.7</td>\n",
       "    </tr>\n",
       "    <tr>\n",
       "      <th>8</th>\n",
       "      <td>образование/автомобиль</td>\n",
       "      <td>9.2</td>\n",
       "    </tr>\n",
       "    <tr>\n",
       "      <th>1</th>\n",
       "      <td>Семьи 1,2,3,4 ребенка</td>\n",
       "      <td>9.5</td>\n",
       "    </tr>\n",
       "    <tr>\n",
       "      <th>3</th>\n",
       "      <td>Гражданский брак/Не женат/не замужем</td>\n",
       "      <td>9.5</td>\n",
       "    </tr>\n",
       "  </tbody>\n",
       "</table>\n",
       "</div>"
      ],
      "text/plain": [
       "                            тип клиента  % невозврата\n",
       "6        Женщины c высшим образованием            4.7\n",
       "4                      Уровень дохода D           6.0\n",
       "2                          Вдова/вдовец           6.6\n",
       "7                  недвижимость/свадьба           7.2\n",
       "0                       Семьи без детей           7.5\n",
       "5                  Уровень дохода C и E           8.7\n",
       "8                образование/автомобиль           9.2\n",
       "1                 Семьи 1,2,3,4 ребенка           9.5\n",
       "3  Гражданский брак/Не женат/не замужем           9.5"
      ]
     },
     "execution_count": 87,
     "metadata": {},
     "output_type": "execute_result"
    }
   ],
   "source": [
    "table_result.sort_values('% невозврата')"
   ]
  }
 ],
 "metadata": {
  "ExecuteTimeLog": [
   {
    "duration": 602,
    "start_time": "2022-05-16T12:52:31.383Z"
   },
   {
    "duration": 94,
    "start_time": "2022-05-16T12:53:24.226Z"
   },
   {
    "duration": 4,
    "start_time": "2022-05-16T12:53:46.253Z"
   },
   {
    "duration": 10,
    "start_time": "2022-05-16T12:53:46.575Z"
   },
   {
    "duration": 69,
    "start_time": "2022-05-16T12:53:52.469Z"
   },
   {
    "duration": 463,
    "start_time": "2022-05-17T11:57:26.204Z"
   },
   {
    "duration": 55,
    "start_time": "2022-05-17T11:57:26.669Z"
   },
   {
    "duration": 23,
    "start_time": "2022-05-17T11:57:26.726Z"
   },
   {
    "duration": 17,
    "start_time": "2022-05-17T11:57:26.751Z"
   },
   {
    "duration": 12,
    "start_time": "2022-05-17T11:57:26.770Z"
   },
   {
    "duration": 28,
    "start_time": "2022-05-17T11:57:26.783Z"
   },
   {
    "duration": 14,
    "start_time": "2022-05-17T11:57:26.812Z"
   },
   {
    "duration": 31,
    "start_time": "2022-05-17T11:57:26.828Z"
   },
   {
    "duration": 27,
    "start_time": "2022-05-17T11:57:26.860Z"
   },
   {
    "duration": 11,
    "start_time": "2022-05-17T11:57:26.889Z"
   },
   {
    "duration": 22,
    "start_time": "2022-05-17T11:57:26.901Z"
   },
   {
    "duration": 18,
    "start_time": "2022-05-17T11:57:26.925Z"
   },
   {
    "duration": 12,
    "start_time": "2022-05-17T11:57:26.945Z"
   },
   {
    "duration": 5,
    "start_time": "2022-05-17T11:57:26.960Z"
   },
   {
    "duration": 12,
    "start_time": "2022-05-17T11:57:26.967Z"
   },
   {
    "duration": 3,
    "start_time": "2022-05-17T11:57:26.981Z"
   },
   {
    "duration": 15,
    "start_time": "2022-05-17T11:57:26.986Z"
   },
   {
    "duration": 5,
    "start_time": "2022-05-17T11:57:27.003Z"
   },
   {
    "duration": 18,
    "start_time": "2022-05-17T11:57:27.010Z"
   },
   {
    "duration": 7,
    "start_time": "2022-05-17T11:57:27.043Z"
   },
   {
    "duration": 6,
    "start_time": "2022-05-17T11:57:27.052Z"
   },
   {
    "duration": 8,
    "start_time": "2022-05-17T11:57:27.059Z"
   },
   {
    "duration": 5,
    "start_time": "2022-05-17T11:57:27.069Z"
   },
   {
    "duration": 11,
    "start_time": "2022-05-17T11:57:27.075Z"
   },
   {
    "duration": 5,
    "start_time": "2022-05-17T11:57:27.088Z"
   },
   {
    "duration": 9,
    "start_time": "2022-05-17T11:57:27.095Z"
   },
   {
    "duration": 4,
    "start_time": "2022-05-17T11:57:27.106Z"
   },
   {
    "duration": 5,
    "start_time": "2022-05-17T11:57:27.143Z"
   },
   {
    "duration": 7,
    "start_time": "2022-05-17T11:57:27.150Z"
   },
   {
    "duration": 9,
    "start_time": "2022-05-17T11:57:27.158Z"
   },
   {
    "duration": 5,
    "start_time": "2022-05-17T11:57:27.168Z"
   },
   {
    "duration": 9,
    "start_time": "2022-05-17T11:57:27.174Z"
   },
   {
    "duration": 8,
    "start_time": "2022-05-17T11:57:27.184Z"
   },
   {
    "duration": 5,
    "start_time": "2022-05-17T11:57:27.193Z"
   },
   {
    "duration": 7,
    "start_time": "2022-05-17T11:57:27.199Z"
   },
   {
    "duration": 6,
    "start_time": "2022-05-17T11:57:27.207Z"
   },
   {
    "duration": 29,
    "start_time": "2022-05-17T11:57:27.214Z"
   },
   {
    "duration": 3,
    "start_time": "2022-05-17T11:57:27.244Z"
   },
   {
    "duration": 6,
    "start_time": "2022-05-17T11:57:27.248Z"
   },
   {
    "duration": 10,
    "start_time": "2022-05-17T11:57:27.255Z"
   },
   {
    "duration": 6,
    "start_time": "2022-05-17T11:57:27.269Z"
   },
   {
    "duration": 9,
    "start_time": "2022-05-17T11:57:27.277Z"
   },
   {
    "duration": 10,
    "start_time": "2022-05-17T11:57:27.287Z"
   },
   {
    "duration": 14,
    "start_time": "2022-05-17T11:57:27.298Z"
   },
   {
    "duration": 8,
    "start_time": "2022-05-17T11:57:27.313Z"
   },
   {
    "duration": 5,
    "start_time": "2022-05-17T11:57:27.343Z"
   },
   {
    "duration": 15,
    "start_time": "2022-05-17T11:57:27.350Z"
   },
   {
    "duration": 13,
    "start_time": "2022-05-17T11:57:27.366Z"
   },
   {
    "duration": 22,
    "start_time": "2022-05-17T11:57:27.381Z"
   },
   {
    "duration": 14,
    "start_time": "2022-05-17T11:57:27.404Z"
   },
   {
    "duration": 20,
    "start_time": "2022-05-17T11:57:27.419Z"
   },
   {
    "duration": 12,
    "start_time": "2022-05-17T11:57:27.441Z"
   },
   {
    "duration": 17,
    "start_time": "2022-05-17T11:57:27.454Z"
   },
   {
    "duration": 23,
    "start_time": "2022-05-17T11:57:27.473Z"
   },
   {
    "duration": 22,
    "start_time": "2022-05-17T11:57:27.498Z"
   },
   {
    "duration": 6,
    "start_time": "2022-05-17T11:57:27.521Z"
   },
   {
    "duration": 17,
    "start_time": "2022-05-17T11:57:27.528Z"
   },
   {
    "duration": 25,
    "start_time": "2022-05-17T11:57:27.547Z"
   },
   {
    "duration": 20,
    "start_time": "2022-05-17T11:57:27.574Z"
   },
   {
    "duration": 10,
    "start_time": "2022-05-17T11:57:27.595Z"
   },
   {
    "duration": 17,
    "start_time": "2022-05-17T11:57:27.607Z"
   },
   {
    "duration": 12,
    "start_time": "2022-05-17T11:57:27.625Z"
   },
   {
    "duration": 13,
    "start_time": "2022-05-17T11:57:27.638Z"
   },
   {
    "duration": 13,
    "start_time": "2022-05-17T11:57:27.652Z"
   },
   {
    "duration": 15,
    "start_time": "2022-05-17T11:57:27.667Z"
   },
   {
    "duration": 19,
    "start_time": "2022-05-17T11:57:27.683Z"
   },
   {
    "duration": 23,
    "start_time": "2022-05-17T11:57:27.703Z"
   },
   {
    "duration": 8,
    "start_time": "2022-05-17T11:57:27.728Z"
   },
   {
    "duration": 13,
    "start_time": "2022-05-17T11:57:27.738Z"
   },
   {
    "duration": 16,
    "start_time": "2022-05-17T11:57:27.752Z"
   },
   {
    "duration": 17,
    "start_time": "2022-05-17T11:57:27.769Z"
   },
   {
    "duration": 15,
    "start_time": "2022-05-17T11:57:27.788Z"
   },
   {
    "duration": 7,
    "start_time": "2022-05-17T11:57:27.805Z"
   },
   {
    "duration": 6,
    "start_time": "2022-05-17T11:57:27.813Z"
   },
   {
    "duration": 7,
    "start_time": "2022-05-17T11:57:27.821Z"
   },
   {
    "duration": 31,
    "start_time": "2022-05-17T11:57:27.830Z"
   },
   {
    "duration": 22,
    "start_time": "2022-05-17T11:57:27.862Z"
   },
   {
    "duration": 33,
    "start_time": "2022-05-17T11:57:27.885Z"
   },
   {
    "duration": 12,
    "start_time": "2022-05-17T11:57:27.919Z"
   },
   {
    "duration": 22,
    "start_time": "2022-05-17T11:57:27.933Z"
   },
   {
    "duration": 19,
    "start_time": "2022-05-17T11:57:27.956Z"
   },
   {
    "duration": 28,
    "start_time": "2022-05-17T11:57:27.976Z"
   },
   {
    "duration": 33,
    "start_time": "2022-05-17T11:57:28.006Z"
   },
   {
    "duration": 28,
    "start_time": "2022-05-17T11:57:28.040Z"
   },
   {
    "duration": 25,
    "start_time": "2022-05-17T11:57:28.070Z"
   },
   {
    "duration": 23,
    "start_time": "2022-05-17T11:57:28.097Z"
   },
   {
    "duration": 37,
    "start_time": "2022-05-17T11:57:28.121Z"
   },
   {
    "duration": 31,
    "start_time": "2022-05-17T11:57:28.160Z"
   },
   {
    "duration": 26,
    "start_time": "2022-05-17T11:57:28.192Z"
   },
   {
    "duration": 36,
    "start_time": "2022-05-17T11:57:28.220Z"
   },
   {
    "duration": 19,
    "start_time": "2022-05-17T11:57:28.258Z"
   },
   {
    "duration": 34,
    "start_time": "2022-05-17T11:57:28.279Z"
   },
   {
    "duration": 16,
    "start_time": "2022-05-17T11:57:28.315Z"
   },
   {
    "duration": 34,
    "start_time": "2022-05-17T11:57:28.333Z"
   },
   {
    "duration": 16,
    "start_time": "2022-05-17T11:57:28.369Z"
   },
   {
    "duration": 28,
    "start_time": "2022-05-17T11:57:28.386Z"
   },
   {
    "duration": 19,
    "start_time": "2022-05-17T11:57:28.415Z"
   },
   {
    "duration": 34,
    "start_time": "2022-05-17T11:57:28.435Z"
   },
   {
    "duration": 14,
    "start_time": "2022-05-17T11:57:28.471Z"
   },
   {
    "duration": 38,
    "start_time": "2022-05-17T11:57:28.487Z"
   },
   {
    "duration": 11,
    "start_time": "2022-05-17T11:57:28.526Z"
   },
   {
    "duration": 24,
    "start_time": "2022-05-17T11:57:28.538Z"
   },
   {
    "duration": 33,
    "start_time": "2022-05-17T11:57:28.563Z"
   },
   {
    "duration": 21,
    "start_time": "2022-05-17T11:57:28.597Z"
   },
   {
    "duration": 29,
    "start_time": "2022-05-17T12:00:05.141Z"
   },
   {
    "duration": 12,
    "start_time": "2022-05-17T12:01:55.697Z"
   },
   {
    "duration": 96,
    "start_time": "2022-05-19T05:52:11.605Z"
   },
   {
    "duration": 448,
    "start_time": "2022-05-19T05:52:18.003Z"
   },
   {
    "duration": 145,
    "start_time": "2022-05-19T05:52:18.457Z"
   },
   {
    "duration": 44,
    "start_time": "2022-05-19T05:52:18.611Z"
   },
   {
    "duration": 30,
    "start_time": "2022-05-19T05:52:18.661Z"
   },
   {
    "duration": 11,
    "start_time": "2022-05-19T05:52:18.694Z"
   },
   {
    "duration": 40,
    "start_time": "2022-05-19T05:52:18.707Z"
   },
   {
    "duration": 34,
    "start_time": "2022-05-19T05:52:18.749Z"
   },
   {
    "duration": 69,
    "start_time": "2022-05-19T05:52:18.784Z"
   },
   {
    "duration": 34,
    "start_time": "2022-05-19T05:52:18.855Z"
   },
   {
    "duration": 22,
    "start_time": "2022-05-19T05:52:18.890Z"
   },
   {
    "duration": 53,
    "start_time": "2022-05-19T05:52:18.914Z"
   },
   {
    "duration": 34,
    "start_time": "2022-05-19T05:52:18.969Z"
   },
   {
    "duration": 52,
    "start_time": "2022-05-19T05:52:19.004Z"
   },
   {
    "duration": 7,
    "start_time": "2022-05-19T05:52:19.059Z"
   },
   {
    "duration": 12,
    "start_time": "2022-05-19T05:52:19.068Z"
   },
   {
    "duration": 71,
    "start_time": "2022-05-19T05:52:19.081Z"
   },
   {
    "duration": 17,
    "start_time": "2022-05-19T05:52:19.153Z"
   },
   {
    "duration": 5,
    "start_time": "2022-05-19T05:52:19.172Z"
   },
   {
    "duration": 77,
    "start_time": "2022-05-19T05:52:19.178Z"
   },
   {
    "duration": 8,
    "start_time": "2022-05-19T05:52:19.257Z"
   },
   {
    "duration": 14,
    "start_time": "2022-05-19T05:52:19.267Z"
   },
   {
    "duration": 74,
    "start_time": "2022-05-19T05:52:19.283Z"
   },
   {
    "duration": 7,
    "start_time": "2022-05-19T05:52:19.359Z"
   },
   {
    "duration": 8,
    "start_time": "2022-05-19T05:52:19.368Z"
   },
   {
    "duration": 134,
    "start_time": "2022-05-19T05:52:19.387Z"
   },
   {
    "duration": 33,
    "start_time": "2022-05-19T05:52:19.523Z"
   },
   {
    "duration": 12,
    "start_time": "2022-05-19T05:52:19.558Z"
   },
   {
    "duration": 65,
    "start_time": "2022-05-19T05:52:19.572Z"
   },
   {
    "duration": 69,
    "start_time": "2022-05-19T05:52:19.638Z"
   },
   {
    "duration": 57,
    "start_time": "2022-05-19T05:52:19.709Z"
   },
   {
    "duration": 7,
    "start_time": "2022-05-19T05:52:19.768Z"
   },
   {
    "duration": 100,
    "start_time": "2022-05-19T05:52:19.776Z"
   },
   {
    "duration": 84,
    "start_time": "2022-05-19T05:52:19.878Z"
   },
   {
    "duration": 12,
    "start_time": "2022-05-19T05:52:19.963Z"
   },
   {
    "duration": 65,
    "start_time": "2022-05-19T05:52:19.984Z"
   },
   {
    "duration": 17,
    "start_time": "2022-05-19T05:52:20.056Z"
   },
   {
    "duration": 80,
    "start_time": "2022-05-19T05:52:20.081Z"
   },
   {
    "duration": 9,
    "start_time": "2022-05-19T05:52:20.164Z"
   },
   {
    "duration": 65,
    "start_time": "2022-05-19T05:52:20.176Z"
   },
   {
    "duration": 26,
    "start_time": "2022-05-19T05:52:20.242Z"
   },
   {
    "duration": 59,
    "start_time": "2022-05-19T05:52:20.273Z"
   },
   {
    "duration": 31,
    "start_time": "2022-05-19T05:52:20.333Z"
   },
   {
    "duration": 13,
    "start_time": "2022-05-19T05:52:20.366Z"
   },
   {
    "duration": 43,
    "start_time": "2022-05-19T05:52:20.385Z"
   },
   {
    "duration": 30,
    "start_time": "2022-05-19T05:52:20.429Z"
   },
   {
    "duration": 16,
    "start_time": "2022-05-19T05:52:20.462Z"
   },
   {
    "duration": 61,
    "start_time": "2022-05-19T05:52:20.482Z"
   },
   {
    "duration": 8,
    "start_time": "2022-05-19T05:52:20.549Z"
   },
   {
    "duration": 10,
    "start_time": "2022-05-19T05:52:20.559Z"
   },
   {
    "duration": 9,
    "start_time": "2022-05-19T05:52:20.572Z"
   },
   {
    "duration": 74,
    "start_time": "2022-05-19T05:52:20.583Z"
   },
   {
    "duration": 8,
    "start_time": "2022-05-19T05:52:20.659Z"
   },
   {
    "duration": 78,
    "start_time": "2022-05-19T05:52:20.670Z"
   },
   {
    "duration": 32,
    "start_time": "2022-05-19T05:52:20.751Z"
   },
   {
    "duration": 62,
    "start_time": "2022-05-19T05:52:20.791Z"
   },
   {
    "duration": 10,
    "start_time": "2022-05-19T05:52:20.854Z"
   },
   {
    "duration": 8,
    "start_time": "2022-05-19T05:52:20.865Z"
   },
   {
    "duration": 74,
    "start_time": "2022-05-19T05:52:20.884Z"
   },
   {
    "duration": 12,
    "start_time": "2022-05-19T05:52:20.960Z"
   },
   {
    "duration": 36,
    "start_time": "2022-05-19T05:52:20.974Z"
   },
   {
    "duration": 58,
    "start_time": "2022-05-19T05:52:21.012Z"
   },
   {
    "duration": 21,
    "start_time": "2022-05-19T05:52:21.071Z"
   },
   {
    "duration": 69,
    "start_time": "2022-05-19T05:52:21.093Z"
   },
   {
    "duration": 92,
    "start_time": "2022-05-19T05:52:21.164Z"
   },
   {
    "duration": 13,
    "start_time": "2022-05-19T05:52:21.257Z"
   },
   {
    "duration": 57,
    "start_time": "2022-05-19T05:52:21.272Z"
   },
   {
    "duration": 37,
    "start_time": "2022-05-19T05:52:21.330Z"
   },
   {
    "duration": 51,
    "start_time": "2022-05-19T05:52:21.369Z"
   },
   {
    "duration": 38,
    "start_time": "2022-05-19T05:52:21.421Z"
   },
   {
    "duration": 7,
    "start_time": "2022-05-19T05:52:21.460Z"
   },
   {
    "duration": 13,
    "start_time": "2022-05-19T05:52:21.469Z"
   },
   {
    "duration": 80,
    "start_time": "2022-05-19T05:52:21.484Z"
   },
   {
    "duration": 50,
    "start_time": "2022-05-19T05:52:21.566Z"
   },
   {
    "duration": 60,
    "start_time": "2022-05-19T05:52:21.623Z"
   },
   {
    "duration": 17,
    "start_time": "2022-05-19T05:52:21.685Z"
   },
   {
    "duration": 56,
    "start_time": "2022-05-19T05:52:21.703Z"
   },
   {
    "duration": 9,
    "start_time": "2022-05-19T05:52:21.762Z"
   },
   {
    "duration": 114,
    "start_time": "2022-05-19T05:52:21.773Z"
   },
   {
    "duration": 14,
    "start_time": "2022-05-19T05:52:21.895Z"
   },
   {
    "duration": 41,
    "start_time": "2022-05-19T05:52:21.911Z"
   },
   {
    "duration": 28,
    "start_time": "2022-05-19T05:52:21.954Z"
   },
   {
    "duration": 81,
    "start_time": "2022-05-19T05:52:21.984Z"
   },
   {
    "duration": 7,
    "start_time": "2022-05-19T05:52:22.066Z"
   },
   {
    "duration": 87,
    "start_time": "2022-05-19T05:52:22.075Z"
   },
   {
    "duration": 9,
    "start_time": "2022-05-19T05:52:22.164Z"
   },
   {
    "duration": 86,
    "start_time": "2022-05-19T05:52:22.175Z"
   },
   {
    "duration": 20,
    "start_time": "2022-05-19T05:52:22.263Z"
   },
   {
    "duration": 78,
    "start_time": "2022-05-19T05:52:22.285Z"
   },
   {
    "duration": 69,
    "start_time": "2022-05-19T05:52:25.474Z"
   }
  ],
  "kernelspec": {
   "display_name": "Python 3 (ipykernel)",
   "language": "python",
   "name": "python3"
  },
  "language_info": {
   "codemirror_mode": {
    "name": "ipython",
    "version": 3
   },
   "file_extension": ".py",
   "mimetype": "text/x-python",
   "name": "python",
   "nbconvert_exporter": "python",
   "pygments_lexer": "ipython3",
   "version": "3.9.2"
  },
  "toc": {
   "base_numbering": 1,
   "nav_menu": {},
   "number_sections": true,
   "sideBar": true,
   "skip_h1_title": true,
   "title_cell": "Table of Contents",
   "title_sidebar": "Contents",
   "toc_cell": false,
   "toc_position": {},
   "toc_section_display": true,
   "toc_window_display": false
  }
 },
 "nbformat": 4,
 "nbformat_minor": 5
}

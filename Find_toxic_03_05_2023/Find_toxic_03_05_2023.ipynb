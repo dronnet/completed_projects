{
 "cells": [
  {
   "cell_type": "markdown",
   "id": "25744bd4",
   "metadata": {},
   "source": [
    "## СОДЕРЖАНИЕ:\n",
    "* [Подготовка](#first-bullet)\n",
    "* [Способ TF-IDF](#sec-bullet)\n",
    "* [Способ BERT](#tree-bullet)\n",
    "* [Выводы](#four-bullet)"
   ]
  },
  {
   "cell_type": "markdown",
   "id": "f26029f1",
   "metadata": {},
   "source": [
    "# Проект для «Викишоп» с BERT (и TF-IDF)"
   ]
  },
  {
   "cell_type": "markdown",
   "id": "2480938e",
   "metadata": {},
   "source": [
    "Нужено создать инструмент, который будет искать токсичные комментарии и отправлять их на модерацию. \n",
    "\n",
    "Обучите модель классифицировать комментарии на позитивные и негативные. В вашем распоряжении набор данных с разметкой о токсичности правок.\n",
    "\n",
    "Постройте модель со значением метрики качества *F1* не меньше 0.75. \n",
    "\n",
    "**Описание данных**\n",
    "\n",
    "Данные находятся в файле `toxic_comments.csv`. Столбец *text* в нём содержит текст комментария, а *toxic* — целевой признак."
   ]
  },
  {
   "cell_type": "code",
   "execution_count": 1,
   "id": "9cf30f4e",
   "metadata": {},
   "outputs": [],
   "source": [
    "import os\n",
    "import numpy as np\n",
    "import pandas as pd\n",
    "import spacy\n",
    "import torch\n",
    "import transformers\n",
    "from tqdm import notebook\n",
    "from tqdm.notebook import tqdm\n",
    "tqdm.pandas()\n",
    "from sklearn.model_selection import GridSearchCV\n",
    "from sklearn.linear_model import LogisticRegression\n",
    "from sklearn.ensemble import RandomForestClassifier\n",
    "from sklearn.svm import SVC\n",
    "from sklearn.model_selection import cross_val_score\n",
    "from sklearn.model_selection import train_test_split\n",
    "from sklearn.metrics import f1_score\n",
    "#import nltk\n",
    "#from nltk.corpus import stopwords as nltk_stopwords\n",
    "from sklearn.feature_extraction.text import TfidfVectorizer\n",
    "#from catboost import CatBoostClassifier\n",
    "import re\n",
    "#from nltk.tokenize import word_tokenize\n"
   ]
  },
  {
   "cell_type": "code",
   "execution_count": 2,
   "id": "f2570a9f",
   "metadata": {},
   "outputs": [],
   "source": [
    "STATE = 12345"
   ]
  },
  {
   "cell_type": "markdown",
   "id": "eaeb1def",
   "metadata": {},
   "source": [
    "# Подготовка <a class=\"anchor\" id=\"first-bullet\"></a>"
   ]
  },
  {
   "cell_type": "code",
   "execution_count": 3,
   "id": "61cf861f",
   "metadata": {},
   "outputs": [],
   "source": [
    "#чтение датасета\n",
    "pth1 = './toxic_comments.csv'\n",
    "pth2 = '/datasets/toxic_comments.csv'\n",
    "\n",
    "if os.path.exists(pth1):\n",
    "    comments = pd.read_csv(pth1)\n",
    "elif os.path.exists(pth2):\n",
    "    comments = pd.read_csv(pth2)\n",
    "else:\n",
    "    print('Something is wrong, что-то пошло не так как надо')\n",
    "    "
   ]
  },
  {
   "cell_type": "code",
   "execution_count": 4,
   "id": "124de5c4",
   "metadata": {},
   "outputs": [],
   "source": [
    "comments = comments.drop('Unnamed: 0', axis=1)"
   ]
  },
  {
   "cell_type": "code",
   "execution_count": 5,
   "id": "afaebaeb",
   "metadata": {},
   "outputs": [
    {
     "data": {
      "text/html": [
       "<div>\n",
       "<style scoped>\n",
       "    .dataframe tbody tr th:only-of-type {\n",
       "        vertical-align: middle;\n",
       "    }\n",
       "\n",
       "    .dataframe tbody tr th {\n",
       "        vertical-align: top;\n",
       "    }\n",
       "\n",
       "    .dataframe thead th {\n",
       "        text-align: right;\n",
       "    }\n",
       "</style>\n",
       "<table border=\"1\" class=\"dataframe\">\n",
       "  <thead>\n",
       "    <tr style=\"text-align: right;\">\n",
       "      <th></th>\n",
       "      <th>text</th>\n",
       "      <th>toxic</th>\n",
       "    </tr>\n",
       "  </thead>\n",
       "  <tbody>\n",
       "    <tr>\n",
       "      <th>0</th>\n",
       "      <td>Explanation\\nWhy the edits made under my usern...</td>\n",
       "      <td>0</td>\n",
       "    </tr>\n",
       "    <tr>\n",
       "      <th>1</th>\n",
       "      <td>D'aww! He matches this background colour I'm s...</td>\n",
       "      <td>0</td>\n",
       "    </tr>\n",
       "    <tr>\n",
       "      <th>2</th>\n",
       "      <td>Hey man, I'm really not trying to edit war. It...</td>\n",
       "      <td>0</td>\n",
       "    </tr>\n",
       "    <tr>\n",
       "      <th>3</th>\n",
       "      <td>\"\\nMore\\nI can't make any real suggestions on ...</td>\n",
       "      <td>0</td>\n",
       "    </tr>\n",
       "    <tr>\n",
       "      <th>4</th>\n",
       "      <td>You, sir, are my hero. Any chance you remember...</td>\n",
       "      <td>0</td>\n",
       "    </tr>\n",
       "  </tbody>\n",
       "</table>\n",
       "</div>"
      ],
      "text/plain": [
       "                                                text  toxic\n",
       "0  Explanation\\nWhy the edits made under my usern...      0\n",
       "1  D'aww! He matches this background colour I'm s...      0\n",
       "2  Hey man, I'm really not trying to edit war. It...      0\n",
       "3  \"\\nMore\\nI can't make any real suggestions on ...      0\n",
       "4  You, sir, are my hero. Any chance you remember...      0"
      ]
     },
     "execution_count": 5,
     "metadata": {},
     "output_type": "execute_result"
    }
   ],
   "source": [
    "comments.head()"
   ]
  },
  {
   "cell_type": "code",
   "execution_count": 6,
   "id": "a65461d7",
   "metadata": {},
   "outputs": [
    {
     "name": "stdout",
     "output_type": "stream",
     "text": [
      "<class 'pandas.core.frame.DataFrame'>\n",
      "RangeIndex: 159292 entries, 0 to 159291\n",
      "Data columns (total 2 columns):\n",
      " #   Column  Non-Null Count   Dtype \n",
      "---  ------  --------------   ----- \n",
      " 0   text    159292 non-null  object\n",
      " 1   toxic   159292 non-null  int64 \n",
      "dtypes: int64(1), object(1)\n",
      "memory usage: 79.9 MB\n"
     ]
    }
   ],
   "source": [
    "comments.info(memory_usage='deep')"
   ]
  },
  {
   "cell_type": "code",
   "execution_count": 7,
   "id": "c6f27621",
   "metadata": {},
   "outputs": [
    {
     "data": {
      "text/plain": [
       "0.10161213369158527"
      ]
     },
     "execution_count": 7,
     "metadata": {},
     "output_type": "execute_result"
    }
   ],
   "source": [
    "comments['toxic'].mean()"
   ]
  },
  {
   "cell_type": "markdown",
   "id": "1edddba8",
   "metadata": {},
   "source": [
    "балланс слабый, всего 10% класса 1"
   ]
  },
  {
   "cell_type": "markdown",
   "id": "c746ef2f",
   "metadata": {},
   "source": [
    "###### Выводы\n",
    "\n",
    "Данные довольно обьемные, почти 160 тыс строк и всего два столбца.\n",
    "\n",
    "С первых же строк видно что текст в комментариях не очищен и не лемматизирован, то есть \"сырой\".\n",
    "\n",
    "Распределение целевого признака сильно неравномерное. \"Токсичных\" комментариев всего 10% от общей массы."
   ]
  },
  {
   "cell_type": "markdown",
   "id": "412651dc",
   "metadata": {},
   "source": [
    "# Способ TF-IDF <a class=\"anchor\" id=\"sec-bullet\"></a>"
   ]
  },
  {
   "cell_type": "markdown",
   "id": "30b402ea",
   "metadata": {},
   "source": [
    "очистка и лемматизация текста"
   ]
  },
  {
   "cell_type": "code",
   "execution_count": null,
   "id": "e08eb7ca",
   "metadata": {},
   "outputs": [],
   "source": [
    "#функция для приведения к нижнему регистру, удаление https com ссылок, и лемматизация библиотекой nltk\n",
    "def clear_lemma_text(text):\n",
    "    summ = []\n",
    "    text = re.sub(\"[^a-zA-Z]\",\" \",text).lower()\n",
    "    text = re.sub(r'http\\S+', '', text) #remove_https\n",
    "    text = re.sub(r\"\\ [A-Za-z]*.com\", \" \", text) #remove_com\n",
    "    text = text.strip() #убирание первого и последнего пробела\n",
    "    text = re.sub(r' {1,10}', ' ', text) #замена множественных пробелов на один\n",
    "    \n",
    "    for j in text.split():\n",
    "        #print(j)\n",
    "        if not j in stopwords:\n",
    "            summ.append(lemmatize.lemmatize(j))\n",
    "            \n",
    "    \n",
    "    text = ' '.join(summ)\n",
    "    \n",
    "    \n",
    "    return text"
   ]
  },
  {
   "cell_type": "code",
   "execution_count": null,
   "id": "7ae54b02",
   "metadata": {},
   "outputs": [],
   "source": []
  },
  {
   "cell_type": "code",
   "execution_count": null,
   "id": "0f665dd6",
   "metadata": {},
   "outputs": [],
   "source": [
    "#инициализируем модель spacy 'en' \n",
    "nlp = spacy.load('en_core_web_sm', disable=['parser', 'ner'])"
   ]
  },
  {
   "cell_type": "code",
   "execution_count": null,
   "id": "e85ef95e",
   "metadata": {},
   "outputs": [],
   "source": [
    "#функция очистки, удаление https com ссылок, и лемматизация библиотекой spacy\n",
    "def clear_lemma_spacy_text(text):\n",
    "    summ = []\n",
    "    text = re.sub(\"[^a-zA-Z]\",\" \",text).lower()\n",
    "    text = re.sub(r'http\\S+', '', text) #remove_https\n",
    "    text = re.sub(r\"\\ [A-Za-z]*.com\", \" \", text) #remove_com\n",
    "    text = text.strip() #убирание первого и последнего пробела\n",
    "    text = re.sub(r' {1,10}', ' ', text) #замена множественных пробелов на один\n",
    "    \n",
    "    doc = nlp(text) #лемматизация spacy\n",
    "    text = \" \".join([token.lemma_ for token in doc]) #сборка предложения обратно\n",
    "    \n",
    "    \n",
    "    return text"
   ]
  },
  {
   "cell_type": "code",
   "execution_count": null,
   "id": "b208278a",
   "metadata": {},
   "outputs": [],
   "source": [
    "#проверка\n",
    "t = comments['text'][33]\n",
    "t"
   ]
  },
  {
   "cell_type": "code",
   "execution_count": null,
   "id": "0303f569",
   "metadata": {},
   "outputs": [],
   "source": [
    "#проверка\n",
    "spacy = clear_lemma_spacy_text(t)\n",
    "spacy"
   ]
  },
  {
   "cell_type": "markdown",
   "id": "3711c63e",
   "metadata": {},
   "source": [
    "код ниже пришлось сделать так как лемматизация выполняется долго и легче сделать её один раз и потом скачать с диска готовый датасет"
   ]
  },
  {
   "cell_type": "code",
   "execution_count": null,
   "id": "88d83993",
   "metadata": {},
   "outputs": [],
   "source": [
    "#чтение лемматизированного датасета\n",
    "pth1 = './toxic_comments_lemma.csv'\n",
    "\n",
    "if os.path.exists(pth1):\n",
    "    comments = pd.read_csv(pth1)\n",
    "else:\n",
    "    print('Если выпала эта надпись, надо раскомментировать две строки снизу')\n",
    "    "
   ]
  },
  {
   "cell_type": "raw",
   "id": "970eab93",
   "metadata": {},
   "source": [
    "#преобразование текста функцией clear_lemma_spacy_text (очистка, лемматизация)\n",
    "comments['text_lemma'] = comments['text'].progress_apply(clear_lemma_spacy_text)"
   ]
  },
  {
   "cell_type": "raw",
   "id": "36ac156f",
   "metadata": {},
   "source": [
    "#запись в файл чтобы в следующий запуск не лемматизировать заново\n",
    "comments.to_csv('./toxic_comments_lemma.csv', index=False)"
   ]
  },
  {
   "cell_type": "code",
   "execution_count": null,
   "id": "240dfa87",
   "metadata": {},
   "outputs": [],
   "source": [
    "#должны быть 3 колонки `text` `toxic` `text_lemma`\n",
    "comments.head()"
   ]
  },
  {
   "cell_type": "code",
   "execution_count": null,
   "id": "77432ad5",
   "metadata": {},
   "outputs": [],
   "source": []
  },
  {
   "cell_type": "markdown",
   "id": "798bf7a1",
   "metadata": {},
   "source": [
    "## разделение на выборки"
   ]
  },
  {
   "cell_type": "code",
   "execution_count": null,
   "id": "3001818d",
   "metadata": {},
   "outputs": [],
   "source": [
    "#на тестовую выборку отделю 10%, так как данных много\n",
    "x_train, x_test, y_train, y_test = train_test_split(\n",
    "        comments['text_lemma'], \n",
    "        comments['toxic'], \n",
    "        test_size=0.1, \n",
    "    stratify = comments['toxic'], \n",
    "        random_state=STATE)"
   ]
  },
  {
   "cell_type": "code",
   "execution_count": null,
   "id": "5e70c2df",
   "metadata": {},
   "outputs": [],
   "source": [
    "#проверка размера получившихся выборок\n",
    "x_train.shape, x_test.shape, y_train.shape, y_test.shape"
   ]
  },
  {
   "cell_type": "code",
   "execution_count": null,
   "id": "08d75087",
   "metadata": {},
   "outputs": [],
   "source": [
    "#проверка балланса целевого прикзнака в выборках\n",
    "y_train.mean(), y_test.mean()"
   ]
  },
  {
   "cell_type": "code",
   "execution_count": null,
   "id": "ce3f9410",
   "metadata": {},
   "outputs": [],
   "source": []
  },
  {
   "cell_type": "markdown",
   "id": "33e62fb0",
   "metadata": {},
   "source": [
    "## обработка по методу TF_IDF"
   ]
  },
  {
   "cell_type": "code",
   "execution_count": null,
   "id": "b42bc7fd",
   "metadata": {},
   "outputs": [],
   "source": [
    "#определяем счетчик слов\n",
    "count_tf_idf = TfidfVectorizer(max_df = 0.9,\n",
    "                               min_df = 4e-4, #ограничение по встречаемости слов снизу, всё что меньше - за борт\n",
    "                               stop_words='english')"
   ]
  },
  {
   "cell_type": "code",
   "execution_count": null,
   "id": "1bfb3d63",
   "metadata": {},
   "outputs": [],
   "source": [
    "#обучение и преобразование тренировочной выборки\n",
    "tf_idf_train = count_tf_idf.fit_transform(x_train)"
   ]
  },
  {
   "cell_type": "code",
   "execution_count": null,
   "id": "0578a420",
   "metadata": {},
   "outputs": [],
   "source": [
    "#проверка размера тренировочной выборки после обработки TF-IDF\n",
    "tf_idf_train.shape"
   ]
  },
  {
   "cell_type": "code",
   "execution_count": null,
   "id": "867609aa",
   "metadata": {},
   "outputs": [],
   "source": [
    "#минимальное значение в выборке (из любопытсва)\n",
    "tf_idf_train.min()"
   ]
  },
  {
   "cell_type": "code",
   "execution_count": null,
   "id": "90aac4ce",
   "metadata": {},
   "outputs": [],
   "source": [
    "#среднее значение в выборке\n",
    "tf_idf_train.mean()"
   ]
  },
  {
   "cell_type": "code",
   "execution_count": null,
   "id": "b2b2689c",
   "metadata": {},
   "outputs": [],
   "source": [
    "#максимальное значение в выборке\n",
    "tf_idf_train.max()"
   ]
  },
  {
   "cell_type": "code",
   "execution_count": null,
   "id": "4b663e30",
   "metadata": {},
   "outputs": [],
   "source": []
  },
  {
   "cell_type": "code",
   "execution_count": null,
   "id": "72b7bf37",
   "metadata": {},
   "outputs": [],
   "source": [
    "tf_idf_test = count_tf_idf.transform(x_test)"
   ]
  },
  {
   "cell_type": "markdown",
   "id": "38a926df",
   "metadata": {},
   "source": [
    "## Обучение (TF_IDF)"
   ]
  },
  {
   "cell_type": "markdown",
   "id": "c45e2197",
   "metadata": {},
   "source": [
    "#### LogisticRegression и GridSearchCV (TF-IDF)"
   ]
  },
  {
   "cell_type": "code",
   "execution_count": null,
   "id": "34a0e4c3",
   "metadata": {},
   "outputs": [],
   "source": [
    "params = {'C':[1,10], \n",
    "          'solver':['sag'], \n",
    "          'max_iter':[100,500],\n",
    "          'class_weight':['balanced', None]\n",
    "         } "
   ]
  },
  {
   "cell_type": "code",
   "execution_count": null,
   "id": "9d82395f",
   "metadata": {},
   "outputs": [],
   "source": [
    "lr = LogisticRegression(random_state=STATE)"
   ]
  },
  {
   "cell_type": "code",
   "execution_count": null,
   "id": "e0e4f1d3",
   "metadata": {},
   "outputs": [],
   "source": [
    "clf = GridSearchCV(lr,param_grid=params , cv=3, scoring='f1', n_jobs=-1)"
   ]
  },
  {
   "cell_type": "code",
   "execution_count": null,
   "id": "2256b618",
   "metadata": {
    "scrolled": true
   },
   "outputs": [],
   "source": [
    "%%time\n",
    "clf.fit(tf_idf_train, y_train)"
   ]
  },
  {
   "cell_type": "code",
   "execution_count": null,
   "id": "e2e20473",
   "metadata": {},
   "outputs": [],
   "source": [
    "#лучший результат\n",
    "clf.best_score_"
   ]
  },
  {
   "cell_type": "code",
   "execution_count": null,
   "id": "157f784d",
   "metadata": {},
   "outputs": [],
   "source": [
    "#полная таблица с результатами перебора\n",
    "grid_res = pd.DataFrame(clf.cv_results_).sort_values(by='mean_test_score', ascending=False)\n",
    "grid_res"
   ]
  },
  {
   "cell_type": "code",
   "execution_count": null,
   "id": "974203a3",
   "metadata": {},
   "outputs": [],
   "source": [
    "#заново обучаем модель с лучшими гиперпараметрами\n",
    "lr = LogisticRegression(C=10, solver='sag', max_iter=100)"
   ]
  },
  {
   "cell_type": "code",
   "execution_count": null,
   "id": "b716a194",
   "metadata": {},
   "outputs": [],
   "source": [
    "%%time\n",
    "lr.fit(tf_idf_train, y_train)"
   ]
  },
  {
   "cell_type": "markdown",
   "id": "14041ce2",
   "metadata": {},
   "source": [
    "###### Вывод\n",
    "\n",
    "лучший результат f1=0.768\n",
    "\n",
    "Использования балланса в настройках модели ухудшает результат."
   ]
  },
  {
   "cell_type": "code",
   "execution_count": null,
   "id": "66ce39d7",
   "metadata": {},
   "outputs": [],
   "source": []
  },
  {
   "cell_type": "markdown",
   "id": "9a49c5bc",
   "metadata": {},
   "source": [
    "#### RandomForestClassifier и GridSearchCV (TF-IDF)"
   ]
  },
  {
   "cell_type": "code",
   "execution_count": null,
   "id": "1a646918",
   "metadata": {},
   "outputs": [],
   "source": [
    "params = {'n_estimators':[40,60], \n",
    "          'max_depth':[120,160], \n",
    "          'min_samples_split':[2], \n",
    "          'min_samples_leaf':[2], \n",
    "          'class_weight':['balanced', None]\n",
    "         } "
   ]
  },
  {
   "cell_type": "code",
   "execution_count": null,
   "id": "1c287688",
   "metadata": {},
   "outputs": [],
   "source": [
    "rf = RandomForestClassifier(random_state=STATE)"
   ]
  },
  {
   "cell_type": "code",
   "execution_count": null,
   "id": "bfd64196",
   "metadata": {},
   "outputs": [],
   "source": [
    "clf = GridSearchCV(rf,param_grid=params , cv=3, scoring='f1', n_jobs=-1)"
   ]
  },
  {
   "cell_type": "code",
   "execution_count": null,
   "id": "21fe9a11",
   "metadata": {},
   "outputs": [],
   "source": [
    "%%time\n",
    "clf.fit(tf_idf_train, y_train)"
   ]
  },
  {
   "cell_type": "code",
   "execution_count": null,
   "id": "09ceed55",
   "metadata": {},
   "outputs": [],
   "source": [
    "#лучший результат\n",
    "clf.best_score_"
   ]
  },
  {
   "cell_type": "code",
   "execution_count": null,
   "id": "d500974e",
   "metadata": {},
   "outputs": [],
   "source": [
    "#лучший результат\n",
    "clf.best_params_"
   ]
  },
  {
   "cell_type": "code",
   "execution_count": null,
   "id": "32638af2",
   "metadata": {},
   "outputs": [],
   "source": [
    "#полная таблица с результатами перебора\n",
    "grid_res = pd.DataFrame(clf.cv_results_).sort_values(by='mean_test_score', ascending=False)\n",
    "grid_res"
   ]
  },
  {
   "cell_type": "markdown",
   "id": "01843197",
   "metadata": {},
   "source": [
    "###### Вывод\n",
    "\n",
    "лучший результат f1=0.737"
   ]
  },
  {
   "cell_type": "code",
   "execution_count": null,
   "id": "6a69ba18",
   "metadata": {},
   "outputs": [],
   "source": []
  },
  {
   "cell_type": "markdown",
   "id": "60e8afbf",
   "metadata": {},
   "source": [
    "#### CatBoostClassifier и GridSearchCV (TF-IDF)"
   ]
  },
  {
   "cell_type": "code",
   "execution_count": null,
   "id": "ed840241",
   "metadata": {},
   "outputs": [],
   "source": [
    "grid = {'learning_rate': [0.5],\n",
    "        'depth': [6],\n",
    "        \n",
    "        #'l2_leaf_reg': [1]\n",
    "       }"
   ]
  },
  {
   "cell_type": "code",
   "execution_count": null,
   "id": "ffe935d3",
   "metadata": {},
   "outputs": [],
   "source": [
    "CatBoost = CatBoostClassifier(eval_metric=\"F1:hints=skip_train~false\", iterations=50)"
   ]
  },
  {
   "cell_type": "code",
   "execution_count": null,
   "id": "a330e098",
   "metadata": {
    "scrolled": true
   },
   "outputs": [],
   "source": [
    "grid_search_result = CatBoost.grid_search(grid,\n",
    "                                          X=tf_idf_train,\n",
    "                                          y=y_train, \n",
    "                                          cv=3,\n",
    "                                          calc_cv_statistics=True,\n",
    "                                          search_by_train_test_split=True,\n",
    "                                          refit=True,\n",
    "                                          partition_random_seed=STATE, \n",
    "                                          plot=False)"
   ]
  },
  {
   "cell_type": "code",
   "execution_count": null,
   "id": "b0c2d347",
   "metadata": {},
   "outputs": [],
   "source": [
    "CatBoost.best_score_"
   ]
  },
  {
   "cell_type": "markdown",
   "id": "694f7882",
   "metadata": {},
   "source": [
    "###### Вывод\n",
    "\n",
    "лучший результат f1=0.753\n",
    "\n",
    "Наверняка можно получить лучше результат, но и так этот перебор параметров выполняется слишком долго, поэтому я оставил как есть."
   ]
  },
  {
   "cell_type": "code",
   "execution_count": null,
   "id": "38b27a2f",
   "metadata": {},
   "outputs": [],
   "source": []
  },
  {
   "cell_type": "markdown",
   "id": "83632f35",
   "metadata": {},
   "source": [
    "## Тест лучшей модели (TF_IDF)"
   ]
  },
  {
   "cell_type": "markdown",
   "id": "5c858d87",
   "metadata": {},
   "source": [
    "Лучшей моделью из трёх оказалась LogisticRegression. Она же и самая быстрая. Все сотальные модели требуют много времени на обучение, возможно они бы оказались лучше.\n",
    "\n",
    "Вычислю метрику F1 для неё на тестовой выборке"
   ]
  },
  {
   "cell_type": "code",
   "execution_count": null,
   "id": "7cf37d7e",
   "metadata": {},
   "outputs": [],
   "source": [
    "pred_test = lr.predict(tf_idf_test)"
   ]
  },
  {
   "cell_type": "code",
   "execution_count": null,
   "id": "c4e9027d",
   "metadata": {},
   "outputs": [],
   "source": [
    "f1_score(y_test, pred_test)"
   ]
  },
  {
   "cell_type": "markdown",
   "id": "da2ce9a4",
   "metadata": {},
   "source": [
    "###### Вывод\n",
    "\n",
    "результат на тестовой выборке для лучшей модели LogisticRegression f1=0.78"
   ]
  },
  {
   "cell_type": "code",
   "execution_count": null,
   "id": "f597ae8c",
   "metadata": {},
   "outputs": [],
   "source": []
  },
  {
   "cell_type": "markdown",
   "id": "8bbd7ed6",
   "metadata": {},
   "source": [
    "# Способ BERT <a class=\"anchor\" id=\"tree-bullet\"></a>"
   ]
  },
  {
   "cell_type": "markdown",
   "id": "4c77db31",
   "metadata": {},
   "source": [
    "#### Классификация на эмбеддингах"
   ]
  },
  {
   "cell_type": "code",
   "execution_count": 8,
   "id": "c8a959fd",
   "metadata": {},
   "outputs": [],
   "source": [
    "comments_bert = comments.sample(n=10000, random_state=STATE) # отбор от датасета 10 тыс случайных строк"
   ]
  },
  {
   "cell_type": "code",
   "execution_count": 9,
   "id": "ec50e7b5",
   "metadata": {},
   "outputs": [
    {
     "data": {
      "text/plain": [
       "0.1018"
      ]
     },
     "execution_count": 9,
     "metadata": {},
     "output_type": "execute_result"
    }
   ],
   "source": [
    "#проверка что балланс целевого признака не изменился\n",
    "comments_bert.toxic.mean()"
   ]
  },
  {
   "cell_type": "code",
   "execution_count": 10,
   "id": "3cdc10c7",
   "metadata": {},
   "outputs": [],
   "source": [
    "#сброс индексов\n",
    "comments_bert = comments_bert.reset_index(drop=True)"
   ]
  },
  {
   "cell_type": "code",
   "execution_count": 11,
   "id": "ba0e6a5c",
   "metadata": {},
   "outputs": [
    {
     "data": {
      "text/html": [
       "<div>\n",
       "<style scoped>\n",
       "    .dataframe tbody tr th:only-of-type {\n",
       "        vertical-align: middle;\n",
       "    }\n",
       "\n",
       "    .dataframe tbody tr th {\n",
       "        vertical-align: top;\n",
       "    }\n",
       "\n",
       "    .dataframe thead th {\n",
       "        text-align: right;\n",
       "    }\n",
       "</style>\n",
       "<table border=\"1\" class=\"dataframe\">\n",
       "  <thead>\n",
       "    <tr style=\"text-align: right;\">\n",
       "      <th></th>\n",
       "      <th>text</th>\n",
       "      <th>toxic</th>\n",
       "    </tr>\n",
       "  </thead>\n",
       "  <tbody>\n",
       "    <tr>\n",
       "      <th>0</th>\n",
       "      <td>Expert Categorizers  \\n\\nWhy is there no menti...</td>\n",
       "      <td>0</td>\n",
       "    </tr>\n",
       "    <tr>\n",
       "      <th>1</th>\n",
       "      <td>\"\\n\\n Noise \\n\\nfart*  talk. \"</td>\n",
       "      <td>1</td>\n",
       "    </tr>\n",
       "    <tr>\n",
       "      <th>2</th>\n",
       "      <td>An indefinite block is appropriate, even for a...</td>\n",
       "      <td>0</td>\n",
       "    </tr>\n",
       "    <tr>\n",
       "      <th>3</th>\n",
       "      <td>I don't understand why we have a screenshot of...</td>\n",
       "      <td>0</td>\n",
       "    </tr>\n",
       "    <tr>\n",
       "      <th>4</th>\n",
       "      <td>Hello! Some of the people, places or things yo...</td>\n",
       "      <td>0</td>\n",
       "    </tr>\n",
       "    <tr>\n",
       "      <th>5</th>\n",
       "      <td>\"::::::::::::::If you read carefully, my comme...</td>\n",
       "      <td>1</td>\n",
       "    </tr>\n",
       "    <tr>\n",
       "      <th>6</th>\n",
       "      <td>\"\\nDid you make it at WP:AE? ofShalott \"</td>\n",
       "      <td>0</td>\n",
       "    </tr>\n",
       "    <tr>\n",
       "      <th>7</th>\n",
       "      <td>know as much as he thinks.</td>\n",
       "      <td>0</td>\n",
       "    </tr>\n",
       "    <tr>\n",
       "      <th>8</th>\n",
       "      <td>Thank you for your comment and willingness to ...</td>\n",
       "      <td>0</td>\n",
       "    </tr>\n",
       "    <tr>\n",
       "      <th>9</th>\n",
       "      <td>UPDATE 3-12-06\\n\\nHEY YALL IM GOING TO BE GONE...</td>\n",
       "      <td>0</td>\n",
       "    </tr>\n",
       "  </tbody>\n",
       "</table>\n",
       "</div>"
      ],
      "text/plain": [
       "                                                text  toxic\n",
       "0  Expert Categorizers  \\n\\nWhy is there no menti...      0\n",
       "1                     \"\\n\\n Noise \\n\\nfart*  talk. \"      1\n",
       "2  An indefinite block is appropriate, even for a...      0\n",
       "3  I don't understand why we have a screenshot of...      0\n",
       "4  Hello! Some of the people, places or things yo...      0\n",
       "5  \"::::::::::::::If you read carefully, my comme...      1\n",
       "6           \"\\nDid you make it at WP:AE? ofShalott \"      0\n",
       "7                         know as much as he thinks.      0\n",
       "8  Thank you for your comment and willingness to ...      0\n",
       "9  UPDATE 3-12-06\\n\\nHEY YALL IM GOING TO BE GONE...      0"
      ]
     },
     "execution_count": 11,
     "metadata": {},
     "output_type": "execute_result"
    }
   ],
   "source": [
    "comments_bert.head(10)"
   ]
  },
  {
   "cell_type": "code",
   "execution_count": 12,
   "id": "6fa5b661",
   "metadata": {},
   "outputs": [],
   "source": [
    "#токенизация с unitary/toxic-bert\n",
    "tokenizer = transformers.BertTokenizer.from_pretrained('unitary/toxic-bert')\n",
    "\n",
    "tokenized = comments_bert['text'].apply(\n",
    "    lambda x: tokenizer.encode(x, add_special_tokens=True,  truncation=True, max_length=512))\n",
    "\n",
    "max_len = 0\n",
    "for i in tokenized.values:\n",
    "    if len(i) > max_len:\n",
    "        max_len = len(i)\n",
    "\n",
    "padded = np.array([i + [0]*(max_len - len(i)) for i in tokenized.values])\n",
    "\n",
    "attention_mask = np.where(padded != 0, 1, 0)"
   ]
  },
  {
   "cell_type": "code",
   "execution_count": 13,
   "id": "8687cf9a",
   "metadata": {},
   "outputs": [
    {
     "data": {
      "text/plain": [
       "(10000,)"
      ]
     },
     "execution_count": 13,
     "metadata": {},
     "output_type": "execute_result"
    }
   ],
   "source": [
    "tokenized.shape"
   ]
  },
  {
   "cell_type": "code",
   "execution_count": 14,
   "id": "a7325422",
   "metadata": {},
   "outputs": [
    {
     "data": {
      "text/plain": [
       "(10000, 512)"
      ]
     },
     "execution_count": 14,
     "metadata": {},
     "output_type": "execute_result"
    }
   ],
   "source": [
    "padded.shape"
   ]
  },
  {
   "cell_type": "code",
   "execution_count": 15,
   "id": "6f0a1a75",
   "metadata": {},
   "outputs": [
    {
     "data": {
      "text/plain": [
       "(10000, 512)"
      ]
     },
     "execution_count": 15,
     "metadata": {},
     "output_type": "execute_result"
    }
   ],
   "source": [
    "attention_mask.shape"
   ]
  },
  {
   "cell_type": "code",
   "execution_count": 16,
   "id": "39c27f87",
   "metadata": {},
   "outputs": [],
   "source": [
    "#количество строк дла окончательной прогонки модели bert\n",
    "N_bert = 400"
   ]
  },
  {
   "cell_type": "code",
   "execution_count": 17,
   "id": "84708257",
   "metadata": {},
   "outputs": [],
   "source": [
    "#отбор N случайных элементов (N_bert)\n",
    "np.random.seed(STATE) #зафиксировать случайность, для воспроизводимости результата.\n",
    "idx_N = np.random.randint(padded.shape[0], size=N_bert)\n",
    "\n",
    "padded_N = padded[idx_N,:]"
   ]
  },
  {
   "cell_type": "code",
   "execution_count": 18,
   "id": "d89d31d6",
   "metadata": {},
   "outputs": [
    {
     "data": {
      "text/plain": [
       "(400, 512)"
      ]
     },
     "execution_count": 18,
     "metadata": {},
     "output_type": "execute_result"
    }
   ],
   "source": [
    "#проверка размера\n",
    "padded_N.shape"
   ]
  },
  {
   "cell_type": "code",
   "execution_count": 19,
   "id": "62929f84",
   "metadata": {},
   "outputs": [
    {
     "name": "stderr",
     "output_type": "stream",
     "text": [
      "Some weights of the model checkpoint at unitary/toxic-bert were not used when initializing BertModel: ['classifier.weight', 'classifier.bias']\n",
      "- This IS expected if you are initializing BertModel from the checkpoint of a model trained on another task or with another architecture (e.g. initializing a BertForSequenceClassification model from a BertForPreTraining model).\n",
      "- This IS NOT expected if you are initializing BertModel from the checkpoint of a model that you expect to be exactly identical (initializing a BertForSequenceClassification model from a BertForSequenceClassification model).\n"
     ]
    }
   ],
   "source": [
    "model = transformers.BertModel.from_pretrained('unitary/toxic-bert')"
   ]
  },
  {
   "cell_type": "code",
   "execution_count": 20,
   "id": "fcdd7b68",
   "metadata": {},
   "outputs": [
    {
     "data": {
      "application/vnd.jupyter.widget-view+json": {
       "model_id": "7f116b87a98f466d811845478e31888d",
       "version_major": 2,
       "version_minor": 0
      },
      "text/plain": [
       "  0%|          | 0/4 [00:00<?, ?it/s]"
      ]
     },
     "metadata": {},
     "output_type": "display_data"
    }
   ],
   "source": [
    "batch_size = 100\n",
    "embeddings = []\n",
    "for i in notebook.tqdm(range(padded_N.shape[0] // batch_size)):\n",
    "        batch = torch.LongTensor(padded_N[batch_size*i:batch_size*(i+1)]) \n",
    "        attention_mask_batch = torch.LongTensor(attention_mask[batch_size*i:batch_size*(i+1)])\n",
    "        \n",
    "        with torch.no_grad():\n",
    "            batch_embeddings = model(batch, attention_mask=attention_mask_batch)\n",
    "        \n",
    "        embeddings.append(batch_embeddings[0][:,0,:].numpy())"
   ]
  },
  {
   "cell_type": "code",
   "execution_count": 21,
   "id": "f99da445",
   "metadata": {},
   "outputs": [],
   "source": [
    "features = np.concatenate(embeddings)"
   ]
  },
  {
   "cell_type": "code",
   "execution_count": 22,
   "id": "2454e54a",
   "metadata": {},
   "outputs": [
    {
     "data": {
      "text/plain": [
       "(400, 768)"
      ]
     },
     "execution_count": 22,
     "metadata": {},
     "output_type": "execute_result"
    }
   ],
   "source": [
    "features.shape"
   ]
  },
  {
   "cell_type": "raw",
   "id": "01a20523",
   "metadata": {},
   "source": [
    "#сохранение результатов на диск. С целью дальнейшей загрузки, потому что прогон на bert идет более часа.\n",
    "pd.DataFrame(features).to_csv('./features_bert.csv', index=False)"
   ]
  },
  {
   "cell_type": "code",
   "execution_count": 39,
   "id": "4f6f4fd3",
   "metadata": {},
   "outputs": [
    {
     "data": {
      "text/plain": [
       "(400, 768)"
      ]
     },
     "execution_count": 39,
     "metadata": {},
     "output_type": "execute_result"
    }
   ],
   "source": [
    "#чтение с диска\n",
    "features_pd = pd.read_csv('./features_bert.csv')\n",
    "features = features_pd.to_numpy()\n",
    "features.shape"
   ]
  },
  {
   "cell_type": "code",
   "execution_count": null,
   "id": "58b46c2d",
   "metadata": {},
   "outputs": [],
   "source": []
  },
  {
   "cell_type": "markdown",
   "id": "07382277",
   "metadata": {},
   "source": [
    "#### отбор целевого признака по полученным случайным индексам `idx_N`."
   ]
  },
  {
   "cell_type": "code",
   "execution_count": 132,
   "id": "7ad23e8a",
   "metadata": {},
   "outputs": [
    {
     "data": {
      "text/plain": [
       "400"
      ]
     },
     "execution_count": 132,
     "metadata": {},
     "output_type": "execute_result"
    }
   ],
   "source": [
    "y = comments_bert['toxic'].iloc[idx_N]\n",
    "len(y)"
   ]
  },
  {
   "cell_type": "code",
   "execution_count": 42,
   "id": "cf0890a7",
   "metadata": {},
   "outputs": [],
   "source": [
    "y = y.reset_index(drop=True).to_numpy()"
   ]
  },
  {
   "cell_type": "code",
   "execution_count": 43,
   "id": "0871b69e",
   "metadata": {},
   "outputs": [
    {
     "data": {
      "text/plain": [
       "array([0, 0, 0, 0, 0, 0, 0, 0, 0, 0])"
      ]
     },
     "execution_count": 43,
     "metadata": {},
     "output_type": "execute_result"
    }
   ],
   "source": [
    "#проверка\n",
    "y[:10]"
   ]
  },
  {
   "cell_type": "code",
   "execution_count": 44,
   "id": "67abf4bf",
   "metadata": {},
   "outputs": [
    {
     "data": {
      "text/plain": [
       "array([4578, 2177, 3492, 4094, 4478,  546, 7709, 3441, 7483, 6798])"
      ]
     },
     "execution_count": 44,
     "metadata": {},
     "output_type": "execute_result"
    }
   ],
   "source": [
    "#проверка\n",
    "idx_N[:10]"
   ]
  },
  {
   "cell_type": "markdown",
   "id": "806d1065",
   "metadata": {},
   "source": [
    "#### делим выборку `comments_bert` на тренировочную и обучающую, в соотношении 50/50"
   ]
  },
  {
   "cell_type": "markdown",
   "id": "aff0ce53",
   "metadata": {},
   "source": [
    "(количество векторов в ней равно N_bert)"
   ]
  },
  {
   "cell_type": "code",
   "execution_count": 47,
   "id": "ad916169",
   "metadata": {},
   "outputs": [],
   "source": [
    "x_train, x_test, y_train, y_test = train_test_split(features, \n",
    "                                                    y, \n",
    "                                                    test_size=0.5, \n",
    "                                                    stratify = y,\n",
    "                                                    random_state=STATE)"
   ]
  },
  {
   "cell_type": "code",
   "execution_count": 48,
   "id": "3b22778c",
   "metadata": {},
   "outputs": [
    {
     "data": {
      "text/plain": [
       "((200, 768), (200, 768), (200,), (200,))"
      ]
     },
     "execution_count": 48,
     "metadata": {},
     "output_type": "execute_result"
    }
   ],
   "source": [
    "x_train.shape, x_test.shape, y_train.shape, y_test.shape"
   ]
  },
  {
   "cell_type": "code",
   "execution_count": 49,
   "id": "d4bccf34",
   "metadata": {},
   "outputs": [
    {
     "data": {
      "text/plain": [
       "(0.105, 0.105)"
      ]
     },
     "execution_count": 49,
     "metadata": {},
     "output_type": "execute_result"
    }
   ],
   "source": [
    "y_train.mean(), y_test.mean()"
   ]
  },
  {
   "cell_type": "code",
   "execution_count": null,
   "id": "573644bd",
   "metadata": {},
   "outputs": [],
   "source": []
  },
  {
   "cell_type": "markdown",
   "id": "969684b5",
   "metadata": {},
   "source": [
    "#### LogisticRegression GridSearchCV (BERT)"
   ]
  },
  {
   "cell_type": "code",
   "execution_count": 96,
   "id": "694528d4",
   "metadata": {},
   "outputs": [],
   "source": [
    "params = {'C':[0.001,0.01,0.1], \n",
    "          'solver':['sag'], \n",
    "          'max_iter':[5,10,50],\n",
    "          'class_weight':['balanced', None]\n",
    "         }"
   ]
  },
  {
   "cell_type": "code",
   "execution_count": 97,
   "id": "a5764e6e",
   "metadata": {},
   "outputs": [],
   "source": [
    "lr = LogisticRegression(random_state=STATE)"
   ]
  },
  {
   "cell_type": "code",
   "execution_count": 98,
   "id": "c20d73d6",
   "metadata": {},
   "outputs": [],
   "source": [
    "clf = GridSearchCV(lr,param_grid=params , cv=3, scoring='f1', n_jobs=-1)"
   ]
  },
  {
   "cell_type": "code",
   "execution_count": 99,
   "id": "e78d4105",
   "metadata": {},
   "outputs": [
    {
     "name": "stderr",
     "output_type": "stream",
     "text": [
      "/usr/local/lib/python3.9/dist-packages/sklearn/linear_model/_sag.py:350: ConvergenceWarning: The max_iter was reached which means the coef_ did not converge\n",
      "  warnings.warn(\n",
      "/usr/local/lib/python3.9/dist-packages/sklearn/linear_model/_sag.py:350: ConvergenceWarning: The max_iter was reached which means the coef_ did not converge\n",
      "  warnings.warn(\n",
      "/usr/local/lib/python3.9/dist-packages/sklearn/linear_model/_sag.py:350: ConvergenceWarning: The max_iter was reached which means the coef_ did not converge\n",
      "  warnings.warn(\n",
      "/usr/local/lib/python3.9/dist-packages/sklearn/linear_model/_sag.py:350: ConvergenceWarning: The max_iter was reached which means the coef_ did not converge\n",
      "  warnings.warn(\n",
      "/usr/local/lib/python3.9/dist-packages/sklearn/linear_model/_sag.py:350: ConvergenceWarning: The max_iter was reached which means the coef_ did not converge\n",
      "  warnings.warn(\n",
      "/usr/local/lib/python3.9/dist-packages/sklearn/linear_model/_sag.py:350: ConvergenceWarning: The max_iter was reached which means the coef_ did not converge\n",
      "  warnings.warn(\n",
      "/usr/local/lib/python3.9/dist-packages/sklearn/linear_model/_sag.py:350: ConvergenceWarning: The max_iter was reached which means the coef_ did not converge\n",
      "  warnings.warn(\n",
      "/usr/local/lib/python3.9/dist-packages/sklearn/linear_model/_sag.py:350: ConvergenceWarning: The max_iter was reached which means the coef_ did not converge\n",
      "  warnings.warn(\n",
      "/usr/local/lib/python3.9/dist-packages/sklearn/linear_model/_sag.py:350: ConvergenceWarning: The max_iter was reached which means the coef_ did not converge\n",
      "  warnings.warn(\n",
      "/usr/local/lib/python3.9/dist-packages/sklearn/linear_model/_sag.py:350: ConvergenceWarning: The max_iter was reached which means the coef_ did not converge\n",
      "  warnings.warn(\n",
      "/usr/local/lib/python3.9/dist-packages/sklearn/linear_model/_sag.py:350: ConvergenceWarning: The max_iter was reached which means the coef_ did not converge\n",
      "  warnings.warn(\n",
      "/usr/local/lib/python3.9/dist-packages/sklearn/linear_model/_sag.py:350: ConvergenceWarning: The max_iter was reached which means the coef_ did not converge\n",
      "  warnings.warn(\n",
      "/usr/local/lib/python3.9/dist-packages/sklearn/linear_model/_sag.py:350: ConvergenceWarning: The max_iter was reached which means the coef_ did not converge\n",
      "  warnings.warn(\n",
      "/usr/local/lib/python3.9/dist-packages/sklearn/linear_model/_sag.py:350: ConvergenceWarning: The max_iter was reached which means the coef_ did not converge\n",
      "  warnings.warn(\n",
      "/usr/local/lib/python3.9/dist-packages/sklearn/linear_model/_sag.py:350: ConvergenceWarning: The max_iter was reached which means the coef_ did not converge\n",
      "  warnings.warn(\n",
      "/usr/local/lib/python3.9/dist-packages/sklearn/linear_model/_sag.py:350: ConvergenceWarning: The max_iter was reached which means the coef_ did not converge\n",
      "  warnings.warn(\n",
      "/usr/local/lib/python3.9/dist-packages/sklearn/linear_model/_sag.py:350: ConvergenceWarning: The max_iter was reached which means the coef_ did not converge\n",
      "  warnings.warn(\n",
      "/usr/local/lib/python3.9/dist-packages/sklearn/linear_model/_sag.py:350: ConvergenceWarning: The max_iter was reached which means the coef_ did not converge\n",
      "  warnings.warn(\n",
      "/usr/local/lib/python3.9/dist-packages/sklearn/linear_model/_sag.py:350: ConvergenceWarning: The max_iter was reached which means the coef_ did not converge\n",
      "  warnings.warn(\n",
      "/usr/local/lib/python3.9/dist-packages/sklearn/linear_model/_sag.py:350: ConvergenceWarning: The max_iter was reached which means the coef_ did not converge\n",
      "  warnings.warn(\n",
      "/usr/local/lib/python3.9/dist-packages/sklearn/linear_model/_sag.py:350: ConvergenceWarning: The max_iter was reached which means the coef_ did not converge\n",
      "  warnings.warn(\n",
      "/usr/local/lib/python3.9/dist-packages/sklearn/linear_model/_sag.py:350: ConvergenceWarning: The max_iter was reached which means the coef_ did not converge\n",
      "  warnings.warn(\n",
      "/usr/local/lib/python3.9/dist-packages/sklearn/linear_model/_sag.py:350: ConvergenceWarning: The max_iter was reached which means the coef_ did not converge\n",
      "  warnings.warn(\n",
      "/usr/local/lib/python3.9/dist-packages/sklearn/linear_model/_sag.py:350: ConvergenceWarning: The max_iter was reached which means the coef_ did not converge\n",
      "  warnings.warn(\n",
      "/usr/local/lib/python3.9/dist-packages/sklearn/linear_model/_sag.py:350: ConvergenceWarning: The max_iter was reached which means the coef_ did not converge\n",
      "  warnings.warn(\n",
      "/usr/local/lib/python3.9/dist-packages/sklearn/linear_model/_sag.py:350: ConvergenceWarning: The max_iter was reached which means the coef_ did not converge\n",
      "  warnings.warn(\n",
      "/usr/local/lib/python3.9/dist-packages/sklearn/linear_model/_sag.py:350: ConvergenceWarning: The max_iter was reached which means the coef_ did not converge\n",
      "  warnings.warn(\n",
      "/usr/local/lib/python3.9/dist-packages/sklearn/linear_model/_sag.py:350: ConvergenceWarning: The max_iter was reached which means the coef_ did not converge\n",
      "  warnings.warn(\n",
      "/usr/local/lib/python3.9/dist-packages/sklearn/linear_model/_sag.py:350: ConvergenceWarning: The max_iter was reached which means the coef_ did not converge\n",
      "  warnings.warn(\n",
      "/usr/local/lib/python3.9/dist-packages/sklearn/linear_model/_sag.py:350: ConvergenceWarning: The max_iter was reached which means the coef_ did not converge\n",
      "  warnings.warn(\n",
      "/usr/local/lib/python3.9/dist-packages/sklearn/linear_model/_sag.py:350: ConvergenceWarning: The max_iter was reached which means the coef_ did not converge\n",
      "  warnings.warn(\n",
      "/usr/local/lib/python3.9/dist-packages/sklearn/linear_model/_sag.py:350: ConvergenceWarning: The max_iter was reached which means the coef_ did not converge\n",
      "  warnings.warn(\n",
      "/usr/local/lib/python3.9/dist-packages/sklearn/linear_model/_sag.py:350: ConvergenceWarning: The max_iter was reached which means the coef_ did not converge\n",
      "  warnings.warn(\n",
      "/usr/local/lib/python3.9/dist-packages/sklearn/linear_model/_sag.py:350: ConvergenceWarning: The max_iter was reached which means the coef_ did not converge\n",
      "  warnings.warn(\n",
      "/usr/local/lib/python3.9/dist-packages/sklearn/linear_model/_sag.py:350: ConvergenceWarning: The max_iter was reached which means the coef_ did not converge\n",
      "  warnings.warn(\n",
      "/usr/local/lib/python3.9/dist-packages/sklearn/linear_model/_sag.py:350: ConvergenceWarning: The max_iter was reached which means the coef_ did not converge\n",
      "  warnings.warn(\n",
      "/usr/local/lib/python3.9/dist-packages/sklearn/linear_model/_sag.py:350: ConvergenceWarning: The max_iter was reached which means the coef_ did not converge\n",
      "  warnings.warn(\n",
      "/usr/local/lib/python3.9/dist-packages/sklearn/linear_model/_sag.py:350: ConvergenceWarning: The max_iter was reached which means the coef_ did not converge\n",
      "  warnings.warn(\n",
      "/usr/local/lib/python3.9/dist-packages/sklearn/linear_model/_sag.py:350: ConvergenceWarning: The max_iter was reached which means the coef_ did not converge\n",
      "  warnings.warn(\n",
      "/usr/local/lib/python3.9/dist-packages/sklearn/linear_model/_sag.py:350: ConvergenceWarning: The max_iter was reached which means the coef_ did not converge\n",
      "  warnings.warn(\n",
      "/usr/local/lib/python3.9/dist-packages/sklearn/linear_model/_sag.py:350: ConvergenceWarning: The max_iter was reached which means the coef_ did not converge\n",
      "  warnings.warn(\n",
      "/usr/local/lib/python3.9/dist-packages/sklearn/linear_model/_sag.py:350: ConvergenceWarning: The max_iter was reached which means the coef_ did not converge\n",
      "  warnings.warn(\n",
      "/usr/local/lib/python3.9/dist-packages/sklearn/linear_model/_sag.py:350: ConvergenceWarning: The max_iter was reached which means the coef_ did not converge\n",
      "  warnings.warn(\n",
      "/usr/local/lib/python3.9/dist-packages/sklearn/linear_model/_sag.py:350: ConvergenceWarning: The max_iter was reached which means the coef_ did not converge\n",
      "  warnings.warn(\n",
      "/usr/local/lib/python3.9/dist-packages/sklearn/linear_model/_sag.py:350: ConvergenceWarning: The max_iter was reached which means the coef_ did not converge\n",
      "  warnings.warn(\n",
      "/usr/local/lib/python3.9/dist-packages/sklearn/linear_model/_sag.py:350: ConvergenceWarning: The max_iter was reached which means the coef_ did not converge\n",
      "  warnings.warn(\n",
      "/usr/local/lib/python3.9/dist-packages/sklearn/linear_model/_sag.py:350: ConvergenceWarning: The max_iter was reached which means the coef_ did not converge\n",
      "  warnings.warn(\n",
      "/usr/local/lib/python3.9/dist-packages/sklearn/linear_model/_sag.py:350: ConvergenceWarning: The max_iter was reached which means the coef_ did not converge\n",
      "  warnings.warn(\n",
      "/usr/local/lib/python3.9/dist-packages/sklearn/linear_model/_sag.py:350: ConvergenceWarning: The max_iter was reached which means the coef_ did not converge\n",
      "  warnings.warn(\n",
      "/usr/local/lib/python3.9/dist-packages/sklearn/linear_model/_sag.py:350: ConvergenceWarning: The max_iter was reached which means the coef_ did not converge\n",
      "  warnings.warn(\n",
      "/usr/local/lib/python3.9/dist-packages/sklearn/linear_model/_sag.py:350: ConvergenceWarning: The max_iter was reached which means the coef_ did not converge\n",
      "  warnings.warn(\n",
      "/usr/local/lib/python3.9/dist-packages/sklearn/linear_model/_sag.py:350: ConvergenceWarning: The max_iter was reached which means the coef_ did not converge\n",
      "  warnings.warn(\n"
     ]
    },
    {
     "name": "stdout",
     "output_type": "stream",
     "text": [
      "CPU times: user 153 ms, sys: 11.6 ms, total: 164 ms\n",
      "Wall time: 2.53 s\n"
     ]
    },
    {
     "name": "stderr",
     "output_type": "stream",
     "text": [
      "/usr/local/lib/python3.9/dist-packages/sklearn/linear_model/_sag.py:350: ConvergenceWarning: The max_iter was reached which means the coef_ did not converge\n",
      "  warnings.warn(\n",
      "/usr/local/lib/python3.9/dist-packages/sklearn/linear_model/_sag.py:350: ConvergenceWarning: The max_iter was reached which means the coef_ did not converge\n",
      "  warnings.warn(\n"
     ]
    },
    {
     "data": {
      "text/html": [
       "<style>#sk-container-id-9 {color: black;background-color: white;}#sk-container-id-9 pre{padding: 0;}#sk-container-id-9 div.sk-toggleable {background-color: white;}#sk-container-id-9 label.sk-toggleable__label {cursor: pointer;display: block;width: 100%;margin-bottom: 0;padding: 0.3em;box-sizing: border-box;text-align: center;}#sk-container-id-9 label.sk-toggleable__label-arrow:before {content: \"▸\";float: left;margin-right: 0.25em;color: #696969;}#sk-container-id-9 label.sk-toggleable__label-arrow:hover:before {color: black;}#sk-container-id-9 div.sk-estimator:hover label.sk-toggleable__label-arrow:before {color: black;}#sk-container-id-9 div.sk-toggleable__content {max-height: 0;max-width: 0;overflow: hidden;text-align: left;background-color: #f0f8ff;}#sk-container-id-9 div.sk-toggleable__content pre {margin: 0.2em;color: black;border-radius: 0.25em;background-color: #f0f8ff;}#sk-container-id-9 input.sk-toggleable__control:checked~div.sk-toggleable__content {max-height: 200px;max-width: 100%;overflow: auto;}#sk-container-id-9 input.sk-toggleable__control:checked~label.sk-toggleable__label-arrow:before {content: \"▾\";}#sk-container-id-9 div.sk-estimator input.sk-toggleable__control:checked~label.sk-toggleable__label {background-color: #d4ebff;}#sk-container-id-9 div.sk-label input.sk-toggleable__control:checked~label.sk-toggleable__label {background-color: #d4ebff;}#sk-container-id-9 input.sk-hidden--visually {border: 0;clip: rect(1px 1px 1px 1px);clip: rect(1px, 1px, 1px, 1px);height: 1px;margin: -1px;overflow: hidden;padding: 0;position: absolute;width: 1px;}#sk-container-id-9 div.sk-estimator {font-family: monospace;background-color: #f0f8ff;border: 1px dotted black;border-radius: 0.25em;box-sizing: border-box;margin-bottom: 0.5em;}#sk-container-id-9 div.sk-estimator:hover {background-color: #d4ebff;}#sk-container-id-9 div.sk-parallel-item::after {content: \"\";width: 100%;border-bottom: 1px solid gray;flex-grow: 1;}#sk-container-id-9 div.sk-label:hover label.sk-toggleable__label {background-color: #d4ebff;}#sk-container-id-9 div.sk-serial::before {content: \"\";position: absolute;border-left: 1px solid gray;box-sizing: border-box;top: 0;bottom: 0;left: 50%;z-index: 0;}#sk-container-id-9 div.sk-serial {display: flex;flex-direction: column;align-items: center;background-color: white;padding-right: 0.2em;padding-left: 0.2em;position: relative;}#sk-container-id-9 div.sk-item {position: relative;z-index: 1;}#sk-container-id-9 div.sk-parallel {display: flex;align-items: stretch;justify-content: center;background-color: white;position: relative;}#sk-container-id-9 div.sk-item::before, #sk-container-id-9 div.sk-parallel-item::before {content: \"\";position: absolute;border-left: 1px solid gray;box-sizing: border-box;top: 0;bottom: 0;left: 50%;z-index: -1;}#sk-container-id-9 div.sk-parallel-item {display: flex;flex-direction: column;z-index: 1;position: relative;background-color: white;}#sk-container-id-9 div.sk-parallel-item:first-child::after {align-self: flex-end;width: 50%;}#sk-container-id-9 div.sk-parallel-item:last-child::after {align-self: flex-start;width: 50%;}#sk-container-id-9 div.sk-parallel-item:only-child::after {width: 0;}#sk-container-id-9 div.sk-dashed-wrapped {border: 1px dashed gray;margin: 0 0.4em 0.5em 0.4em;box-sizing: border-box;padding-bottom: 0.4em;background-color: white;}#sk-container-id-9 div.sk-label label {font-family: monospace;font-weight: bold;display: inline-block;line-height: 1.2em;}#sk-container-id-9 div.sk-label-container {text-align: center;}#sk-container-id-9 div.sk-container {/* jupyter's `normalize.less` sets `[hidden] { display: none; }` but bootstrap.min.css set `[hidden] { display: none !important; }` so we also need the `!important` here to be able to override the default hidden behavior on the sphinx rendered scikit-learn.org. See: https://github.com/scikit-learn/scikit-learn/issues/21755 */display: inline-block !important;position: relative;}#sk-container-id-9 div.sk-text-repr-fallback {display: none;}</style><div id=\"sk-container-id-9\" class=\"sk-top-container\"><div class=\"sk-text-repr-fallback\"><pre>GridSearchCV(cv=3, estimator=LogisticRegression(random_state=12345), n_jobs=-1,\n",
       "             param_grid={&#x27;C&#x27;: [0.001, 0.01, 0.1],\n",
       "                         &#x27;class_weight&#x27;: [&#x27;balanced&#x27;, None],\n",
       "                         &#x27;max_iter&#x27;: [5, 10, 50], &#x27;solver&#x27;: [&#x27;sag&#x27;]},\n",
       "             scoring=&#x27;f1&#x27;)</pre><b>In a Jupyter environment, please rerun this cell to show the HTML representation or trust the notebook. <br />On GitHub, the HTML representation is unable to render, please try loading this page with nbviewer.org.</b></div><div class=\"sk-container\" hidden><div class=\"sk-item sk-dashed-wrapped\"><div class=\"sk-label-container\"><div class=\"sk-label sk-toggleable\"><input class=\"sk-toggleable__control sk-hidden--visually\" id=\"sk-estimator-id-19\" type=\"checkbox\" ><label for=\"sk-estimator-id-19\" class=\"sk-toggleable__label sk-toggleable__label-arrow\">GridSearchCV</label><div class=\"sk-toggleable__content\"><pre>GridSearchCV(cv=3, estimator=LogisticRegression(random_state=12345), n_jobs=-1,\n",
       "             param_grid={&#x27;C&#x27;: [0.001, 0.01, 0.1],\n",
       "                         &#x27;class_weight&#x27;: [&#x27;balanced&#x27;, None],\n",
       "                         &#x27;max_iter&#x27;: [5, 10, 50], &#x27;solver&#x27;: [&#x27;sag&#x27;]},\n",
       "             scoring=&#x27;f1&#x27;)</pre></div></div></div><div class=\"sk-parallel\"><div class=\"sk-parallel-item\"><div class=\"sk-item\"><div class=\"sk-label-container\"><div class=\"sk-label sk-toggleable\"><input class=\"sk-toggleable__control sk-hidden--visually\" id=\"sk-estimator-id-20\" type=\"checkbox\" ><label for=\"sk-estimator-id-20\" class=\"sk-toggleable__label sk-toggleable__label-arrow\">estimator: LogisticRegression</label><div class=\"sk-toggleable__content\"><pre>LogisticRegression(random_state=12345)</pre></div></div></div><div class=\"sk-serial\"><div class=\"sk-item\"><div class=\"sk-estimator sk-toggleable\"><input class=\"sk-toggleable__control sk-hidden--visually\" id=\"sk-estimator-id-21\" type=\"checkbox\" ><label for=\"sk-estimator-id-21\" class=\"sk-toggleable__label sk-toggleable__label-arrow\">LogisticRegression</label><div class=\"sk-toggleable__content\"><pre>LogisticRegression(random_state=12345)</pre></div></div></div></div></div></div></div></div></div></div>"
      ],
      "text/plain": [
       "GridSearchCV(cv=3, estimator=LogisticRegression(random_state=12345), n_jobs=-1,\n",
       "             param_grid={'C': [0.001, 0.01, 0.1],\n",
       "                         'class_weight': ['balanced', None],\n",
       "                         'max_iter': [5, 10, 50], 'solver': ['sag']},\n",
       "             scoring='f1')"
      ]
     },
     "execution_count": 99,
     "metadata": {},
     "output_type": "execute_result"
    }
   ],
   "source": [
    "%%time\n",
    "clf.fit(x_train, y_train)"
   ]
  },
  {
   "cell_type": "code",
   "execution_count": 100,
   "id": "064f6b0c",
   "metadata": {},
   "outputs": [
    {
     "data": {
      "text/plain": [
       "0.702020202020202"
      ]
     },
     "execution_count": 100,
     "metadata": {},
     "output_type": "execute_result"
    }
   ],
   "source": [
    "#лучший результат\n",
    "clf.best_score_"
   ]
  },
  {
   "cell_type": "code",
   "execution_count": 101,
   "id": "36de12a8",
   "metadata": {},
   "outputs": [
    {
     "data": {
      "text/plain": [
       "{'C': 0.01, 'class_weight': None, 'max_iter': 5, 'solver': 'sag'}"
      ]
     },
     "execution_count": 101,
     "metadata": {},
     "output_type": "execute_result"
    }
   ],
   "source": [
    "#лучшие параметры\n",
    "clf.best_params_"
   ]
  },
  {
   "cell_type": "code",
   "execution_count": null,
   "id": "623d8cb9",
   "metadata": {},
   "outputs": [],
   "source": [
    "#лучшая модель\n",
    "clf.best_estimator_"
   ]
  },
  {
   "cell_type": "code",
   "execution_count": 82,
   "id": "3112b341",
   "metadata": {},
   "outputs": [
    {
     "data": {
      "text/html": [
       "<div>\n",
       "<style scoped>\n",
       "    .dataframe tbody tr th:only-of-type {\n",
       "        vertical-align: middle;\n",
       "    }\n",
       "\n",
       "    .dataframe tbody tr th {\n",
       "        vertical-align: top;\n",
       "    }\n",
       "\n",
       "    .dataframe thead th {\n",
       "        text-align: right;\n",
       "    }\n",
       "</style>\n",
       "<table border=\"1\" class=\"dataframe\">\n",
       "  <thead>\n",
       "    <tr style=\"text-align: right;\">\n",
       "      <th></th>\n",
       "      <th>mean_fit_time</th>\n",
       "      <th>std_fit_time</th>\n",
       "      <th>mean_score_time</th>\n",
       "      <th>std_score_time</th>\n",
       "      <th>param_C</th>\n",
       "      <th>param_class_weight</th>\n",
       "      <th>param_max_iter</th>\n",
       "      <th>param_solver</th>\n",
       "      <th>params</th>\n",
       "      <th>split0_test_score</th>\n",
       "      <th>split1_test_score</th>\n",
       "      <th>split2_test_score</th>\n",
       "      <th>mean_test_score</th>\n",
       "      <th>std_test_score</th>\n",
       "      <th>rank_test_score</th>\n",
       "    </tr>\n",
       "  </thead>\n",
       "  <tbody>\n",
       "    <tr>\n",
       "      <th>2</th>\n",
       "      <td>0.255408</td>\n",
       "      <td>0.021906</td>\n",
       "      <td>0.007126</td>\n",
       "      <td>0.003162</td>\n",
       "      <td>1</td>\n",
       "      <td>None</td>\n",
       "      <td>100</td>\n",
       "      <td>sag</td>\n",
       "      <td>{'C': 1, 'class_weight': None, 'max_iter': 100...</td>\n",
       "      <td>0.545455</td>\n",
       "      <td>0.833333</td>\n",
       "      <td>0.666667</td>\n",
       "      <td>0.681818</td>\n",
       "      <td>0.118013</td>\n",
       "      <td>1</td>\n",
       "    </tr>\n",
       "    <tr>\n",
       "      <th>3</th>\n",
       "      <td>0.713220</td>\n",
       "      <td>0.062493</td>\n",
       "      <td>0.005616</td>\n",
       "      <td>0.001911</td>\n",
       "      <td>1</td>\n",
       "      <td>None</td>\n",
       "      <td>500</td>\n",
       "      <td>sag</td>\n",
       "      <td>{'C': 1, 'class_weight': None, 'max_iter': 500...</td>\n",
       "      <td>0.545455</td>\n",
       "      <td>0.833333</td>\n",
       "      <td>0.666667</td>\n",
       "      <td>0.681818</td>\n",
       "      <td>0.118013</td>\n",
       "      <td>1</td>\n",
       "    </tr>\n",
       "    <tr>\n",
       "      <th>6</th>\n",
       "      <td>0.254546</td>\n",
       "      <td>0.022862</td>\n",
       "      <td>0.004472</td>\n",
       "      <td>0.000090</td>\n",
       "      <td>10</td>\n",
       "      <td>None</td>\n",
       "      <td>100</td>\n",
       "      <td>sag</td>\n",
       "      <td>{'C': 10, 'class_weight': None, 'max_iter': 10...</td>\n",
       "      <td>0.545455</td>\n",
       "      <td>0.833333</td>\n",
       "      <td>0.666667</td>\n",
       "      <td>0.681818</td>\n",
       "      <td>0.118013</td>\n",
       "      <td>1</td>\n",
       "    </tr>\n",
       "    <tr>\n",
       "      <th>1</th>\n",
       "      <td>0.637094</td>\n",
       "      <td>0.093828</td>\n",
       "      <td>0.005239</td>\n",
       "      <td>0.001416</td>\n",
       "      <td>1</td>\n",
       "      <td>balanced</td>\n",
       "      <td>500</td>\n",
       "      <td>sag</td>\n",
       "      <td>{'C': 1, 'class_weight': 'balanced', 'max_iter...</td>\n",
       "      <td>0.571429</td>\n",
       "      <td>0.857143</td>\n",
       "      <td>0.615385</td>\n",
       "      <td>0.681319</td>\n",
       "      <td>0.125615</td>\n",
       "      <td>4</td>\n",
       "    </tr>\n",
       "    <tr>\n",
       "      <th>7</th>\n",
       "      <td>1.076554</td>\n",
       "      <td>0.051317</td>\n",
       "      <td>0.004207</td>\n",
       "      <td>0.000076</td>\n",
       "      <td>10</td>\n",
       "      <td>None</td>\n",
       "      <td>500</td>\n",
       "      <td>sag</td>\n",
       "      <td>{'C': 10, 'class_weight': None, 'max_iter': 50...</td>\n",
       "      <td>0.500000</td>\n",
       "      <td>0.833333</td>\n",
       "      <td>0.666667</td>\n",
       "      <td>0.666667</td>\n",
       "      <td>0.136083</td>\n",
       "      <td>5</td>\n",
       "    </tr>\n",
       "    <tr>\n",
       "      <th>4</th>\n",
       "      <td>0.225450</td>\n",
       "      <td>0.028099</td>\n",
       "      <td>0.004343</td>\n",
       "      <td>0.000126</td>\n",
       "      <td>10</td>\n",
       "      <td>balanced</td>\n",
       "      <td>100</td>\n",
       "      <td>sag</td>\n",
       "      <td>{'C': 10, 'class_weight': 'balanced', 'max_ite...</td>\n",
       "      <td>0.461538</td>\n",
       "      <td>0.857143</td>\n",
       "      <td>0.615385</td>\n",
       "      <td>0.644689</td>\n",
       "      <td>0.162829</td>\n",
       "      <td>6</td>\n",
       "    </tr>\n",
       "    <tr>\n",
       "      <th>5</th>\n",
       "      <td>1.258236</td>\n",
       "      <td>0.037645</td>\n",
       "      <td>0.004313</td>\n",
       "      <td>0.000026</td>\n",
       "      <td>10</td>\n",
       "      <td>balanced</td>\n",
       "      <td>500</td>\n",
       "      <td>sag</td>\n",
       "      <td>{'C': 10, 'class_weight': 'balanced', 'max_ite...</td>\n",
       "      <td>0.461538</td>\n",
       "      <td>0.833333</td>\n",
       "      <td>0.615385</td>\n",
       "      <td>0.636752</td>\n",
       "      <td>0.152535</td>\n",
       "      <td>7</td>\n",
       "    </tr>\n",
       "    <tr>\n",
       "      <th>0</th>\n",
       "      <td>0.319442</td>\n",
       "      <td>0.030834</td>\n",
       "      <td>0.010995</td>\n",
       "      <td>0.004701</td>\n",
       "      <td>1</td>\n",
       "      <td>balanced</td>\n",
       "      <td>100</td>\n",
       "      <td>sag</td>\n",
       "      <td>{'C': 1, 'class_weight': 'balanced', 'max_iter...</td>\n",
       "      <td>0.461538</td>\n",
       "      <td>0.857143</td>\n",
       "      <td>0.571429</td>\n",
       "      <td>0.630037</td>\n",
       "      <td>0.166737</td>\n",
       "      <td>8</td>\n",
       "    </tr>\n",
       "  </tbody>\n",
       "</table>\n",
       "</div>"
      ],
      "text/plain": [
       "   mean_fit_time  std_fit_time  mean_score_time  std_score_time param_C  \\\n",
       "2       0.255408      0.021906         0.007126        0.003162       1   \n",
       "3       0.713220      0.062493         0.005616        0.001911       1   \n",
       "6       0.254546      0.022862         0.004472        0.000090      10   \n",
       "1       0.637094      0.093828         0.005239        0.001416       1   \n",
       "7       1.076554      0.051317         0.004207        0.000076      10   \n",
       "4       0.225450      0.028099         0.004343        0.000126      10   \n",
       "5       1.258236      0.037645         0.004313        0.000026      10   \n",
       "0       0.319442      0.030834         0.010995        0.004701       1   \n",
       "\n",
       "  param_class_weight param_max_iter param_solver  \\\n",
       "2               None            100          sag   \n",
       "3               None            500          sag   \n",
       "6               None            100          sag   \n",
       "1           balanced            500          sag   \n",
       "7               None            500          sag   \n",
       "4           balanced            100          sag   \n",
       "5           balanced            500          sag   \n",
       "0           balanced            100          sag   \n",
       "\n",
       "                                              params  split0_test_score  \\\n",
       "2  {'C': 1, 'class_weight': None, 'max_iter': 100...           0.545455   \n",
       "3  {'C': 1, 'class_weight': None, 'max_iter': 500...           0.545455   \n",
       "6  {'C': 10, 'class_weight': None, 'max_iter': 10...           0.545455   \n",
       "1  {'C': 1, 'class_weight': 'balanced', 'max_iter...           0.571429   \n",
       "7  {'C': 10, 'class_weight': None, 'max_iter': 50...           0.500000   \n",
       "4  {'C': 10, 'class_weight': 'balanced', 'max_ite...           0.461538   \n",
       "5  {'C': 10, 'class_weight': 'balanced', 'max_ite...           0.461538   \n",
       "0  {'C': 1, 'class_weight': 'balanced', 'max_iter...           0.461538   \n",
       "\n",
       "   split1_test_score  split2_test_score  mean_test_score  std_test_score  \\\n",
       "2           0.833333           0.666667         0.681818        0.118013   \n",
       "3           0.833333           0.666667         0.681818        0.118013   \n",
       "6           0.833333           0.666667         0.681818        0.118013   \n",
       "1           0.857143           0.615385         0.681319        0.125615   \n",
       "7           0.833333           0.666667         0.666667        0.136083   \n",
       "4           0.857143           0.615385         0.644689        0.162829   \n",
       "5           0.833333           0.615385         0.636752        0.152535   \n",
       "0           0.857143           0.571429         0.630037        0.166737   \n",
       "\n",
       "   rank_test_score  \n",
       "2                1  \n",
       "3                1  \n",
       "6                1  \n",
       "1                4  \n",
       "7                5  \n",
       "4                6  \n",
       "5                7  \n",
       "0                8  "
      ]
     },
     "execution_count": 82,
     "metadata": {},
     "output_type": "execute_result"
    }
   ],
   "source": [
    "#полная таблица с результатами перебора\n",
    "grid_res = pd.DataFrame(clf.cv_results_).sort_values(by='mean_test_score', ascending=False)\n",
    "grid_res"
   ]
  },
  {
   "cell_type": "code",
   "execution_count": 103,
   "id": "9ac0d599",
   "metadata": {},
   "outputs": [
    {
     "name": "stderr",
     "output_type": "stream",
     "text": [
      "/usr/local/lib/python3.9/dist-packages/sklearn/linear_model/_sag.py:350: ConvergenceWarning: The max_iter was reached which means the coef_ did not converge\n",
      "  warnings.warn(\n"
     ]
    },
    {
     "data": {
      "text/html": [
       "<style>#sk-container-id-10 {color: black;background-color: white;}#sk-container-id-10 pre{padding: 0;}#sk-container-id-10 div.sk-toggleable {background-color: white;}#sk-container-id-10 label.sk-toggleable__label {cursor: pointer;display: block;width: 100%;margin-bottom: 0;padding: 0.3em;box-sizing: border-box;text-align: center;}#sk-container-id-10 label.sk-toggleable__label-arrow:before {content: \"▸\";float: left;margin-right: 0.25em;color: #696969;}#sk-container-id-10 label.sk-toggleable__label-arrow:hover:before {color: black;}#sk-container-id-10 div.sk-estimator:hover label.sk-toggleable__label-arrow:before {color: black;}#sk-container-id-10 div.sk-toggleable__content {max-height: 0;max-width: 0;overflow: hidden;text-align: left;background-color: #f0f8ff;}#sk-container-id-10 div.sk-toggleable__content pre {margin: 0.2em;color: black;border-radius: 0.25em;background-color: #f0f8ff;}#sk-container-id-10 input.sk-toggleable__control:checked~div.sk-toggleable__content {max-height: 200px;max-width: 100%;overflow: auto;}#sk-container-id-10 input.sk-toggleable__control:checked~label.sk-toggleable__label-arrow:before {content: \"▾\";}#sk-container-id-10 div.sk-estimator input.sk-toggleable__control:checked~label.sk-toggleable__label {background-color: #d4ebff;}#sk-container-id-10 div.sk-label input.sk-toggleable__control:checked~label.sk-toggleable__label {background-color: #d4ebff;}#sk-container-id-10 input.sk-hidden--visually {border: 0;clip: rect(1px 1px 1px 1px);clip: rect(1px, 1px, 1px, 1px);height: 1px;margin: -1px;overflow: hidden;padding: 0;position: absolute;width: 1px;}#sk-container-id-10 div.sk-estimator {font-family: monospace;background-color: #f0f8ff;border: 1px dotted black;border-radius: 0.25em;box-sizing: border-box;margin-bottom: 0.5em;}#sk-container-id-10 div.sk-estimator:hover {background-color: #d4ebff;}#sk-container-id-10 div.sk-parallel-item::after {content: \"\";width: 100%;border-bottom: 1px solid gray;flex-grow: 1;}#sk-container-id-10 div.sk-label:hover label.sk-toggleable__label {background-color: #d4ebff;}#sk-container-id-10 div.sk-serial::before {content: \"\";position: absolute;border-left: 1px solid gray;box-sizing: border-box;top: 0;bottom: 0;left: 50%;z-index: 0;}#sk-container-id-10 div.sk-serial {display: flex;flex-direction: column;align-items: center;background-color: white;padding-right: 0.2em;padding-left: 0.2em;position: relative;}#sk-container-id-10 div.sk-item {position: relative;z-index: 1;}#sk-container-id-10 div.sk-parallel {display: flex;align-items: stretch;justify-content: center;background-color: white;position: relative;}#sk-container-id-10 div.sk-item::before, #sk-container-id-10 div.sk-parallel-item::before {content: \"\";position: absolute;border-left: 1px solid gray;box-sizing: border-box;top: 0;bottom: 0;left: 50%;z-index: -1;}#sk-container-id-10 div.sk-parallel-item {display: flex;flex-direction: column;z-index: 1;position: relative;background-color: white;}#sk-container-id-10 div.sk-parallel-item:first-child::after {align-self: flex-end;width: 50%;}#sk-container-id-10 div.sk-parallel-item:last-child::after {align-self: flex-start;width: 50%;}#sk-container-id-10 div.sk-parallel-item:only-child::after {width: 0;}#sk-container-id-10 div.sk-dashed-wrapped {border: 1px dashed gray;margin: 0 0.4em 0.5em 0.4em;box-sizing: border-box;padding-bottom: 0.4em;background-color: white;}#sk-container-id-10 div.sk-label label {font-family: monospace;font-weight: bold;display: inline-block;line-height: 1.2em;}#sk-container-id-10 div.sk-label-container {text-align: center;}#sk-container-id-10 div.sk-container {/* jupyter's `normalize.less` sets `[hidden] { display: none; }` but bootstrap.min.css set `[hidden] { display: none !important; }` so we also need the `!important` here to be able to override the default hidden behavior on the sphinx rendered scikit-learn.org. See: https://github.com/scikit-learn/scikit-learn/issues/21755 */display: inline-block !important;position: relative;}#sk-container-id-10 div.sk-text-repr-fallback {display: none;}</style><div id=\"sk-container-id-10\" class=\"sk-top-container\"><div class=\"sk-text-repr-fallback\"><pre>LogisticRegression(C=0.01, max_iter=5, solver=&#x27;sag&#x27;)</pre><b>In a Jupyter environment, please rerun this cell to show the HTML representation or trust the notebook. <br />On GitHub, the HTML representation is unable to render, please try loading this page with nbviewer.org.</b></div><div class=\"sk-container\" hidden><div class=\"sk-item\"><div class=\"sk-estimator sk-toggleable\"><input class=\"sk-toggleable__control sk-hidden--visually\" id=\"sk-estimator-id-22\" type=\"checkbox\" checked><label for=\"sk-estimator-id-22\" class=\"sk-toggleable__label sk-toggleable__label-arrow\">LogisticRegression</label><div class=\"sk-toggleable__content\"><pre>LogisticRegression(C=0.01, max_iter=5, solver=&#x27;sag&#x27;)</pre></div></div></div></div></div>"
      ],
      "text/plain": [
       "LogisticRegression(C=0.01, max_iter=5, solver='sag')"
      ]
     },
     "execution_count": 103,
     "metadata": {},
     "output_type": "execute_result"
    }
   ],
   "source": [
    "#заново обучаем модель с лучшими гиперпараметрами\n",
    "lr = LogisticRegression(C=0.01, solver='sag', max_iter=5)\n",
    "lr.fit(x_train, y_train)"
   ]
  },
  {
   "cell_type": "markdown",
   "id": "6ee095a7",
   "metadata": {},
   "source": [
    "#### Вывод\n",
    "лучший результат f1=0.702"
   ]
  },
  {
   "cell_type": "code",
   "execution_count": null,
   "id": "e07e0eda",
   "metadata": {},
   "outputs": [],
   "source": []
  },
  {
   "cell_type": "markdown",
   "id": "57b460dc",
   "metadata": {},
   "source": [
    "#### RandomForestClassifier  и GridSearchCV (BERT)"
   ]
  },
  {
   "cell_type": "code",
   "execution_count": 116,
   "id": "95427294",
   "metadata": {},
   "outputs": [],
   "source": [
    "params = {'n_estimators':[20,40,60], \n",
    "          'max_depth':[20,40,80], \n",
    "          'min_samples_split':[2,4,6], \n",
    "          'min_samples_leaf':[2,4,6], \n",
    "          #'class_weight':['balanced', None]\n",
    "         } "
   ]
  },
  {
   "cell_type": "code",
   "execution_count": 117,
   "id": "2e269160",
   "metadata": {},
   "outputs": [],
   "source": [
    "rf = RandomForestClassifier(random_state=STATE)"
   ]
  },
  {
   "cell_type": "code",
   "execution_count": 118,
   "id": "9cbd49f5",
   "metadata": {},
   "outputs": [],
   "source": [
    "clf = GridSearchCV(rf,param_grid=params , cv=3, scoring='f1', n_jobs=-1)"
   ]
  },
  {
   "cell_type": "code",
   "execution_count": 119,
   "id": "7b4eb592",
   "metadata": {},
   "outputs": [
    {
     "name": "stdout",
     "output_type": "stream",
     "text": [
      "CPU times: user 680 ms, sys: 51.8 ms, total: 732 ms\n",
      "Wall time: 33.8 s\n"
     ]
    },
    {
     "data": {
      "text/html": [
       "<style>#sk-container-id-13 {color: black;background-color: white;}#sk-container-id-13 pre{padding: 0;}#sk-container-id-13 div.sk-toggleable {background-color: white;}#sk-container-id-13 label.sk-toggleable__label {cursor: pointer;display: block;width: 100%;margin-bottom: 0;padding: 0.3em;box-sizing: border-box;text-align: center;}#sk-container-id-13 label.sk-toggleable__label-arrow:before {content: \"▸\";float: left;margin-right: 0.25em;color: #696969;}#sk-container-id-13 label.sk-toggleable__label-arrow:hover:before {color: black;}#sk-container-id-13 div.sk-estimator:hover label.sk-toggleable__label-arrow:before {color: black;}#sk-container-id-13 div.sk-toggleable__content {max-height: 0;max-width: 0;overflow: hidden;text-align: left;background-color: #f0f8ff;}#sk-container-id-13 div.sk-toggleable__content pre {margin: 0.2em;color: black;border-radius: 0.25em;background-color: #f0f8ff;}#sk-container-id-13 input.sk-toggleable__control:checked~div.sk-toggleable__content {max-height: 200px;max-width: 100%;overflow: auto;}#sk-container-id-13 input.sk-toggleable__control:checked~label.sk-toggleable__label-arrow:before {content: \"▾\";}#sk-container-id-13 div.sk-estimator input.sk-toggleable__control:checked~label.sk-toggleable__label {background-color: #d4ebff;}#sk-container-id-13 div.sk-label input.sk-toggleable__control:checked~label.sk-toggleable__label {background-color: #d4ebff;}#sk-container-id-13 input.sk-hidden--visually {border: 0;clip: rect(1px 1px 1px 1px);clip: rect(1px, 1px, 1px, 1px);height: 1px;margin: -1px;overflow: hidden;padding: 0;position: absolute;width: 1px;}#sk-container-id-13 div.sk-estimator {font-family: monospace;background-color: #f0f8ff;border: 1px dotted black;border-radius: 0.25em;box-sizing: border-box;margin-bottom: 0.5em;}#sk-container-id-13 div.sk-estimator:hover {background-color: #d4ebff;}#sk-container-id-13 div.sk-parallel-item::after {content: \"\";width: 100%;border-bottom: 1px solid gray;flex-grow: 1;}#sk-container-id-13 div.sk-label:hover label.sk-toggleable__label {background-color: #d4ebff;}#sk-container-id-13 div.sk-serial::before {content: \"\";position: absolute;border-left: 1px solid gray;box-sizing: border-box;top: 0;bottom: 0;left: 50%;z-index: 0;}#sk-container-id-13 div.sk-serial {display: flex;flex-direction: column;align-items: center;background-color: white;padding-right: 0.2em;padding-left: 0.2em;position: relative;}#sk-container-id-13 div.sk-item {position: relative;z-index: 1;}#sk-container-id-13 div.sk-parallel {display: flex;align-items: stretch;justify-content: center;background-color: white;position: relative;}#sk-container-id-13 div.sk-item::before, #sk-container-id-13 div.sk-parallel-item::before {content: \"\";position: absolute;border-left: 1px solid gray;box-sizing: border-box;top: 0;bottom: 0;left: 50%;z-index: -1;}#sk-container-id-13 div.sk-parallel-item {display: flex;flex-direction: column;z-index: 1;position: relative;background-color: white;}#sk-container-id-13 div.sk-parallel-item:first-child::after {align-self: flex-end;width: 50%;}#sk-container-id-13 div.sk-parallel-item:last-child::after {align-self: flex-start;width: 50%;}#sk-container-id-13 div.sk-parallel-item:only-child::after {width: 0;}#sk-container-id-13 div.sk-dashed-wrapped {border: 1px dashed gray;margin: 0 0.4em 0.5em 0.4em;box-sizing: border-box;padding-bottom: 0.4em;background-color: white;}#sk-container-id-13 div.sk-label label {font-family: monospace;font-weight: bold;display: inline-block;line-height: 1.2em;}#sk-container-id-13 div.sk-label-container {text-align: center;}#sk-container-id-13 div.sk-container {/* jupyter's `normalize.less` sets `[hidden] { display: none; }` but bootstrap.min.css set `[hidden] { display: none !important; }` so we also need the `!important` here to be able to override the default hidden behavior on the sphinx rendered scikit-learn.org. See: https://github.com/scikit-learn/scikit-learn/issues/21755 */display: inline-block !important;position: relative;}#sk-container-id-13 div.sk-text-repr-fallback {display: none;}</style><div id=\"sk-container-id-13\" class=\"sk-top-container\"><div class=\"sk-text-repr-fallback\"><pre>GridSearchCV(cv=3, estimator=RandomForestClassifier(random_state=12345),\n",
       "             n_jobs=-1,\n",
       "             param_grid={&#x27;max_depth&#x27;: [20, 40, 80],\n",
       "                         &#x27;min_samples_leaf&#x27;: [2, 4, 6],\n",
       "                         &#x27;min_samples_split&#x27;: [2, 4, 6],\n",
       "                         &#x27;n_estimators&#x27;: [20, 40, 60]},\n",
       "             scoring=&#x27;f1&#x27;)</pre><b>In a Jupyter environment, please rerun this cell to show the HTML representation or trust the notebook. <br />On GitHub, the HTML representation is unable to render, please try loading this page with nbviewer.org.</b></div><div class=\"sk-container\" hidden><div class=\"sk-item sk-dashed-wrapped\"><div class=\"sk-label-container\"><div class=\"sk-label sk-toggleable\"><input class=\"sk-toggleable__control sk-hidden--visually\" id=\"sk-estimator-id-29\" type=\"checkbox\" ><label for=\"sk-estimator-id-29\" class=\"sk-toggleable__label sk-toggleable__label-arrow\">GridSearchCV</label><div class=\"sk-toggleable__content\"><pre>GridSearchCV(cv=3, estimator=RandomForestClassifier(random_state=12345),\n",
       "             n_jobs=-1,\n",
       "             param_grid={&#x27;max_depth&#x27;: [20, 40, 80],\n",
       "                         &#x27;min_samples_leaf&#x27;: [2, 4, 6],\n",
       "                         &#x27;min_samples_split&#x27;: [2, 4, 6],\n",
       "                         &#x27;n_estimators&#x27;: [20, 40, 60]},\n",
       "             scoring=&#x27;f1&#x27;)</pre></div></div></div><div class=\"sk-parallel\"><div class=\"sk-parallel-item\"><div class=\"sk-item\"><div class=\"sk-label-container\"><div class=\"sk-label sk-toggleable\"><input class=\"sk-toggleable__control sk-hidden--visually\" id=\"sk-estimator-id-30\" type=\"checkbox\" ><label for=\"sk-estimator-id-30\" class=\"sk-toggleable__label sk-toggleable__label-arrow\">estimator: RandomForestClassifier</label><div class=\"sk-toggleable__content\"><pre>RandomForestClassifier(random_state=12345)</pre></div></div></div><div class=\"sk-serial\"><div class=\"sk-item\"><div class=\"sk-estimator sk-toggleable\"><input class=\"sk-toggleable__control sk-hidden--visually\" id=\"sk-estimator-id-31\" type=\"checkbox\" ><label for=\"sk-estimator-id-31\" class=\"sk-toggleable__label sk-toggleable__label-arrow\">RandomForestClassifier</label><div class=\"sk-toggleable__content\"><pre>RandomForestClassifier(random_state=12345)</pre></div></div></div></div></div></div></div></div></div></div>"
      ],
      "text/plain": [
       "GridSearchCV(cv=3, estimator=RandomForestClassifier(random_state=12345),\n",
       "             n_jobs=-1,\n",
       "             param_grid={'max_depth': [20, 40, 80],\n",
       "                         'min_samples_leaf': [2, 4, 6],\n",
       "                         'min_samples_split': [2, 4, 6],\n",
       "                         'n_estimators': [20, 40, 60]},\n",
       "             scoring='f1')"
      ]
     },
     "execution_count": 119,
     "metadata": {},
     "output_type": "execute_result"
    }
   ],
   "source": [
    "%%time\n",
    "clf.fit(x_train, y_train)"
   ]
  },
  {
   "cell_type": "code",
   "execution_count": 120,
   "id": "a4a92328",
   "metadata": {},
   "outputs": [
    {
     "data": {
      "text/plain": [
       "0.702020202020202"
      ]
     },
     "execution_count": 120,
     "metadata": {},
     "output_type": "execute_result"
    }
   ],
   "source": [
    "#лучший результат\n",
    "clf.best_score_"
   ]
  },
  {
   "cell_type": "code",
   "execution_count": 121,
   "id": "74dff4e7",
   "metadata": {
    "scrolled": true
   },
   "outputs": [
    {
     "data": {
      "text/plain": [
       "{'max_depth': 20,\n",
       " 'min_samples_leaf': 2,\n",
       " 'min_samples_split': 2,\n",
       " 'n_estimators': 40}"
      ]
     },
     "execution_count": 121,
     "metadata": {},
     "output_type": "execute_result"
    }
   ],
   "source": [
    "#лучшие параметры\n",
    "clf.best_params_"
   ]
  },
  {
   "cell_type": "code",
   "execution_count": 125,
   "id": "7fcb6dbc",
   "metadata": {},
   "outputs": [
    {
     "data": {
      "text/html": [
       "<style>#sk-container-id-15 {color: black;background-color: white;}#sk-container-id-15 pre{padding: 0;}#sk-container-id-15 div.sk-toggleable {background-color: white;}#sk-container-id-15 label.sk-toggleable__label {cursor: pointer;display: block;width: 100%;margin-bottom: 0;padding: 0.3em;box-sizing: border-box;text-align: center;}#sk-container-id-15 label.sk-toggleable__label-arrow:before {content: \"▸\";float: left;margin-right: 0.25em;color: #696969;}#sk-container-id-15 label.sk-toggleable__label-arrow:hover:before {color: black;}#sk-container-id-15 div.sk-estimator:hover label.sk-toggleable__label-arrow:before {color: black;}#sk-container-id-15 div.sk-toggleable__content {max-height: 0;max-width: 0;overflow: hidden;text-align: left;background-color: #f0f8ff;}#sk-container-id-15 div.sk-toggleable__content pre {margin: 0.2em;color: black;border-radius: 0.25em;background-color: #f0f8ff;}#sk-container-id-15 input.sk-toggleable__control:checked~div.sk-toggleable__content {max-height: 200px;max-width: 100%;overflow: auto;}#sk-container-id-15 input.sk-toggleable__control:checked~label.sk-toggleable__label-arrow:before {content: \"▾\";}#sk-container-id-15 div.sk-estimator input.sk-toggleable__control:checked~label.sk-toggleable__label {background-color: #d4ebff;}#sk-container-id-15 div.sk-label input.sk-toggleable__control:checked~label.sk-toggleable__label {background-color: #d4ebff;}#sk-container-id-15 input.sk-hidden--visually {border: 0;clip: rect(1px 1px 1px 1px);clip: rect(1px, 1px, 1px, 1px);height: 1px;margin: -1px;overflow: hidden;padding: 0;position: absolute;width: 1px;}#sk-container-id-15 div.sk-estimator {font-family: monospace;background-color: #f0f8ff;border: 1px dotted black;border-radius: 0.25em;box-sizing: border-box;margin-bottom: 0.5em;}#sk-container-id-15 div.sk-estimator:hover {background-color: #d4ebff;}#sk-container-id-15 div.sk-parallel-item::after {content: \"\";width: 100%;border-bottom: 1px solid gray;flex-grow: 1;}#sk-container-id-15 div.sk-label:hover label.sk-toggleable__label {background-color: #d4ebff;}#sk-container-id-15 div.sk-serial::before {content: \"\";position: absolute;border-left: 1px solid gray;box-sizing: border-box;top: 0;bottom: 0;left: 50%;z-index: 0;}#sk-container-id-15 div.sk-serial {display: flex;flex-direction: column;align-items: center;background-color: white;padding-right: 0.2em;padding-left: 0.2em;position: relative;}#sk-container-id-15 div.sk-item {position: relative;z-index: 1;}#sk-container-id-15 div.sk-parallel {display: flex;align-items: stretch;justify-content: center;background-color: white;position: relative;}#sk-container-id-15 div.sk-item::before, #sk-container-id-15 div.sk-parallel-item::before {content: \"\";position: absolute;border-left: 1px solid gray;box-sizing: border-box;top: 0;bottom: 0;left: 50%;z-index: -1;}#sk-container-id-15 div.sk-parallel-item {display: flex;flex-direction: column;z-index: 1;position: relative;background-color: white;}#sk-container-id-15 div.sk-parallel-item:first-child::after {align-self: flex-end;width: 50%;}#sk-container-id-15 div.sk-parallel-item:last-child::after {align-self: flex-start;width: 50%;}#sk-container-id-15 div.sk-parallel-item:only-child::after {width: 0;}#sk-container-id-15 div.sk-dashed-wrapped {border: 1px dashed gray;margin: 0 0.4em 0.5em 0.4em;box-sizing: border-box;padding-bottom: 0.4em;background-color: white;}#sk-container-id-15 div.sk-label label {font-family: monospace;font-weight: bold;display: inline-block;line-height: 1.2em;}#sk-container-id-15 div.sk-label-container {text-align: center;}#sk-container-id-15 div.sk-container {/* jupyter's `normalize.less` sets `[hidden] { display: none; }` but bootstrap.min.css set `[hidden] { display: none !important; }` so we also need the `!important` here to be able to override the default hidden behavior on the sphinx rendered scikit-learn.org. See: https://github.com/scikit-learn/scikit-learn/issues/21755 */display: inline-block !important;position: relative;}#sk-container-id-15 div.sk-text-repr-fallback {display: none;}</style><div id=\"sk-container-id-15\" class=\"sk-top-container\"><div class=\"sk-text-repr-fallback\"><pre>RandomForestClassifier(max_depth=20, min_samples_leaf=2, n_estimators=40,\n",
       "                       random_state=12345)</pre><b>In a Jupyter environment, please rerun this cell to show the HTML representation or trust the notebook. <br />On GitHub, the HTML representation is unable to render, please try loading this page with nbviewer.org.</b></div><div class=\"sk-container\" hidden><div class=\"sk-item\"><div class=\"sk-estimator sk-toggleable\"><input class=\"sk-toggleable__control sk-hidden--visually\" id=\"sk-estimator-id-33\" type=\"checkbox\" checked><label for=\"sk-estimator-id-33\" class=\"sk-toggleable__label sk-toggleable__label-arrow\">RandomForestClassifier</label><div class=\"sk-toggleable__content\"><pre>RandomForestClassifier(max_depth=20, min_samples_leaf=2, n_estimators=40,\n",
       "                       random_state=12345)</pre></div></div></div></div></div>"
      ],
      "text/plain": [
       "RandomForestClassifier(max_depth=20, min_samples_leaf=2, n_estimators=40,\n",
       "                       random_state=12345)"
      ]
     },
     "execution_count": 125,
     "metadata": {},
     "output_type": "execute_result"
    }
   ],
   "source": [
    "#лучшая модель\n",
    "clf.best_estimator_"
   ]
  },
  {
   "cell_type": "code",
   "execution_count": 122,
   "id": "f90227ab",
   "metadata": {},
   "outputs": [
    {
     "data": {
      "text/html": [
       "<div>\n",
       "<style scoped>\n",
       "    .dataframe tbody tr th:only-of-type {\n",
       "        vertical-align: middle;\n",
       "    }\n",
       "\n",
       "    .dataframe tbody tr th {\n",
       "        vertical-align: top;\n",
       "    }\n",
       "\n",
       "    .dataframe thead th {\n",
       "        text-align: right;\n",
       "    }\n",
       "</style>\n",
       "<table border=\"1\" class=\"dataframe\">\n",
       "  <thead>\n",
       "    <tr style=\"text-align: right;\">\n",
       "      <th></th>\n",
       "      <th>mean_fit_time</th>\n",
       "      <th>std_fit_time</th>\n",
       "      <th>mean_score_time</th>\n",
       "      <th>std_score_time</th>\n",
       "      <th>param_max_depth</th>\n",
       "      <th>param_min_samples_leaf</th>\n",
       "      <th>param_min_samples_split</th>\n",
       "      <th>param_n_estimators</th>\n",
       "      <th>params</th>\n",
       "      <th>split0_test_score</th>\n",
       "      <th>split1_test_score</th>\n",
       "      <th>split2_test_score</th>\n",
       "      <th>mean_test_score</th>\n",
       "      <th>std_test_score</th>\n",
       "      <th>rank_test_score</th>\n",
       "    </tr>\n",
       "  </thead>\n",
       "  <tbody>\n",
       "    <tr>\n",
       "      <th>34</th>\n",
       "      <td>0.241204</td>\n",
       "      <td>0.003487</td>\n",
       "      <td>0.022134</td>\n",
       "      <td>0.000576</td>\n",
       "      <td>40</td>\n",
       "      <td>2</td>\n",
       "      <td>6</td>\n",
       "      <td>40</td>\n",
       "      <td>{'max_depth': 40, 'min_samples_leaf': 2, 'min_...</td>\n",
       "      <td>0.545455</td>\n",
       "      <td>0.833333</td>\n",
       "      <td>0.727273</td>\n",
       "      <td>0.702020</td>\n",
       "      <td>0.118875</td>\n",
       "      <td>1</td>\n",
       "    </tr>\n",
       "    <tr>\n",
       "      <th>28</th>\n",
       "      <td>0.219645</td>\n",
       "      <td>0.016622</td>\n",
       "      <td>0.028543</td>\n",
       "      <td>0.009415</td>\n",
       "      <td>40</td>\n",
       "      <td>2</td>\n",
       "      <td>2</td>\n",
       "      <td>40</td>\n",
       "      <td>{'max_depth': 40, 'min_samples_leaf': 2, 'min_...</td>\n",
       "      <td>0.545455</td>\n",
       "      <td>0.833333</td>\n",
       "      <td>0.727273</td>\n",
       "      <td>0.702020</td>\n",
       "      <td>0.118875</td>\n",
       "      <td>1</td>\n",
       "    </tr>\n",
       "    <tr>\n",
       "      <th>58</th>\n",
       "      <td>0.285614</td>\n",
       "      <td>0.080015</td>\n",
       "      <td>0.039608</td>\n",
       "      <td>0.015444</td>\n",
       "      <td>80</td>\n",
       "      <td>2</td>\n",
       "      <td>4</td>\n",
       "      <td>40</td>\n",
       "      <td>{'max_depth': 80, 'min_samples_leaf': 2, 'min_...</td>\n",
       "      <td>0.545455</td>\n",
       "      <td>0.833333</td>\n",
       "      <td>0.727273</td>\n",
       "      <td>0.702020</td>\n",
       "      <td>0.118875</td>\n",
       "      <td>1</td>\n",
       "    </tr>\n",
       "    <tr>\n",
       "      <th>29</th>\n",
       "      <td>0.369669</td>\n",
       "      <td>0.051700</td>\n",
       "      <td>0.033519</td>\n",
       "      <td>0.001710</td>\n",
       "      <td>40</td>\n",
       "      <td>2</td>\n",
       "      <td>2</td>\n",
       "      <td>60</td>\n",
       "      <td>{'max_depth': 40, 'min_samples_leaf': 2, 'min_...</td>\n",
       "      <td>0.545455</td>\n",
       "      <td>0.833333</td>\n",
       "      <td>0.727273</td>\n",
       "      <td>0.702020</td>\n",
       "      <td>0.118875</td>\n",
       "      <td>1</td>\n",
       "    </tr>\n",
       "    <tr>\n",
       "      <th>62</th>\n",
       "      <td>0.524836</td>\n",
       "      <td>0.070013</td>\n",
       "      <td>0.057998</td>\n",
       "      <td>0.018860</td>\n",
       "      <td>80</td>\n",
       "      <td>2</td>\n",
       "      <td>6</td>\n",
       "      <td>60</td>\n",
       "      <td>{'max_depth': 80, 'min_samples_leaf': 2, 'min_...</td>\n",
       "      <td>0.545455</td>\n",
       "      <td>0.833333</td>\n",
       "      <td>0.727273</td>\n",
       "      <td>0.702020</td>\n",
       "      <td>0.118875</td>\n",
       "      <td>1</td>\n",
       "    </tr>\n",
       "    <tr>\n",
       "      <th>...</th>\n",
       "      <td>...</td>\n",
       "      <td>...</td>\n",
       "      <td>...</td>\n",
       "      <td>...</td>\n",
       "      <td>...</td>\n",
       "      <td>...</td>\n",
       "      <td>...</td>\n",
       "      <td>...</td>\n",
       "      <td>...</td>\n",
       "      <td>...</td>\n",
       "      <td>...</td>\n",
       "      <td>...</td>\n",
       "      <td>...</td>\n",
       "      <td>...</td>\n",
       "      <td>...</td>\n",
       "    </tr>\n",
       "    <tr>\n",
       "      <th>54</th>\n",
       "      <td>0.144355</td>\n",
       "      <td>0.015115</td>\n",
       "      <td>0.016241</td>\n",
       "      <td>0.001851</td>\n",
       "      <td>80</td>\n",
       "      <td>2</td>\n",
       "      <td>2</td>\n",
       "      <td>20</td>\n",
       "      <td>{'max_depth': 80, 'min_samples_leaf': 2, 'min_...</td>\n",
       "      <td>0.545455</td>\n",
       "      <td>0.615385</td>\n",
       "      <td>0.666667</td>\n",
       "      <td>0.609169</td>\n",
       "      <td>0.049679</td>\n",
       "      <td>76</td>\n",
       "    </tr>\n",
       "    <tr>\n",
       "      <th>30</th>\n",
       "      <td>0.106897</td>\n",
       "      <td>0.006016</td>\n",
       "      <td>0.017137</td>\n",
       "      <td>0.002343</td>\n",
       "      <td>40</td>\n",
       "      <td>2</td>\n",
       "      <td>4</td>\n",
       "      <td>20</td>\n",
       "      <td>{'max_depth': 40, 'min_samples_leaf': 2, 'min_...</td>\n",
       "      <td>0.545455</td>\n",
       "      <td>0.615385</td>\n",
       "      <td>0.666667</td>\n",
       "      <td>0.609169</td>\n",
       "      <td>0.049679</td>\n",
       "      <td>76</td>\n",
       "    </tr>\n",
       "    <tr>\n",
       "      <th>57</th>\n",
       "      <td>0.133929</td>\n",
       "      <td>0.033920</td>\n",
       "      <td>0.013941</td>\n",
       "      <td>0.000490</td>\n",
       "      <td>80</td>\n",
       "      <td>2</td>\n",
       "      <td>4</td>\n",
       "      <td>20</td>\n",
       "      <td>{'max_depth': 80, 'min_samples_leaf': 2, 'min_...</td>\n",
       "      <td>0.545455</td>\n",
       "      <td>0.615385</td>\n",
       "      <td>0.666667</td>\n",
       "      <td>0.609169</td>\n",
       "      <td>0.049679</td>\n",
       "      <td>76</td>\n",
       "    </tr>\n",
       "    <tr>\n",
       "      <th>3</th>\n",
       "      <td>0.162069</td>\n",
       "      <td>0.027079</td>\n",
       "      <td>0.017426</td>\n",
       "      <td>0.003728</td>\n",
       "      <td>20</td>\n",
       "      <td>2</td>\n",
       "      <td>4</td>\n",
       "      <td>20</td>\n",
       "      <td>{'max_depth': 20, 'min_samples_leaf': 2, 'min_...</td>\n",
       "      <td>0.545455</td>\n",
       "      <td>0.615385</td>\n",
       "      <td>0.666667</td>\n",
       "      <td>0.609169</td>\n",
       "      <td>0.049679</td>\n",
       "      <td>76</td>\n",
       "    </tr>\n",
       "    <tr>\n",
       "      <th>0</th>\n",
       "      <td>0.185438</td>\n",
       "      <td>0.044535</td>\n",
       "      <td>0.021804</td>\n",
       "      <td>0.006229</td>\n",
       "      <td>20</td>\n",
       "      <td>2</td>\n",
       "      <td>2</td>\n",
       "      <td>20</td>\n",
       "      <td>{'max_depth': 20, 'min_samples_leaf': 2, 'min_...</td>\n",
       "      <td>0.545455</td>\n",
       "      <td>0.615385</td>\n",
       "      <td>0.666667</td>\n",
       "      <td>0.609169</td>\n",
       "      <td>0.049679</td>\n",
       "      <td>76</td>\n",
       "    </tr>\n",
       "  </tbody>\n",
       "</table>\n",
       "<p>81 rows × 15 columns</p>\n",
       "</div>"
      ],
      "text/plain": [
       "    mean_fit_time  std_fit_time  mean_score_time  std_score_time  \\\n",
       "34       0.241204      0.003487         0.022134        0.000576   \n",
       "28       0.219645      0.016622         0.028543        0.009415   \n",
       "58       0.285614      0.080015         0.039608        0.015444   \n",
       "29       0.369669      0.051700         0.033519        0.001710   \n",
       "62       0.524836      0.070013         0.057998        0.018860   \n",
       "..            ...           ...              ...             ...   \n",
       "54       0.144355      0.015115         0.016241        0.001851   \n",
       "30       0.106897      0.006016         0.017137        0.002343   \n",
       "57       0.133929      0.033920         0.013941        0.000490   \n",
       "3        0.162069      0.027079         0.017426        0.003728   \n",
       "0        0.185438      0.044535         0.021804        0.006229   \n",
       "\n",
       "   param_max_depth param_min_samples_leaf param_min_samples_split  \\\n",
       "34              40                      2                       6   \n",
       "28              40                      2                       2   \n",
       "58              80                      2                       4   \n",
       "29              40                      2                       2   \n",
       "62              80                      2                       6   \n",
       "..             ...                    ...                     ...   \n",
       "54              80                      2                       2   \n",
       "30              40                      2                       4   \n",
       "57              80                      2                       4   \n",
       "3               20                      2                       4   \n",
       "0               20                      2                       2   \n",
       "\n",
       "   param_n_estimators                                             params  \\\n",
       "34                 40  {'max_depth': 40, 'min_samples_leaf': 2, 'min_...   \n",
       "28                 40  {'max_depth': 40, 'min_samples_leaf': 2, 'min_...   \n",
       "58                 40  {'max_depth': 80, 'min_samples_leaf': 2, 'min_...   \n",
       "29                 60  {'max_depth': 40, 'min_samples_leaf': 2, 'min_...   \n",
       "62                 60  {'max_depth': 80, 'min_samples_leaf': 2, 'min_...   \n",
       "..                ...                                                ...   \n",
       "54                 20  {'max_depth': 80, 'min_samples_leaf': 2, 'min_...   \n",
       "30                 20  {'max_depth': 40, 'min_samples_leaf': 2, 'min_...   \n",
       "57                 20  {'max_depth': 80, 'min_samples_leaf': 2, 'min_...   \n",
       "3                  20  {'max_depth': 20, 'min_samples_leaf': 2, 'min_...   \n",
       "0                  20  {'max_depth': 20, 'min_samples_leaf': 2, 'min_...   \n",
       "\n",
       "    split0_test_score  split1_test_score  split2_test_score  mean_test_score  \\\n",
       "34           0.545455           0.833333           0.727273         0.702020   \n",
       "28           0.545455           0.833333           0.727273         0.702020   \n",
       "58           0.545455           0.833333           0.727273         0.702020   \n",
       "29           0.545455           0.833333           0.727273         0.702020   \n",
       "62           0.545455           0.833333           0.727273         0.702020   \n",
       "..                ...                ...                ...              ...   \n",
       "54           0.545455           0.615385           0.666667         0.609169   \n",
       "30           0.545455           0.615385           0.666667         0.609169   \n",
       "57           0.545455           0.615385           0.666667         0.609169   \n",
       "3            0.545455           0.615385           0.666667         0.609169   \n",
       "0            0.545455           0.615385           0.666667         0.609169   \n",
       "\n",
       "    std_test_score  rank_test_score  \n",
       "34        0.118875                1  \n",
       "28        0.118875                1  \n",
       "58        0.118875                1  \n",
       "29        0.118875                1  \n",
       "62        0.118875                1  \n",
       "..             ...              ...  \n",
       "54        0.049679               76  \n",
       "30        0.049679               76  \n",
       "57        0.049679               76  \n",
       "3         0.049679               76  \n",
       "0         0.049679               76  \n",
       "\n",
       "[81 rows x 15 columns]"
      ]
     },
     "execution_count": 122,
     "metadata": {},
     "output_type": "execute_result"
    }
   ],
   "source": [
    "#полная таблица с результатами перебора\n",
    "grid_res = pd.DataFrame(clf.cv_results_).sort_values(by='mean_test_score', ascending=False)\n",
    "grid_res"
   ]
  },
  {
   "cell_type": "markdown",
   "id": "3dc64106",
   "metadata": {},
   "source": [
    "#### Вывод\n",
    "\n",
    "лучший результат f1=0.702"
   ]
  },
  {
   "cell_type": "code",
   "execution_count": null,
   "id": "7662f10f",
   "metadata": {},
   "outputs": [],
   "source": []
  },
  {
   "cell_type": "markdown",
   "id": "4ffad6fb",
   "metadata": {},
   "source": [
    "#### CatBoostClassifier и GridSearchCV (BERT)"
   ]
  },
  {
   "cell_type": "raw",
   "id": "752cdb5e",
   "metadata": {},
   "source": [
    "grid = {'learning_rate': [0.1, 0.5],\n",
    "        'depth': [4,6,10],\n",
    "        'l2_leaf_reg': [1, 3, 5, 7, 9]}"
   ]
  },
  {
   "cell_type": "raw",
   "id": "3c19fc8f",
   "metadata": {},
   "source": [
    "CatBoost = CatBoostClassifier(eval_metric=\"F1:hints=skip_train~false\", iterations=50)"
   ]
  },
  {
   "cell_type": "raw",
   "id": "9f06a52f",
   "metadata": {},
   "source": [
    "grid_search_result = CatBoost.grid_search(grid,\n",
    "                                          X=x_train,\n",
    "                                          y=y_train, \n",
    "                                          cv=3,\n",
    "                                          calc_cv_statistics=True,\n",
    "                                          search_by_train_test_split=True,\n",
    "                                          refit=True,\n",
    "                                          partition_random_seed=STATE, \n",
    "                                          plot=False)"
   ]
  },
  {
   "cell_type": "raw",
   "id": "53a33087",
   "metadata": {},
   "source": [
    "CatBoost.best_score_"
   ]
  },
  {
   "cell_type": "markdown",
   "id": "f4712ee8",
   "metadata": {},
   "source": [
    "#### тестирование лучшей модели (BERT)"
   ]
  },
  {
   "cell_type": "markdown",
   "id": "4f49d66e",
   "metadata": {},
   "source": [
    "Модели LogisticRegression и RandomForestClassifier выдают одинаковый результат, но первая работает намного быстрее.\n",
    "\n",
    "Поэтому для окончательной проверки выберу её."
   ]
  },
  {
   "cell_type": "code",
   "execution_count": 129,
   "id": "f3a64908",
   "metadata": {},
   "outputs": [],
   "source": [
    "pred_test = lr.predict(x_test)"
   ]
  },
  {
   "cell_type": "code",
   "execution_count": 130,
   "id": "f9e29b7e",
   "metadata": {},
   "outputs": [
    {
     "data": {
      "text/plain": [
       "0.6285714285714286"
      ]
     },
     "execution_count": 130,
     "metadata": {},
     "output_type": "execute_result"
    }
   ],
   "source": [
    "f1_score(y_test, pred_test)"
   ]
  },
  {
   "cell_type": "markdown",
   "id": "698df5eb",
   "metadata": {},
   "source": [
    "#### Вывод\n",
    "\n",
    "лучший результат f1=0.629 на тестовой выборке"
   ]
  },
  {
   "cell_type": "markdown",
   "id": "14fdc492",
   "metadata": {},
   "source": [
    "# Выводы <a class=\"anchor\" id=\"four-bullet\"></a>"
   ]
  },
  {
   "cell_type": "markdown",
   "id": "b951af4e",
   "metadata": {},
   "source": [
    "Проведена проверка двух типов обработки текста:\n",
    "   - методика TF-IDF\n",
    "   - языковая модель BERT\n",
    "   \n",
    "Рассмотрены 3 разные ML модели: LogisticRegression, RandomForestClassifier и CatBoost.\n",
    "\n",
    "Точность f1, по методу TF-IDF,  для лучшей модели LogisticRegression составила f1=0.78\n",
    "\n",
    "Точность для языковой модели BERT составила около 0.628 при количестве комментариев 200 для обучения и 200 для тестирования."
   ]
  },
  {
   "cell_type": "code",
   "execution_count": null,
   "id": "64952191",
   "metadata": {},
   "outputs": [],
   "source": []
  }
 ],
 "metadata": {
  "ExecuteTimeLog": [
   {
    "duration": 2950,
    "start_time": "2023-05-08T05:41:34.914Z"
   },
   {
    "duration": 3,
    "start_time": "2023-05-08T05:41:37.866Z"
   },
   {
    "duration": 400,
    "start_time": "2023-05-08T05:41:37.870Z"
   },
   {
    "duration": 2334,
    "start_time": "2023-05-08T05:41:38.272Z"
   },
   {
    "duration": 18,
    "start_time": "2023-05-08T05:41:40.607Z"
   },
   {
    "duration": 16,
    "start_time": "2023-05-08T05:41:40.627Z"
   },
   {
    "duration": 60,
    "start_time": "2023-05-08T05:41:40.645Z"
   },
   {
    "duration": 5,
    "start_time": "2023-05-08T05:41:40.707Z"
   },
   {
    "duration": 21,
    "start_time": "2023-05-08T05:41:40.714Z"
   },
   {
    "duration": 11,
    "start_time": "2023-05-08T05:41:40.739Z"
   },
   {
    "duration": 19,
    "start_time": "2023-05-08T05:41:40.752Z"
   },
   {
    "duration": 1335,
    "start_time": "2023-05-08T05:41:40.773Z"
   },
   {
    "duration": 42450,
    "start_time": "2023-05-08T05:41:42.111Z"
   },
   {
    "duration": 29,
    "start_time": "2023-05-08T05:42:24.563Z"
   },
   {
    "duration": 83,
    "start_time": "2023-05-08T05:42:24.594Z"
   },
   {
    "duration": 4,
    "start_time": "2023-05-08T05:42:24.678Z"
   },
   {
    "duration": 15,
    "start_time": "2023-05-08T05:42:24.685Z"
   },
   {
    "duration": 13,
    "start_time": "2023-05-08T05:42:24.702Z"
   },
   {
    "duration": 19,
    "start_time": "2023-05-08T05:42:24.717Z"
   },
   {
    "duration": 3886,
    "start_time": "2023-05-08T05:42:24.738Z"
   },
   {
    "duration": 8,
    "start_time": "2023-05-08T05:42:28.626Z"
   },
   {
    "duration": 78,
    "start_time": "2023-05-08T05:42:28.636Z"
   },
   {
    "duration": 54,
    "start_time": "2023-05-08T05:42:28.716Z"
   },
   {
    "duration": 6,
    "start_time": "2023-05-08T05:42:28.772Z"
   },
   {
    "duration": 166,
    "start_time": "2023-05-08T05:42:28.780Z"
   },
   {
    "duration": 0,
    "start_time": "2023-05-08T05:42:28.950Z"
   },
   {
    "duration": 0,
    "start_time": "2023-05-08T05:42:28.952Z"
   },
   {
    "duration": 0,
    "start_time": "2023-05-08T05:42:28.953Z"
   },
   {
    "duration": 0,
    "start_time": "2023-05-08T05:42:28.954Z"
   },
   {
    "duration": 0,
    "start_time": "2023-05-08T05:42:28.955Z"
   },
   {
    "duration": 0,
    "start_time": "2023-05-08T05:42:28.957Z"
   },
   {
    "duration": 0,
    "start_time": "2023-05-08T05:42:28.958Z"
   },
   {
    "duration": 0,
    "start_time": "2023-05-08T05:42:28.960Z"
   },
   {
    "duration": 0,
    "start_time": "2023-05-08T05:42:28.961Z"
   },
   {
    "duration": 0,
    "start_time": "2023-05-08T05:42:28.963Z"
   },
   {
    "duration": 0,
    "start_time": "2023-05-08T05:42:28.964Z"
   },
   {
    "duration": 0,
    "start_time": "2023-05-08T05:42:28.966Z"
   },
   {
    "duration": 0,
    "start_time": "2023-05-08T05:42:28.967Z"
   },
   {
    "duration": 0,
    "start_time": "2023-05-08T05:42:28.969Z"
   },
   {
    "duration": 0,
    "start_time": "2023-05-08T05:42:28.971Z"
   },
   {
    "duration": 0,
    "start_time": "2023-05-08T05:42:28.973Z"
   },
   {
    "duration": 0,
    "start_time": "2023-05-08T05:42:28.975Z"
   },
   {
    "duration": 0,
    "start_time": "2023-05-08T05:42:28.977Z"
   },
   {
    "duration": 0,
    "start_time": "2023-05-08T05:42:28.978Z"
   },
   {
    "duration": 0,
    "start_time": "2023-05-08T05:42:28.979Z"
   },
   {
    "duration": 0,
    "start_time": "2023-05-08T05:42:28.981Z"
   },
   {
    "duration": 0,
    "start_time": "2023-05-08T05:42:28.982Z"
   },
   {
    "duration": 0,
    "start_time": "2023-05-08T05:42:28.983Z"
   },
   {
    "duration": 0,
    "start_time": "2023-05-08T05:42:29.033Z"
   },
   {
    "duration": 0,
    "start_time": "2023-05-08T05:42:29.034Z"
   },
   {
    "duration": 0,
    "start_time": "2023-05-08T05:42:29.036Z"
   },
   {
    "duration": 0,
    "start_time": "2023-05-08T05:42:29.037Z"
   },
   {
    "duration": 0,
    "start_time": "2023-05-08T05:42:29.038Z"
   },
   {
    "duration": 0,
    "start_time": "2023-05-08T05:42:29.039Z"
   },
   {
    "duration": 0,
    "start_time": "2023-05-08T05:42:29.041Z"
   },
   {
    "duration": 0,
    "start_time": "2023-05-08T05:42:29.042Z"
   },
   {
    "duration": 0,
    "start_time": "2023-05-08T05:42:29.045Z"
   },
   {
    "duration": 0,
    "start_time": "2023-05-08T05:42:29.046Z"
   },
   {
    "duration": 0,
    "start_time": "2023-05-08T05:42:29.047Z"
   },
   {
    "duration": 0,
    "start_time": "2023-05-08T05:42:29.050Z"
   },
   {
    "duration": 0,
    "start_time": "2023-05-08T05:42:29.051Z"
   },
   {
    "duration": 0,
    "start_time": "2023-05-08T05:42:29.053Z"
   },
   {
    "duration": 0,
    "start_time": "2023-05-08T05:42:29.054Z"
   },
   {
    "duration": 0,
    "start_time": "2023-05-08T05:42:29.055Z"
   },
   {
    "duration": 0,
    "start_time": "2023-05-08T05:42:29.057Z"
   },
   {
    "duration": 0,
    "start_time": "2023-05-08T05:42:29.058Z"
   },
   {
    "duration": 0,
    "start_time": "2023-05-08T05:42:29.059Z"
   },
   {
    "duration": 0,
    "start_time": "2023-05-08T05:42:29.061Z"
   },
   {
    "duration": 0,
    "start_time": "2023-05-08T05:42:29.062Z"
   },
   {
    "duration": 0,
    "start_time": "2023-05-08T05:42:29.063Z"
   },
   {
    "duration": 0,
    "start_time": "2023-05-08T05:42:29.064Z"
   },
   {
    "duration": 0,
    "start_time": "2023-05-08T05:42:29.065Z"
   },
   {
    "duration": 0,
    "start_time": "2023-05-08T05:42:29.066Z"
   },
   {
    "duration": 0,
    "start_time": "2023-05-08T05:42:29.068Z"
   },
   {
    "duration": 0,
    "start_time": "2023-05-08T05:42:29.069Z"
   },
   {
    "duration": 0,
    "start_time": "2023-05-08T05:42:29.072Z"
   },
   {
    "duration": 0,
    "start_time": "2023-05-08T05:42:29.073Z"
   },
   {
    "duration": 0,
    "start_time": "2023-05-08T05:42:29.133Z"
   },
   {
    "duration": 0,
    "start_time": "2023-05-08T05:42:29.134Z"
   },
   {
    "duration": 0,
    "start_time": "2023-05-08T05:42:29.135Z"
   },
   {
    "duration": 0,
    "start_time": "2023-05-08T05:42:29.136Z"
   },
   {
    "duration": 0,
    "start_time": "2023-05-08T05:42:29.137Z"
   },
   {
    "duration": 0,
    "start_time": "2023-05-08T05:42:29.139Z"
   },
   {
    "duration": 0,
    "start_time": "2023-05-08T05:42:29.140Z"
   },
   {
    "duration": 0,
    "start_time": "2023-05-08T05:42:29.141Z"
   },
   {
    "duration": 14,
    "start_time": "2023-05-08T05:43:23.017Z"
   },
   {
    "duration": 20,
    "start_time": "2023-05-08T05:43:32.105Z"
   },
   {
    "duration": 2720,
    "start_time": "2023-05-08T05:44:03.635Z"
   },
   {
    "duration": 4,
    "start_time": "2023-05-08T05:44:06.357Z"
   },
   {
    "duration": 280,
    "start_time": "2023-05-08T05:44:06.363Z"
   },
   {
    "duration": 972,
    "start_time": "2023-05-08T05:44:06.646Z"
   },
   {
    "duration": 16,
    "start_time": "2023-05-08T05:44:07.620Z"
   },
   {
    "duration": 29,
    "start_time": "2023-05-08T05:44:07.639Z"
   },
   {
    "duration": 66,
    "start_time": "2023-05-08T05:44:07.670Z"
   },
   {
    "duration": 5,
    "start_time": "2023-05-08T05:44:07.738Z"
   },
   {
    "duration": 10,
    "start_time": "2023-05-08T05:44:07.745Z"
   },
   {
    "duration": 5,
    "start_time": "2023-05-08T05:44:07.757Z"
   },
   {
    "duration": 6,
    "start_time": "2023-05-08T05:44:07.763Z"
   },
   {
    "duration": 1307,
    "start_time": "2023-05-08T05:44:07.771Z"
   },
   {
    "duration": 41725,
    "start_time": "2023-05-08T05:44:09.080Z"
   },
   {
    "duration": 47,
    "start_time": "2023-05-08T05:44:50.807Z"
   },
   {
    "duration": 79,
    "start_time": "2023-05-08T05:44:50.857Z"
   },
   {
    "duration": 6,
    "start_time": "2023-05-08T05:44:50.938Z"
   },
   {
    "duration": 28,
    "start_time": "2023-05-08T05:44:50.946Z"
   },
   {
    "duration": 22,
    "start_time": "2023-05-08T05:44:50.976Z"
   },
   {
    "duration": 15,
    "start_time": "2023-05-08T05:44:51.000Z"
   },
   {
    "duration": 4434,
    "start_time": "2023-05-08T05:44:51.017Z"
   },
   {
    "duration": 4,
    "start_time": "2023-05-08T05:44:55.453Z"
   },
   {
    "duration": 99,
    "start_time": "2023-05-08T05:44:55.459Z"
   },
   {
    "duration": 48,
    "start_time": "2023-05-08T05:44:55.562Z"
   },
   {
    "duration": 23,
    "start_time": "2023-05-08T05:44:55.612Z"
   },
   {
    "duration": 8112,
    "start_time": "2023-05-08T05:44:55.637Z"
   },
   {
    "duration": 477,
    "start_time": "2023-05-08T05:45:03.751Z"
   },
   {
    "duration": 5120,
    "start_time": "2023-05-08T05:45:47.893Z"
   },
   {
    "duration": 3,
    "start_time": "2023-05-08T05:45:54.605Z"
   },
   {
    "duration": 459,
    "start_time": "2023-05-08T05:45:55.095Z"
   },
   {
    "duration": 2452,
    "start_time": "2023-05-08T05:45:59.281Z"
   },
   {
    "duration": 30,
    "start_time": "2023-05-08T05:46:03.828Z"
   },
   {
    "duration": 24,
    "start_time": "2023-05-08T05:46:04.195Z"
   },
   {
    "duration": 68,
    "start_time": "2023-05-08T05:46:04.555Z"
   },
   {
    "duration": 6,
    "start_time": "2023-05-08T05:46:06.146Z"
   },
   {
    "duration": 3,
    "start_time": "2023-05-08T05:46:09.301Z"
   },
   {
    "duration": 5,
    "start_time": "2023-05-08T05:46:11.360Z"
   },
   {
    "duration": 5,
    "start_time": "2023-05-08T05:46:19.179Z"
   },
   {
    "duration": 1266,
    "start_time": "2023-05-08T05:46:20.747Z"
   },
   {
    "duration": 43125,
    "start_time": "2023-05-08T05:46:29.611Z"
   },
   {
    "duration": 39,
    "start_time": "2023-05-08T05:47:16.518Z"
   },
   {
    "duration": 60,
    "start_time": "2023-05-08T05:47:18.281Z"
   },
   {
    "duration": 4,
    "start_time": "2023-05-08T05:47:20.416Z"
   },
   {
    "duration": 6,
    "start_time": "2023-05-08T05:47:20.788Z"
   },
   {
    "duration": 5,
    "start_time": "2023-05-08T05:47:24.795Z"
   },
   {
    "duration": 3,
    "start_time": "2023-05-08T05:47:25.949Z"
   },
   {
    "duration": 4484,
    "start_time": "2023-05-08T05:47:26.637Z"
   },
   {
    "duration": 10,
    "start_time": "2023-05-08T05:47:31.123Z"
   },
   {
    "duration": 87,
    "start_time": "2023-05-08T05:47:32.246Z"
   },
   {
    "duration": 54,
    "start_time": "2023-05-08T05:47:33.114Z"
   },
   {
    "duration": 9,
    "start_time": "2023-05-08T05:47:33.443Z"
   },
   {
    "duration": 4363,
    "start_time": "2023-05-08T05:47:36.274Z"
   },
   {
    "duration": 644,
    "start_time": "2023-05-08T05:47:44.146Z"
   },
   {
    "duration": 4130,
    "start_time": "2023-05-08T05:49:46.564Z"
   },
   {
    "duration": 3,
    "start_time": "2023-05-08T05:49:51.654Z"
   },
   {
    "duration": 554,
    "start_time": "2023-05-08T05:49:52.179Z"
   },
   {
    "duration": 2198,
    "start_time": "2023-05-08T05:49:53.285Z"
   },
   {
    "duration": 13,
    "start_time": "2023-05-08T05:49:57.438Z"
   },
   {
    "duration": 12,
    "start_time": "2023-05-08T05:49:58.010Z"
   },
   {
    "duration": 57,
    "start_time": "2023-05-08T05:49:58.495Z"
   },
   {
    "duration": 4,
    "start_time": "2023-05-08T05:49:58.955Z"
   },
   {
    "duration": 3,
    "start_time": "2023-05-08T05:50:01.533Z"
   },
   {
    "duration": 5,
    "start_time": "2023-05-08T05:50:01.760Z"
   },
   {
    "duration": 4,
    "start_time": "2023-05-08T05:50:02.276Z"
   },
   {
    "duration": 1180,
    "start_time": "2023-05-08T05:50:03.635Z"
   },
   {
    "duration": 40467,
    "start_time": "2023-05-08T05:50:05.922Z"
   },
   {
    "duration": 33,
    "start_time": "2023-05-08T05:50:46.392Z"
   },
   {
    "duration": 63,
    "start_time": "2023-05-08T05:50:57.439Z"
   },
   {
    "duration": 6,
    "start_time": "2023-05-08T05:50:59.079Z"
   },
   {
    "duration": 5,
    "start_time": "2023-05-08T05:50:59.832Z"
   },
   {
    "duration": 4,
    "start_time": "2023-05-08T05:51:01.906Z"
   },
   {
    "duration": 3,
    "start_time": "2023-05-08T05:51:02.498Z"
   },
   {
    "duration": 3991,
    "start_time": "2023-05-08T05:51:03.522Z"
   },
   {
    "duration": 4,
    "start_time": "2023-05-08T05:51:11.625Z"
   },
   {
    "duration": 73,
    "start_time": "2023-05-08T05:51:12.631Z"
   },
   {
    "duration": 46,
    "start_time": "2023-05-08T05:51:13.216Z"
   },
   {
    "duration": 6,
    "start_time": "2023-05-08T05:51:13.805Z"
   },
   {
    "duration": 371,
    "start_time": "2023-05-08T05:51:37.614Z"
   },
   {
    "duration": 3,
    "start_time": "2023-05-08T05:51:42.678Z"
   },
   {
    "duration": 1912,
    "start_time": "2023-05-08T05:51:44.776Z"
   },
   {
    "duration": 10,
    "start_time": "2023-05-08T05:51:50.643Z"
   },
   {
    "duration": 36,
    "start_time": "2023-05-08T05:51:51.692Z"
   },
   {
    "duration": 4,
    "start_time": "2023-05-08T05:52:00.376Z"
   },
   {
    "duration": 4,
    "start_time": "2023-05-08T05:52:05.184Z"
   },
   {
    "duration": 10,
    "start_time": "2023-05-08T05:52:06.665Z"
   },
   {
    "duration": 5,
    "start_time": "2023-05-08T05:52:18.029Z"
   },
   {
    "duration": 10,
    "start_time": "2023-05-08T05:52:20.985Z"
   },
   {
    "duration": 4,
    "start_time": "2023-05-08T05:52:22.050Z"
   },
   {
    "duration": 4,
    "start_time": "2023-05-08T05:52:23.331Z"
   },
   {
    "duration": 648,
    "start_time": "2023-05-08T05:52:30.125Z"
   },
   {
    "duration": 57,
    "start_time": "2023-05-08T05:52:30.777Z"
   },
   {
    "duration": 9,
    "start_time": "2023-05-08T05:52:33.565Z"
   },
   {
    "duration": 9,
    "start_time": "2023-05-08T05:52:36.786Z"
   },
   {
    "duration": 7,
    "start_time": "2023-05-08T05:52:42.860Z"
   },
   {
    "duration": 5,
    "start_time": "2023-05-08T05:52:43.270Z"
   },
   {
    "duration": 10,
    "start_time": "2023-05-08T05:52:43.636Z"
   },
   {
    "duration": 7,
    "start_time": "2023-05-08T05:52:44.120Z"
   },
   {
    "duration": 13,
    "start_time": "2023-05-08T05:52:46.493Z"
   },
   {
    "duration": 5,
    "start_time": "2023-05-08T05:52:46.899Z"
   },
   {
    "duration": 7,
    "start_time": "2023-05-08T05:52:48.335Z"
   },
   {
    "duration": 3,
    "start_time": "2023-05-08T05:52:51.112Z"
   },
   {
    "duration": 12,
    "start_time": "2023-05-08T05:52:51.419Z"
   },
   {
    "duration": 14680,
    "start_time": "2023-05-08T05:52:53.727Z"
   },
   {
    "duration": 5,
    "start_time": "2023-05-08T05:53:11.731Z"
   },
   {
    "duration": 4,
    "start_time": "2023-05-08T05:53:12.782Z"
   },
   {
    "duration": 6,
    "start_time": "2023-05-08T05:53:14.010Z"
   },
   {
    "duration": 3,
    "start_time": "2023-05-08T05:53:16.547Z"
   },
   {
    "duration": 4,
    "start_time": "2023-05-08T05:53:17.276Z"
   },
   {
    "duration": 10,
    "start_time": "2023-05-08T05:53:18.501Z"
   },
   {
    "duration": 9620,
    "start_time": "2023-05-08T05:53:20.375Z"
   },
   {
    "duration": 632589,
    "start_time": "2023-05-08T05:53:29.997Z"
   },
   {
    "duration": 3,
    "start_time": "2023-05-08T06:05:04.299Z"
   },
   {
    "duration": 4,
    "start_time": "2023-05-08T06:05:04.745Z"
   },
   {
    "duration": 4,
    "start_time": "2023-05-08T06:05:06.394Z"
   },
   {
    "duration": 5,
    "start_time": "2023-05-08T06:05:07.423Z"
   },
   {
    "duration": 4,
    "start_time": "2023-05-08T06:05:07.664Z"
   },
   {
    "duration": 6,
    "start_time": "2023-05-08T06:05:07.871Z"
   },
   {
    "duration": 6,
    "start_time": "2023-05-08T06:05:08.069Z"
   },
   {
    "duration": 5,
    "start_time": "2023-05-08T06:05:08.252Z"
   },
   {
    "duration": 11,
    "start_time": "2023-05-08T06:05:09.491Z"
   },
   {
    "duration": 6,
    "start_time": "2023-05-08T06:05:09.831Z"
   },
   {
    "duration": 5,
    "start_time": "2023-05-08T06:05:10.279Z"
   },
   {
    "duration": 5,
    "start_time": "2023-05-08T06:05:13.040Z"
   },
   {
    "duration": 1622,
    "start_time": "2023-05-08T06:05:13.505Z"
   },
   {
    "duration": 56,
    "start_time": "2023-05-08T06:05:19.184Z"
   },
   {
    "duration": 11,
    "start_time": "2023-05-08T06:05:19.739Z"
   },
   {
    "duration": 7,
    "start_time": "2023-05-08T06:05:21.922Z"
   },
   {
    "duration": 6,
    "start_time": "2023-05-08T06:05:22.307Z"
   },
   {
    "duration": 2,
    "start_time": "2023-05-08T06:05:32.507Z"
   },
   {
    "duration": 16,
    "start_time": "2023-05-08T06:05:32.882Z"
   },
   {
    "duration": 9,
    "start_time": "2023-05-08T06:05:33.404Z"
   },
   {
    "duration": 6,
    "start_time": "2023-05-08T06:05:34.483Z"
   },
   {
    "duration": 8,
    "start_time": "2023-05-08T06:05:35.308Z"
   },
   {
    "duration": 6,
    "start_time": "2023-05-08T06:05:35.830Z"
   },
   {
    "duration": 5179,
    "start_time": "2023-05-08T06:47:37.164Z"
   },
   {
    "duration": 7814,
    "start_time": "2023-05-08T06:48:19.971Z"
   },
   {
    "duration": 3,
    "start_time": "2023-05-08T06:48:29.106Z"
   },
   {
    "duration": 713,
    "start_time": "2023-05-08T06:48:30.212Z"
   },
   {
    "duration": 6,
    "start_time": "2023-05-08T07:00:52.142Z"
   },
   {
    "duration": 6,
    "start_time": "2023-05-08T07:01:53.470Z"
   },
   {
    "duration": 2893,
    "start_time": "2023-05-08T07:02:16.350Z"
   },
   {
    "duration": 3,
    "start_time": "2023-05-08T07:02:24.779Z"
   },
   {
    "duration": 246,
    "start_time": "2023-05-08T07:10:54.786Z"
   },
   {
    "duration": 2386,
    "start_time": "2023-05-08T07:10:58.436Z"
   },
   {
    "duration": 13,
    "start_time": "2023-05-08T07:11:00.825Z"
   },
   {
    "duration": 51,
    "start_time": "2023-05-08T07:11:00.840Z"
   },
   {
    "duration": 58,
    "start_time": "2023-05-08T07:11:02.917Z"
   },
   {
    "duration": 5,
    "start_time": "2023-05-08T07:11:06.162Z"
   },
   {
    "duration": 12806,
    "start_time": "2023-05-08T07:16:17.409Z"
   },
   {
    "duration": 592,
    "start_time": "2023-05-08T07:18:03.858Z"
   },
   {
    "duration": 810,
    "start_time": "2023-05-08T07:19:08.564Z"
   },
   {
    "duration": 5,
    "start_time": "2023-05-08T07:19:42.203Z"
   },
   {
    "duration": 22,
    "start_time": "2023-05-08T07:20:11.480Z"
   },
   {
    "duration": 126,
    "start_time": "2023-05-08T07:20:18.864Z"
   },
   {
    "duration": 6,
    "start_time": "2023-05-08T07:20:30.755Z"
   },
   {
    "duration": 15,
    "start_time": "2023-05-08T07:22:46.253Z"
   },
   {
    "duration": 7,
    "start_time": "2023-05-08T07:23:13.292Z"
   },
   {
    "duration": 5,
    "start_time": "2023-05-08T07:24:37.374Z"
   },
   {
    "duration": 6,
    "start_time": "2023-05-08T07:25:00.955Z"
   },
   {
    "duration": 76,
    "start_time": "2023-05-08T07:26:03.614Z"
   },
   {
    "duration": 5,
    "start_time": "2023-05-08T07:28:55.870Z"
   },
   {
    "duration": 26,
    "start_time": "2023-05-08T07:28:59.595Z"
   },
   {
    "duration": 4,
    "start_time": "2023-05-08T07:29:09.050Z"
   },
   {
    "duration": 4,
    "start_time": "2023-05-08T07:29:10.594Z"
   },
   {
    "duration": 15,
    "start_time": "2023-05-08T07:29:11.346Z"
   },
   {
    "duration": 18641,
    "start_time": "2023-05-08T07:31:36.455Z"
   },
   {
    "duration": 3,
    "start_time": "2023-05-08T07:31:58.434Z"
   },
   {
    "duration": 2374,
    "start_time": "2023-05-08T07:32:07.732Z"
   },
   {
    "duration": 14,
    "start_time": "2023-05-08T07:32:11.146Z"
   },
   {
    "duration": 21,
    "start_time": "2023-05-08T07:32:12.631Z"
   },
   {
    "duration": 61,
    "start_time": "2023-05-08T07:32:13.817Z"
   },
   {
    "duration": 5,
    "start_time": "2023-05-08T07:32:15.411Z"
   },
   {
    "duration": 7,
    "start_time": "2023-05-08T07:32:20.171Z"
   },
   {
    "duration": 756,
    "start_time": "2023-05-08T07:32:23.647Z"
   },
   {
    "duration": 4,
    "start_time": "2023-05-08T07:32:48.020Z"
   },
   {
    "duration": 5,
    "start_time": "2023-05-08T07:32:49.810Z"
   },
   {
    "duration": 34,
    "start_time": "2023-05-08T07:32:51.545Z"
   },
   {
    "duration": 1162824,
    "start_time": "2023-05-08T07:33:18.425Z"
   },
   {
    "duration": 916,
    "start_time": "2023-05-08T07:53:59.315Z"
   },
   {
    "duration": 98,
    "start_time": "2023-05-08T07:56:47.987Z"
   },
   {
    "duration": 106,
    "start_time": "2023-05-08T07:57:56.755Z"
   },
   {
    "duration": 5,
    "start_time": "2023-05-08T07:58:01.404Z"
   },
   {
    "duration": 5,
    "start_time": "2023-05-08T07:58:02.170Z"
   },
   {
    "duration": 6,
    "start_time": "2023-05-08T07:59:04.053Z"
   },
   {
    "duration": 325,
    "start_time": "2023-05-08T07:59:10.340Z"
   },
   {
    "duration": 3,
    "start_time": "2023-05-08T07:59:24.657Z"
   },
   {
    "duration": 5284,
    "start_time": "2023-05-08T07:59:28.038Z"
   },
   {
    "duration": 4,
    "start_time": "2023-05-08T07:59:59.855Z"
   },
   {
    "duration": 74,
    "start_time": "2023-05-08T08:00:00.555Z"
   },
   {
    "duration": 48,
    "start_time": "2023-05-08T08:00:00.790Z"
   },
   {
    "duration": 5,
    "start_time": "2023-05-08T08:00:01.005Z"
   },
   {
    "duration": 5,
    "start_time": "2023-05-08T08:01:12.139Z"
   },
   {
    "duration": 5273,
    "start_time": "2023-05-08T09:41:57.308Z"
   },
   {
    "duration": 6,
    "start_time": "2023-05-08T09:56:06.253Z"
   },
   {
    "duration": 3,
    "start_time": "2023-05-08T09:59:50.800Z"
   },
   {
    "duration": 3,
    "start_time": "2023-05-08T09:59:53.871Z"
   },
   {
    "duration": 37,
    "start_time": "2023-05-08T09:59:56.741Z"
   },
   {
    "duration": 4,
    "start_time": "2023-05-08T10:00:04.036Z"
   },
   {
    "duration": 7889,
    "start_time": "2023-05-08T10:00:26.711Z"
   },
   {
    "duration": 26,
    "start_time": "2023-05-08T10:02:12.157Z"
   },
   {
    "duration": 17,
    "start_time": "2023-05-08T10:02:45.282Z"
   },
   {
    "duration": 5512,
    "start_time": "2023-05-08T10:02:46.461Z"
   },
   {
    "duration": 6,
    "start_time": "2023-05-08T10:02:56.897Z"
   },
   {
    "duration": 74,
    "start_time": "2023-05-08T10:02:57.831Z"
   },
   {
    "duration": 40,
    "start_time": "2023-05-08T10:02:58.752Z"
   },
   {
    "duration": 7,
    "start_time": "2023-05-08T10:03:00.038Z"
   },
   {
    "duration": 688,
    "start_time": "2023-05-08T10:03:03.731Z"
   },
   {
    "duration": 3,
    "start_time": "2023-05-08T10:03:09.043Z"
   },
   {
    "duration": 3,
    "start_time": "2023-05-08T10:03:10.789Z"
   },
   {
    "duration": 5,
    "start_time": "2023-05-08T10:03:13.715Z"
   },
   {
    "duration": 9048,
    "start_time": "2023-05-08T10:03:15.992Z"
   },
   {
    "duration": 19,
    "start_time": "2023-05-08T10:03:28.476Z"
   },
   {
    "duration": 3,
    "start_time": "2023-05-08T10:05:10.898Z"
   },
   {
    "duration": 3,
    "start_time": "2023-05-08T10:05:11.568Z"
   },
   {
    "duration": 4,
    "start_time": "2023-05-08T10:05:13.293Z"
   },
   {
    "duration": 268564,
    "start_time": "2023-05-08T10:05:15.593Z"
   },
   {
    "duration": 25,
    "start_time": "2023-05-08T10:10:20.846Z"
   },
   {
    "duration": 24,
    "start_time": "2023-05-08T10:11:02.577Z"
   },
   {
    "duration": 17,
    "start_time": "2023-05-08T10:12:14.053Z"
   },
   {
    "duration": 4,
    "start_time": "2023-05-08T10:12:18.226Z"
   },
   {
    "duration": 22,
    "start_time": "2023-05-08T10:12:59.601Z"
   },
   {
    "duration": 103,
    "start_time": "2023-05-08T10:15:13.204Z"
   },
   {
    "duration": 3,
    "start_time": "2023-05-08T10:15:24.569Z"
   },
   {
    "duration": 3,
    "start_time": "2023-05-08T10:15:56.968Z"
   },
   {
    "duration": 3091,
    "start_time": "2023-05-08T10:16:17.060Z"
   },
   {
    "duration": 37,
    "start_time": "2023-05-08T10:20:55.977Z"
   },
   {
    "duration": 5,
    "start_time": "2023-05-08T10:35:19.309Z"
   },
   {
    "duration": 4,
    "start_time": "2023-05-08T10:35:19.317Z"
   },
   {
    "duration": 968,
    "start_time": "2023-05-08T10:35:19.510Z"
   },
   {
    "duration": 10,
    "start_time": "2023-05-08T10:35:20.479Z"
   },
   {
    "duration": 17,
    "start_time": "2023-05-08T10:35:20.490Z"
   },
   {
    "duration": 71,
    "start_time": "2023-05-08T10:35:20.509Z"
   },
   {
    "duration": 4,
    "start_time": "2023-05-08T10:35:20.582Z"
   },
   {
    "duration": 11,
    "start_time": "2023-05-08T10:35:20.588Z"
   },
   {
    "duration": 561,
    "start_time": "2023-05-08T10:35:20.601Z"
   },
   {
    "duration": 4,
    "start_time": "2023-05-08T10:35:21.164Z"
   },
   {
    "duration": 15,
    "start_time": "2023-05-08T10:35:21.170Z"
   },
   {
    "duration": 31,
    "start_time": "2023-05-08T10:35:21.188Z"
   },
   {
    "duration": 4396,
    "start_time": "2023-05-08T10:35:50.435Z"
   },
   {
    "duration": 3,
    "start_time": "2023-05-08T10:35:54.834Z"
   },
   {
    "duration": 873,
    "start_time": "2023-05-08T10:35:54.838Z"
   },
   {
    "duration": 10,
    "start_time": "2023-05-08T10:35:55.713Z"
   },
   {
    "duration": 52,
    "start_time": "2023-05-08T10:35:55.724Z"
   },
   {
    "duration": 75,
    "start_time": "2023-05-08T10:35:55.777Z"
   },
   {
    "duration": 5,
    "start_time": "2023-05-08T10:35:55.854Z"
   },
   {
    "duration": 21,
    "start_time": "2023-05-08T10:35:55.861Z"
   },
   {
    "duration": 684,
    "start_time": "2023-05-08T10:35:55.883Z"
   },
   {
    "duration": 8,
    "start_time": "2023-05-08T10:35:56.571Z"
   },
   {
    "duration": 49,
    "start_time": "2023-05-08T10:35:56.581Z"
   },
   {
    "duration": 49,
    "start_time": "2023-05-08T10:35:56.632Z"
   },
   {
    "duration": 1148130,
    "start_time": "2023-05-08T10:35:56.683Z"
   },
   {
    "duration": 906,
    "start_time": "2023-05-08T10:55:04.815Z"
   },
   {
    "duration": 92,
    "start_time": "2023-05-08T10:55:05.723Z"
   },
   {
    "duration": 77,
    "start_time": "2023-05-08T10:55:05.816Z"
   },
   {
    "duration": 4,
    "start_time": "2023-05-08T10:55:05.895Z"
   },
   {
    "duration": 28,
    "start_time": "2023-05-08T10:55:05.901Z"
   },
   {
    "duration": 22,
    "start_time": "2023-05-08T10:55:05.932Z"
   },
   {
    "duration": 6153,
    "start_time": "2023-05-08T10:55:05.955Z"
   },
   {
    "duration": 4,
    "start_time": "2023-05-08T10:55:12.109Z"
   },
   {
    "duration": 99,
    "start_time": "2023-05-08T10:55:12.115Z"
   },
   {
    "duration": 58,
    "start_time": "2023-05-08T10:55:12.216Z"
   },
   {
    "duration": 6,
    "start_time": "2023-05-08T10:55:12.276Z"
   },
   {
    "duration": 642,
    "start_time": "2023-05-08T10:55:12.283Z"
   },
   {
    "duration": 6,
    "start_time": "2023-05-08T10:55:12.926Z"
   },
   {
    "duration": 18,
    "start_time": "2023-05-08T10:55:12.934Z"
   },
   {
    "duration": 6,
    "start_time": "2023-05-08T10:55:12.957Z"
   },
   {
    "duration": 273666,
    "start_time": "2023-05-08T10:55:12.965Z"
   },
   {
    "duration": 3,
    "start_time": "2023-05-08T10:59:46.635Z"
   },
   {
    "duration": 43,
    "start_time": "2023-05-08T10:59:46.640Z"
   },
   {
    "duration": 3,
    "start_time": "2023-05-08T10:59:46.685Z"
   },
   {
    "duration": 2360,
    "start_time": "2023-05-08T10:59:46.689Z"
   },
   {
    "duration": 77,
    "start_time": "2023-05-08T10:59:49.051Z"
   },
   {
    "duration": 0,
    "start_time": "2023-05-08T10:59:49.131Z"
   },
   {
    "duration": 0,
    "start_time": "2023-05-08T10:59:49.132Z"
   },
   {
    "duration": 0,
    "start_time": "2023-05-08T10:59:49.135Z"
   },
   {
    "duration": 0,
    "start_time": "2023-05-08T10:59:49.136Z"
   },
   {
    "duration": 0,
    "start_time": "2023-05-08T10:59:49.137Z"
   },
   {
    "duration": 0,
    "start_time": "2023-05-08T10:59:49.138Z"
   },
   {
    "duration": 0,
    "start_time": "2023-05-08T10:59:49.140Z"
   },
   {
    "duration": 0,
    "start_time": "2023-05-08T10:59:49.142Z"
   },
   {
    "duration": 0,
    "start_time": "2023-05-08T10:59:49.143Z"
   },
   {
    "duration": 0,
    "start_time": "2023-05-08T10:59:49.145Z"
   },
   {
    "duration": 0,
    "start_time": "2023-05-08T10:59:49.148Z"
   },
   {
    "duration": 0,
    "start_time": "2023-05-08T10:59:49.149Z"
   },
   {
    "duration": 0,
    "start_time": "2023-05-08T10:59:49.150Z"
   },
   {
    "duration": 0,
    "start_time": "2023-05-08T10:59:49.152Z"
   },
   {
    "duration": 0,
    "start_time": "2023-05-08T10:59:49.153Z"
   },
   {
    "duration": 0,
    "start_time": "2023-05-08T10:59:49.155Z"
   },
   {
    "duration": 0,
    "start_time": "2023-05-08T10:59:49.156Z"
   },
   {
    "duration": 0,
    "start_time": "2023-05-08T10:59:49.157Z"
   },
   {
    "duration": 0,
    "start_time": "2023-05-08T10:59:49.159Z"
   },
   {
    "duration": 0,
    "start_time": "2023-05-08T10:59:49.161Z"
   },
   {
    "duration": 0,
    "start_time": "2023-05-08T10:59:49.162Z"
   },
   {
    "duration": 0,
    "start_time": "2023-05-08T10:59:49.164Z"
   },
   {
    "duration": 0,
    "start_time": "2023-05-08T10:59:49.165Z"
   },
   {
    "duration": 0,
    "start_time": "2023-05-08T10:59:49.167Z"
   },
   {
    "duration": 0,
    "start_time": "2023-05-08T10:59:49.168Z"
   },
   {
    "duration": 0,
    "start_time": "2023-05-08T10:59:49.170Z"
   },
   {
    "duration": 0,
    "start_time": "2023-05-08T10:59:49.171Z"
   },
   {
    "duration": 0,
    "start_time": "2023-05-08T10:59:49.173Z"
   },
   {
    "duration": 0,
    "start_time": "2023-05-08T10:59:49.234Z"
   },
   {
    "duration": 0,
    "start_time": "2023-05-08T10:59:49.236Z"
   },
   {
    "duration": 0,
    "start_time": "2023-05-08T10:59:49.237Z"
   },
   {
    "duration": 0,
    "start_time": "2023-05-08T10:59:49.239Z"
   },
   {
    "duration": 0,
    "start_time": "2023-05-08T10:59:49.240Z"
   },
   {
    "duration": 0,
    "start_time": "2023-05-08T10:59:49.241Z"
   },
   {
    "duration": 0,
    "start_time": "2023-05-08T10:59:49.243Z"
   },
   {
    "duration": 0,
    "start_time": "2023-05-08T10:59:49.244Z"
   },
   {
    "duration": 0,
    "start_time": "2023-05-08T10:59:49.246Z"
   },
   {
    "duration": 0,
    "start_time": "2023-05-08T10:59:49.247Z"
   },
   {
    "duration": 0,
    "start_time": "2023-05-08T10:59:49.248Z"
   },
   {
    "duration": 0,
    "start_time": "2023-05-08T10:59:49.249Z"
   },
   {
    "duration": 0,
    "start_time": "2023-05-08T10:59:49.250Z"
   },
   {
    "duration": 0,
    "start_time": "2023-05-08T10:59:49.252Z"
   },
   {
    "duration": 0,
    "start_time": "2023-05-08T10:59:49.253Z"
   },
   {
    "duration": 0,
    "start_time": "2023-05-08T10:59:49.254Z"
   },
   {
    "duration": 0,
    "start_time": "2023-05-08T10:59:49.256Z"
   },
   {
    "duration": 0,
    "start_time": "2023-05-08T10:59:49.257Z"
   },
   {
    "duration": 0,
    "start_time": "2023-05-08T10:59:49.259Z"
   },
   {
    "duration": 0,
    "start_time": "2023-05-08T10:59:49.260Z"
   },
   {
    "duration": 0,
    "start_time": "2023-05-08T10:59:49.261Z"
   },
   {
    "duration": 0,
    "start_time": "2023-05-08T10:59:49.263Z"
   },
   {
    "duration": 0,
    "start_time": "2023-05-08T10:59:49.264Z"
   },
   {
    "duration": 0,
    "start_time": "2023-05-08T10:59:49.265Z"
   },
   {
    "duration": 0,
    "start_time": "2023-05-08T10:59:49.266Z"
   },
   {
    "duration": 0,
    "start_time": "2023-05-08T10:59:49.268Z"
   },
   {
    "duration": 0,
    "start_time": "2023-05-08T10:59:49.334Z"
   },
   {
    "duration": 0,
    "start_time": "2023-05-08T10:59:49.336Z"
   },
   {
    "duration": 0,
    "start_time": "2023-05-08T10:59:49.337Z"
   },
   {
    "duration": 0,
    "start_time": "2023-05-08T10:59:49.339Z"
   },
   {
    "duration": 0,
    "start_time": "2023-05-08T10:59:49.340Z"
   },
   {
    "duration": 0,
    "start_time": "2023-05-08T10:59:49.341Z"
   },
   {
    "duration": 0,
    "start_time": "2023-05-08T10:59:49.343Z"
   },
   {
    "duration": 3,
    "start_time": "2023-05-08T11:45:19.430Z"
   },
   {
    "duration": 3,
    "start_time": "2023-05-08T11:45:44.787Z"
   },
   {
    "duration": 3,
    "start_time": "2023-05-08T11:45:47.022Z"
   },
   {
    "duration": 7814,
    "start_time": "2023-05-08T11:46:05.606Z"
   },
   {
    "duration": 18,
    "start_time": "2023-05-08T11:46:45.137Z"
   },
   {
    "duration": 28,
    "start_time": "2023-05-08T11:46:49.516Z"
   },
   {
    "duration": 2,
    "start_time": "2023-05-08T11:47:24.311Z"
   },
   {
    "duration": 7,
    "start_time": "2023-05-08T11:47:26.079Z"
   },
   {
    "duration": 4,
    "start_time": "2023-05-08T11:47:26.720Z"
   },
   {
    "duration": 85005,
    "start_time": "2023-05-08T11:47:27.247Z"
   },
   {
    "duration": 5,
    "start_time": "2023-05-08T11:49:24.864Z"
   },
   {
    "duration": 17,
    "start_time": "2023-05-08T11:49:26.380Z"
   },
   {
    "duration": 12,
    "start_time": "2023-05-08T11:50:27.444Z"
   },
   {
    "duration": 3,
    "start_time": "2023-05-08T11:50:28.669Z"
   },
   {
    "duration": 2,
    "start_time": "2023-05-08T11:50:29.416Z"
   },
   {
    "duration": 416150,
    "start_time": "2023-05-08T11:50:37.915Z"
   },
   {
    "duration": 4,
    "start_time": "2023-05-08T11:59:40.366Z"
   },
   {
    "duration": 21,
    "start_time": "2023-05-08T11:59:42.408Z"
   },
   {
    "duration": 4,
    "start_time": "2023-05-08T12:04:34.005Z"
   },
   {
    "duration": 3,
    "start_time": "2023-05-08T12:04:34.863Z"
   },
   {
    "duration": 8,
    "start_time": "2023-05-08T12:04:35.244Z"
   },
   {
    "duration": 6,
    "start_time": "2023-05-08T12:04:47.406Z"
   },
   {
    "duration": 4,
    "start_time": "2023-05-08T12:04:48.310Z"
   },
   {
    "duration": 3,
    "start_time": "2023-05-08T12:04:50.525Z"
   },
   {
    "duration": 52,
    "start_time": "2023-05-08T12:33:53.596Z"
   },
   {
    "duration": 17098,
    "start_time": "2023-05-08T12:34:12.664Z"
   },
   {
    "duration": 3,
    "start_time": "2023-05-08T12:34:29.764Z"
   },
   {
    "duration": 2507,
    "start_time": "2023-05-08T12:34:29.769Z"
   },
   {
    "duration": 12,
    "start_time": "2023-05-08T12:34:32.278Z"
   },
   {
    "duration": 23,
    "start_time": "2023-05-08T12:34:32.291Z"
   },
   {
    "duration": 63,
    "start_time": "2023-05-08T12:34:32.316Z"
   },
   {
    "duration": 5,
    "start_time": "2023-05-08T12:34:32.381Z"
   },
   {
    "duration": 17,
    "start_time": "2023-05-08T12:34:32.388Z"
   },
   {
    "duration": 1015,
    "start_time": "2023-05-08T12:34:32.406Z"
   },
   {
    "duration": 4,
    "start_time": "2023-05-08T12:34:33.423Z"
   },
   {
    "duration": 26,
    "start_time": "2023-05-08T12:34:33.429Z"
   },
   {
    "duration": 32,
    "start_time": "2023-05-08T12:34:33.456Z"
   },
   {
    "duration": 1029189,
    "start_time": "2023-05-08T12:34:33.490Z"
   },
   {
    "duration": 985,
    "start_time": "2023-05-08T12:51:42.681Z"
   },
   {
    "duration": 90,
    "start_time": "2023-05-08T12:51:43.668Z"
   },
   {
    "duration": 68,
    "start_time": "2023-05-08T12:51:43.760Z"
   },
   {
    "duration": 8,
    "start_time": "2023-05-08T12:51:43.829Z"
   },
   {
    "duration": 40,
    "start_time": "2023-05-08T12:51:43.839Z"
   },
   {
    "duration": 9,
    "start_time": "2023-05-08T12:51:43.881Z"
   },
   {
    "duration": 6142,
    "start_time": "2023-05-08T12:51:43.892Z"
   },
   {
    "duration": 6,
    "start_time": "2023-05-08T12:51:50.037Z"
   },
   {
    "duration": 120,
    "start_time": "2023-05-08T12:51:50.045Z"
   },
   {
    "duration": 60,
    "start_time": "2023-05-08T12:51:50.167Z"
   },
   {
    "duration": 8,
    "start_time": "2023-05-08T12:51:50.234Z"
   },
   {
    "duration": 583,
    "start_time": "2023-05-08T12:51:50.244Z"
   },
   {
    "duration": 5,
    "start_time": "2023-05-08T12:51:50.829Z"
   },
   {
    "duration": 19,
    "start_time": "2023-05-08T12:51:50.843Z"
   },
   {
    "duration": 4,
    "start_time": "2023-05-08T12:51:50.866Z"
   },
   {
    "duration": 305105,
    "start_time": "2023-05-08T12:51:50.871Z"
   },
   {
    "duration": 4,
    "start_time": "2023-05-08T12:56:55.978Z"
   },
   {
    "duration": 27,
    "start_time": "2023-05-08T12:56:55.983Z"
   },
   {
    "duration": 38,
    "start_time": "2023-05-08T12:56:56.012Z"
   },
   {
    "duration": 2363,
    "start_time": "2023-05-08T12:56:56.052Z"
   },
   {
    "duration": 5,
    "start_time": "2023-05-08T12:56:58.417Z"
   },
   {
    "duration": 11,
    "start_time": "2023-05-08T12:56:58.423Z"
   },
   {
    "duration": 9,
    "start_time": "2023-05-08T12:56:58.436Z"
   },
   {
    "duration": 780981,
    "start_time": "2023-05-08T12:56:58.446Z"
   },
   {
    "duration": 5,
    "start_time": "2023-05-08T13:09:59.429Z"
   },
   {
    "duration": 22,
    "start_time": "2023-05-08T13:09:59.436Z"
   },
   {
    "duration": 8,
    "start_time": "2023-05-08T13:09:59.459Z"
   },
   {
    "duration": 9,
    "start_time": "2023-05-08T13:09:59.468Z"
   },
   {
    "duration": 5,
    "start_time": "2023-05-08T13:09:59.479Z"
   },
   {
    "duration": 20368,
    "start_time": "2023-05-08T13:29:05.866Z"
   },
   {
    "duration": 6,
    "start_time": "2023-05-08T13:32:11.587Z"
   },
   {
    "duration": 3,
    "start_time": "2023-05-08T13:32:13.678Z"
   },
   {
    "duration": 3256,
    "start_time": "2023-05-08T13:32:16.889Z"
   },
   {
    "duration": 23,
    "start_time": "2023-05-08T13:32:20.149Z"
   },
   {
    "duration": 16,
    "start_time": "2023-05-08T13:32:22.663Z"
   },
   {
    "duration": 85,
    "start_time": "2023-05-08T13:32:23.074Z"
   },
   {
    "duration": 7,
    "start_time": "2023-05-08T13:32:24.960Z"
   },
   {
    "duration": 5,
    "start_time": "2023-05-08T13:32:28.295Z"
   },
   {
    "duration": 1256,
    "start_time": "2023-05-08T13:32:30.365Z"
   },
   {
    "duration": 5,
    "start_time": "2023-05-08T13:32:31.624Z"
   },
   {
    "duration": 9,
    "start_time": "2023-05-08T13:32:32.461Z"
   },
   {
    "duration": 24,
    "start_time": "2023-05-08T13:32:32.863Z"
   },
   {
    "duration": 1104072,
    "start_time": "2023-05-08T13:32:39.593Z"
   },
   {
    "duration": 6672,
    "start_time": "2023-05-08T13:51:45.474Z"
   },
   {
    "duration": 2846,
    "start_time": "2023-05-08T13:51:54.253Z"
   },
   {
    "duration": 8,
    "start_time": "2023-05-08T13:52:05.906Z"
   },
   {
    "duration": 701,
    "start_time": "2023-05-08T13:52:19.459Z"
   },
   {
    "duration": 745,
    "start_time": "2023-05-08T13:52:29.362Z"
   },
   {
    "duration": 11,
    "start_time": "2023-05-08T13:58:44.497Z"
   },
   {
    "duration": 783,
    "start_time": "2023-05-08T13:58:49.197Z"
   },
   {
    "duration": 90,
    "start_time": "2023-05-08T13:58:52.282Z"
   },
   {
    "duration": 65,
    "start_time": "2023-05-08T13:58:58.948Z"
   },
   {
    "duration": 6,
    "start_time": "2023-05-08T13:59:00.375Z"
   },
   {
    "duration": 5,
    "start_time": "2023-05-08T13:59:01.469Z"
   },
   {
    "duration": 3,
    "start_time": "2023-05-08T13:59:04.157Z"
   },
   {
    "duration": 5696,
    "start_time": "2023-05-08T13:59:05.908Z"
   },
   {
    "duration": 4,
    "start_time": "2023-05-08T13:59:12.825Z"
   },
   {
    "duration": 77,
    "start_time": "2023-05-08T13:59:13.689Z"
   },
   {
    "duration": 48,
    "start_time": "2023-05-08T13:59:14.259Z"
   },
   {
    "duration": 5,
    "start_time": "2023-05-08T13:59:16.326Z"
   },
   {
    "duration": 616,
    "start_time": "2023-05-08T13:59:21.677Z"
   },
   {
    "duration": 3,
    "start_time": "2023-05-08T14:00:02.549Z"
   },
   {
    "duration": 5,
    "start_time": "2023-05-08T14:00:03.531Z"
   },
   {
    "duration": 3,
    "start_time": "2023-05-08T14:00:05.325Z"
   },
   {
    "duration": 125357,
    "start_time": "2023-05-08T14:00:09.574Z"
   },
   {
    "duration": 4,
    "start_time": "2023-05-08T14:02:51.574Z"
   },
   {
    "duration": 22,
    "start_time": "2023-05-08T14:02:53.953Z"
   },
   {
    "duration": 3,
    "start_time": "2023-05-08T14:03:18.091Z"
   },
   {
    "duration": 2414,
    "start_time": "2023-05-08T14:03:20.306Z"
   },
   {
    "duration": 3,
    "start_time": "2023-05-08T14:04:55.175Z"
   },
   {
    "duration": 3,
    "start_time": "2023-05-08T14:04:57.898Z"
   },
   {
    "duration": 3,
    "start_time": "2023-05-08T14:05:04.791Z"
   },
   {
    "duration": 791859,
    "start_time": "2023-05-08T14:05:07.554Z"
   },
   {
    "duration": 4,
    "start_time": "2023-05-08T14:24:58.198Z"
   },
   {
    "duration": 20,
    "start_time": "2023-05-08T14:25:00.841Z"
   },
   {
    "duration": 2,
    "start_time": "2023-05-08T14:25:08.745Z"
   },
   {
    "duration": 3,
    "start_time": "2023-05-08T14:25:37.487Z"
   },
   {
    "duration": 3,
    "start_time": "2023-05-08T14:27:38.333Z"
   },
   {
    "duration": 3,
    "start_time": "2023-05-08T14:27:44.800Z"
   },
   {
    "duration": 2,
    "start_time": "2023-05-08T14:27:50.913Z"
   },
   {
    "duration": 1132836,
    "start_time": "2023-05-08T14:27:52.651Z"
   },
   {
    "duration": 3,
    "start_time": "2023-05-08T14:47:09.061Z"
   },
   {
    "duration": 3,
    "start_time": "2023-05-08T14:47:10.007Z"
   },
   {
    "duration": 380055,
    "start_time": "2023-05-08T14:47:11.025Z"
   },
   {
    "duration": 19,
    "start_time": "2023-05-08T14:55:09.028Z"
   },
   {
    "duration": 16,
    "start_time": "2023-05-08T14:55:22.639Z"
   },
   {
    "duration": 15,
    "start_time": "2023-05-08T14:55:37.526Z"
   },
   {
    "duration": 7,
    "start_time": "2023-05-08T14:55:43.828Z"
   },
   {
    "duration": 17,
    "start_time": "2023-05-08T14:56:00.525Z"
   },
   {
    "duration": 7,
    "start_time": "2023-05-08T14:56:10.146Z"
   },
   {
    "duration": 3,
    "start_time": "2023-05-08T14:57:46.013Z"
   },
   {
    "duration": 8,
    "start_time": "2023-05-08T14:57:48.611Z"
   },
   {
    "duration": 1301,
    "start_time": "2023-05-08T14:57:49.136Z"
   },
   {
    "duration": 3,
    "start_time": "2023-05-08T14:58:39.514Z"
   },
   {
    "duration": 3,
    "start_time": "2023-05-08T14:58:39.813Z"
   },
   {
    "duration": 50611,
    "start_time": "2023-05-08T14:58:40.234Z"
   },
   {
    "duration": 9,
    "start_time": "2023-05-08T15:01:21.834Z"
   },
   {
    "duration": 50557,
    "start_time": "2023-05-08T15:01:23.063Z"
   },
   {
    "duration": 3,
    "start_time": "2023-05-08T15:02:19.375Z"
   },
   {
    "duration": 8,
    "start_time": "2023-05-08T15:02:19.934Z"
   },
   {
    "duration": 50587,
    "start_time": "2023-05-08T15:02:20.425Z"
   },
   {
    "duration": 65479,
    "start_time": "2023-05-08T15:04:26.371Z"
   },
   {
    "duration": 33667,
    "start_time": "2023-05-08T15:05:52.594Z"
   },
   {
    "duration": 62232,
    "start_time": "2023-05-08T15:06:42.995Z"
   },
   {
    "duration": 146052,
    "start_time": "2023-05-08T15:10:12.647Z"
   },
   {
    "duration": 2788,
    "start_time": "2023-05-08T15:15:06.462Z"
   },
   {
    "duration": 143309,
    "start_time": "2023-05-08T15:20:11.337Z"
   },
   {
    "duration": 43,
    "start_time": "2023-05-08T15:23:33.797Z"
   },
   {
    "duration": 9,
    "start_time": "2023-05-08T15:23:41.717Z"
   },
   {
    "duration": 46,
    "start_time": "2023-05-08T15:26:08.896Z"
   },
   {
    "duration": 36,
    "start_time": "2023-05-08T15:26:37.778Z"
   },
   {
    "duration": 4,
    "start_time": "2023-05-08T15:31:34.121Z"
   },
   {
    "duration": 2,
    "start_time": "2023-05-08T15:31:35.446Z"
   },
   {
    "duration": 668062,
    "start_time": "2023-05-08T15:31:40.757Z"
   },
   {
    "duration": 61,
    "start_time": "2023-05-08T15:43:28.598Z"
   },
   {
    "duration": 4,
    "start_time": "2023-05-08T16:10:42.978Z"
   },
   {
    "duration": 87598,
    "start_time": "2023-05-08T16:11:00.626Z"
   },
   {
    "duration": 8,
    "start_time": "2023-05-08T16:14:19.197Z"
   },
   {
    "duration": 90694,
    "start_time": "2023-05-08T16:14:22.039Z"
   },
   {
    "duration": 7,
    "start_time": "2023-05-08T16:17:51.195Z"
   },
   {
    "duration": 95003,
    "start_time": "2023-05-08T16:17:51.697Z"
   },
   {
    "duration": 52,
    "start_time": "2023-05-08T16:19:48.631Z"
   },
   {
    "duration": 4,
    "start_time": "2023-05-08T16:20:19.246Z"
   },
   {
    "duration": 3,
    "start_time": "2023-05-08T16:20:20.089Z"
   },
   {
    "duration": 187999,
    "start_time": "2023-05-08T16:20:20.954Z"
   },
   {
    "duration": 6,
    "start_time": "2023-05-08T16:23:33.799Z"
   },
   {
    "duration": 67,
    "start_time": "2023-05-08T16:26:35.187Z"
   },
   {
    "duration": 2,
    "start_time": "2023-05-08T16:27:26.559Z"
   },
   {
    "duration": 3,
    "start_time": "2023-05-08T16:27:27.194Z"
   },
   {
    "duration": 182420,
    "start_time": "2023-05-08T16:27:29.578Z"
   },
   {
    "duration": 3,
    "start_time": "2023-05-08T16:30:45.305Z"
   },
   {
    "duration": 29,
    "start_time": "2023-05-08T16:33:01.066Z"
   },
   {
    "duration": 3,
    "start_time": "2023-05-08T16:36:23.223Z"
   },
   {
    "duration": 4,
    "start_time": "2023-05-08T16:36:31.106Z"
   },
   {
    "duration": 79,
    "start_time": "2023-05-08T16:38:25.939Z"
   },
   {
    "duration": 16,
    "start_time": "2023-05-08T16:38:30.790Z"
   },
   {
    "duration": 3,
    "start_time": "2023-05-08T16:41:11.690Z"
   },
   {
    "duration": 3,
    "start_time": "2023-05-08T16:41:12.189Z"
   },
   {
    "duration": 49956,
    "start_time": "2023-05-08T16:41:12.589Z"
   },
   {
    "duration": 4,
    "start_time": "2023-05-08T16:42:07.348Z"
   },
   {
    "duration": 41,
    "start_time": "2023-05-08T16:42:10.942Z"
   },
   {
    "duration": 4,
    "start_time": "2023-05-08T16:42:30.995Z"
   },
   {
    "duration": 180699,
    "start_time": "2023-05-08T16:42:31.716Z"
   },
   {
    "duration": 4,
    "start_time": "2023-05-08T16:45:43.793Z"
   },
   {
    "duration": 46,
    "start_time": "2023-05-08T16:45:47.985Z"
   },
   {
    "duration": 16,
    "start_time": "2023-05-08T16:46:35.079Z"
   },
   {
    "duration": 16,
    "start_time": "2023-05-08T16:46:50.685Z"
   },
   {
    "duration": 3,
    "start_time": "2023-05-08T16:48:25.080Z"
   },
   {
    "duration": 4,
    "start_time": "2023-05-08T16:48:32.011Z"
   },
   {
    "duration": 136553,
    "start_time": "2023-05-08T16:48:35.017Z"
   },
   {
    "duration": 4,
    "start_time": "2023-05-08T16:50:58.083Z"
   },
   {
    "duration": 40,
    "start_time": "2023-05-08T16:50:59.407Z"
   },
   {
    "duration": 2,
    "start_time": "2023-05-08T16:51:07.386Z"
   },
   {
    "duration": 3,
    "start_time": "2023-05-08T16:51:08.158Z"
   },
   {
    "duration": 307198,
    "start_time": "2023-05-08T16:51:15.490Z"
   },
   {
    "duration": 4,
    "start_time": "2023-05-08T16:56:32.802Z"
   },
   {
    "duration": 51,
    "start_time": "2023-05-08T16:56:37.195Z"
   },
   {
    "duration": 2,
    "start_time": "2023-05-08T16:57:41.452Z"
   },
   {
    "duration": 4,
    "start_time": "2023-05-08T16:57:47.624Z"
   },
   {
    "duration": 305628,
    "start_time": "2023-05-08T16:57:49.145Z"
   },
   {
    "duration": 3,
    "start_time": "2023-05-08T17:08:55.837Z"
   },
   {
    "duration": 44,
    "start_time": "2023-05-08T17:08:59.130Z"
   },
   {
    "duration": 4,
    "start_time": "2023-05-08T17:11:01.726Z"
   },
   {
    "duration": 8,
    "start_time": "2023-05-08T17:11:02.542Z"
   },
   {
    "duration": 10,
    "start_time": "2023-05-08T17:12:33.832Z"
   },
   {
    "duration": 5,
    "start_time": "2023-05-08T17:12:38.184Z"
   },
   {
    "duration": 5,
    "start_time": "2023-05-08T17:12:58.479Z"
   },
   {
    "duration": 5,
    "start_time": "2023-05-08T17:13:05.395Z"
   },
   {
    "duration": 8,
    "start_time": "2023-05-08T17:13:06.418Z"
   },
   {
    "duration": 15688,
    "start_time": "2023-05-08T17:13:47.173Z"
   },
   {
    "duration": 3,
    "start_time": "2023-05-08T17:14:06.118Z"
   },
   {
    "duration": 4,
    "start_time": "2023-05-08T17:14:07.285Z"
   },
   {
    "duration": 3,
    "start_time": "2023-05-08T17:14:14.892Z"
   },
   {
    "duration": 3,
    "start_time": "2023-05-08T17:14:17.779Z"
   },
   {
    "duration": 4,
    "start_time": "2023-05-08T17:14:18.178Z"
   },
   {
    "duration": 4,
    "start_time": "2023-05-08T17:14:19.196Z"
   },
   {
    "duration": 753,
    "start_time": "2023-05-08T17:19:18.579Z"
   },
   {
    "duration": 8325,
    "start_time": "2023-05-08T17:53:54.129Z"
   },
   {
    "duration": 10168,
    "start_time": "2023-05-08T17:56:25.842Z"
   },
   {
    "duration": 3,
    "start_time": "2023-05-08T17:56:36.012Z"
   },
   {
    "duration": 2321,
    "start_time": "2023-05-08T17:56:36.016Z"
   },
   {
    "duration": 14,
    "start_time": "2023-05-08T17:56:39.487Z"
   },
   {
    "duration": 13,
    "start_time": "2023-05-08T17:56:39.702Z"
   },
   {
    "duration": 61,
    "start_time": "2023-05-08T17:56:39.951Z"
   },
   {
    "duration": 4,
    "start_time": "2023-05-08T17:56:42.890Z"
   },
   {
    "duration": 4,
    "start_time": "2023-05-08T17:56:51.491Z"
   },
   {
    "duration": 794,
    "start_time": "2023-05-08T17:56:58.184Z"
   },
   {
    "duration": 4,
    "start_time": "2023-05-08T17:56:58.980Z"
   },
   {
    "duration": 4,
    "start_time": "2023-05-08T17:57:01.691Z"
   },
   {
    "duration": 45,
    "start_time": "2023-05-08T17:57:02.316Z"
   },
   {
    "duration": 2462,
    "start_time": "2023-05-08T17:57:07.156Z"
   },
   {
    "duration": 8,
    "start_time": "2023-05-08T17:57:13.213Z"
   },
   {
    "duration": 10,
    "start_time": "2023-05-08T17:57:33.614Z"
   },
   {
    "duration": 5,
    "start_time": "2023-05-08T17:57:35.214Z"
   },
   {
    "duration": 4,
    "start_time": "2023-05-08T17:58:06.815Z"
   },
   {
    "duration": 5,
    "start_time": "2023-05-08T17:58:20.327Z"
   },
   {
    "duration": 8,
    "start_time": "2023-05-08T17:58:21.156Z"
   },
   {
    "duration": 15837,
    "start_time": "2023-05-08T17:58:23.509Z"
   },
   {
    "duration": 15949,
    "start_time": "2023-05-08T17:59:33.525Z"
   },
   {
    "duration": 4,
    "start_time": "2023-05-08T17:59:57.123Z"
   },
   {
    "duration": 4,
    "start_time": "2023-05-08T17:59:57.292Z"
   },
   {
    "duration": 4,
    "start_time": "2023-05-08T17:59:58.527Z"
   },
   {
    "duration": 2,
    "start_time": "2023-05-08T17:59:59.303Z"
   },
   {
    "duration": 3,
    "start_time": "2023-05-08T17:59:59.866Z"
   },
   {
    "duration": 3,
    "start_time": "2023-05-08T18:00:01.391Z"
   },
   {
    "duration": 10635,
    "start_time": "2023-05-08T18:00:02.657Z"
   },
   {
    "duration": 8758,
    "start_time": "2023-05-08T18:00:13.294Z"
   },
   {
    "duration": 1753,
    "start_time": "2023-05-08T18:00:25.311Z"
   }
  ],
  "kernelspec": {
   "display_name": "Python 3 (ipykernel)",
   "language": "python",
   "name": "python3"
  },
  "language_info": {
   "codemirror_mode": {
    "name": "ipython",
    "version": 3
   },
   "file_extension": ".py",
   "mimetype": "text/x-python",
   "name": "python",
   "nbconvert_exporter": "python",
   "pygments_lexer": "ipython3",
   "version": "3.9.2"
  },
  "toc": {
   "base_numbering": 1,
   "nav_menu": {},
   "number_sections": true,
   "sideBar": true,
   "skip_h1_title": true,
   "title_cell": "Table of Contents",
   "title_sidebar": "Contents",
   "toc_cell": false,
   "toc_position": {},
   "toc_section_display": true,
   "toc_window_display": false
  }
 },
 "nbformat": 4,
 "nbformat_minor": 5
}

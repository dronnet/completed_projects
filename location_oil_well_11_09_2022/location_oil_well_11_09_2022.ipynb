{
 "cells": [
  {
   "cell_type": "markdown",
   "id": "1b968c9c",
   "metadata": {},
   "source": [
    "# Выбор локации для скважины\n",
    "# Choosing a location for a oil well"
   ]
  },
  {
   "cell_type": "markdown",
   "id": "e22b5509",
   "metadata": {},
   "source": [
    "Нужно решить, где бурить новую скважину.\n",
    "\n",
    "Вам предоставлены пробы нефти в трёх регионах: в каждом 10 000 месторождений, где измерили качество нефти и объём её запасов. Постройте модель машинного обучения, которая поможет определить регион, где добыча принесёт наибольшую прибыль. Проанализируйте возможную прибыль и риски техникой *Bootstrap.*\n",
    "\n",
    "Шаги для выбора локации:\n",
    "\n",
    "- В избранном регионе ищут месторождения, для каждого определяют значения признаков;\n",
    "- Строят модель и оценивают объём запасов;\n",
    "- Выбирают месторождения с самым высокими оценками значений. Количество месторождений зависит от бюджета компании и стоимости разработки одной скважины;\n",
    "- Прибыль равна суммарной прибыли отобранных месторождений."
   ]
  },
  {
   "cell_type": "markdown",
   "id": "f9de61f3",
   "metadata": {},
   "source": [
    "## Загрузка и подготовка данных"
   ]
  },
  {
   "cell_type": "code",
   "execution_count": 1,
   "id": "b27b4792",
   "metadata": {},
   "outputs": [],
   "source": [
    "import pandas as pd\n",
    "import numpy as np\n",
    "from numpy.random import RandomState\n",
    "import matplotlib.pyplot as plt\n",
    "import os\n",
    "\n",
    "from sklearn.linear_model import LinearRegression\n",
    "from sklearn.dummy import DummyClassifier\n",
    "\n",
    "from sklearn.utils import shuffle\n",
    "from sklearn.model_selection import train_test_split\n",
    "\n",
    "from sklearn.metrics import mean_squared_error\n",
    "from sklearn.metrics import r2_score\n",
    "\n",
    "from scipy import stats as st"
   ]
  },
  {
   "cell_type": "code",
   "execution_count": 2,
   "id": "22d6b449",
   "metadata": {},
   "outputs": [],
   "source": [
    "#ЗАДАНИЕ КОНСТАНТ\n",
    "\n",
    "#количество точек для исследования в регионе\n",
    "NUMBER_RESEARCH_POINTS = 500\n",
    "\n",
    "#количество лучших точек\n",
    "NUMBER_BEST_POINTS = 200\n",
    "\n",
    "#Бюджет на разработку скважин в регионе — 10 млрд рублей.\n",
    "BUDGET_DEVELOPMENT = 10e9\n",
    "\n",
    "#Доход с одиного барреля сырья 450 рублей\n",
    "REVENUE_PER_BARREL = 450\n",
    "\n",
    "#Доход с 1000 баррелей сырья 450 тыс. рублей\n",
    "REVENUE_1000_BARREL = 450000\n",
    "\n",
    "#вероятность убытков. 2,5%\n",
    "PROBABILITY_LOSSES = 2.5 / 100\n",
    "\n",
    "#число случайности для разных функций и моделей\n",
    "STATE = 12345"
   ]
  },
  {
   "cell_type": "code",
   "execution_count": 3,
   "id": "81eb035b",
   "metadata": {},
   "outputs": [],
   "source": [
    "#чтение трех датасетов\n",
    "pth1 = 'geo_data_0.csv'\n",
    "pth2 = '/datasets/geo_data_0.csv'\n",
    "\n",
    "if os.path.exists(pth1):\n",
    "    gd0 = pd.read_csv(pth1)\n",
    "elif os.path.exists(pth2):\n",
    "    gd0 = pd.read_csv(pth2)\n",
    "else:\n",
    "    print('Something is wrong, что-то пошло не так как надо')\n",
    "    \n",
    "    \n",
    "pth1 = 'geo_data_1.csv'\n",
    "pth2 = '/datasets/geo_data_1.csv'\n",
    "\n",
    "if os.path.exists(pth1):\n",
    "    gd1 = pd.read_csv(pth1)\n",
    "elif os.path.exists(pth2):\n",
    "    gd1 = pd.read_csv(pth2)\n",
    "else:\n",
    "    print('Something is wrong, что-то пошло не так как надо')\n",
    "\n",
    "    \n",
    "pth1 = 'geo_data_2.csv'\n",
    "pth2 = '/datasets/geo_data_2.csv'\n",
    "\n",
    "if os.path.exists(pth1):\n",
    "    gd2 = pd.read_csv(pth1)\n",
    "elif os.path.exists(pth2):\n",
    "    gd2 = pd.read_csv(pth2)\n",
    "else:\n",
    "    print('Something is wrong, что-то пошло не так как надо')\n"
   ]
  },
  {
   "cell_type": "code",
   "execution_count": 4,
   "id": "011d8e47",
   "metadata": {},
   "outputs": [],
   "source": [
    "#функция для предварительного изучения таблиц\n",
    "def what_data(df):\n",
    "    display('**************************************DATA_OF_TABLE********************************')\n",
    "\n",
    "    print(' ___________________')\n",
    "    print('|--------INFO-------|')\n",
    "    df.info(memory_usage='deep')\n",
    "    print()\n",
    "    \n",
    "    print(' ___________________')\n",
    "    print('|-------SAMPLE------|')\n",
    "    display(df.sample(5))\n",
    "    print()\n",
    "    \n",
    "    print('Dublicated_row =',df.duplicated().sum())\n",
    "    print()\n",
    "    \n",
    "    print(' ___________________')\n",
    "    print('|------DESCRIBE-----|')\n",
    "    display(df.describe())\n",
    "    print()\n",
    "\n",
    "    print(' ___________________')\n",
    "    print('|----CORRELATION----|')\n",
    "    display(df.corr())\n",
    "    print()\n",
    "\n",
    "    print(' ___________________')\n",
    "    print('|-----HISTOGRAM-----|')\n",
    "    df.hist(bins=20, figsize=(6, 6))\n",
    "    "
   ]
  },
  {
   "cell_type": "code",
   "execution_count": 5,
   "id": "ab1ac57d",
   "metadata": {},
   "outputs": [
    {
     "data": {
      "text/plain": [
       "'**************************************DATA_OF_TABLE********************************'"
      ]
     },
     "metadata": {},
     "output_type": "display_data"
    },
    {
     "name": "stdout",
     "output_type": "stream",
     "text": [
      " ___________________\n",
      "|--------INFO-------|\n",
      "<class 'pandas.core.frame.DataFrame'>\n",
      "RangeIndex: 100000 entries, 0 to 99999\n",
      "Data columns (total 5 columns):\n",
      " #   Column   Non-Null Count   Dtype  \n",
      "---  ------   --------------   -----  \n",
      " 0   id       100000 non-null  object \n",
      " 1   f0       100000 non-null  float64\n",
      " 2   f1       100000 non-null  float64\n",
      " 3   f2       100000 non-null  float64\n",
      " 4   product  100000 non-null  float64\n",
      "dtypes: float64(4), object(1)\n",
      "memory usage: 9.0 MB\n",
      "\n",
      " ___________________\n",
      "|-------SAMPLE------|\n"
     ]
    },
    {
     "data": {
      "text/html": [
       "<div>\n",
       "<style scoped>\n",
       "    .dataframe tbody tr th:only-of-type {\n",
       "        vertical-align: middle;\n",
       "    }\n",
       "\n",
       "    .dataframe tbody tr th {\n",
       "        vertical-align: top;\n",
       "    }\n",
       "\n",
       "    .dataframe thead th {\n",
       "        text-align: right;\n",
       "    }\n",
       "</style>\n",
       "<table border=\"1\" class=\"dataframe\">\n",
       "  <thead>\n",
       "    <tr style=\"text-align: right;\">\n",
       "      <th></th>\n",
       "      <th>id</th>\n",
       "      <th>f0</th>\n",
       "      <th>f1</th>\n",
       "      <th>f2</th>\n",
       "      <th>product</th>\n",
       "    </tr>\n",
       "  </thead>\n",
       "  <tbody>\n",
       "    <tr>\n",
       "      <th>15539</th>\n",
       "      <td>OmMpL</td>\n",
       "      <td>1.498588</td>\n",
       "      <td>-0.506240</td>\n",
       "      <td>2.010793</td>\n",
       "      <td>47.324259</td>\n",
       "    </tr>\n",
       "    <tr>\n",
       "      <th>24047</th>\n",
       "      <td>dxiT7</td>\n",
       "      <td>-0.043550</td>\n",
       "      <td>0.042982</td>\n",
       "      <td>1.131281</td>\n",
       "      <td>36.718028</td>\n",
       "    </tr>\n",
       "    <tr>\n",
       "      <th>21214</th>\n",
       "      <td>4mwPw</td>\n",
       "      <td>0.038442</td>\n",
       "      <td>0.975447</td>\n",
       "      <td>6.790045</td>\n",
       "      <td>98.548640</td>\n",
       "    </tr>\n",
       "    <tr>\n",
       "      <th>93938</th>\n",
       "      <td>14GfN</td>\n",
       "      <td>0.983007</td>\n",
       "      <td>-0.548489</td>\n",
       "      <td>0.831530</td>\n",
       "      <td>140.290198</td>\n",
       "    </tr>\n",
       "    <tr>\n",
       "      <th>60668</th>\n",
       "      <td>Zn4ru</td>\n",
       "      <td>-0.035350</td>\n",
       "      <td>0.107563</td>\n",
       "      <td>1.171804</td>\n",
       "      <td>150.342586</td>\n",
       "    </tr>\n",
       "  </tbody>\n",
       "</table>\n",
       "</div>"
      ],
      "text/plain": [
       "          id        f0        f1        f2     product\n",
       "15539  OmMpL  1.498588 -0.506240  2.010793   47.324259\n",
       "24047  dxiT7 -0.043550  0.042982  1.131281   36.718028\n",
       "21214  4mwPw  0.038442  0.975447  6.790045   98.548640\n",
       "93938  14GfN  0.983007 -0.548489  0.831530  140.290198\n",
       "60668  Zn4ru -0.035350  0.107563  1.171804  150.342586"
      ]
     },
     "metadata": {},
     "output_type": "display_data"
    },
    {
     "name": "stdout",
     "output_type": "stream",
     "text": [
      "\n",
      "Dublicated_row = 0\n",
      "\n",
      " ___________________\n",
      "|------DESCRIBE-----|\n"
     ]
    },
    {
     "data": {
      "text/html": [
       "<div>\n",
       "<style scoped>\n",
       "    .dataframe tbody tr th:only-of-type {\n",
       "        vertical-align: middle;\n",
       "    }\n",
       "\n",
       "    .dataframe tbody tr th {\n",
       "        vertical-align: top;\n",
       "    }\n",
       "\n",
       "    .dataframe thead th {\n",
       "        text-align: right;\n",
       "    }\n",
       "</style>\n",
       "<table border=\"1\" class=\"dataframe\">\n",
       "  <thead>\n",
       "    <tr style=\"text-align: right;\">\n",
       "      <th></th>\n",
       "      <th>f0</th>\n",
       "      <th>f1</th>\n",
       "      <th>f2</th>\n",
       "      <th>product</th>\n",
       "    </tr>\n",
       "  </thead>\n",
       "  <tbody>\n",
       "    <tr>\n",
       "      <th>count</th>\n",
       "      <td>100000.000000</td>\n",
       "      <td>100000.000000</td>\n",
       "      <td>100000.000000</td>\n",
       "      <td>100000.000000</td>\n",
       "    </tr>\n",
       "    <tr>\n",
       "      <th>mean</th>\n",
       "      <td>0.500419</td>\n",
       "      <td>0.250143</td>\n",
       "      <td>2.502647</td>\n",
       "      <td>92.500000</td>\n",
       "    </tr>\n",
       "    <tr>\n",
       "      <th>std</th>\n",
       "      <td>0.871832</td>\n",
       "      <td>0.504433</td>\n",
       "      <td>3.248248</td>\n",
       "      <td>44.288691</td>\n",
       "    </tr>\n",
       "    <tr>\n",
       "      <th>min</th>\n",
       "      <td>-1.408605</td>\n",
       "      <td>-0.848218</td>\n",
       "      <td>-12.088328</td>\n",
       "      <td>0.000000</td>\n",
       "    </tr>\n",
       "    <tr>\n",
       "      <th>25%</th>\n",
       "      <td>-0.072580</td>\n",
       "      <td>-0.200881</td>\n",
       "      <td>0.287748</td>\n",
       "      <td>56.497507</td>\n",
       "    </tr>\n",
       "    <tr>\n",
       "      <th>50%</th>\n",
       "      <td>0.502360</td>\n",
       "      <td>0.250252</td>\n",
       "      <td>2.515969</td>\n",
       "      <td>91.849972</td>\n",
       "    </tr>\n",
       "    <tr>\n",
       "      <th>75%</th>\n",
       "      <td>1.073581</td>\n",
       "      <td>0.700646</td>\n",
       "      <td>4.715088</td>\n",
       "      <td>128.564089</td>\n",
       "    </tr>\n",
       "    <tr>\n",
       "      <th>max</th>\n",
       "      <td>2.362331</td>\n",
       "      <td>1.343769</td>\n",
       "      <td>16.003790</td>\n",
       "      <td>185.364347</td>\n",
       "    </tr>\n",
       "  </tbody>\n",
       "</table>\n",
       "</div>"
      ],
      "text/plain": [
       "                  f0             f1             f2        product\n",
       "count  100000.000000  100000.000000  100000.000000  100000.000000\n",
       "mean        0.500419       0.250143       2.502647      92.500000\n",
       "std         0.871832       0.504433       3.248248      44.288691\n",
       "min        -1.408605      -0.848218     -12.088328       0.000000\n",
       "25%        -0.072580      -0.200881       0.287748      56.497507\n",
       "50%         0.502360       0.250252       2.515969      91.849972\n",
       "75%         1.073581       0.700646       4.715088     128.564089\n",
       "max         2.362331       1.343769      16.003790     185.364347"
      ]
     },
     "metadata": {},
     "output_type": "display_data"
    },
    {
     "name": "stdout",
     "output_type": "stream",
     "text": [
      "\n",
      " ___________________\n",
      "|----CORRELATION----|\n"
     ]
    },
    {
     "data": {
      "text/html": [
       "<div>\n",
       "<style scoped>\n",
       "    .dataframe tbody tr th:only-of-type {\n",
       "        vertical-align: middle;\n",
       "    }\n",
       "\n",
       "    .dataframe tbody tr th {\n",
       "        vertical-align: top;\n",
       "    }\n",
       "\n",
       "    .dataframe thead th {\n",
       "        text-align: right;\n",
       "    }\n",
       "</style>\n",
       "<table border=\"1\" class=\"dataframe\">\n",
       "  <thead>\n",
       "    <tr style=\"text-align: right;\">\n",
       "      <th></th>\n",
       "      <th>f0</th>\n",
       "      <th>f1</th>\n",
       "      <th>f2</th>\n",
       "      <th>product</th>\n",
       "    </tr>\n",
       "  </thead>\n",
       "  <tbody>\n",
       "    <tr>\n",
       "      <th>f0</th>\n",
       "      <td>1.000000</td>\n",
       "      <td>-0.440723</td>\n",
       "      <td>-0.003153</td>\n",
       "      <td>0.143536</td>\n",
       "    </tr>\n",
       "    <tr>\n",
       "      <th>f1</th>\n",
       "      <td>-0.440723</td>\n",
       "      <td>1.000000</td>\n",
       "      <td>0.001724</td>\n",
       "      <td>-0.192356</td>\n",
       "    </tr>\n",
       "    <tr>\n",
       "      <th>f2</th>\n",
       "      <td>-0.003153</td>\n",
       "      <td>0.001724</td>\n",
       "      <td>1.000000</td>\n",
       "      <td>0.483663</td>\n",
       "    </tr>\n",
       "    <tr>\n",
       "      <th>product</th>\n",
       "      <td>0.143536</td>\n",
       "      <td>-0.192356</td>\n",
       "      <td>0.483663</td>\n",
       "      <td>1.000000</td>\n",
       "    </tr>\n",
       "  </tbody>\n",
       "</table>\n",
       "</div>"
      ],
      "text/plain": [
       "               f0        f1        f2   product\n",
       "f0       1.000000 -0.440723 -0.003153  0.143536\n",
       "f1      -0.440723  1.000000  0.001724 -0.192356\n",
       "f2      -0.003153  0.001724  1.000000  0.483663\n",
       "product  0.143536 -0.192356  0.483663  1.000000"
      ]
     },
     "metadata": {},
     "output_type": "display_data"
    },
    {
     "name": "stdout",
     "output_type": "stream",
     "text": [
      "\n",
      " ___________________\n",
      "|-----HISTOGRAM-----|\n"
     ]
    },
    {
     "data": {
      "image/png": "[encoded data removed]",
      "text/plain": [
       "<Figure size 432x432 with 4 Axes>"
      ]
     },
     "metadata": {
      "needs_background": "light"
     },
     "output_type": "display_data"
    }
   ],
   "source": [
    "#информация для датасета geo_data_0\n",
    "what_data(gd0)"
   ]
  },
  {
   "cell_type": "code",
   "execution_count": 6,
   "id": "3b39a17f",
   "metadata": {},
   "outputs": [
    {
     "data": {
      "text/plain": [
       "'**************************************DATA_OF_TABLE********************************'"
      ]
     },
     "metadata": {},
     "output_type": "display_data"
    },
    {
     "name": "stdout",
     "output_type": "stream",
     "text": [
      " ___________________\n",
      "|--------INFO-------|\n",
      "<class 'pandas.core.frame.DataFrame'>\n",
      "RangeIndex: 100000 entries, 0 to 99999\n",
      "Data columns (total 5 columns):\n",
      " #   Column   Non-Null Count   Dtype  \n",
      "---  ------   --------------   -----  \n",
      " 0   id       100000 non-null  object \n",
      " 1   f0       100000 non-null  float64\n",
      " 2   f1       100000 non-null  float64\n",
      " 3   f2       100000 non-null  float64\n",
      " 4   product  100000 non-null  float64\n",
      "dtypes: float64(4), object(1)\n",
      "memory usage: 9.0 MB\n",
      "\n",
      " ___________________\n",
      "|-------SAMPLE------|\n"
     ]
    },
    {
     "data": {
      "text/html": [
       "<div>\n",
       "<style scoped>\n",
       "    .dataframe tbody tr th:only-of-type {\n",
       "        vertical-align: middle;\n",
       "    }\n",
       "\n",
       "    .dataframe tbody tr th {\n",
       "        vertical-align: top;\n",
       "    }\n",
       "\n",
       "    .dataframe thead th {\n",
       "        text-align: right;\n",
       "    }\n",
       "</style>\n",
       "<table border=\"1\" class=\"dataframe\">\n",
       "  <thead>\n",
       "    <tr style=\"text-align: right;\">\n",
       "      <th></th>\n",
       "      <th>id</th>\n",
       "      <th>f0</th>\n",
       "      <th>f1</th>\n",
       "      <th>f2</th>\n",
       "      <th>product</th>\n",
       "    </tr>\n",
       "  </thead>\n",
       "  <tbody>\n",
       "    <tr>\n",
       "      <th>11806</th>\n",
       "      <td>HSPUS</td>\n",
       "      <td>15.283873</td>\n",
       "      <td>-1.876274</td>\n",
       "      <td>3.994810</td>\n",
       "      <td>107.813044</td>\n",
       "    </tr>\n",
       "    <tr>\n",
       "      <th>94082</th>\n",
       "      <td>hyl9I</td>\n",
       "      <td>15.250561</td>\n",
       "      <td>-3.833152</td>\n",
       "      <td>-0.006011</td>\n",
       "      <td>0.000000</td>\n",
       "    </tr>\n",
       "    <tr>\n",
       "      <th>73561</th>\n",
       "      <td>K4Apt</td>\n",
       "      <td>15.181290</td>\n",
       "      <td>-3.017523</td>\n",
       "      <td>1.998645</td>\n",
       "      <td>53.906522</td>\n",
       "    </tr>\n",
       "    <tr>\n",
       "      <th>19643</th>\n",
       "      <td>4w47L</td>\n",
       "      <td>-14.536729</td>\n",
       "      <td>-10.654265</td>\n",
       "      <td>4.998928</td>\n",
       "      <td>137.945408</td>\n",
       "    </tr>\n",
       "    <tr>\n",
       "      <th>55590</th>\n",
       "      <td>aNzh3</td>\n",
       "      <td>17.043014</td>\n",
       "      <td>-7.403515</td>\n",
       "      <td>1.994728</td>\n",
       "      <td>53.906522</td>\n",
       "    </tr>\n",
       "  </tbody>\n",
       "</table>\n",
       "</div>"
      ],
      "text/plain": [
       "          id         f0         f1        f2     product\n",
       "11806  HSPUS  15.283873  -1.876274  3.994810  107.813044\n",
       "94082  hyl9I  15.250561  -3.833152 -0.006011    0.000000\n",
       "73561  K4Apt  15.181290  -3.017523  1.998645   53.906522\n",
       "19643  4w47L -14.536729 -10.654265  4.998928  137.945408\n",
       "55590  aNzh3  17.043014  -7.403515  1.994728   53.906522"
      ]
     },
     "metadata": {},
     "output_type": "display_data"
    },
    {
     "name": "stdout",
     "output_type": "stream",
     "text": [
      "\n",
      "Dublicated_row = 0\n",
      "\n",
      " ___________________\n",
      "|------DESCRIBE-----|\n"
     ]
    },
    {
     "data": {
      "text/html": [
       "<div>\n",
       "<style scoped>\n",
       "    .dataframe tbody tr th:only-of-type {\n",
       "        vertical-align: middle;\n",
       "    }\n",
       "\n",
       "    .dataframe tbody tr th {\n",
       "        vertical-align: top;\n",
       "    }\n",
       "\n",
       "    .dataframe thead th {\n",
       "        text-align: right;\n",
       "    }\n",
       "</style>\n",
       "<table border=\"1\" class=\"dataframe\">\n",
       "  <thead>\n",
       "    <tr style=\"text-align: right;\">\n",
       "      <th></th>\n",
       "      <th>f0</th>\n",
       "      <th>f1</th>\n",
       "      <th>f2</th>\n",
       "      <th>product</th>\n",
       "    </tr>\n",
       "  </thead>\n",
       "  <tbody>\n",
       "    <tr>\n",
       "      <th>count</th>\n",
       "      <td>100000.000000</td>\n",
       "      <td>100000.000000</td>\n",
       "      <td>100000.000000</td>\n",
       "      <td>100000.000000</td>\n",
       "    </tr>\n",
       "    <tr>\n",
       "      <th>mean</th>\n",
       "      <td>1.141296</td>\n",
       "      <td>-4.796579</td>\n",
       "      <td>2.494541</td>\n",
       "      <td>68.825000</td>\n",
       "    </tr>\n",
       "    <tr>\n",
       "      <th>std</th>\n",
       "      <td>8.965932</td>\n",
       "      <td>5.119872</td>\n",
       "      <td>1.703572</td>\n",
       "      <td>45.944423</td>\n",
       "    </tr>\n",
       "    <tr>\n",
       "      <th>min</th>\n",
       "      <td>-31.609576</td>\n",
       "      <td>-26.358598</td>\n",
       "      <td>-0.018144</td>\n",
       "      <td>0.000000</td>\n",
       "    </tr>\n",
       "    <tr>\n",
       "      <th>25%</th>\n",
       "      <td>-6.298551</td>\n",
       "      <td>-8.267985</td>\n",
       "      <td>1.000021</td>\n",
       "      <td>26.953261</td>\n",
       "    </tr>\n",
       "    <tr>\n",
       "      <th>50%</th>\n",
       "      <td>1.153055</td>\n",
       "      <td>-4.813172</td>\n",
       "      <td>2.011479</td>\n",
       "      <td>57.085625</td>\n",
       "    </tr>\n",
       "    <tr>\n",
       "      <th>75%</th>\n",
       "      <td>8.621015</td>\n",
       "      <td>-1.332816</td>\n",
       "      <td>3.999904</td>\n",
       "      <td>107.813044</td>\n",
       "    </tr>\n",
       "    <tr>\n",
       "      <th>max</th>\n",
       "      <td>29.421755</td>\n",
       "      <td>18.734063</td>\n",
       "      <td>5.019721</td>\n",
       "      <td>137.945408</td>\n",
       "    </tr>\n",
       "  </tbody>\n",
       "</table>\n",
       "</div>"
      ],
      "text/plain": [
       "                  f0             f1             f2        product\n",
       "count  100000.000000  100000.000000  100000.000000  100000.000000\n",
       "mean        1.141296      -4.796579       2.494541      68.825000\n",
       "std         8.965932       5.119872       1.703572      45.944423\n",
       "min       -31.609576     -26.358598      -0.018144       0.000000\n",
       "25%        -6.298551      -8.267985       1.000021      26.953261\n",
       "50%         1.153055      -4.813172       2.011479      57.085625\n",
       "75%         8.621015      -1.332816       3.999904     107.813044\n",
       "max        29.421755      18.734063       5.019721     137.945408"
      ]
     },
     "metadata": {},
     "output_type": "display_data"
    },
    {
     "name": "stdout",
     "output_type": "stream",
     "text": [
      "\n",
      " ___________________\n",
      "|----CORRELATION----|\n"
     ]
    },
    {
     "data": {
      "text/html": [
       "<div>\n",
       "<style scoped>\n",
       "    .dataframe tbody tr th:only-of-type {\n",
       "        vertical-align: middle;\n",
       "    }\n",
       "\n",
       "    .dataframe tbody tr th {\n",
       "        vertical-align: top;\n",
       "    }\n",
       "\n",
       "    .dataframe thead th {\n",
       "        text-align: right;\n",
       "    }\n",
       "</style>\n",
       "<table border=\"1\" class=\"dataframe\">\n",
       "  <thead>\n",
       "    <tr style=\"text-align: right;\">\n",
       "      <th></th>\n",
       "      <th>f0</th>\n",
       "      <th>f1</th>\n",
       "      <th>f2</th>\n",
       "      <th>product</th>\n",
       "    </tr>\n",
       "  </thead>\n",
       "  <tbody>\n",
       "    <tr>\n",
       "      <th>f0</th>\n",
       "      <td>1.000000</td>\n",
       "      <td>0.182287</td>\n",
       "      <td>-0.001777</td>\n",
       "      <td>-0.030491</td>\n",
       "    </tr>\n",
       "    <tr>\n",
       "      <th>f1</th>\n",
       "      <td>0.182287</td>\n",
       "      <td>1.000000</td>\n",
       "      <td>-0.002595</td>\n",
       "      <td>-0.010155</td>\n",
       "    </tr>\n",
       "    <tr>\n",
       "      <th>f2</th>\n",
       "      <td>-0.001777</td>\n",
       "      <td>-0.002595</td>\n",
       "      <td>1.000000</td>\n",
       "      <td>0.999397</td>\n",
       "    </tr>\n",
       "    <tr>\n",
       "      <th>product</th>\n",
       "      <td>-0.030491</td>\n",
       "      <td>-0.010155</td>\n",
       "      <td>0.999397</td>\n",
       "      <td>1.000000</td>\n",
       "    </tr>\n",
       "  </tbody>\n",
       "</table>\n",
       "</div>"
      ],
      "text/plain": [
       "               f0        f1        f2   product\n",
       "f0       1.000000  0.182287 -0.001777 -0.030491\n",
       "f1       0.182287  1.000000 -0.002595 -0.010155\n",
       "f2      -0.001777 -0.002595  1.000000  0.999397\n",
       "product -0.030491 -0.010155  0.999397  1.000000"
      ]
     },
     "metadata": {},
     "output_type": "display_data"
    },
    {
     "name": "stdout",
     "output_type": "stream",
     "text": [
      "\n",
      " ___________________\n",
      "|-----HISTOGRAM-----|\n"
     ]
    },
    {
     "data": {
      "image/png": "[encoded data removed]",
      "text/plain": [
       "<Figure size 432x432 with 4 Axes>"
      ]
     },
     "metadata": {
      "needs_background": "light"
     },
     "output_type": "display_data"
    }
   ],
   "source": [
    "#информация для датасета geo_data_1\n",
    "what_data(gd1)"
   ]
  },
  {
   "cell_type": "code",
   "execution_count": 7,
   "id": "318325c6",
   "metadata": {
    "scrolled": false
   },
   "outputs": [
    {
     "data": {
      "text/plain": [
       "'**************************************DATA_OF_TABLE********************************'"
      ]
     },
     "metadata": {},
     "output_type": "display_data"
    },
    {
     "name": "stdout",
     "output_type": "stream",
     "text": [
      " ___________________\n",
      "|--------INFO-------|\n",
      "<class 'pandas.core.frame.DataFrame'>\n",
      "RangeIndex: 100000 entries, 0 to 99999\n",
      "Data columns (total 5 columns):\n",
      " #   Column   Non-Null Count   Dtype  \n",
      "---  ------   --------------   -----  \n",
      " 0   id       100000 non-null  object \n",
      " 1   f0       100000 non-null  float64\n",
      " 2   f1       100000 non-null  float64\n",
      " 3   f2       100000 non-null  float64\n",
      " 4   product  100000 non-null  float64\n",
      "dtypes: float64(4), object(1)\n",
      "memory usage: 9.0 MB\n",
      "\n",
      " ___________________\n",
      "|-------SAMPLE------|\n"
     ]
    },
    {
     "data": {
      "text/html": [
       "<div>\n",
       "<style scoped>\n",
       "    .dataframe tbody tr th:only-of-type {\n",
       "        vertical-align: middle;\n",
       "    }\n",
       "\n",
       "    .dataframe tbody tr th {\n",
       "        vertical-align: top;\n",
       "    }\n",
       "\n",
       "    .dataframe thead th {\n",
       "        text-align: right;\n",
       "    }\n",
       "</style>\n",
       "<table border=\"1\" class=\"dataframe\">\n",
       "  <thead>\n",
       "    <tr style=\"text-align: right;\">\n",
       "      <th></th>\n",
       "      <th>id</th>\n",
       "      <th>f0</th>\n",
       "      <th>f1</th>\n",
       "      <th>f2</th>\n",
       "      <th>product</th>\n",
       "    </tr>\n",
       "  </thead>\n",
       "  <tbody>\n",
       "    <tr>\n",
       "      <th>61206</th>\n",
       "      <td>1lpBc</td>\n",
       "      <td>-0.276154</td>\n",
       "      <td>2.779701</td>\n",
       "      <td>-1.891195</td>\n",
       "      <td>95.014393</td>\n",
       "    </tr>\n",
       "    <tr>\n",
       "      <th>81413</th>\n",
       "      <td>tJOJ6</td>\n",
       "      <td>0.332789</td>\n",
       "      <td>-1.440828</td>\n",
       "      <td>10.984981</td>\n",
       "      <td>126.472773</td>\n",
       "    </tr>\n",
       "    <tr>\n",
       "      <th>96301</th>\n",
       "      <td>2lqWi</td>\n",
       "      <td>-1.807201</td>\n",
       "      <td>0.673248</td>\n",
       "      <td>-0.157492</td>\n",
       "      <td>77.771201</td>\n",
       "    </tr>\n",
       "    <tr>\n",
       "      <th>7714</th>\n",
       "      <td>D8blI</td>\n",
       "      <td>1.310006</td>\n",
       "      <td>-2.231924</td>\n",
       "      <td>7.156530</td>\n",
       "      <td>160.853528</td>\n",
       "    </tr>\n",
       "    <tr>\n",
       "      <th>97171</th>\n",
       "      <td>vMhkw</td>\n",
       "      <td>0.057291</td>\n",
       "      <td>-1.518030</td>\n",
       "      <td>1.794880</td>\n",
       "      <td>0.566521</td>\n",
       "    </tr>\n",
       "  </tbody>\n",
       "</table>\n",
       "</div>"
      ],
      "text/plain": [
       "          id        f0        f1         f2     product\n",
       "61206  1lpBc -0.276154  2.779701  -1.891195   95.014393\n",
       "81413  tJOJ6  0.332789 -1.440828  10.984981  126.472773\n",
       "96301  2lqWi -1.807201  0.673248  -0.157492   77.771201\n",
       "7714   D8blI  1.310006 -2.231924   7.156530  160.853528\n",
       "97171  vMhkw  0.057291 -1.518030   1.794880    0.566521"
      ]
     },
     "metadata": {},
     "output_type": "display_data"
    },
    {
     "name": "stdout",
     "output_type": "stream",
     "text": [
      "\n",
      "Dublicated_row = 0\n",
      "\n",
      " ___________________\n",
      "|------DESCRIBE-----|\n"
     ]
    },
    {
     "data": {
      "text/html": [
       "<div>\n",
       "<style scoped>\n",
       "    .dataframe tbody tr th:only-of-type {\n",
       "        vertical-align: middle;\n",
       "    }\n",
       "\n",
       "    .dataframe tbody tr th {\n",
       "        vertical-align: top;\n",
       "    }\n",
       "\n",
       "    .dataframe thead th {\n",
       "        text-align: right;\n",
       "    }\n",
       "</style>\n",
       "<table border=\"1\" class=\"dataframe\">\n",
       "  <thead>\n",
       "    <tr style=\"text-align: right;\">\n",
       "      <th></th>\n",
       "      <th>f0</th>\n",
       "      <th>f1</th>\n",
       "      <th>f2</th>\n",
       "      <th>product</th>\n",
       "    </tr>\n",
       "  </thead>\n",
       "  <tbody>\n",
       "    <tr>\n",
       "      <th>count</th>\n",
       "      <td>100000.000000</td>\n",
       "      <td>100000.000000</td>\n",
       "      <td>100000.000000</td>\n",
       "      <td>100000.000000</td>\n",
       "    </tr>\n",
       "    <tr>\n",
       "      <th>mean</th>\n",
       "      <td>0.002023</td>\n",
       "      <td>-0.002081</td>\n",
       "      <td>2.495128</td>\n",
       "      <td>95.000000</td>\n",
       "    </tr>\n",
       "    <tr>\n",
       "      <th>std</th>\n",
       "      <td>1.732045</td>\n",
       "      <td>1.730417</td>\n",
       "      <td>3.473445</td>\n",
       "      <td>44.749921</td>\n",
       "    </tr>\n",
       "    <tr>\n",
       "      <th>min</th>\n",
       "      <td>-8.760004</td>\n",
       "      <td>-7.084020</td>\n",
       "      <td>-11.970335</td>\n",
       "      <td>0.000000</td>\n",
       "    </tr>\n",
       "    <tr>\n",
       "      <th>25%</th>\n",
       "      <td>-1.162288</td>\n",
       "      <td>-1.174820</td>\n",
       "      <td>0.130359</td>\n",
       "      <td>59.450441</td>\n",
       "    </tr>\n",
       "    <tr>\n",
       "      <th>50%</th>\n",
       "      <td>0.009424</td>\n",
       "      <td>-0.009482</td>\n",
       "      <td>2.484236</td>\n",
       "      <td>94.925613</td>\n",
       "    </tr>\n",
       "    <tr>\n",
       "      <th>75%</th>\n",
       "      <td>1.158535</td>\n",
       "      <td>1.163678</td>\n",
       "      <td>4.858794</td>\n",
       "      <td>130.595027</td>\n",
       "    </tr>\n",
       "    <tr>\n",
       "      <th>max</th>\n",
       "      <td>7.238262</td>\n",
       "      <td>7.844801</td>\n",
       "      <td>16.739402</td>\n",
       "      <td>190.029838</td>\n",
       "    </tr>\n",
       "  </tbody>\n",
       "</table>\n",
       "</div>"
      ],
      "text/plain": [
       "                  f0             f1             f2        product\n",
       "count  100000.000000  100000.000000  100000.000000  100000.000000\n",
       "mean        0.002023      -0.002081       2.495128      95.000000\n",
       "std         1.732045       1.730417       3.473445      44.749921\n",
       "min        -8.760004      -7.084020     -11.970335       0.000000\n",
       "25%        -1.162288      -1.174820       0.130359      59.450441\n",
       "50%         0.009424      -0.009482       2.484236      94.925613\n",
       "75%         1.158535       1.163678       4.858794     130.595027\n",
       "max         7.238262       7.844801      16.739402     190.029838"
      ]
     },
     "metadata": {},
     "output_type": "display_data"
    },
    {
     "name": "stdout",
     "output_type": "stream",
     "text": [
      "\n",
      " ___________________\n",
      "|----CORRELATION----|\n"
     ]
    },
    {
     "data": {
      "text/html": [
       "<div>\n",
       "<style scoped>\n",
       "    .dataframe tbody tr th:only-of-type {\n",
       "        vertical-align: middle;\n",
       "    }\n",
       "\n",
       "    .dataframe tbody tr th {\n",
       "        vertical-align: top;\n",
       "    }\n",
       "\n",
       "    .dataframe thead th {\n",
       "        text-align: right;\n",
       "    }\n",
       "</style>\n",
       "<table border=\"1\" class=\"dataframe\">\n",
       "  <thead>\n",
       "    <tr style=\"text-align: right;\">\n",
       "      <th></th>\n",
       "      <th>f0</th>\n",
       "      <th>f1</th>\n",
       "      <th>f2</th>\n",
       "      <th>product</th>\n",
       "    </tr>\n",
       "  </thead>\n",
       "  <tbody>\n",
       "    <tr>\n",
       "      <th>f0</th>\n",
       "      <td>1.000000</td>\n",
       "      <td>0.000528</td>\n",
       "      <td>-0.000448</td>\n",
       "      <td>-0.001987</td>\n",
       "    </tr>\n",
       "    <tr>\n",
       "      <th>f1</th>\n",
       "      <td>0.000528</td>\n",
       "      <td>1.000000</td>\n",
       "      <td>0.000779</td>\n",
       "      <td>-0.001012</td>\n",
       "    </tr>\n",
       "    <tr>\n",
       "      <th>f2</th>\n",
       "      <td>-0.000448</td>\n",
       "      <td>0.000779</td>\n",
       "      <td>1.000000</td>\n",
       "      <td>0.445871</td>\n",
       "    </tr>\n",
       "    <tr>\n",
       "      <th>product</th>\n",
       "      <td>-0.001987</td>\n",
       "      <td>-0.001012</td>\n",
       "      <td>0.445871</td>\n",
       "      <td>1.000000</td>\n",
       "    </tr>\n",
       "  </tbody>\n",
       "</table>\n",
       "</div>"
      ],
      "text/plain": [
       "               f0        f1        f2   product\n",
       "f0       1.000000  0.000528 -0.000448 -0.001987\n",
       "f1       0.000528  1.000000  0.000779 -0.001012\n",
       "f2      -0.000448  0.000779  1.000000  0.445871\n",
       "product -0.001987 -0.001012  0.445871  1.000000"
      ]
     },
     "metadata": {},
     "output_type": "display_data"
    },
    {
     "name": "stdout",
     "output_type": "stream",
     "text": [
      "\n",
      " ___________________\n",
      "|-----HISTOGRAM-----|\n"
     ]
    },
    {
     "data": {
      "image/png": "[encoded data removed]",
      "text/plain": [
       "<Figure size 432x432 with 4 Axes>"
      ]
     },
     "metadata": {
      "needs_background": "light"
     },
     "output_type": "display_data"
    }
   ],
   "source": [
    "#информация для датасета geo_data_2\n",
    "what_data(gd2)"
   ]
  },
  {
   "cell_type": "markdown",
   "id": "51a0f434",
   "metadata": {},
   "source": [
    "Проверка наличия в датасете 0 скважин с одинаковым id"
   ]
  },
  {
   "cell_type": "code",
   "execution_count": 8,
   "id": "d1bc147f",
   "metadata": {},
   "outputs": [
    {
     "data": {
      "text/plain": [
       "99990"
      ]
     },
     "execution_count": 8,
     "metadata": {},
     "output_type": "execute_result"
    }
   ],
   "source": [
    "gd0.id.nunique()"
   ]
  },
  {
   "cell_type": "code",
   "execution_count": 9,
   "id": "09472a17",
   "metadata": {},
   "outputs": [],
   "source": [
    "#подсчет количества уникальных значений id\n",
    "gd0_vc = gd0.id.value_counts()"
   ]
  },
  {
   "cell_type": "code",
   "execution_count": 10,
   "id": "adcceb8b",
   "metadata": {},
   "outputs": [],
   "source": [
    "#отбор только тех id, которых встретилось больше 2-х\n",
    "gd0_vc = list(gd0_vc[gd0_vc > 1].index)"
   ]
  },
  {
   "cell_type": "code",
   "execution_count": 11,
   "id": "d65a8c49",
   "metadata": {},
   "outputs": [
    {
     "data": {
      "text/plain": [
       "['HZww2',\n",
       " 'A5aEY',\n",
       " 'AGS9W',\n",
       " 'Tdehs',\n",
       " 'TtcGQ',\n",
       " 'QcMuo',\n",
       " 'bxg6G',\n",
       " '74z30',\n",
       " 'bsk9y',\n",
       " 'fiKDv']"
      ]
     },
     "execution_count": 11,
     "metadata": {},
     "output_type": "execute_result"
    }
   ],
   "source": [
    "#проверка\n",
    "gd0_vc"
   ]
  },
  {
   "cell_type": "code",
   "execution_count": 12,
   "id": "fa50a565",
   "metadata": {},
   "outputs": [
    {
     "data": {
      "text/html": [
       "<div>\n",
       "<style scoped>\n",
       "    .dataframe tbody tr th:only-of-type {\n",
       "        vertical-align: middle;\n",
       "    }\n",
       "\n",
       "    .dataframe tbody tr th {\n",
       "        vertical-align: top;\n",
       "    }\n",
       "\n",
       "    .dataframe thead th {\n",
       "        text-align: right;\n",
       "    }\n",
       "</style>\n",
       "<table border=\"1\" class=\"dataframe\">\n",
       "  <thead>\n",
       "    <tr style=\"text-align: right;\">\n",
       "      <th></th>\n",
       "      <th>id</th>\n",
       "      <th>f0</th>\n",
       "      <th>f1</th>\n",
       "      <th>f2</th>\n",
       "      <th>product</th>\n",
       "    </tr>\n",
       "  </thead>\n",
       "  <tbody>\n",
       "    <tr>\n",
       "      <th>66136</th>\n",
       "      <td>74z30</td>\n",
       "      <td>1.084962</td>\n",
       "      <td>-0.312358</td>\n",
       "      <td>6.990771</td>\n",
       "      <td>127.643327</td>\n",
       "    </tr>\n",
       "    <tr>\n",
       "      <th>64022</th>\n",
       "      <td>74z30</td>\n",
       "      <td>0.741456</td>\n",
       "      <td>0.459229</td>\n",
       "      <td>5.153109</td>\n",
       "      <td>140.771492</td>\n",
       "    </tr>\n",
       "    <tr>\n",
       "      <th>51970</th>\n",
       "      <td>A5aEY</td>\n",
       "      <td>-0.180335</td>\n",
       "      <td>0.935548</td>\n",
       "      <td>-2.094773</td>\n",
       "      <td>33.020205</td>\n",
       "    </tr>\n",
       "    <tr>\n",
       "      <th>3389</th>\n",
       "      <td>A5aEY</td>\n",
       "      <td>-0.039949</td>\n",
       "      <td>0.156872</td>\n",
       "      <td>0.209861</td>\n",
       "      <td>89.249364</td>\n",
       "    </tr>\n",
       "    <tr>\n",
       "      <th>69163</th>\n",
       "      <td>AGS9W</td>\n",
       "      <td>-0.933795</td>\n",
       "      <td>0.116194</td>\n",
       "      <td>-3.655896</td>\n",
       "      <td>19.230453</td>\n",
       "    </tr>\n",
       "    <tr>\n",
       "      <th>42529</th>\n",
       "      <td>AGS9W</td>\n",
       "      <td>1.454747</td>\n",
       "      <td>-0.479651</td>\n",
       "      <td>0.683380</td>\n",
       "      <td>126.370504</td>\n",
       "    </tr>\n",
       "    <tr>\n",
       "      <th>931</th>\n",
       "      <td>HZww2</td>\n",
       "      <td>0.755284</td>\n",
       "      <td>0.368511</td>\n",
       "      <td>1.863211</td>\n",
       "      <td>30.681774</td>\n",
       "    </tr>\n",
       "    <tr>\n",
       "      <th>7530</th>\n",
       "      <td>HZww2</td>\n",
       "      <td>1.061194</td>\n",
       "      <td>-0.373969</td>\n",
       "      <td>10.430210</td>\n",
       "      <td>158.828695</td>\n",
       "    </tr>\n",
       "    <tr>\n",
       "      <th>63593</th>\n",
       "      <td>QcMuo</td>\n",
       "      <td>0.635635</td>\n",
       "      <td>-0.473422</td>\n",
       "      <td>0.862670</td>\n",
       "      <td>64.578675</td>\n",
       "    </tr>\n",
       "    <tr>\n",
       "      <th>1949</th>\n",
       "      <td>QcMuo</td>\n",
       "      <td>0.506563</td>\n",
       "      <td>-0.323775</td>\n",
       "      <td>-2.215583</td>\n",
       "      <td>75.496502</td>\n",
       "    </tr>\n",
       "    <tr>\n",
       "      <th>75715</th>\n",
       "      <td>Tdehs</td>\n",
       "      <td>0.112079</td>\n",
       "      <td>0.430296</td>\n",
       "      <td>3.218993</td>\n",
       "      <td>60.964018</td>\n",
       "    </tr>\n",
       "    <tr>\n",
       "      <th>21426</th>\n",
       "      <td>Tdehs</td>\n",
       "      <td>0.829407</td>\n",
       "      <td>0.298807</td>\n",
       "      <td>-0.049563</td>\n",
       "      <td>96.035308</td>\n",
       "    </tr>\n",
       "    <tr>\n",
       "      <th>92341</th>\n",
       "      <td>TtcGQ</td>\n",
       "      <td>0.110711</td>\n",
       "      <td>1.022689</td>\n",
       "      <td>0.911381</td>\n",
       "      <td>101.318008</td>\n",
       "    </tr>\n",
       "    <tr>\n",
       "      <th>60140</th>\n",
       "      <td>TtcGQ</td>\n",
       "      <td>0.569276</td>\n",
       "      <td>-0.104876</td>\n",
       "      <td>6.440215</td>\n",
       "      <td>85.350186</td>\n",
       "    </tr>\n",
       "    <tr>\n",
       "      <th>89582</th>\n",
       "      <td>bsk9y</td>\n",
       "      <td>0.398908</td>\n",
       "      <td>-0.400253</td>\n",
       "      <td>10.122376</td>\n",
       "      <td>163.433078</td>\n",
       "    </tr>\n",
       "    <tr>\n",
       "      <th>97785</th>\n",
       "      <td>bsk9y</td>\n",
       "      <td>0.378429</td>\n",
       "      <td>0.005837</td>\n",
       "      <td>0.160827</td>\n",
       "      <td>160.637302</td>\n",
       "    </tr>\n",
       "    <tr>\n",
       "      <th>41724</th>\n",
       "      <td>bxg6G</td>\n",
       "      <td>-0.823752</td>\n",
       "      <td>0.546319</td>\n",
       "      <td>3.630479</td>\n",
       "      <td>93.007798</td>\n",
       "    </tr>\n",
       "    <tr>\n",
       "      <th>1364</th>\n",
       "      <td>bxg6G</td>\n",
       "      <td>0.411645</td>\n",
       "      <td>0.856830</td>\n",
       "      <td>-3.653440</td>\n",
       "      <td>73.604260</td>\n",
       "    </tr>\n",
       "    <tr>\n",
       "      <th>16633</th>\n",
       "      <td>fiKDv</td>\n",
       "      <td>0.157341</td>\n",
       "      <td>1.028359</td>\n",
       "      <td>5.585586</td>\n",
       "      <td>95.817889</td>\n",
       "    </tr>\n",
       "    <tr>\n",
       "      <th>90815</th>\n",
       "      <td>fiKDv</td>\n",
       "      <td>0.049883</td>\n",
       "      <td>0.841313</td>\n",
       "      <td>6.394613</td>\n",
       "      <td>137.346586</td>\n",
       "    </tr>\n",
       "  </tbody>\n",
       "</table>\n",
       "</div>"
      ],
      "text/plain": [
       "          id        f0        f1         f2     product\n",
       "66136  74z30  1.084962 -0.312358   6.990771  127.643327\n",
       "64022  74z30  0.741456  0.459229   5.153109  140.771492\n",
       "51970  A5aEY -0.180335  0.935548  -2.094773   33.020205\n",
       "3389   A5aEY -0.039949  0.156872   0.209861   89.249364\n",
       "69163  AGS9W -0.933795  0.116194  -3.655896   19.230453\n",
       "42529  AGS9W  1.454747 -0.479651   0.683380  126.370504\n",
       "931    HZww2  0.755284  0.368511   1.863211   30.681774\n",
       "7530   HZww2  1.061194 -0.373969  10.430210  158.828695\n",
       "63593  QcMuo  0.635635 -0.473422   0.862670   64.578675\n",
       "1949   QcMuo  0.506563 -0.323775  -2.215583   75.496502\n",
       "75715  Tdehs  0.112079  0.430296   3.218993   60.964018\n",
       "21426  Tdehs  0.829407  0.298807  -0.049563   96.035308\n",
       "92341  TtcGQ  0.110711  1.022689   0.911381  101.318008\n",
       "60140  TtcGQ  0.569276 -0.104876   6.440215   85.350186\n",
       "89582  bsk9y  0.398908 -0.400253  10.122376  163.433078\n",
       "97785  bsk9y  0.378429  0.005837   0.160827  160.637302\n",
       "41724  bxg6G -0.823752  0.546319   3.630479   93.007798\n",
       "1364   bxg6G  0.411645  0.856830  -3.653440   73.604260\n",
       "16633  fiKDv  0.157341  1.028359   5.585586   95.817889\n",
       "90815  fiKDv  0.049883  0.841313   6.394613  137.346586"
      ]
     },
     "execution_count": 12,
     "metadata": {},
     "output_type": "execute_result"
    }
   ],
   "source": [
    "#вывод на экран строк с одинаковыми id скважин\n",
    "gd0.query('id == @gd0_vc').sort_values(by='id')"
   ]
  },
  {
   "cell_type": "markdown",
   "id": "fff5a79e",
   "metadata": {},
   "source": [
    "В датасете `geo_data_0` есть скважины с одинаковым id, но при этом скважины имеют разные параметры.\n",
    "\n",
    "Таких строк 10 шт из 100 000, то есть их не много, около 0.01%.\n",
    "\n",
    "Скорее всего для таких строк лучше выяснить \"почему они есть\" или просто удалить из датасета."
   ]
  },
  {
   "cell_type": "markdown",
   "id": "64f78a13",
   "metadata": {},
   "source": [
    "Такая же проверка для датасета 1"
   ]
  },
  {
   "cell_type": "code",
   "execution_count": 13,
   "id": "7d9e2bed",
   "metadata": {},
   "outputs": [
    {
     "data": {
      "text/plain": [
       "99996"
      ]
     },
     "execution_count": 13,
     "metadata": {},
     "output_type": "execute_result"
    }
   ],
   "source": [
    "gd1.id.nunique()"
   ]
  },
  {
   "cell_type": "code",
   "execution_count": 14,
   "id": "142fdb08",
   "metadata": {},
   "outputs": [],
   "source": [
    "gd1_vc = gd1.id.value_counts()"
   ]
  },
  {
   "cell_type": "code",
   "execution_count": 15,
   "id": "0b536a05",
   "metadata": {},
   "outputs": [],
   "source": [
    "gd1_vc = list(gd1_vc[gd1_vc > 1].index)"
   ]
  },
  {
   "cell_type": "code",
   "execution_count": 16,
   "id": "7a30036a",
   "metadata": {},
   "outputs": [
    {
     "data": {
      "text/html": [
       "<div>\n",
       "<style scoped>\n",
       "    .dataframe tbody tr th:only-of-type {\n",
       "        vertical-align: middle;\n",
       "    }\n",
       "\n",
       "    .dataframe tbody tr th {\n",
       "        vertical-align: top;\n",
       "    }\n",
       "\n",
       "    .dataframe thead th {\n",
       "        text-align: right;\n",
       "    }\n",
       "</style>\n",
       "<table border=\"1\" class=\"dataframe\">\n",
       "  <thead>\n",
       "    <tr style=\"text-align: right;\">\n",
       "      <th></th>\n",
       "      <th>id</th>\n",
       "      <th>f0</th>\n",
       "      <th>f1</th>\n",
       "      <th>f2</th>\n",
       "      <th>product</th>\n",
       "    </tr>\n",
       "  </thead>\n",
       "  <tbody>\n",
       "    <tr>\n",
       "      <th>5849</th>\n",
       "      <td>5ltQ6</td>\n",
       "      <td>-3.435401</td>\n",
       "      <td>-12.296043</td>\n",
       "      <td>1.999796</td>\n",
       "      <td>57.085625</td>\n",
       "    </tr>\n",
       "    <tr>\n",
       "      <th>84461</th>\n",
       "      <td>5ltQ6</td>\n",
       "      <td>18.213839</td>\n",
       "      <td>2.191999</td>\n",
       "      <td>3.993869</td>\n",
       "      <td>107.813044</td>\n",
       "    </tr>\n",
       "    <tr>\n",
       "      <th>1305</th>\n",
       "      <td>LHZR0</td>\n",
       "      <td>11.170835</td>\n",
       "      <td>-1.945066</td>\n",
       "      <td>3.002872</td>\n",
       "      <td>80.859783</td>\n",
       "    </tr>\n",
       "    <tr>\n",
       "      <th>41906</th>\n",
       "      <td>LHZR0</td>\n",
       "      <td>-8.989672</td>\n",
       "      <td>-4.286607</td>\n",
       "      <td>2.009139</td>\n",
       "      <td>57.085625</td>\n",
       "    </tr>\n",
       "    <tr>\n",
       "      <th>2721</th>\n",
       "      <td>bfPNe</td>\n",
       "      <td>-9.494442</td>\n",
       "      <td>-5.463692</td>\n",
       "      <td>4.006042</td>\n",
       "      <td>110.992147</td>\n",
       "    </tr>\n",
       "    <tr>\n",
       "      <th>82178</th>\n",
       "      <td>bfPNe</td>\n",
       "      <td>-6.202799</td>\n",
       "      <td>-4.820045</td>\n",
       "      <td>2.995107</td>\n",
       "      <td>84.038886</td>\n",
       "    </tr>\n",
       "    <tr>\n",
       "      <th>47591</th>\n",
       "      <td>wt4Uk</td>\n",
       "      <td>-9.091098</td>\n",
       "      <td>-8.109279</td>\n",
       "      <td>-0.002314</td>\n",
       "      <td>3.179103</td>\n",
       "    </tr>\n",
       "    <tr>\n",
       "      <th>82873</th>\n",
       "      <td>wt4Uk</td>\n",
       "      <td>10.259972</td>\n",
       "      <td>-9.376355</td>\n",
       "      <td>4.994297</td>\n",
       "      <td>134.766305</td>\n",
       "    </tr>\n",
       "  </tbody>\n",
       "</table>\n",
       "</div>"
      ],
      "text/plain": [
       "          id         f0         f1        f2     product\n",
       "5849   5ltQ6  -3.435401 -12.296043  1.999796   57.085625\n",
       "84461  5ltQ6  18.213839   2.191999  3.993869  107.813044\n",
       "1305   LHZR0  11.170835  -1.945066  3.002872   80.859783\n",
       "41906  LHZR0  -8.989672  -4.286607  2.009139   57.085625\n",
       "2721   bfPNe  -9.494442  -5.463692  4.006042  110.992147\n",
       "82178  bfPNe  -6.202799  -4.820045  2.995107   84.038886\n",
       "47591  wt4Uk  -9.091098  -8.109279 -0.002314    3.179103\n",
       "82873  wt4Uk  10.259972  -9.376355  4.994297  134.766305"
      ]
     },
     "execution_count": 16,
     "metadata": {},
     "output_type": "execute_result"
    }
   ],
   "source": [
    "gd1.query('id == @gd1_vc').sort_values(by='id')"
   ]
  },
  {
   "cell_type": "markdown",
   "id": "c78c103e",
   "metadata": {},
   "source": [
    "Такая же проверка для датасета 2"
   ]
  },
  {
   "cell_type": "code",
   "execution_count": 17,
   "id": "2be38d79",
   "metadata": {},
   "outputs": [
    {
     "data": {
      "text/plain": [
       "99996"
      ]
     },
     "execution_count": 17,
     "metadata": {},
     "output_type": "execute_result"
    }
   ],
   "source": [
    "gd2.id.nunique()"
   ]
  },
  {
   "cell_type": "code",
   "execution_count": 18,
   "id": "06a6503d",
   "metadata": {},
   "outputs": [],
   "source": [
    "gd2_vc = gd2.id.value_counts()"
   ]
  },
  {
   "cell_type": "code",
   "execution_count": 19,
   "id": "542aec69",
   "metadata": {},
   "outputs": [],
   "source": [
    "gd2_vc = list(gd2_vc[gd2_vc > 1].index)"
   ]
  },
  {
   "cell_type": "code",
   "execution_count": 20,
   "id": "cd7e01bb",
   "metadata": {},
   "outputs": [
    {
     "data": {
      "text/html": [
       "<div>\n",
       "<style scoped>\n",
       "    .dataframe tbody tr th:only-of-type {\n",
       "        vertical-align: middle;\n",
       "    }\n",
       "\n",
       "    .dataframe tbody tr th {\n",
       "        vertical-align: top;\n",
       "    }\n",
       "\n",
       "    .dataframe thead th {\n",
       "        text-align: right;\n",
       "    }\n",
       "</style>\n",
       "<table border=\"1\" class=\"dataframe\">\n",
       "  <thead>\n",
       "    <tr style=\"text-align: right;\">\n",
       "      <th></th>\n",
       "      <th>id</th>\n",
       "      <th>f0</th>\n",
       "      <th>f1</th>\n",
       "      <th>f2</th>\n",
       "      <th>product</th>\n",
       "    </tr>\n",
       "  </thead>\n",
       "  <tbody>\n",
       "    <tr>\n",
       "      <th>45404</th>\n",
       "      <td>KUPhW</td>\n",
       "      <td>0.231846</td>\n",
       "      <td>-1.698941</td>\n",
       "      <td>4.990775</td>\n",
       "      <td>11.716299</td>\n",
       "    </tr>\n",
       "    <tr>\n",
       "      <th>55967</th>\n",
       "      <td>KUPhW</td>\n",
       "      <td>1.211150</td>\n",
       "      <td>3.176408</td>\n",
       "      <td>5.543540</td>\n",
       "      <td>132.831802</td>\n",
       "    </tr>\n",
       "    <tr>\n",
       "      <th>11449</th>\n",
       "      <td>VF7Jo</td>\n",
       "      <td>2.122656</td>\n",
       "      <td>-0.858275</td>\n",
       "      <td>5.746001</td>\n",
       "      <td>181.716817</td>\n",
       "    </tr>\n",
       "    <tr>\n",
       "      <th>49564</th>\n",
       "      <td>VF7Jo</td>\n",
       "      <td>-0.883115</td>\n",
       "      <td>0.560537</td>\n",
       "      <td>0.723601</td>\n",
       "      <td>136.233420</td>\n",
       "    </tr>\n",
       "    <tr>\n",
       "      <th>44378</th>\n",
       "      <td>Vcm5J</td>\n",
       "      <td>-1.229484</td>\n",
       "      <td>-2.439204</td>\n",
       "      <td>1.222909</td>\n",
       "      <td>137.968290</td>\n",
       "    </tr>\n",
       "    <tr>\n",
       "      <th>95090</th>\n",
       "      <td>Vcm5J</td>\n",
       "      <td>2.587702</td>\n",
       "      <td>1.986875</td>\n",
       "      <td>2.482245</td>\n",
       "      <td>92.327572</td>\n",
       "    </tr>\n",
       "    <tr>\n",
       "      <th>28039</th>\n",
       "      <td>xCHr8</td>\n",
       "      <td>1.633027</td>\n",
       "      <td>0.368135</td>\n",
       "      <td>-2.378367</td>\n",
       "      <td>6.120525</td>\n",
       "    </tr>\n",
       "    <tr>\n",
       "      <th>43233</th>\n",
       "      <td>xCHr8</td>\n",
       "      <td>-0.847066</td>\n",
       "      <td>2.101796</td>\n",
       "      <td>5.597130</td>\n",
       "      <td>184.388641</td>\n",
       "    </tr>\n",
       "  </tbody>\n",
       "</table>\n",
       "</div>"
      ],
      "text/plain": [
       "          id        f0        f1        f2     product\n",
       "45404  KUPhW  0.231846 -1.698941  4.990775   11.716299\n",
       "55967  KUPhW  1.211150  3.176408  5.543540  132.831802\n",
       "11449  VF7Jo  2.122656 -0.858275  5.746001  181.716817\n",
       "49564  VF7Jo -0.883115  0.560537  0.723601  136.233420\n",
       "44378  Vcm5J -1.229484 -2.439204  1.222909  137.968290\n",
       "95090  Vcm5J  2.587702  1.986875  2.482245   92.327572\n",
       "28039  xCHr8  1.633027  0.368135 -2.378367    6.120525\n",
       "43233  xCHr8 -0.847066  2.101796  5.597130  184.388641"
      ]
     },
     "execution_count": 20,
     "metadata": {},
     "output_type": "execute_result"
    }
   ],
   "source": [
    "gd2.query('id == @gd2_vc').sort_values(by='id')"
   ]
  },
  {
   "cell_type": "markdown",
   "id": "23dbb34c",
   "metadata": {},
   "source": [
    "В двух других датасетах `geo_data_1` и `geo_data_2` ситуация аналогичная:\n",
    "- есть скважины с одинаковым id, но при этом скважины имеют разные параметры.\n",
    "\n",
    "Этих строк 6 шт из 100 000."
   ]
  },
  {
   "cell_type": "markdown",
   "id": "30886f06",
   "metadata": {},
   "source": [
    "###### Принимаю решение:\n",
    " строки не трогать, то есть не удалять и не оставлять одну из них."
   ]
  },
  {
   "cell_type": "markdown",
   "id": "ff9c410e",
   "metadata": {},
   "source": [
    "### Просмотр строк в датасетах geo_data_0 и geo_data_1 с одинаковыми значениями в столбцах id\n",
    "\n",
    "(поиск одинаковых скважин между датасетами)"
   ]
  },
  {
   "cell_type": "code",
   "execution_count": 21,
   "id": "97ce6f6f",
   "metadata": {},
   "outputs": [
    {
     "data": {
      "text/plain": [
       "10"
      ]
     },
     "execution_count": 21,
     "metadata": {},
     "output_type": "execute_result"
    }
   ],
   "source": [
    "#проверка количества совпадающих id в двух датасетах\n",
    "gd0.id.isin(gd1.id).sum()"
   ]
  },
  {
   "cell_type": "code",
   "execution_count": 22,
   "id": "2ebcf42d",
   "metadata": {},
   "outputs": [
    {
     "data": {
      "text/html": [
       "<div>\n",
       "<style scoped>\n",
       "    .dataframe tbody tr th:only-of-type {\n",
       "        vertical-align: middle;\n",
       "    }\n",
       "\n",
       "    .dataframe tbody tr th {\n",
       "        vertical-align: top;\n",
       "    }\n",
       "\n",
       "    .dataframe thead th {\n",
       "        text-align: right;\n",
       "    }\n",
       "</style>\n",
       "<table border=\"1\" class=\"dataframe\">\n",
       "  <thead>\n",
       "    <tr style=\"text-align: right;\">\n",
       "      <th></th>\n",
       "      <th>id</th>\n",
       "      <th>f0</th>\n",
       "      <th>f1</th>\n",
       "      <th>f2</th>\n",
       "      <th>product</th>\n",
       "    </tr>\n",
       "  </thead>\n",
       "  <tbody>\n",
       "    <tr>\n",
       "      <th>14777</th>\n",
       "      <td>CXJ2r</td>\n",
       "      <td>1.799663</td>\n",
       "      <td>0.152615</td>\n",
       "      <td>2.308270</td>\n",
       "      <td>124.783815</td>\n",
       "    </tr>\n",
       "    <tr>\n",
       "      <th>71547</th>\n",
       "      <td>L1Fdm</td>\n",
       "      <td>-0.870625</td>\n",
       "      <td>0.216046</td>\n",
       "      <td>6.551127</td>\n",
       "      <td>99.473405</td>\n",
       "    </tr>\n",
       "    <tr>\n",
       "      <th>87474</th>\n",
       "      <td>Mp3uM</td>\n",
       "      <td>0.233182</td>\n",
       "      <td>0.999516</td>\n",
       "      <td>1.626957</td>\n",
       "      <td>109.425501</td>\n",
       "    </tr>\n",
       "    <tr>\n",
       "      <th>1419</th>\n",
       "      <td>Q64YW</td>\n",
       "      <td>0.453692</td>\n",
       "      <td>0.851595</td>\n",
       "      <td>1.483317</td>\n",
       "      <td>137.265232</td>\n",
       "    </tr>\n",
       "    <tr>\n",
       "      <th>44057</th>\n",
       "      <td>Y2udP</td>\n",
       "      <td>1.226808</td>\n",
       "      <td>-0.482702</td>\n",
       "      <td>7.197720</td>\n",
       "      <td>178.864963</td>\n",
       "    </tr>\n",
       "    <tr>\n",
       "      <th>44242</th>\n",
       "      <td>g3RRG</td>\n",
       "      <td>1.256835</td>\n",
       "      <td>-0.594468</td>\n",
       "      <td>2.258115</td>\n",
       "      <td>36.909351</td>\n",
       "    </tr>\n",
       "    <tr>\n",
       "      <th>86152</th>\n",
       "      <td>gnA83</td>\n",
       "      <td>0.874183</td>\n",
       "      <td>0.658348</td>\n",
       "      <td>4.315275</td>\n",
       "      <td>78.952516</td>\n",
       "    </tr>\n",
       "    <tr>\n",
       "      <th>75589</th>\n",
       "      <td>it2OW</td>\n",
       "      <td>-0.649660</td>\n",
       "      <td>0.966137</td>\n",
       "      <td>7.852383</td>\n",
       "      <td>152.939409</td>\n",
       "    </tr>\n",
       "    <tr>\n",
       "      <th>66852</th>\n",
       "      <td>mpZhE</td>\n",
       "      <td>1.050752</td>\n",
       "      <td>0.001206</td>\n",
       "      <td>3.015799</td>\n",
       "      <td>102.323401</td>\n",
       "    </tr>\n",
       "    <tr>\n",
       "      <th>93783</th>\n",
       "      <td>pGQRI</td>\n",
       "      <td>0.042350</td>\n",
       "      <td>-0.052613</td>\n",
       "      <td>2.241901</td>\n",
       "      <td>168.331029</td>\n",
       "    </tr>\n",
       "  </tbody>\n",
       "</table>\n",
       "</div>"
      ],
      "text/plain": [
       "          id        f0        f1        f2     product\n",
       "14777  CXJ2r  1.799663  0.152615  2.308270  124.783815\n",
       "71547  L1Fdm -0.870625  0.216046  6.551127   99.473405\n",
       "87474  Mp3uM  0.233182  0.999516  1.626957  109.425501\n",
       "1419   Q64YW  0.453692  0.851595  1.483317  137.265232\n",
       "44057  Y2udP  1.226808 -0.482702  7.197720  178.864963\n",
       "44242  g3RRG  1.256835 -0.594468  2.258115   36.909351\n",
       "86152  gnA83  0.874183  0.658348  4.315275   78.952516\n",
       "75589  it2OW -0.649660  0.966137  7.852383  152.939409\n",
       "66852  mpZhE  1.050752  0.001206  3.015799  102.323401\n",
       "93783  pGQRI  0.042350 -0.052613  2.241901  168.331029"
      ]
     },
     "execution_count": 22,
     "metadata": {},
     "output_type": "execute_result"
    }
   ],
   "source": [
    "gd0[gd0.id.isin(gd1.id)].sort_values(by='id')"
   ]
  },
  {
   "cell_type": "code",
   "execution_count": 23,
   "id": "32f4bf01",
   "metadata": {
    "scrolled": true
   },
   "outputs": [
    {
     "data": {
      "text/html": [
       "<div>\n",
       "<style scoped>\n",
       "    .dataframe tbody tr th:only-of-type {\n",
       "        vertical-align: middle;\n",
       "    }\n",
       "\n",
       "    .dataframe tbody tr th {\n",
       "        vertical-align: top;\n",
       "    }\n",
       "\n",
       "    .dataframe thead th {\n",
       "        text-align: right;\n",
       "    }\n",
       "</style>\n",
       "<table border=\"1\" class=\"dataframe\">\n",
       "  <thead>\n",
       "    <tr style=\"text-align: right;\">\n",
       "      <th></th>\n",
       "      <th>id</th>\n",
       "      <th>f0</th>\n",
       "      <th>f1</th>\n",
       "      <th>f2</th>\n",
       "      <th>product</th>\n",
       "    </tr>\n",
       "  </thead>\n",
       "  <tbody>\n",
       "    <tr>\n",
       "      <th>23086</th>\n",
       "      <td>CXJ2r</td>\n",
       "      <td>4.595329</td>\n",
       "      <td>-1.967882</td>\n",
       "      <td>4.000767</td>\n",
       "      <td>107.813044</td>\n",
       "    </tr>\n",
       "    <tr>\n",
       "      <th>76544</th>\n",
       "      <td>L1Fdm</td>\n",
       "      <td>-3.346138</td>\n",
       "      <td>1.878476</td>\n",
       "      <td>0.004355</td>\n",
       "      <td>3.179103</td>\n",
       "    </tr>\n",
       "    <tr>\n",
       "      <th>99975</th>\n",
       "      <td>Mp3uM</td>\n",
       "      <td>6.109864</td>\n",
       "      <td>-6.680806</td>\n",
       "      <td>4.995256</td>\n",
       "      <td>134.766305</td>\n",
       "    </tr>\n",
       "    <tr>\n",
       "      <th>94352</th>\n",
       "      <td>Q64YW</td>\n",
       "      <td>3.005548</td>\n",
       "      <td>-0.243063</td>\n",
       "      <td>5.000265</td>\n",
       "      <td>134.766305</td>\n",
       "    </tr>\n",
       "    <tr>\n",
       "      <th>97856</th>\n",
       "      <td>Y2udP</td>\n",
       "      <td>12.544203</td>\n",
       "      <td>5.897907</td>\n",
       "      <td>1.007743</td>\n",
       "      <td>26.953261</td>\n",
       "    </tr>\n",
       "    <tr>\n",
       "      <th>99665</th>\n",
       "      <td>g3RRG</td>\n",
       "      <td>5.884971</td>\n",
       "      <td>-3.853958</td>\n",
       "      <td>5.000735</td>\n",
       "      <td>134.766305</td>\n",
       "    </tr>\n",
       "    <tr>\n",
       "      <th>47203</th>\n",
       "      <td>gnA83</td>\n",
       "      <td>13.842436</td>\n",
       "      <td>-12.362831</td>\n",
       "      <td>4.003258</td>\n",
       "      <td>107.813044</td>\n",
       "    </tr>\n",
       "    <tr>\n",
       "      <th>81779</th>\n",
       "      <td>it2OW</td>\n",
       "      <td>-7.472182</td>\n",
       "      <td>-14.802085</td>\n",
       "      <td>4.005783</td>\n",
       "      <td>110.992147</td>\n",
       "    </tr>\n",
       "    <tr>\n",
       "      <th>75179</th>\n",
       "      <td>mpZhE</td>\n",
       "      <td>11.206881</td>\n",
       "      <td>-2.291883</td>\n",
       "      <td>1.003807</td>\n",
       "      <td>26.953261</td>\n",
       "    </tr>\n",
       "    <tr>\n",
       "      <th>46293</th>\n",
       "      <td>pGQRI</td>\n",
       "      <td>-5.171681</td>\n",
       "      <td>-0.546409</td>\n",
       "      <td>3.002864</td>\n",
       "      <td>84.038886</td>\n",
       "    </tr>\n",
       "  </tbody>\n",
       "</table>\n",
       "</div>"
      ],
      "text/plain": [
       "          id         f0         f1        f2     product\n",
       "23086  CXJ2r   4.595329  -1.967882  4.000767  107.813044\n",
       "76544  L1Fdm  -3.346138   1.878476  0.004355    3.179103\n",
       "99975  Mp3uM   6.109864  -6.680806  4.995256  134.766305\n",
       "94352  Q64YW   3.005548  -0.243063  5.000265  134.766305\n",
       "97856  Y2udP  12.544203   5.897907  1.007743   26.953261\n",
       "99665  g3RRG   5.884971  -3.853958  5.000735  134.766305\n",
       "47203  gnA83  13.842436 -12.362831  4.003258  107.813044\n",
       "81779  it2OW  -7.472182 -14.802085  4.005783  110.992147\n",
       "75179  mpZhE  11.206881  -2.291883  1.003807   26.953261\n",
       "46293  pGQRI  -5.171681  -0.546409  3.002864   84.038886"
      ]
     },
     "execution_count": 23,
     "metadata": {},
     "output_type": "execute_result"
    }
   ],
   "source": [
    "gd1[gd1.id.isin(gd0.id)].sort_values(by='id')"
   ]
  },
  {
   "cell_type": "markdown",
   "id": "5d79c3b9",
   "metadata": {},
   "source": [
    "###### Просмотр строк в датасетах geo_data_1 и geo_data_2 с одинаковыми значениями в столбцах id"
   ]
  },
  {
   "cell_type": "code",
   "execution_count": 24,
   "id": "f7b29a33",
   "metadata": {},
   "outputs": [
    {
     "data": {
      "text/plain": [
       "4"
      ]
     },
     "execution_count": 24,
     "metadata": {},
     "output_type": "execute_result"
    }
   ],
   "source": [
    "#проверка количества совпадающих id в двух датасетах\n",
    "gd1.id.isin(gd2.id).sum()"
   ]
  },
  {
   "cell_type": "code",
   "execution_count": 25,
   "id": "577df6ff",
   "metadata": {},
   "outputs": [
    {
     "data": {
      "text/html": [
       "<div>\n",
       "<style scoped>\n",
       "    .dataframe tbody tr th:only-of-type {\n",
       "        vertical-align: middle;\n",
       "    }\n",
       "\n",
       "    .dataframe tbody tr th {\n",
       "        vertical-align: top;\n",
       "    }\n",
       "\n",
       "    .dataframe thead th {\n",
       "        text-align: right;\n",
       "    }\n",
       "</style>\n",
       "<table border=\"1\" class=\"dataframe\">\n",
       "  <thead>\n",
       "    <tr style=\"text-align: right;\">\n",
       "      <th></th>\n",
       "      <th>id</th>\n",
       "      <th>f0</th>\n",
       "      <th>f1</th>\n",
       "      <th>f2</th>\n",
       "      <th>product</th>\n",
       "    </tr>\n",
       "  </thead>\n",
       "  <tbody>\n",
       "    <tr>\n",
       "      <th>44738</th>\n",
       "      <td>D8TNs</td>\n",
       "      <td>-0.646266</td>\n",
       "      <td>3.667055</td>\n",
       "      <td>1.006161</td>\n",
       "      <td>30.132364</td>\n",
       "    </tr>\n",
       "    <tr>\n",
       "      <th>28877</th>\n",
       "      <td>TAqwC</td>\n",
       "      <td>-13.045712</td>\n",
       "      <td>-13.056006</td>\n",
       "      <td>0.007640</td>\n",
       "      <td>3.179103</td>\n",
       "    </tr>\n",
       "    <tr>\n",
       "      <th>92366</th>\n",
       "      <td>g2I86</td>\n",
       "      <td>17.818406</td>\n",
       "      <td>2.946716</td>\n",
       "      <td>0.991640</td>\n",
       "      <td>26.953261</td>\n",
       "    </tr>\n",
       "    <tr>\n",
       "      <th>38405</th>\n",
       "      <td>uMqiK</td>\n",
       "      <td>2.734183</td>\n",
       "      <td>-3.102346</td>\n",
       "      <td>-0.002654</td>\n",
       "      <td>0.000000</td>\n",
       "    </tr>\n",
       "  </tbody>\n",
       "</table>\n",
       "</div>"
      ],
      "text/plain": [
       "          id         f0         f1        f2    product\n",
       "44738  D8TNs  -0.646266   3.667055  1.006161  30.132364\n",
       "28877  TAqwC -13.045712 -13.056006  0.007640   3.179103\n",
       "92366  g2I86  17.818406   2.946716  0.991640  26.953261\n",
       "38405  uMqiK   2.734183  -3.102346 -0.002654   0.000000"
      ]
     },
     "execution_count": 25,
     "metadata": {},
     "output_type": "execute_result"
    }
   ],
   "source": [
    "gd1[gd1.id.isin(gd2.id)].sort_values(by='id')"
   ]
  },
  {
   "cell_type": "code",
   "execution_count": 26,
   "id": "a1170091",
   "metadata": {},
   "outputs": [
    {
     "data": {
      "text/html": [
       "<div>\n",
       "<style scoped>\n",
       "    .dataframe tbody tr th:only-of-type {\n",
       "        vertical-align: middle;\n",
       "    }\n",
       "\n",
       "    .dataframe tbody tr th {\n",
       "        vertical-align: top;\n",
       "    }\n",
       "\n",
       "    .dataframe thead th {\n",
       "        text-align: right;\n",
       "    }\n",
       "</style>\n",
       "<table border=\"1\" class=\"dataframe\">\n",
       "  <thead>\n",
       "    <tr style=\"text-align: right;\">\n",
       "      <th></th>\n",
       "      <th>id</th>\n",
       "      <th>f0</th>\n",
       "      <th>f1</th>\n",
       "      <th>f2</th>\n",
       "      <th>product</th>\n",
       "    </tr>\n",
       "  </thead>\n",
       "  <tbody>\n",
       "    <tr>\n",
       "      <th>61622</th>\n",
       "      <td>D8TNs</td>\n",
       "      <td>0.280382</td>\n",
       "      <td>0.061393</td>\n",
       "      <td>4.887870</td>\n",
       "      <td>114.943876</td>\n",
       "    </tr>\n",
       "    <tr>\n",
       "      <th>80750</th>\n",
       "      <td>TAqwC</td>\n",
       "      <td>-0.176382</td>\n",
       "      <td>-0.503558</td>\n",
       "      <td>1.877303</td>\n",
       "      <td>38.618695</td>\n",
       "    </tr>\n",
       "    <tr>\n",
       "      <th>17007</th>\n",
       "      <td>g2I86</td>\n",
       "      <td>-1.616730</td>\n",
       "      <td>1.110380</td>\n",
       "      <td>4.226968</td>\n",
       "      <td>107.940639</td>\n",
       "    </tr>\n",
       "    <tr>\n",
       "      <th>40478</th>\n",
       "      <td>uMqiK</td>\n",
       "      <td>-1.772509</td>\n",
       "      <td>0.152085</td>\n",
       "      <td>-0.422541</td>\n",
       "      <td>119.682928</td>\n",
       "    </tr>\n",
       "  </tbody>\n",
       "</table>\n",
       "</div>"
      ],
      "text/plain": [
       "          id        f0        f1        f2     product\n",
       "61622  D8TNs  0.280382  0.061393  4.887870  114.943876\n",
       "80750  TAqwC -0.176382 -0.503558  1.877303   38.618695\n",
       "17007  g2I86 -1.616730  1.110380  4.226968  107.940639\n",
       "40478  uMqiK -1.772509  0.152085 -0.422541  119.682928"
      ]
     },
     "execution_count": 26,
     "metadata": {},
     "output_type": "execute_result"
    }
   ],
   "source": [
    "gd2[gd2.id.isin(gd1.id)].sort_values(by='id')"
   ]
  },
  {
   "cell_type": "markdown",
   "id": "6ec37134",
   "metadata": {},
   "source": [
    "###### Просмотр строк в датасетах geo_data_0 и geo_data_2 с одинаковыми значениями в столбцах id"
   ]
  },
  {
   "cell_type": "code",
   "execution_count": 27,
   "id": "e1eaffa4",
   "metadata": {},
   "outputs": [
    {
     "data": {
      "text/plain": [
       "17"
      ]
     },
     "execution_count": 27,
     "metadata": {},
     "output_type": "execute_result"
    }
   ],
   "source": [
    "#проверка количества совпадающих id в двух датасетах\n",
    "gd0.id.isin(gd2.id).sum()"
   ]
  },
  {
   "cell_type": "code",
   "execution_count": 28,
   "id": "b9fd0633",
   "metadata": {},
   "outputs": [
    {
     "data": {
      "text/html": [
       "<div>\n",
       "<style scoped>\n",
       "    .dataframe tbody tr th:only-of-type {\n",
       "        vertical-align: middle;\n",
       "    }\n",
       "\n",
       "    .dataframe tbody tr th {\n",
       "        vertical-align: top;\n",
       "    }\n",
       "\n",
       "    .dataframe thead th {\n",
       "        text-align: right;\n",
       "    }\n",
       "</style>\n",
       "<table border=\"1\" class=\"dataframe\">\n",
       "  <thead>\n",
       "    <tr style=\"text-align: right;\">\n",
       "      <th></th>\n",
       "      <th>id</th>\n",
       "      <th>f0</th>\n",
       "      <th>f1</th>\n",
       "      <th>f2</th>\n",
       "      <th>product</th>\n",
       "    </tr>\n",
       "  </thead>\n",
       "  <tbody>\n",
       "    <tr>\n",
       "      <th>45429</th>\n",
       "      <td>2tyMi</td>\n",
       "      <td>0.576679</td>\n",
       "      <td>-0.411140</td>\n",
       "      <td>-3.725859</td>\n",
       "      <td>69.292672</td>\n",
       "    </tr>\n",
       "    <tr>\n",
       "      <th>16753</th>\n",
       "      <td>5ssQt</td>\n",
       "      <td>-1.005117</td>\n",
       "      <td>0.268726</td>\n",
       "      <td>-0.407822</td>\n",
       "      <td>53.206029</td>\n",
       "    </tr>\n",
       "    <tr>\n",
       "      <th>58790</th>\n",
       "      <td>G6k8A</td>\n",
       "      <td>-0.332671</td>\n",
       "      <td>0.873613</td>\n",
       "      <td>0.056776</td>\n",
       "      <td>59.356289</td>\n",
       "    </tr>\n",
       "    <tr>\n",
       "      <th>88811</th>\n",
       "      <td>H2jd8</td>\n",
       "      <td>-0.095755</td>\n",
       "      <td>0.549838</td>\n",
       "      <td>4.798969</td>\n",
       "      <td>121.587791</td>\n",
       "    </tr>\n",
       "    <tr>\n",
       "      <th>69637</th>\n",
       "      <td>LhkAh</td>\n",
       "      <td>-0.016588</td>\n",
       "      <td>0.311455</td>\n",
       "      <td>5.752433</td>\n",
       "      <td>100.077127</td>\n",
       "    </tr>\n",
       "    <tr>\n",
       "      <th>65468</th>\n",
       "      <td>PyNp5</td>\n",
       "      <td>0.800617</td>\n",
       "      <td>-0.423276</td>\n",
       "      <td>-0.262853</td>\n",
       "      <td>37.280078</td>\n",
       "    </tr>\n",
       "    <tr>\n",
       "      <th>11615</th>\n",
       "      <td>Suyut</td>\n",
       "      <td>1.034755</td>\n",
       "      <td>0.211378</td>\n",
       "      <td>5.166985</td>\n",
       "      <td>134.183249</td>\n",
       "    </tr>\n",
       "    <tr>\n",
       "      <th>50393</th>\n",
       "      <td>TXPOv</td>\n",
       "      <td>-0.614415</td>\n",
       "      <td>0.669327</td>\n",
       "      <td>4.392560</td>\n",
       "      <td>111.029432</td>\n",
       "    </tr>\n",
       "    <tr>\n",
       "      <th>84954</th>\n",
       "      <td>eVdPR</td>\n",
       "      <td>0.948962</td>\n",
       "      <td>0.470545</td>\n",
       "      <td>4.841681</td>\n",
       "      <td>114.217840</td>\n",
       "    </tr>\n",
       "    <tr>\n",
       "      <th>10765</th>\n",
       "      <td>i2csb</td>\n",
       "      <td>1.876060</td>\n",
       "      <td>0.130102</td>\n",
       "      <td>3.916158</td>\n",
       "      <td>178.191619</td>\n",
       "    </tr>\n",
       "    <tr>\n",
       "      <th>7781</th>\n",
       "      <td>kpKGs</td>\n",
       "      <td>1.984545</td>\n",
       "      <td>0.356201</td>\n",
       "      <td>-0.876743</td>\n",
       "      <td>53.006141</td>\n",
       "    </tr>\n",
       "    <tr>\n",
       "      <th>90211</th>\n",
       "      <td>lFHA5</td>\n",
       "      <td>0.825315</td>\n",
       "      <td>-0.415530</td>\n",
       "      <td>1.316067</td>\n",
       "      <td>145.287376</td>\n",
       "    </tr>\n",
       "    <tr>\n",
       "      <th>62675</th>\n",
       "      <td>rAJA6</td>\n",
       "      <td>0.763807</td>\n",
       "      <td>-0.256567</td>\n",
       "      <td>-2.539103</td>\n",
       "      <td>36.295666</td>\n",
       "    </tr>\n",
       "    <tr>\n",
       "      <th>8454</th>\n",
       "      <td>scFN4</td>\n",
       "      <td>1.209207</td>\n",
       "      <td>-0.491543</td>\n",
       "      <td>0.871066</td>\n",
       "      <td>82.239907</td>\n",
       "    </tr>\n",
       "    <tr>\n",
       "      <th>31017</th>\n",
       "      <td>tgOl6</td>\n",
       "      <td>1.242237</td>\n",
       "      <td>-0.545994</td>\n",
       "      <td>-1.070228</td>\n",
       "      <td>52.566338</td>\n",
       "    </tr>\n",
       "    <tr>\n",
       "      <th>14378</th>\n",
       "      <td>uSye4</td>\n",
       "      <td>1.452571</td>\n",
       "      <td>-0.452693</td>\n",
       "      <td>-1.800189</td>\n",
       "      <td>79.717634</td>\n",
       "    </tr>\n",
       "    <tr>\n",
       "      <th>5191</th>\n",
       "      <td>wqgPo</td>\n",
       "      <td>2.009877</td>\n",
       "      <td>-0.119927</td>\n",
       "      <td>5.254332</td>\n",
       "      <td>72.798085</td>\n",
       "    </tr>\n",
       "  </tbody>\n",
       "</table>\n",
       "</div>"
      ],
      "text/plain": [
       "          id        f0        f1        f2     product\n",
       "45429  2tyMi  0.576679 -0.411140 -3.725859   69.292672\n",
       "16753  5ssQt -1.005117  0.268726 -0.407822   53.206029\n",
       "58790  G6k8A -0.332671  0.873613  0.056776   59.356289\n",
       "88811  H2jd8 -0.095755  0.549838  4.798969  121.587791\n",
       "69637  LhkAh -0.016588  0.311455  5.752433  100.077127\n",
       "65468  PyNp5  0.800617 -0.423276 -0.262853   37.280078\n",
       "11615  Suyut  1.034755  0.211378  5.166985  134.183249\n",
       "50393  TXPOv -0.614415  0.669327  4.392560  111.029432\n",
       "84954  eVdPR  0.948962  0.470545  4.841681  114.217840\n",
       "10765  i2csb  1.876060  0.130102  3.916158  178.191619\n",
       "7781   kpKGs  1.984545  0.356201 -0.876743   53.006141\n",
       "90211  lFHA5  0.825315 -0.415530  1.316067  145.287376\n",
       "62675  rAJA6  0.763807 -0.256567 -2.539103   36.295666\n",
       "8454   scFN4  1.209207 -0.491543  0.871066   82.239907\n",
       "31017  tgOl6  1.242237 -0.545994 -1.070228   52.566338\n",
       "14378  uSye4  1.452571 -0.452693 -1.800189   79.717634\n",
       "5191   wqgPo  2.009877 -0.119927  5.254332   72.798085"
      ]
     },
     "execution_count": 28,
     "metadata": {},
     "output_type": "execute_result"
    }
   ],
   "source": [
    "gd0[gd0.id.isin(gd2.id)].sort_values(by='id')"
   ]
  },
  {
   "cell_type": "code",
   "execution_count": 29,
   "id": "04df474d",
   "metadata": {},
   "outputs": [
    {
     "data": {
      "text/html": [
       "<div>\n",
       "<style scoped>\n",
       "    .dataframe tbody tr th:only-of-type {\n",
       "        vertical-align: middle;\n",
       "    }\n",
       "\n",
       "    .dataframe tbody tr th {\n",
       "        vertical-align: top;\n",
       "    }\n",
       "\n",
       "    .dataframe thead th {\n",
       "        text-align: right;\n",
       "    }\n",
       "</style>\n",
       "<table border=\"1\" class=\"dataframe\">\n",
       "  <thead>\n",
       "    <tr style=\"text-align: right;\">\n",
       "      <th></th>\n",
       "      <th>id</th>\n",
       "      <th>f0</th>\n",
       "      <th>f1</th>\n",
       "      <th>f2</th>\n",
       "      <th>product</th>\n",
       "    </tr>\n",
       "  </thead>\n",
       "  <tbody>\n",
       "    <tr>\n",
       "      <th>27380</th>\n",
       "      <td>2tyMi</td>\n",
       "      <td>-1.789602</td>\n",
       "      <td>-1.359044</td>\n",
       "      <td>-4.840745</td>\n",
       "      <td>145.901447</td>\n",
       "    </tr>\n",
       "    <tr>\n",
       "      <th>72896</th>\n",
       "      <td>5ssQt</td>\n",
       "      <td>-0.651825</td>\n",
       "      <td>0.782415</td>\n",
       "      <td>2.690636</td>\n",
       "      <td>120.108761</td>\n",
       "    </tr>\n",
       "    <tr>\n",
       "      <th>91259</th>\n",
       "      <td>G6k8A</td>\n",
       "      <td>3.021943</td>\n",
       "      <td>2.091350</td>\n",
       "      <td>2.325737</td>\n",
       "      <td>81.922702</td>\n",
       "    </tr>\n",
       "    <tr>\n",
       "      <th>31306</th>\n",
       "      <td>H2jd8</td>\n",
       "      <td>-0.882244</td>\n",
       "      <td>0.102113</td>\n",
       "      <td>5.132965</td>\n",
       "      <td>97.736331</td>\n",
       "    </tr>\n",
       "    <tr>\n",
       "      <th>9042</th>\n",
       "      <td>LhkAh</td>\n",
       "      <td>-1.011388</td>\n",
       "      <td>-1.422994</td>\n",
       "      <td>0.167327</td>\n",
       "      <td>97.289509</td>\n",
       "    </tr>\n",
       "    <tr>\n",
       "      <th>97706</th>\n",
       "      <td>PyNp5</td>\n",
       "      <td>-1.248973</td>\n",
       "      <td>-1.246669</td>\n",
       "      <td>-0.538638</td>\n",
       "      <td>122.021857</td>\n",
       "    </tr>\n",
       "    <tr>\n",
       "      <th>57741</th>\n",
       "      <td>Suyut</td>\n",
       "      <td>0.730034</td>\n",
       "      <td>0.998910</td>\n",
       "      <td>0.673342</td>\n",
       "      <td>51.978338</td>\n",
       "    </tr>\n",
       "    <tr>\n",
       "      <th>17551</th>\n",
       "      <td>TXPOv</td>\n",
       "      <td>-1.714714</td>\n",
       "      <td>0.545975</td>\n",
       "      <td>6.907380</td>\n",
       "      <td>109.685043</td>\n",
       "    </tr>\n",
       "    <tr>\n",
       "      <th>82577</th>\n",
       "      <td>eVdPR</td>\n",
       "      <td>-3.325910</td>\n",
       "      <td>0.212653</td>\n",
       "      <td>-2.172340</td>\n",
       "      <td>61.323206</td>\n",
       "    </tr>\n",
       "    <tr>\n",
       "      <th>13672</th>\n",
       "      <td>i2csb</td>\n",
       "      <td>0.395736</td>\n",
       "      <td>-1.039466</td>\n",
       "      <td>3.262824</td>\n",
       "      <td>136.079194</td>\n",
       "    </tr>\n",
       "    <tr>\n",
       "      <th>79311</th>\n",
       "      <td>kpKGs</td>\n",
       "      <td>0.391595</td>\n",
       "      <td>0.520890</td>\n",
       "      <td>0.935081</td>\n",
       "      <td>91.558464</td>\n",
       "    </tr>\n",
       "    <tr>\n",
       "      <th>49106</th>\n",
       "      <td>lFHA5</td>\n",
       "      <td>1.143130</td>\n",
       "      <td>1.528147</td>\n",
       "      <td>2.717799</td>\n",
       "      <td>84.144358</td>\n",
       "    </tr>\n",
       "    <tr>\n",
       "      <th>50308</th>\n",
       "      <td>rAJA6</td>\n",
       "      <td>1.426039</td>\n",
       "      <td>1.262731</td>\n",
       "      <td>1.915009</td>\n",
       "      <td>80.927100</td>\n",
       "    </tr>\n",
       "    <tr>\n",
       "      <th>48472</th>\n",
       "      <td>scFN4</td>\n",
       "      <td>2.198203</td>\n",
       "      <td>0.733283</td>\n",
       "      <td>10.562272</td>\n",
       "      <td>153.719681</td>\n",
       "    </tr>\n",
       "    <tr>\n",
       "      <th>87965</th>\n",
       "      <td>tgOl6</td>\n",
       "      <td>-6.077439</td>\n",
       "      <td>-1.366449</td>\n",
       "      <td>1.858951</td>\n",
       "      <td>153.001240</td>\n",
       "    </tr>\n",
       "    <tr>\n",
       "      <th>7260</th>\n",
       "      <td>uSye4</td>\n",
       "      <td>-0.066172</td>\n",
       "      <td>2.543996</td>\n",
       "      <td>-0.054049</td>\n",
       "      <td>141.345070</td>\n",
       "    </tr>\n",
       "    <tr>\n",
       "      <th>27885</th>\n",
       "      <td>wqgPo</td>\n",
       "      <td>0.052461</td>\n",
       "      <td>1.424025</td>\n",
       "      <td>0.085541</td>\n",
       "      <td>10.686576</td>\n",
       "    </tr>\n",
       "  </tbody>\n",
       "</table>\n",
       "</div>"
      ],
      "text/plain": [
       "          id        f0        f1         f2     product\n",
       "27380  2tyMi -1.789602 -1.359044  -4.840745  145.901447\n",
       "72896  5ssQt -0.651825  0.782415   2.690636  120.108761\n",
       "91259  G6k8A  3.021943  2.091350   2.325737   81.922702\n",
       "31306  H2jd8 -0.882244  0.102113   5.132965   97.736331\n",
       "9042   LhkAh -1.011388 -1.422994   0.167327   97.289509\n",
       "97706  PyNp5 -1.248973 -1.246669  -0.538638  122.021857\n",
       "57741  Suyut  0.730034  0.998910   0.673342   51.978338\n",
       "17551  TXPOv -1.714714  0.545975   6.907380  109.685043\n",
       "82577  eVdPR -3.325910  0.212653  -2.172340   61.323206\n",
       "13672  i2csb  0.395736 -1.039466   3.262824  136.079194\n",
       "79311  kpKGs  0.391595  0.520890   0.935081   91.558464\n",
       "49106  lFHA5  1.143130  1.528147   2.717799   84.144358\n",
       "50308  rAJA6  1.426039  1.262731   1.915009   80.927100\n",
       "48472  scFN4  2.198203  0.733283  10.562272  153.719681\n",
       "87965  tgOl6 -6.077439 -1.366449   1.858951  153.001240\n",
       "7260   uSye4 -0.066172  2.543996  -0.054049  141.345070\n",
       "27885  wqgPo  0.052461  1.424025   0.085541   10.686576"
      ]
     },
     "execution_count": 29,
     "metadata": {},
     "output_type": "execute_result"
    }
   ],
   "source": [
    "gd2[gd2.id.isin(gd0.id)].sort_values(by='id')"
   ]
  },
  {
   "cell_type": "markdown",
   "id": "ddf1b0f5",
   "metadata": {},
   "source": [
    "### Выводы"
   ]
  },
  {
   "cell_type": "markdown",
   "id": "aee97d69",
   "metadata": {},
   "source": [
    "Все датасеты не имеют пропущенных значений.\n",
    "\n",
    "Количество строк одинаковое во всех датасетах, в каждом по 100 000.\n",
    "\n",
    "Значения параметров скважин f0, f1, f1 типа float  и имеют отрицательные и положительные числа.\n",
    "\n",
    "В некоторых датасетах значения столбцов имеют нормальное распределение, но в основном распределения не похожи на нормальные.\n",
    "\n",
    "-- --\n",
    "Имеется корреляция столба `f2` со столбцом `product`.\n",
    "\n",
    "Практически 100%-я корреляция столба `f2` со столбцом `product` в датасете `geo_data_1`.\n",
    "\n",
    "В остальных двух датасетах `geo_data_0` и `geo_data_2`, корреляция `f2` и `product` около 0,5.\n",
    "\n",
    "Остальные параметры мало коррелированы друг с другом.\n",
    "\n",
    "-- --\n",
    "Внутри каждого датасета есть совпадающие по `id` скважины, 10, 4, 4 шт.\n",
    "\n",
    "Между соседними датасетами так же есть совпадающие по `id` скважины. Их немного 4, 10 и 17 шт.\n",
    "\n",
    "Несмотря на совпадающие `id` , параметры скважин (`f0`, `f1`, `f2`, `product`) абсолютно разные.\n",
    "\n",
    "Скорее всего это или ошибка или одни и те же скважины одновременно попали в разные регионы добычи. Но при этом неясно почему у них разные параметры.\n",
    "\n",
    "Так как соединять таблицы вместе не нужно, принимаю решение не удалять в датасетах строки с одинаковыми скважинами."
   ]
  },
  {
   "cell_type": "markdown",
   "id": "2e269c23",
   "metadata": {},
   "source": [
    "## Обучение и проверка модели"
   ]
  },
  {
   "cell_type": "markdown",
   "id": "448a45f6",
   "metadata": {},
   "source": [
    "###### функция для обучения модели:\n",
    "\n",
    "- разбивает данные на обучающую и валидационную выборки в соотношении 75:25.\n",
    "- обучает модель Линейная регрессия и делает предсказания на валидационной выборке.\n",
    "- сохраняет индекс строки из начального датасета, id скважины, правильные ответы и предсказания на валидационной выборке.\n",
    "\n",
    "- печатает на экране:\n",
    " - средний запаса предсказанного сырья\n",
    " - RMSE модели.\n",
    " - `r2_score` модели.\n"
   ]
  },
  {
   "cell_type": "code",
   "execution_count": 30,
   "id": "084ceac1",
   "metadata": {},
   "outputs": [],
   "source": [
    "def lin_regr(df):\n",
    "    \n",
    "    target = df['product']\n",
    "    features = df.drop(['id', 'product'] , axis=1)\n",
    "    \n",
    "    features_train, features_valid, target_train, target_valid = train_test_split(\n",
    "        features, \n",
    "        target, \n",
    "        test_size=0.25, \n",
    "        random_state=STATE)\n",
    "\n",
    "    model = LinearRegression()\n",
    "    model.fit(features_train, target_train)\n",
    "    \n",
    "    predicted_valid = model.predict(features_valid) #предсказания модели на валидационых данных\n",
    "    print(\"Средний запас предсказанного сырья =\", round(predicted_valid.mean(), 2), ', тыс. баррелей')\n",
    "    \n",
    "    #отбираем индексы валидационной выборки\n",
    "    valid_index = features_valid.index\n",
    "    target_predicted_valid = (df.drop(['f0', 'f1', 'f2'] , axis=1) #убираем столбы с признаками (остаются индекс, id, верные ответы)\n",
    "                              .iloc[valid_index] #отбираем только те строки которые имеют эти индексы\n",
    "                              .reset_index() #сброс индексов\n",
    "                              .join(pd.DataFrame(predicted_valid, columns=['product_pred']))#присоединяем предсказания\n",
    "                             )\n",
    "    \n",
    "    mse = mean_squared_error(target_valid, predicted_valid)\n",
    "    rmse = mse ** 0.5\n",
    "    print(\"RMSE =\", round(rmse, 2), ', тыс. баррелей')\n",
    "    \n",
    "    r2 = r2_score(target_valid, predicted_valid)\n",
    "    print(\"R2 =\", round(r2, 2))\n",
    "    \n",
    "    \n",
    "    return target_predicted_valid, rmse"
   ]
  },
  {
   "cell_type": "code",
   "execution_count": 31,
   "id": "6c8502d5",
   "metadata": {},
   "outputs": [
    {
     "name": "stdout",
     "output_type": "stream",
     "text": [
      "Средний запас предсказанного сырья = 92.59 , тыс. баррелей\n",
      "RMSE = 37.58 , тыс. баррелей\n",
      "R2 = 0.28\n"
     ]
    }
   ],
   "source": [
    "target_predicted_valid_0, rmse_0 = lin_regr(gd0)"
   ]
  },
  {
   "cell_type": "code",
   "execution_count": 32,
   "id": "50c92da7",
   "metadata": {},
   "outputs": [
    {
     "data": {
      "text/html": [
       "<div>\n",
       "<style scoped>\n",
       "    .dataframe tbody tr th:only-of-type {\n",
       "        vertical-align: middle;\n",
       "    }\n",
       "\n",
       "    .dataframe tbody tr th {\n",
       "        vertical-align: top;\n",
       "    }\n",
       "\n",
       "    .dataframe thead th {\n",
       "        text-align: right;\n",
       "    }\n",
       "</style>\n",
       "<table border=\"1\" class=\"dataframe\">\n",
       "  <thead>\n",
       "    <tr style=\"text-align: right;\">\n",
       "      <th></th>\n",
       "      <th>index</th>\n",
       "      <th>id</th>\n",
       "      <th>product</th>\n",
       "      <th>product_pred</th>\n",
       "    </tr>\n",
       "  </thead>\n",
       "  <tbody>\n",
       "    <tr>\n",
       "      <th>0</th>\n",
       "      <td>71751</td>\n",
       "      <td>7Z2gx</td>\n",
       "      <td>10.038645</td>\n",
       "      <td>95.894952</td>\n",
       "    </tr>\n",
       "    <tr>\n",
       "      <th>1</th>\n",
       "      <td>80493</td>\n",
       "      <td>b2HU8</td>\n",
       "      <td>114.551489</td>\n",
       "      <td>77.572583</td>\n",
       "    </tr>\n",
       "    <tr>\n",
       "      <th>2</th>\n",
       "      <td>2655</td>\n",
       "      <td>Y0dXD</td>\n",
       "      <td>132.603635</td>\n",
       "      <td>77.892640</td>\n",
       "    </tr>\n",
       "    <tr>\n",
       "      <th>3</th>\n",
       "      <td>53233</td>\n",
       "      <td>Mje59</td>\n",
       "      <td>169.072125</td>\n",
       "      <td>90.175134</td>\n",
       "    </tr>\n",
       "    <tr>\n",
       "      <th>4</th>\n",
       "      <td>91141</td>\n",
       "      <td>yqXxU</td>\n",
       "      <td>122.325180</td>\n",
       "      <td>70.510088</td>\n",
       "    </tr>\n",
       "    <tr>\n",
       "      <th>...</th>\n",
       "      <td>...</td>\n",
       "      <td>...</td>\n",
       "      <td>...</td>\n",
       "      <td>...</td>\n",
       "    </tr>\n",
       "    <tr>\n",
       "      <th>24995</th>\n",
       "      <td>12581</td>\n",
       "      <td>CzptN</td>\n",
       "      <td>170.116726</td>\n",
       "      <td>103.037104</td>\n",
       "    </tr>\n",
       "    <tr>\n",
       "      <th>24996</th>\n",
       "      <td>18456</td>\n",
       "      <td>cT9bJ</td>\n",
       "      <td>93.632175</td>\n",
       "      <td>85.403255</td>\n",
       "    </tr>\n",
       "    <tr>\n",
       "      <th>24997</th>\n",
       "      <td>73035</td>\n",
       "      <td>Y7xR6</td>\n",
       "      <td>127.352259</td>\n",
       "      <td>61.509833</td>\n",
       "    </tr>\n",
       "    <tr>\n",
       "      <th>24998</th>\n",
       "      <td>63834</td>\n",
       "      <td>4WJRf</td>\n",
       "      <td>99.782700</td>\n",
       "      <td>118.180397</td>\n",
       "    </tr>\n",
       "    <tr>\n",
       "      <th>24999</th>\n",
       "      <td>43558</td>\n",
       "      <td>2RU3S</td>\n",
       "      <td>177.821022</td>\n",
       "      <td>118.169392</td>\n",
       "    </tr>\n",
       "  </tbody>\n",
       "</table>\n",
       "<p>25000 rows × 4 columns</p>\n",
       "</div>"
      ],
      "text/plain": [
       "       index     id     product  product_pred\n",
       "0      71751  7Z2gx   10.038645     95.894952\n",
       "1      80493  b2HU8  114.551489     77.572583\n",
       "2       2655  Y0dXD  132.603635     77.892640\n",
       "3      53233  Mje59  169.072125     90.175134\n",
       "4      91141  yqXxU  122.325180     70.510088\n",
       "...      ...    ...         ...           ...\n",
       "24995  12581  CzptN  170.116726    103.037104\n",
       "24996  18456  cT9bJ   93.632175     85.403255\n",
       "24997  73035  Y7xR6  127.352259     61.509833\n",
       "24998  63834  4WJRf   99.782700    118.180397\n",
       "24999  43558  2RU3S  177.821022    118.169392\n",
       "\n",
       "[25000 rows x 4 columns]"
      ]
     },
     "execution_count": 32,
     "metadata": {},
     "output_type": "execute_result"
    }
   ],
   "source": [
    "#проверка правильности получившейся таблицы\n",
    "target_predicted_valid_0"
   ]
  },
  {
   "cell_type": "code",
   "execution_count": 33,
   "id": "d4d780ea",
   "metadata": {
    "scrolled": true
   },
   "outputs": [
    {
     "data": {
      "image/png": "[encoded data removed]",
      "text/plain": [
       "<Figure size 288x144 with 1 Axes>"
      ]
     },
     "metadata": {
      "needs_background": "light"
     },
     "output_type": "display_data"
    }
   ],
   "source": [
    "#гистограмма распределения предсказаний добычи\n",
    "target_predicted_valid_0.product_pred.hist(bins=20, figsize=(4, 2))\n",
    "\n",
    "#подписи к осям \n",
    "plt.xlabel('Предсказанная добыча, тыс.баррелей')\n",
    "plt.ylabel('Количество скважин')\n",
    "\n",
    "#заголовок к графику\n",
    "plt.title('Гистограмма предсказанной добычи, нулевого региона')\n",
    "plt.show()"
   ]
  },
  {
   "cell_type": "code",
   "execution_count": 34,
   "id": "05aa94ef",
   "metadata": {},
   "outputs": [
    {
     "name": "stdout",
     "output_type": "stream",
     "text": [
      "Средний запас предсказанного сырья = 68.73 , тыс. баррелей\n",
      "RMSE = 0.89 , тыс. баррелей\n",
      "R2 = 1.0\n"
     ]
    }
   ],
   "source": [
    "target_predicted_valid_1, rmse_1 = lin_regr(gd1)"
   ]
  },
  {
   "cell_type": "code",
   "execution_count": 35,
   "id": "c42633bb",
   "metadata": {},
   "outputs": [
    {
     "data": {
      "image/png": "[encoded data removed]",
      "text/plain": [
       "<Figure size 288x144 with 1 Axes>"
      ]
     },
     "metadata": {
      "needs_background": "light"
     },
     "output_type": "display_data"
    }
   ],
   "source": [
    "#гистограмма распределения предсказаний добычи\n",
    "target_predicted_valid_1.product_pred.hist(bins=20, figsize=(4, 2))\n",
    "\n",
    "#подписи к осям \n",
    "plt.xlabel('Предсказанная добыча, тыс.баррелей')\n",
    "plt.ylabel('Количество скважин')\n",
    "\n",
    "#заголовок к графику\n",
    "plt.title('Гистограмма предсказанной добычи, первого региона')\n",
    "plt.show()\n"
   ]
  },
  {
   "cell_type": "code",
   "execution_count": 36,
   "id": "75d2a589",
   "metadata": {},
   "outputs": [
    {
     "name": "stdout",
     "output_type": "stream",
     "text": [
      "Средний запас предсказанного сырья = 94.97 , тыс. баррелей\n",
      "RMSE = 40.03 , тыс. баррелей\n",
      "R2 = 0.21\n"
     ]
    }
   ],
   "source": [
    "target_predicted_valid_2, rmse_2 = lin_regr(gd2)"
   ]
  },
  {
   "cell_type": "code",
   "execution_count": 37,
   "id": "3f24d115",
   "metadata": {},
   "outputs": [
    {
     "data": {
      "image/png": "[encoded data removed]",
      "text/plain": [
       "<Figure size 288x144 with 1 Axes>"
      ]
     },
     "metadata": {
      "needs_background": "light"
     },
     "output_type": "display_data"
    }
   ],
   "source": [
    "#гистограмма распределения предсказаний добычи\n",
    "target_predicted_valid_2.product_pred.hist(bins=20, figsize=(4, 2))\n",
    "\n",
    "#подписи к осям \n",
    "plt.xlabel('Предсказанная добыча, тыс.баррелей')\n",
    "plt.ylabel('Количество скважин')\n",
    "\n",
    "#заголовок к графику\n",
    "plt.title('Гистограмма предсказанной добычи, второго региона')\n",
    "plt.show()\n"
   ]
  },
  {
   "cell_type": "markdown",
   "id": "60f10799",
   "metadata": {},
   "source": [
    "### Выводы\n",
    "\n",
    "Наилучшие результаты показала модель для датасета `geo_data_1`. Её `RMSE` равен 0,89, а `R2_score = 1`.\n",
    "\n",
    "Возможно это связано с сильной корреляцией у этого датасета столбца `f2` с `product`.\n",
    "\n",
    "Модели для датасетов 0 и 2 имеют низкие результаты, большой разброс и низкое значение метрики `R2_score`\n",
    "\n",
    "Таблица с результатами для трёх датасетов:\n",
    "\n",
    "Название датасета |Ср.запас предсказанного сырья | RMSE | R2  |\n",
    "------------------|----------------------------- |------|-----|\n",
    "geo_data_0        | 92.59                        |37.58 |0.28 |\n",
    "geo_data_1        | 68.73                        |0.89  |1.0  |\n",
    "geo_data_2        | 94.97                        |40.03 |0.21 |"
   ]
  },
  {
   "cell_type": "markdown",
   "id": "7a0f9920",
   "metadata": {},
   "source": [
    "## Подготовка к расчёту прибыли"
   ]
  },
  {
   "cell_type": "code",
   "execution_count": 38,
   "id": "de2732db",
   "metadata": {},
   "outputs": [],
   "source": [
    "#вероятность убытков. 2,5%\n",
    "#probability_losses = 2.5 / 100"
   ]
  },
  {
   "cell_type": "markdown",
   "id": "68e8ad0a",
   "metadata": {},
   "source": [
    "Расчет необходимого объёма сырья для безубыточной разработки новой скважины. "
   ]
  },
  {
   "cell_type": "markdown",
   "id": "d6ba0f0e",
   "metadata": {},
   "source": [
    "поскольку добывать нефть планируется с 200-т скважин,\n",
    "то и расчёт средней по минимальной добыче с каждой скважины буду вести исходя из этого количества."
   ]
  },
  {
   "cell_type": "code",
   "execution_count": 39,
   "id": "63dc7c7d",
   "metadata": {},
   "outputs": [],
   "source": [
    "amount_barrel = BUDGET_DEVELOPMENT / (NUMBER_BEST_POINTS * REVENUE_1000_BARREL)"
   ]
  },
  {
   "cell_type": "code",
   "execution_count": 40,
   "id": "0cb046bc",
   "metadata": {},
   "outputs": [
    {
     "data": {
      "text/plain": [
       "111.11111111111111"
      ]
     },
     "execution_count": 40,
     "metadata": {},
     "output_type": "execute_result"
    }
   ],
   "source": [
    "#средний обьем сырья, который должен быть добыт из скважины, для её безубыточности.\n",
    "#в тысячах баррелей\n",
    "amount_barrel"
   ]
  },
  {
   "cell_type": "markdown",
   "id": "6ce6db33",
   "metadata": {},
   "source": [
    "###### Выводы:\n",
    "\n",
    "Средний запас предсказанного сырья, в любом из трех регионов, меньше чем требуется для безубыточной разработки новой скважины.\n",
    "    \n",
    "Судя по гистограммам, в ответах всех трёх моделей есть достаточное количество скважин с добычей больше чем 111тыс. баррелей."
   ]
  },
  {
   "cell_type": "markdown",
   "id": "402c64f6",
   "metadata": {},
   "source": [
    "## Расчёт прибыли и рисков "
   ]
  },
  {
   "cell_type": "markdown",
   "id": "b1a65bf6",
   "metadata": {},
   "source": [
    "    4. Напишите функцию для расчёта прибыли по выбранным скважинам и предсказаниям модели:\n",
    "\t4.1. Выберите скважины с максимальными значениями предсказаний. \n",
    "\t4.2. Просуммируйте целевое значение объёма сырья, соответствующее этим предсказаниям.\n",
    "\t4.3. Рассчитайте прибыль для полученного объёма сырья."
   ]
  },
  {
   "cell_type": "code",
   "execution_count": 41,
   "id": "8bb6e3ed",
   "metadata": {},
   "outputs": [],
   "source": [
    "#функция расчета прибыли\n",
    "def profit_calculation(target_predicted_valid):\n",
    "    filtred = (target_predicted_valid\n",
    "               .sort_values(by='product_pred', ascending=False)#сортировка по убыванию\n",
    "               [:NUMBER_BEST_POINTS]# отбор первых значений (в данном случае 200 штук)\n",
    "              )\n",
    "    \n",
    "    sum_product_pred = filtred['product'].sum()#сумма по столбцу предсказаний добычи\n",
    "    \n",
    "     #возврат прибыли по отобранным скважинам (200 скважин)\n",
    "    return sum_product_pred * REVENUE_1000_BARREL - BUDGET_DEVELOPMENT"
   ]
  },
  {
   "cell_type": "code",
   "execution_count": 42,
   "id": "2da2dce5",
   "metadata": {},
   "outputs": [],
   "source": [
    "#прибыль для региона 0\n",
    "profit_0 = profit_calculation(target_predicted_valid_0)"
   ]
  },
  {
   "cell_type": "code",
   "execution_count": 43,
   "id": "34ed1974",
   "metadata": {},
   "outputs": [
    {
     "data": {
      "text/plain": [
       "3320826043.1398506"
      ]
     },
     "execution_count": 43,
     "metadata": {},
     "output_type": "execute_result"
    }
   ],
   "source": [
    "profit_0"
   ]
  },
  {
   "cell_type": "code",
   "execution_count": 44,
   "id": "b8779fa5",
   "metadata": {
    "scrolled": true
   },
   "outputs": [],
   "source": [
    "#прибыль для региона 1\n",
    "profit_1 = profit_calculation(target_predicted_valid_1)"
   ]
  },
  {
   "cell_type": "code",
   "execution_count": 45,
   "id": "7dbe80f7",
   "metadata": {},
   "outputs": [
    {
     "data": {
      "text/plain": [
       "2415086696.681511"
      ]
     },
     "execution_count": 45,
     "metadata": {},
     "output_type": "execute_result"
    }
   ],
   "source": [
    "profit_1"
   ]
  },
  {
   "cell_type": "code",
   "execution_count": 46,
   "id": "a74d9b06",
   "metadata": {},
   "outputs": [],
   "source": [
    "#прибыль для региона 2\n",
    "profit_2 = profit_calculation(target_predicted_valid_2)"
   ]
  },
  {
   "cell_type": "code",
   "execution_count": 47,
   "id": "182cd8a4",
   "metadata": {},
   "outputs": [
    {
     "data": {
      "text/plain": [
       "2710349963.5998325"
      ]
     },
     "execution_count": 47,
     "metadata": {},
     "output_type": "execute_result"
    }
   ],
   "source": [
    "profit_2"
   ]
  },
  {
   "cell_type": "markdown",
   "id": "2d8c82cd",
   "metadata": {},
   "source": [
    "    5. Посчитайте риски и прибыль для каждого региона:\n",
    "\t5.1. Примените технику Bootstrap с 1000 выборок, чтобы найти распределение прибыли.\n",
    "\t5.2. Найдите среднюю прибыль, 95%-й доверительный интервал и риск убытков. Убыток — это отрицательная прибыль.\n",
    "\t5.3. Напишите выводы: предложите регион для разработки скважин и обоснуйте выбор."
   ]
  },
  {
   "cell_type": "code",
   "execution_count": 48,
   "id": "a3fb875f",
   "metadata": {},
   "outputs": [],
   "source": [
    "def bootstrap_ttest(target_predicted_valid, profit, alpha):\n",
    "\n",
    "    state = np.random.RandomState(STATE)\n",
    "\n",
    "    values = []\n",
    "\n",
    "    for i in range(1000):\n",
    "        subsample = target_predicted_valid.sample(n=NUMBER_RESEARCH_POINTS, replace=True, random_state=state)\n",
    "\n",
    "        #высчитываем прибыль по 200 самых прибыльным скважинам и добавляем в список\n",
    "        values.append(profit_calculation(subsample)) \n",
    "    \n",
    "    values = pd.Series(values)\n",
    "\n",
    "    lower = values.quantile(0.025)# считаем 2,5% квантиль получившейся выборки\n",
    "    upper = values.quantile(0.975)# считаем 97,5% квантиль получившейся выборки\n",
    "\n",
    "    print('Средняя прибыль', round(values.mean()/1e9, 3), 'млрд. рублей')\n",
    "    print('95% доверительный интервал',[round(lower/1e9, 3), round(upper/1e9, 3)], ', в млрд. рублей')\n",
    "    #print('len values =', len(values))\n",
    "    (values/1e9).hist(bins=20, figsize=(4, 2.5))\n",
    "    #подписи к осям \n",
    "    plt.xlabel('Прибыль, млрд.рубл')\n",
    "    #plt.ylabel('количество точек')\n",
    "\n",
    "    #заголовок к графику\n",
    "    plt.title('Гистограмма распределения прибыли')\n",
    "    plt.show()\n",
    "    \n",
    "    #риск убытков\n",
    "                  \n",
    "    print('Риск убытков', 100 * values[values < 0].count()/len(values), '%')\n",
    "    #print(values[values < 0])"
   ]
  },
  {
   "cell_type": "code",
   "execution_count": 49,
   "id": "e385651f",
   "metadata": {},
   "outputs": [
    {
     "name": "stdout",
     "output_type": "stream",
     "text": [
      "Средняя прибыль 0.396 млрд. рублей\n",
      "95% доверительный интервал [-0.111, 0.91] , в млрд. рублей\n"
     ]
    },
    {
     "data": {
      "image/png": "[encoded data removed]",
      "text/plain": [
       "<Figure size 288x180 with 1 Axes>"
      ]
     },
     "metadata": {
      "needs_background": "light"
     },
     "output_type": "display_data"
    },
    {
     "name": "stdout",
     "output_type": "stream",
     "text": [
      "Риск убытков 6.9 %\n"
     ]
    }
   ],
   "source": [
    "bootstrap_ttest(target_predicted_valid_0, profit_0, alpha=PROBABILITY_LOSSES)"
   ]
  },
  {
   "cell_type": "code",
   "execution_count": 50,
   "id": "bfc09bf6",
   "metadata": {},
   "outputs": [
    {
     "name": "stdout",
     "output_type": "stream",
     "text": [
      "Средняя прибыль 0.456 млрд. рублей\n",
      "95% доверительный интервал [0.034, 0.852] , в млрд. рублей\n"
     ]
    },
    {
     "data": {
      "image/png": "[encoded data removed]",
      "text/plain": [
       "<Figure size 288x180 with 1 Axes>"
      ]
     },
     "metadata": {
      "needs_background": "light"
     },
     "output_type": "display_data"
    },
    {
     "name": "stdout",
     "output_type": "stream",
     "text": [
      "Риск убытков 1.5 %\n"
     ]
    }
   ],
   "source": [
    "bootstrap_ttest(target_predicted_valid_1, profit_1, alpha=PROBABILITY_LOSSES)"
   ]
  },
  {
   "cell_type": "code",
   "execution_count": 51,
   "id": "934c3f84",
   "metadata": {},
   "outputs": [
    {
     "name": "stdout",
     "output_type": "stream",
     "text": [
      "Средняя прибыль 0.404 млрд. рублей\n",
      "95% доверительный интервал [-0.163, 0.95] , в млрд. рублей\n"
     ]
    },
    {
     "data": {
      "image/png": "[encoded data removed]",
      "text/plain": [
       "<Figure size 288x180 with 1 Axes>"
      ]
     },
     "metadata": {
      "needs_background": "light"
     },
     "output_type": "display_data"
    },
    {
     "name": "stdout",
     "output_type": "stream",
     "text": [
      "Риск убытков 7.6 %\n"
     ]
    }
   ],
   "source": [
    "bootstrap_ttest(target_predicted_valid_2, profit_2, alpha=PROBABILITY_LOSSES)"
   ]
  },
  {
   "cell_type": "markdown",
   "id": "b000843e",
   "metadata": {},
   "source": [
    "## Выводы\n",
    "\n",
    "Все три региона 0, 1 и 2 подходят для безубыточной разработки.\n",
    "\n",
    "Средняя прибыль в регионах составляет 0.396, 0.456 и 0.404 млрд. рублей соответственно.\n",
    "\n",
    "Риски убытков по регионам 6.9%, 1.5%, 7.6% соответственно. И только один регион, имеет риск меньше чем вероятность убытков 2,5%.\n",
    "\n",
    "Минимальный риск имеет \"первый\" регион, \"нулевой\" и \"второй\" регионы имеют риски более чемм 2,5%\n",
    "\n",
    "Соответственно для разработки скважин предлагаю использовать регион 1."
   ]
  },
  {
   "cell_type": "code",
   "execution_count": null,
   "id": "bf9ff949",
   "metadata": {},
   "outputs": [],
   "source": []
  }
 ],
 "metadata": {
  "ExecuteTimeLog": [
   {
    "duration": 1597,
    "start_time": "2022-09-16T15:15:04.642Z"
   },
   {
    "duration": 893,
    "start_time": "2022-09-16T15:15:06.241Z"
   },
   {
    "duration": 5,
    "start_time": "2022-09-16T15:15:07.135Z"
   },
   {
    "duration": 579,
    "start_time": "2022-09-16T15:15:07.142Z"
   },
   {
    "duration": 533,
    "start_time": "2022-09-16T15:15:07.723Z"
   },
   {
    "duration": 596,
    "start_time": "2022-09-16T15:15:08.258Z"
   },
   {
    "duration": 20,
    "start_time": "2022-09-16T15:15:08.856Z"
   },
   {
    "duration": 58,
    "start_time": "2022-09-16T15:15:08.878Z"
   },
   {
    "duration": 10,
    "start_time": "2022-09-16T15:15:08.938Z"
   },
   {
    "duration": 4,
    "start_time": "2022-09-16T15:15:08.951Z"
   },
   {
    "duration": 22,
    "start_time": "2022-09-16T15:15:08.957Z"
   },
   {
    "duration": 35,
    "start_time": "2022-09-16T15:15:08.980Z"
   },
   {
    "duration": 53,
    "start_time": "2022-09-16T15:15:09.017Z"
   },
   {
    "duration": 28,
    "start_time": "2022-09-16T15:15:09.072Z"
   },
   {
    "duration": 15,
    "start_time": "2022-09-16T15:15:09.102Z"
   },
   {
    "duration": 19,
    "start_time": "2022-09-16T15:15:09.119Z"
   },
   {
    "duration": 68,
    "start_time": "2022-09-16T15:15:09.140Z"
   },
   {
    "duration": 6,
    "start_time": "2022-09-16T15:15:09.209Z"
   },
   {
    "duration": 23,
    "start_time": "2022-09-16T15:15:09.216Z"
   },
   {
    "duration": 30,
    "start_time": "2022-09-16T15:15:09.241Z"
   },
   {
    "duration": 51,
    "start_time": "2022-09-16T15:15:09.273Z"
   },
   {
    "duration": 51,
    "start_time": "2022-09-16T15:15:09.325Z"
   },
   {
    "duration": 40,
    "start_time": "2022-09-16T15:15:09.378Z"
   },
   {
    "duration": 45,
    "start_time": "2022-09-16T15:15:09.419Z"
   },
   {
    "duration": 45,
    "start_time": "2022-09-16T15:15:09.465Z"
   },
   {
    "duration": 35,
    "start_time": "2022-09-16T15:15:09.512Z"
   },
   {
    "duration": 42,
    "start_time": "2022-09-16T15:15:09.548Z"
   },
   {
    "duration": 40,
    "start_time": "2022-09-16T15:15:09.599Z"
   },
   {
    "duration": 8,
    "start_time": "2022-09-16T15:15:09.640Z"
   },
   {
    "duration": 57,
    "start_time": "2022-09-16T15:15:09.650Z"
   },
   {
    "duration": 109,
    "start_time": "2022-09-16T15:15:09.709Z"
   },
   {
    "duration": 192,
    "start_time": "2022-09-16T15:15:09.820Z"
   },
   {
    "duration": 89,
    "start_time": "2022-09-16T15:15:10.014Z"
   },
   {
    "duration": 205,
    "start_time": "2022-09-16T15:15:10.107Z"
   },
   {
    "duration": 187,
    "start_time": "2022-09-16T15:15:10.314Z"
   },
   {
    "duration": 127,
    "start_time": "2022-09-16T15:15:10.502Z"
   },
   {
    "duration": 2,
    "start_time": "2022-09-16T15:15:10.631Z"
   },
   {
    "duration": 13,
    "start_time": "2022-09-16T15:15:10.635Z"
   },
   {
    "duration": 9,
    "start_time": "2022-09-16T15:15:10.649Z"
   },
   {
    "duration": 4,
    "start_time": "2022-09-16T15:15:10.660Z"
   },
   {
    "duration": 6,
    "start_time": "2022-09-16T15:15:10.666Z"
   },
   {
    "duration": 9,
    "start_time": "2022-09-16T15:15:10.674Z"
   },
   {
    "duration": 9,
    "start_time": "2022-09-16T15:15:10.684Z"
   },
   {
    "duration": 17,
    "start_time": "2022-09-16T15:15:10.695Z"
   },
   {
    "duration": 8,
    "start_time": "2022-09-16T15:15:10.713Z"
   },
   {
    "duration": 19,
    "start_time": "2022-09-16T15:15:10.723Z"
   },
   {
    "duration": 15,
    "start_time": "2022-09-16T15:15:10.743Z"
   },
   {
    "duration": 18,
    "start_time": "2022-09-16T15:15:10.760Z"
   },
   {
    "duration": 16,
    "start_time": "2022-09-16T15:15:10.779Z"
   },
   {
    "duration": 15,
    "start_time": "2022-09-16T15:15:10.797Z"
   },
   {
    "duration": 4,
    "start_time": "2022-09-16T15:15:10.814Z"
   },
   {
    "duration": 10,
    "start_time": "2022-09-16T15:15:10.820Z"
   },
   {
    "duration": 1080,
    "start_time": "2022-09-16T15:15:10.831Z"
   },
   {
    "duration": 1045,
    "start_time": "2022-09-16T15:15:11.913Z"
   },
   {
    "duration": 1049,
    "start_time": "2022-09-16T15:15:12.959Z"
   },
   {
    "duration": 52,
    "start_time": "2022-09-16T15:15:14.010Z"
   },
   {
    "duration": 5,
    "start_time": "2022-09-16T15:16:25.084Z"
   },
   {
    "duration": 1016,
    "start_time": "2022-09-16T15:16:27.955Z"
   },
   {
    "duration": 6,
    "start_time": "2022-09-16T15:16:54.780Z"
   },
   {
    "duration": 1048,
    "start_time": "2022-09-16T15:16:57.015Z"
   },
   {
    "duration": 1246,
    "start_time": "2022-09-16T15:17:03.041Z"
   },
   {
    "duration": 1124,
    "start_time": "2022-09-16T15:17:07.003Z"
   },
   {
    "duration": 2605,
    "start_time": "2022-09-16T15:24:52.775Z"
   },
   {
    "duration": 873,
    "start_time": "2022-09-16T15:24:55.382Z"
   },
   {
    "duration": 4,
    "start_time": "2022-09-16T15:24:56.256Z"
   },
   {
    "duration": 516,
    "start_time": "2022-09-16T15:24:56.262Z"
   },
   {
    "duration": 521,
    "start_time": "2022-09-16T15:24:56.780Z"
   },
   {
    "duration": 572,
    "start_time": "2022-09-16T15:24:57.303Z"
   },
   {
    "duration": 26,
    "start_time": "2022-09-16T15:24:57.876Z"
   },
   {
    "duration": 42,
    "start_time": "2022-09-16T15:24:57.904Z"
   },
   {
    "duration": 5,
    "start_time": "2022-09-16T15:24:57.948Z"
   },
   {
    "duration": 4,
    "start_time": "2022-09-16T15:24:57.955Z"
   },
   {
    "duration": 42,
    "start_time": "2022-09-16T15:24:57.961Z"
   },
   {
    "duration": 19,
    "start_time": "2022-09-16T15:24:58.005Z"
   },
   {
    "duration": 41,
    "start_time": "2022-09-16T15:24:58.026Z"
   },
   {
    "duration": 4,
    "start_time": "2022-09-16T15:24:58.068Z"
   },
   {
    "duration": 35,
    "start_time": "2022-09-16T15:24:58.074Z"
   },
   {
    "duration": 19,
    "start_time": "2022-09-16T15:24:58.111Z"
   },
   {
    "duration": 41,
    "start_time": "2022-09-16T15:24:58.132Z"
   },
   {
    "duration": 25,
    "start_time": "2022-09-16T15:24:58.175Z"
   },
   {
    "duration": 14,
    "start_time": "2022-09-16T15:24:58.202Z"
   },
   {
    "duration": 35,
    "start_time": "2022-09-16T15:24:58.217Z"
   },
   {
    "duration": 48,
    "start_time": "2022-09-16T15:24:58.253Z"
   },
   {
    "duration": 35,
    "start_time": "2022-09-16T15:24:58.303Z"
   },
   {
    "duration": 30,
    "start_time": "2022-09-16T15:24:58.339Z"
   },
   {
    "duration": 57,
    "start_time": "2022-09-16T15:24:58.370Z"
   },
   {
    "duration": 38,
    "start_time": "2022-09-16T15:24:58.428Z"
   },
   {
    "duration": 41,
    "start_time": "2022-09-16T15:24:58.468Z"
   },
   {
    "duration": 40,
    "start_time": "2022-09-16T15:24:58.511Z"
   },
   {
    "duration": 47,
    "start_time": "2022-09-16T15:24:58.554Z"
   },
   {
    "duration": 8,
    "start_time": "2022-09-16T15:25:19.898Z"
   },
   {
    "duration": 193,
    "start_time": "2022-09-16T15:25:19.909Z"
   },
   {
    "duration": 13,
    "start_time": "2022-09-16T15:25:20.105Z"
   },
   {
    "duration": 115,
    "start_time": "2022-09-16T15:25:20.136Z"
   },
   {
    "duration": 149,
    "start_time": "2022-09-16T15:25:20.253Z"
   },
   {
    "duration": 135,
    "start_time": "2022-09-16T15:25:20.403Z"
   },
   {
    "duration": 159,
    "start_time": "2022-09-16T15:25:20.540Z"
   },
   {
    "duration": 137,
    "start_time": "2022-09-16T15:25:20.703Z"
   },
   {
    "duration": 2,
    "start_time": "2022-09-16T15:25:20.842Z"
   },
   {
    "duration": 10,
    "start_time": "2022-09-16T15:25:20.846Z"
   },
   {
    "duration": 18,
    "start_time": "2022-09-16T15:25:20.858Z"
   },
   {
    "duration": 5,
    "start_time": "2022-09-16T15:25:20.878Z"
   },
   {
    "duration": 10,
    "start_time": "2022-09-16T15:25:20.885Z"
   },
   {
    "duration": 10,
    "start_time": "2022-09-16T15:25:20.897Z"
   },
   {
    "duration": 7,
    "start_time": "2022-09-16T15:25:20.908Z"
   },
   {
    "duration": 40,
    "start_time": "2022-09-16T15:25:20.916Z"
   },
   {
    "duration": 18,
    "start_time": "2022-09-16T15:25:20.960Z"
   },
   {
    "duration": 17,
    "start_time": "2022-09-16T15:25:20.980Z"
   },
   {
    "duration": 5,
    "start_time": "2022-09-16T15:25:20.999Z"
   },
   {
    "duration": 24,
    "start_time": "2022-09-16T15:25:21.005Z"
   },
   {
    "duration": 10,
    "start_time": "2022-09-16T15:25:21.031Z"
   },
   {
    "duration": 12,
    "start_time": "2022-09-16T15:25:21.043Z"
   },
   {
    "duration": 5,
    "start_time": "2022-09-16T15:25:21.057Z"
   },
   {
    "duration": 6,
    "start_time": "2022-09-16T15:25:21.064Z"
   },
   {
    "duration": 1560,
    "start_time": "2022-09-18T18:12:00.691Z"
   },
   {
    "duration": 2085,
    "start_time": "2022-09-18T18:12:02.253Z"
   },
   {
    "duration": 5,
    "start_time": "2022-09-18T18:12:04.340Z"
   },
   {
    "duration": 584,
    "start_time": "2022-09-18T18:12:11.333Z"
   },
   {
    "duration": 547,
    "start_time": "2022-09-18T18:13:45.350Z"
   },
   {
    "duration": 685,
    "start_time": "2022-09-18T18:13:47.594Z"
   },
   {
    "duration": 558,
    "start_time": "2022-09-18T18:13:51.684Z"
   },
   {
    "duration": 1398,
    "start_time": "2022-09-18T18:16:56.726Z"
   },
   {
    "duration": 1252,
    "start_time": "2022-09-18T18:16:58.126Z"
   },
   {
    "duration": 6,
    "start_time": "2022-09-18T18:16:59.380Z"
   },
   {
    "duration": 599,
    "start_time": "2022-09-18T18:16:59.388Z"
   },
   {
    "duration": 644,
    "start_time": "2022-09-18T18:16:59.995Z"
   },
   {
    "duration": 685,
    "start_time": "2022-09-18T18:17:00.640Z"
   },
   {
    "duration": 25,
    "start_time": "2022-09-18T18:17:01.327Z"
   },
   {
    "duration": 100,
    "start_time": "2022-09-18T18:17:01.354Z"
   },
   {
    "duration": 15,
    "start_time": "2022-09-18T18:17:01.456Z"
   },
   {
    "duration": 14,
    "start_time": "2022-09-18T18:17:01.474Z"
   },
   {
    "duration": 53,
    "start_time": "2022-09-18T18:17:01.490Z"
   },
   {
    "duration": 30,
    "start_time": "2022-09-18T18:17:01.545Z"
   },
   {
    "duration": 77,
    "start_time": "2022-09-18T18:17:01.577Z"
   },
   {
    "duration": 7,
    "start_time": "2022-09-18T18:17:01.656Z"
   },
   {
    "duration": 23,
    "start_time": "2022-09-18T18:17:01.664Z"
   },
   {
    "duration": 29,
    "start_time": "2022-09-18T18:17:01.688Z"
   },
   {
    "duration": 58,
    "start_time": "2022-09-18T18:17:01.718Z"
   },
   {
    "duration": 22,
    "start_time": "2022-09-18T18:17:01.778Z"
   },
   {
    "duration": 20,
    "start_time": "2022-09-18T18:17:01.802Z"
   },
   {
    "duration": 56,
    "start_time": "2022-09-18T18:17:01.824Z"
   },
   {
    "duration": 44,
    "start_time": "2022-09-18T18:17:01.895Z"
   },
   {
    "duration": 57,
    "start_time": "2022-09-18T18:17:01.940Z"
   },
   {
    "duration": 42,
    "start_time": "2022-09-18T18:17:01.999Z"
   },
   {
    "duration": 58,
    "start_time": "2022-09-18T18:17:02.043Z"
   },
   {
    "duration": 53,
    "start_time": "2022-09-18T18:17:02.103Z"
   },
   {
    "duration": 55,
    "start_time": "2022-09-18T18:17:02.158Z"
   },
   {
    "duration": 61,
    "start_time": "2022-09-18T18:17:02.215Z"
   },
   {
    "duration": 71,
    "start_time": "2022-09-18T18:17:02.280Z"
   },
   {
    "duration": 13,
    "start_time": "2022-09-18T18:17:02.353Z"
   },
   {
    "duration": 128,
    "start_time": "2022-09-18T18:17:02.368Z"
   },
   {
    "duration": 104,
    "start_time": "2022-09-18T18:17:02.498Z"
   },
   {
    "duration": 153,
    "start_time": "2022-09-18T18:17:02.604Z"
   },
   {
    "duration": 138,
    "start_time": "2022-09-18T18:17:02.759Z"
   },
   {
    "duration": 202,
    "start_time": "2022-09-18T18:17:02.902Z"
   },
   {
    "duration": 191,
    "start_time": "2022-09-18T18:17:03.106Z"
   },
   {
    "duration": 155,
    "start_time": "2022-09-18T18:17:03.299Z"
   },
   {
    "duration": 3,
    "start_time": "2022-09-18T18:17:03.456Z"
   },
   {
    "duration": 12,
    "start_time": "2022-09-18T18:17:03.460Z"
   },
   {
    "duration": 6,
    "start_time": "2022-09-18T18:17:03.474Z"
   },
   {
    "duration": 6,
    "start_time": "2022-09-18T18:17:03.481Z"
   },
   {
    "duration": 8,
    "start_time": "2022-09-18T18:17:03.489Z"
   },
   {
    "duration": 7,
    "start_time": "2022-09-18T18:17:03.498Z"
   },
   {
    "duration": 8,
    "start_time": "2022-09-18T18:17:03.507Z"
   },
   {
    "duration": 13,
    "start_time": "2022-09-18T18:17:03.517Z"
   },
   {
    "duration": 8,
    "start_time": "2022-09-18T18:17:03.532Z"
   },
   {
    "duration": 11,
    "start_time": "2022-09-18T18:17:03.542Z"
   },
   {
    "duration": 3,
    "start_time": "2022-09-18T18:17:03.555Z"
   },
   {
    "duration": 11,
    "start_time": "2022-09-18T18:17:03.560Z"
   },
   {
    "duration": 5,
    "start_time": "2022-09-18T18:17:03.573Z"
   },
   {
    "duration": 19,
    "start_time": "2022-09-18T18:17:03.579Z"
   },
   {
    "duration": 4,
    "start_time": "2022-09-18T18:17:03.599Z"
   },
   {
    "duration": 6,
    "start_time": "2022-09-18T18:17:03.605Z"
   },
   {
    "duration": 1297,
    "start_time": "2022-09-18T18:17:03.613Z"
   },
   {
    "duration": 1252,
    "start_time": "2022-09-18T18:17:04.912Z"
   },
   {
    "duration": 1325,
    "start_time": "2022-09-18T18:17:06.166Z"
   },
   {
    "duration": 144,
    "start_time": "2022-09-18T18:24:31.097Z"
   },
   {
    "duration": 146,
    "start_time": "2022-09-18T18:25:24.287Z"
   },
   {
    "duration": 270,
    "start_time": "2022-09-18T18:25:40.842Z"
   },
   {
    "duration": 134,
    "start_time": "2022-09-18T18:26:48.624Z"
   },
   {
    "duration": 191,
    "start_time": "2022-09-18T18:27:46.551Z"
   },
   {
    "duration": 140,
    "start_time": "2022-09-18T18:27:54.429Z"
   },
   {
    "duration": 173,
    "start_time": "2022-09-18T18:28:14.742Z"
   },
   {
    "duration": 151,
    "start_time": "2022-09-18T18:29:32.483Z"
   },
   {
    "duration": 4,
    "start_time": "2022-09-18T18:37:52.798Z"
   },
   {
    "duration": 102,
    "start_time": "2022-09-18T18:40:11.909Z"
   },
   {
    "duration": 2,
    "start_time": "2022-09-18T18:41:15.209Z"
   },
   {
    "duration": 4,
    "start_time": "2022-09-18T18:41:17.810Z"
   },
   {
    "duration": 5,
    "start_time": "2022-09-18T18:44:32.808Z"
   },
   {
    "duration": 7,
    "start_time": "2022-09-18T18:44:32.821Z"
   },
   {
    "duration": 460,
    "start_time": "2022-09-18T18:44:32.876Z"
   },
   {
    "duration": 5,
    "start_time": "2022-09-18T18:44:33.339Z"
   },
   {
    "duration": 574,
    "start_time": "2022-09-18T18:44:33.346Z"
   },
   {
    "duration": 725,
    "start_time": "2022-09-18T18:44:33.922Z"
   },
   {
    "duration": 595,
    "start_time": "2022-09-18T18:44:34.649Z"
   },
   {
    "duration": 24,
    "start_time": "2022-09-18T18:44:35.246Z"
   },
   {
    "duration": 73,
    "start_time": "2022-09-18T18:44:35.272Z"
   },
   {
    "duration": 5,
    "start_time": "2022-09-18T18:44:35.347Z"
   },
   {
    "duration": 9,
    "start_time": "2022-09-18T18:44:35.354Z"
   },
   {
    "duration": 42,
    "start_time": "2022-09-18T18:44:35.366Z"
   },
   {
    "duration": 26,
    "start_time": "2022-09-18T18:44:35.410Z"
   },
   {
    "duration": 84,
    "start_time": "2022-09-18T18:44:35.438Z"
   },
   {
    "duration": 7,
    "start_time": "2022-09-18T18:44:35.524Z"
   },
   {
    "duration": 18,
    "start_time": "2022-09-18T18:44:35.535Z"
   },
   {
    "duration": 51,
    "start_time": "2022-09-18T18:44:35.554Z"
   },
   {
    "duration": 70,
    "start_time": "2022-09-18T18:44:35.607Z"
   },
   {
    "duration": 20,
    "start_time": "2022-09-18T18:44:35.679Z"
   },
   {
    "duration": 21,
    "start_time": "2022-09-18T18:44:35.701Z"
   },
   {
    "duration": 37,
    "start_time": "2022-09-18T18:44:35.724Z"
   },
   {
    "duration": 73,
    "start_time": "2022-09-18T18:44:35.763Z"
   },
   {
    "duration": 58,
    "start_time": "2022-09-18T18:44:35.838Z"
   },
   {
    "duration": 45,
    "start_time": "2022-09-18T18:44:35.898Z"
   },
   {
    "duration": 72,
    "start_time": "2022-09-18T18:44:35.945Z"
   },
   {
    "duration": 50,
    "start_time": "2022-09-18T18:44:36.018Z"
   },
   {
    "duration": 58,
    "start_time": "2022-09-18T18:44:36.069Z"
   },
   {
    "duration": 53,
    "start_time": "2022-09-18T18:44:36.129Z"
   },
   {
    "duration": 57,
    "start_time": "2022-09-18T18:44:36.184Z"
   },
   {
    "duration": 7,
    "start_time": "2022-09-18T18:44:36.243Z"
   },
   {
    "duration": 143,
    "start_time": "2022-09-18T18:44:36.252Z"
   },
   {
    "duration": 14,
    "start_time": "2022-09-18T18:44:36.399Z"
   },
   {
    "duration": 271,
    "start_time": "2022-09-18T18:44:36.416Z"
   },
   {
    "duration": 109,
    "start_time": "2022-09-18T18:44:36.690Z"
   },
   {
    "duration": 257,
    "start_time": "2022-09-18T18:44:36.801Z"
   },
   {
    "duration": 239,
    "start_time": "2022-09-18T18:44:37.060Z"
   },
   {
    "duration": 169,
    "start_time": "2022-09-18T18:44:37.301Z"
   },
   {
    "duration": 3,
    "start_time": "2022-09-18T18:44:37.472Z"
   },
   {
    "duration": 5,
    "start_time": "2022-09-18T18:44:37.477Z"
   },
   {
    "duration": 3,
    "start_time": "2022-09-18T18:44:37.496Z"
   },
   {
    "duration": 9,
    "start_time": "2022-09-18T18:44:37.501Z"
   },
   {
    "duration": 19,
    "start_time": "2022-09-18T18:44:37.512Z"
   },
   {
    "duration": 8,
    "start_time": "2022-09-18T18:44:37.535Z"
   },
   {
    "duration": 14,
    "start_time": "2022-09-18T18:44:37.545Z"
   },
   {
    "duration": 8,
    "start_time": "2022-09-18T18:44:37.561Z"
   },
   {
    "duration": 7,
    "start_time": "2022-09-18T18:44:37.571Z"
   },
   {
    "duration": 10,
    "start_time": "2022-09-18T18:44:45.922Z"
   },
   {
    "duration": 5,
    "start_time": "2022-09-18T18:44:48.369Z"
   },
   {
    "duration": 6,
    "start_time": "2022-09-18T18:45:07.148Z"
   },
   {
    "duration": 10,
    "start_time": "2022-09-18T18:45:08.320Z"
   },
   {
    "duration": 5,
    "start_time": "2022-09-18T18:45:08.824Z"
   },
   {
    "duration": 11,
    "start_time": "2022-09-18T18:45:12.560Z"
   },
   {
    "duration": 5,
    "start_time": "2022-09-18T18:45:13.085Z"
   },
   {
    "duration": 73,
    "start_time": "2022-09-18T18:49:03.516Z"
   },
   {
    "duration": 4,
    "start_time": "2022-09-18T18:50:14.939Z"
   },
   {
    "duration": 6,
    "start_time": "2022-09-18T18:51:56.044Z"
   },
   {
    "duration": 1403,
    "start_time": "2022-09-18T18:57:51.040Z"
   },
   {
    "duration": 4,
    "start_time": "2022-09-18T18:57:52.445Z"
   },
   {
    "duration": 551,
    "start_time": "2022-09-18T18:57:52.451Z"
   },
   {
    "duration": 6,
    "start_time": "2022-09-18T18:57:53.004Z"
   },
   {
    "duration": 630,
    "start_time": "2022-09-18T18:57:53.012Z"
   },
   {
    "duration": 605,
    "start_time": "2022-09-18T18:57:53.644Z"
   },
   {
    "duration": 669,
    "start_time": "2022-09-18T18:57:54.251Z"
   },
   {
    "duration": 22,
    "start_time": "2022-09-18T18:57:54.922Z"
   },
   {
    "duration": 82,
    "start_time": "2022-09-18T18:57:54.946Z"
   },
   {
    "duration": 7,
    "start_time": "2022-09-18T18:57:55.031Z"
   },
   {
    "duration": 6,
    "start_time": "2022-09-18T18:57:55.040Z"
   },
   {
    "duration": 27,
    "start_time": "2022-09-18T18:57:55.047Z"
   },
   {
    "duration": 38,
    "start_time": "2022-09-18T18:57:55.075Z"
   },
   {
    "duration": 56,
    "start_time": "2022-09-18T18:57:55.115Z"
   },
   {
    "duration": 24,
    "start_time": "2022-09-18T18:57:55.173Z"
   },
   {
    "duration": 18,
    "start_time": "2022-09-18T18:57:55.200Z"
   },
   {
    "duration": 22,
    "start_time": "2022-09-18T18:57:55.220Z"
   },
   {
    "duration": 81,
    "start_time": "2022-09-18T18:57:55.244Z"
   },
   {
    "duration": 4,
    "start_time": "2022-09-18T18:57:55.327Z"
   },
   {
    "duration": 18,
    "start_time": "2022-09-18T18:57:55.333Z"
   },
   {
    "duration": 51,
    "start_time": "2022-09-18T18:57:55.353Z"
   },
   {
    "duration": 52,
    "start_time": "2022-09-18T18:57:55.406Z"
   },
   {
    "duration": 68,
    "start_time": "2022-09-18T18:57:55.460Z"
   },
   {
    "duration": 48,
    "start_time": "2022-09-18T18:57:55.530Z"
   },
   {
    "duration": 49,
    "start_time": "2022-09-18T18:57:55.580Z"
   },
   {
    "duration": 44,
    "start_time": "2022-09-18T18:57:55.630Z"
   },
   {
    "duration": 51,
    "start_time": "2022-09-18T18:57:55.677Z"
   },
   {
    "duration": 41,
    "start_time": "2022-09-18T18:57:55.732Z"
   },
   {
    "duration": 62,
    "start_time": "2022-09-18T18:57:55.775Z"
   },
   {
    "duration": 7,
    "start_time": "2022-09-18T18:57:55.838Z"
   },
   {
    "duration": 149,
    "start_time": "2022-09-18T18:57:55.846Z"
   },
   {
    "duration": 99,
    "start_time": "2022-09-18T18:57:55.998Z"
   },
   {
    "duration": 153,
    "start_time": "2022-09-18T18:57:56.099Z"
   },
   {
    "duration": 52,
    "start_time": "2022-09-18T18:57:56.255Z"
   },
   {
    "duration": 206,
    "start_time": "2022-09-18T18:57:56.397Z"
   },
   {
    "duration": 198,
    "start_time": "2022-09-18T18:57:56.605Z"
   },
   {
    "duration": 214,
    "start_time": "2022-09-18T18:57:56.805Z"
   },
   {
    "duration": 2,
    "start_time": "2022-09-18T18:57:57.022Z"
   },
   {
    "duration": 10,
    "start_time": "2022-09-18T18:57:57.026Z"
   },
   {
    "duration": 5,
    "start_time": "2022-09-18T18:57:57.038Z"
   },
   {
    "duration": 5,
    "start_time": "2022-09-18T18:57:57.045Z"
   },
   {
    "duration": 5,
    "start_time": "2022-09-18T18:57:57.053Z"
   },
   {
    "duration": 8,
    "start_time": "2022-09-18T18:57:57.061Z"
   },
   {
    "duration": 8,
    "start_time": "2022-09-18T18:57:57.070Z"
   },
   {
    "duration": 5,
    "start_time": "2022-09-18T18:57:57.097Z"
   },
   {
    "duration": 10,
    "start_time": "2022-09-18T18:57:57.105Z"
   },
   {
    "duration": 142,
    "start_time": "2022-09-18T18:57:57.118Z"
   },
   {
    "duration": 0,
    "start_time": "2022-09-18T18:57:57.262Z"
   },
   {
    "duration": 0,
    "start_time": "2022-09-18T18:57:57.264Z"
   },
   {
    "duration": 0,
    "start_time": "2022-09-18T18:57:57.266Z"
   },
   {
    "duration": 0,
    "start_time": "2022-09-18T18:57:57.267Z"
   },
   {
    "duration": 0,
    "start_time": "2022-09-18T18:57:57.268Z"
   },
   {
    "duration": 0,
    "start_time": "2022-09-18T18:57:57.269Z"
   },
   {
    "duration": 0,
    "start_time": "2022-09-18T18:57:57.271Z"
   },
   {
    "duration": 0,
    "start_time": "2022-09-18T18:57:57.273Z"
   },
   {
    "duration": 0,
    "start_time": "2022-09-18T18:57:57.294Z"
   },
   {
    "duration": 1410,
    "start_time": "2022-09-18T18:59:49.800Z"
   },
   {
    "duration": 3,
    "start_time": "2022-09-18T18:59:51.212Z"
   },
   {
    "duration": 728,
    "start_time": "2022-09-18T18:59:51.217Z"
   },
   {
    "duration": 5,
    "start_time": "2022-09-18T18:59:51.947Z"
   },
   {
    "duration": 583,
    "start_time": "2022-09-18T18:59:51.953Z"
   },
   {
    "duration": 624,
    "start_time": "2022-09-18T18:59:52.537Z"
   },
   {
    "duration": 632,
    "start_time": "2022-09-18T18:59:53.163Z"
   },
   {
    "duration": 23,
    "start_time": "2022-09-18T18:59:53.797Z"
   },
   {
    "duration": 73,
    "start_time": "2022-09-18T18:59:53.822Z"
   },
   {
    "duration": 7,
    "start_time": "2022-09-18T18:59:53.898Z"
   },
   {
    "duration": 4,
    "start_time": "2022-09-18T18:59:53.907Z"
   },
   {
    "duration": 25,
    "start_time": "2022-09-18T18:59:53.912Z"
   },
   {
    "duration": 21,
    "start_time": "2022-09-18T18:59:53.938Z"
   },
   {
    "duration": 77,
    "start_time": "2022-09-18T18:59:53.961Z"
   },
   {
    "duration": 6,
    "start_time": "2022-09-18T18:59:54.040Z"
   },
   {
    "duration": 17,
    "start_time": "2022-09-18T18:59:54.049Z"
   },
   {
    "duration": 45,
    "start_time": "2022-09-18T18:59:54.068Z"
   },
   {
    "duration": 59,
    "start_time": "2022-09-18T18:59:54.114Z"
   },
   {
    "duration": 22,
    "start_time": "2022-09-18T18:59:54.174Z"
   },
   {
    "duration": 20,
    "start_time": "2022-09-18T18:59:54.197Z"
   },
   {
    "duration": 36,
    "start_time": "2022-09-18T18:59:54.218Z"
   },
   {
    "duration": 68,
    "start_time": "2022-09-18T18:59:54.256Z"
   },
   {
    "duration": 46,
    "start_time": "2022-09-18T18:59:54.326Z"
   },
   {
    "duration": 56,
    "start_time": "2022-09-18T18:59:54.373Z"
   },
   {
    "duration": 43,
    "start_time": "2022-09-18T18:59:54.430Z"
   },
   {
    "duration": 54,
    "start_time": "2022-09-18T18:59:54.475Z"
   },
   {
    "duration": 38,
    "start_time": "2022-09-18T18:59:54.531Z"
   },
   {
    "duration": 57,
    "start_time": "2022-09-18T18:59:54.574Z"
   },
   {
    "duration": 46,
    "start_time": "2022-09-18T18:59:54.633Z"
   },
   {
    "duration": 6,
    "start_time": "2022-09-18T18:59:54.695Z"
   },
   {
    "duration": 94,
    "start_time": "2022-09-18T18:59:54.703Z"
   },
   {
    "duration": 99,
    "start_time": "2022-09-18T18:59:54.798Z"
   },
   {
    "duration": 162,
    "start_time": "2022-09-18T18:59:54.899Z"
   },
   {
    "duration": 136,
    "start_time": "2022-09-18T18:59:55.062Z"
   },
   {
    "duration": 242,
    "start_time": "2022-09-18T18:59:55.200Z"
   },
   {
    "duration": 63,
    "start_time": "2022-09-18T18:59:55.444Z"
   },
   {
    "duration": 205,
    "start_time": "2022-09-18T18:59:55.596Z"
   },
   {
    "duration": 3,
    "start_time": "2022-09-18T18:59:55.802Z"
   },
   {
    "duration": 6,
    "start_time": "2022-09-18T18:59:55.806Z"
   },
   {
    "duration": 5,
    "start_time": "2022-09-18T18:59:55.814Z"
   },
   {
    "duration": 4,
    "start_time": "2022-09-18T18:59:55.821Z"
   },
   {
    "duration": 12,
    "start_time": "2022-09-18T18:59:55.827Z"
   },
   {
    "duration": 7,
    "start_time": "2022-09-18T18:59:55.841Z"
   },
   {
    "duration": 10,
    "start_time": "2022-09-18T18:59:55.850Z"
   },
   {
    "duration": 7,
    "start_time": "2022-09-18T18:59:55.862Z"
   },
   {
    "duration": 6,
    "start_time": "2022-09-18T18:59:55.870Z"
   },
   {
    "duration": 25,
    "start_time": "2022-09-18T18:59:55.878Z"
   },
   {
    "duration": 4,
    "start_time": "2022-09-18T18:59:55.905Z"
   },
   {
    "duration": 11,
    "start_time": "2022-09-18T18:59:55.911Z"
   },
   {
    "duration": 4,
    "start_time": "2022-09-18T18:59:55.923Z"
   },
   {
    "duration": 11,
    "start_time": "2022-09-18T18:59:55.928Z"
   },
   {
    "duration": 4,
    "start_time": "2022-09-18T18:59:55.940Z"
   },
   {
    "duration": 6,
    "start_time": "2022-09-18T18:59:55.946Z"
   },
   {
    "duration": 149,
    "start_time": "2022-09-18T18:59:55.954Z"
   },
   {
    "duration": 0,
    "start_time": "2022-09-18T18:59:56.104Z"
   },
   {
    "duration": 0,
    "start_time": "2022-09-18T18:59:56.106Z"
   },
   {
    "duration": 1350,
    "start_time": "2022-09-18T19:01:20.839Z"
   },
   {
    "duration": 1312,
    "start_time": "2022-09-18T19:01:41.199Z"
   },
   {
    "duration": 1177,
    "start_time": "2022-09-18T19:02:05.210Z"
   },
   {
    "duration": 9,
    "start_time": "2022-09-18T19:05:16.308Z"
   },
   {
    "duration": 1219,
    "start_time": "2022-09-18T19:05:21.695Z"
   },
   {
    "duration": 1311,
    "start_time": "2022-09-18T19:05:28.793Z"
   },
   {
    "duration": 1284,
    "start_time": "2022-09-18T19:05:32.403Z"
   },
   {
    "duration": 7,
    "start_time": "2022-09-18T19:10:34.665Z"
   },
   {
    "duration": 1250,
    "start_time": "2022-09-18T19:10:40.617Z"
   },
   {
    "duration": 1422,
    "start_time": "2022-09-18T19:10:49.218Z"
   },
   {
    "duration": 1251,
    "start_time": "2022-09-18T19:11:09.409Z"
   },
   {
    "duration": 6,
    "start_time": "2022-09-18T19:15:41.088Z"
   },
   {
    "duration": 1258,
    "start_time": "2022-09-18T19:15:48.395Z"
   },
   {
    "duration": 1242,
    "start_time": "2022-09-18T19:15:55.131Z"
   },
   {
    "duration": 1214,
    "start_time": "2022-09-18T19:15:58.242Z"
   },
   {
    "duration": 8,
    "start_time": "2022-09-18T19:16:56.956Z"
   },
   {
    "duration": 1296,
    "start_time": "2022-09-18T19:17:05.725Z"
   },
   {
    "duration": 1312,
    "start_time": "2022-09-18T19:17:12.811Z"
   },
   {
    "duration": 1349,
    "start_time": "2022-09-18T19:17:16.313Z"
   },
   {
    "duration": 6,
    "start_time": "2022-09-18T19:17:47.637Z"
   },
   {
    "duration": 1338,
    "start_time": "2022-09-18T19:17:56.110Z"
   },
   {
    "duration": 1349,
    "start_time": "2022-09-18T19:17:59.623Z"
   },
   {
    "duration": 1257,
    "start_time": "2022-09-18T19:18:03.792Z"
   },
   {
    "duration": 1517,
    "start_time": "2022-09-18T19:23:25.053Z"
   },
   {
    "duration": 4,
    "start_time": "2022-09-18T19:23:26.573Z"
   },
   {
    "duration": 610,
    "start_time": "2022-09-18T19:23:26.580Z"
   },
   {
    "duration": 12,
    "start_time": "2022-09-18T19:23:27.192Z"
   },
   {
    "duration": 650,
    "start_time": "2022-09-18T19:23:27.207Z"
   },
   {
    "duration": 723,
    "start_time": "2022-09-18T19:23:27.859Z"
   },
   {
    "duration": 725,
    "start_time": "2022-09-18T19:23:28.584Z"
   },
   {
    "duration": 31,
    "start_time": "2022-09-18T19:23:29.310Z"
   },
   {
    "duration": 67,
    "start_time": "2022-09-18T19:23:29.344Z"
   },
   {
    "duration": 23,
    "start_time": "2022-09-18T19:23:29.414Z"
   },
   {
    "duration": 5,
    "start_time": "2022-09-18T19:23:29.439Z"
   },
   {
    "duration": 20,
    "start_time": "2022-09-18T19:23:29.445Z"
   },
   {
    "duration": 31,
    "start_time": "2022-09-18T19:23:29.467Z"
   },
   {
    "duration": 67,
    "start_time": "2022-09-18T19:23:29.500Z"
   },
   {
    "duration": 5,
    "start_time": "2022-09-18T19:23:29.568Z"
   },
   {
    "duration": 43,
    "start_time": "2022-09-18T19:23:29.574Z"
   },
   {
    "duration": 34,
    "start_time": "2022-09-18T19:23:29.619Z"
   },
   {
    "duration": 58,
    "start_time": "2022-09-18T19:23:29.654Z"
   },
   {
    "duration": 20,
    "start_time": "2022-09-18T19:23:29.713Z"
   },
   {
    "duration": 18,
    "start_time": "2022-09-18T19:23:29.735Z"
   },
   {
    "duration": 41,
    "start_time": "2022-09-18T19:23:29.755Z"
   },
   {
    "duration": 70,
    "start_time": "2022-09-18T19:23:29.800Z"
   },
   {
    "duration": 57,
    "start_time": "2022-09-18T19:23:29.871Z"
   },
   {
    "duration": 39,
    "start_time": "2022-09-18T19:23:29.930Z"
   },
   {
    "duration": 65,
    "start_time": "2022-09-18T19:23:29.971Z"
   },
   {
    "duration": 46,
    "start_time": "2022-09-18T19:23:30.038Z"
   },
   {
    "duration": 64,
    "start_time": "2022-09-18T19:23:30.097Z"
   },
   {
    "duration": 61,
    "start_time": "2022-09-18T19:23:30.164Z"
   },
   {
    "duration": 54,
    "start_time": "2022-09-18T19:23:30.228Z"
   },
   {
    "duration": 7,
    "start_time": "2022-09-18T19:23:30.284Z"
   },
   {
    "duration": 205,
    "start_time": "2022-09-18T19:23:30.295Z"
   },
   {
    "duration": 19,
    "start_time": "2022-09-18T19:23:30.502Z"
   },
   {
    "duration": 165,
    "start_time": "2022-09-18T19:23:30.523Z"
   },
   {
    "duration": 204,
    "start_time": "2022-09-18T19:23:30.695Z"
   },
   {
    "duration": 176,
    "start_time": "2022-09-18T19:23:30.902Z"
   },
   {
    "duration": 54,
    "start_time": "2022-09-18T19:23:31.081Z"
   },
   {
    "duration": 267,
    "start_time": "2022-09-18T19:23:31.202Z"
   },
   {
    "duration": 3,
    "start_time": "2022-09-18T19:23:31.470Z"
   },
   {
    "duration": 13,
    "start_time": "2022-09-18T19:23:31.474Z"
   },
   {
    "duration": 41,
    "start_time": "2022-09-18T19:23:31.489Z"
   },
   {
    "duration": 9,
    "start_time": "2022-09-18T19:23:31.532Z"
   },
   {
    "duration": 5,
    "start_time": "2022-09-18T19:23:31.543Z"
   },
   {
    "duration": 11,
    "start_time": "2022-09-18T19:23:31.550Z"
   },
   {
    "duration": 12,
    "start_time": "2022-09-18T19:23:31.563Z"
   },
   {
    "duration": 14,
    "start_time": "2022-09-18T19:23:31.577Z"
   },
   {
    "duration": 41,
    "start_time": "2022-09-18T19:23:31.592Z"
   },
   {
    "duration": 21,
    "start_time": "2022-09-18T19:23:31.635Z"
   },
   {
    "duration": 4,
    "start_time": "2022-09-18T19:23:31.658Z"
   },
   {
    "duration": 15,
    "start_time": "2022-09-18T19:23:31.663Z"
   },
   {
    "duration": 13,
    "start_time": "2022-09-18T19:23:31.680Z"
   },
   {
    "duration": 46,
    "start_time": "2022-09-18T19:23:31.695Z"
   },
   {
    "duration": 5,
    "start_time": "2022-09-18T19:23:31.743Z"
   },
   {
    "duration": 13,
    "start_time": "2022-09-18T19:23:31.749Z"
   },
   {
    "duration": 1369,
    "start_time": "2022-09-18T19:23:31.763Z"
   },
   {
    "duration": 1325,
    "start_time": "2022-09-18T19:23:33.134Z"
   },
   {
    "duration": 1386,
    "start_time": "2022-09-18T19:23:34.462Z"
   },
   {
    "duration": 11,
    "start_time": "2022-09-19T06:03:52.061Z"
   },
   {
    "duration": 8,
    "start_time": "2022-09-19T06:07:48.767Z"
   },
   {
    "duration": 6,
    "start_time": "2022-09-19T06:07:51.540Z"
   },
   {
    "duration": 1758,
    "start_time": "2022-09-19T06:10:03.899Z"
   },
   {
    "duration": 4,
    "start_time": "2022-09-19T06:10:05.658Z"
   },
   {
    "duration": 1105,
    "start_time": "2022-09-19T06:10:05.664Z"
   },
   {
    "duration": 5,
    "start_time": "2022-09-19T06:10:06.771Z"
   },
   {
    "duration": 553,
    "start_time": "2022-09-19T06:10:06.777Z"
   },
   {
    "duration": 531,
    "start_time": "2022-09-19T06:10:07.331Z"
   },
   {
    "duration": 589,
    "start_time": "2022-09-19T06:10:07.864Z"
   },
   {
    "duration": 20,
    "start_time": "2022-09-19T06:10:08.455Z"
   },
   {
    "duration": 66,
    "start_time": "2022-09-19T06:10:08.477Z"
   },
   {
    "duration": 10,
    "start_time": "2022-09-19T06:10:08.546Z"
   },
   {
    "duration": 15,
    "start_time": "2022-09-19T06:10:08.558Z"
   },
   {
    "duration": 59,
    "start_time": "2022-09-19T06:10:08.575Z"
   },
   {
    "duration": 29,
    "start_time": "2022-09-19T06:10:08.636Z"
   },
   {
    "duration": 77,
    "start_time": "2022-09-19T06:10:08.667Z"
   },
   {
    "duration": 23,
    "start_time": "2022-09-19T06:10:08.745Z"
   },
   {
    "duration": 34,
    "start_time": "2022-09-19T06:10:08.770Z"
   },
   {
    "duration": 31,
    "start_time": "2022-09-19T06:10:08.806Z"
   },
   {
    "duration": 84,
    "start_time": "2022-09-19T06:10:08.839Z"
   },
   {
    "duration": 8,
    "start_time": "2022-09-19T06:10:08.924Z"
   },
   {
    "duration": 38,
    "start_time": "2022-09-19T06:10:08.933Z"
   },
   {
    "duration": 55,
    "start_time": "2022-09-19T06:10:08.973Z"
   },
   {
    "duration": 49,
    "start_time": "2022-09-19T06:10:09.030Z"
   },
   {
    "duration": 36,
    "start_time": "2022-09-19T06:10:09.081Z"
   },
   {
    "duration": 57,
    "start_time": "2022-09-19T06:10:09.118Z"
   },
   {
    "duration": 59,
    "start_time": "2022-09-19T06:10:09.177Z"
   },
   {
    "duration": 41,
    "start_time": "2022-09-19T06:10:09.238Z"
   },
   {
    "duration": 52,
    "start_time": "2022-09-19T06:10:09.281Z"
   },
   {
    "duration": 43,
    "start_time": "2022-09-19T06:10:09.338Z"
   },
   {
    "duration": 83,
    "start_time": "2022-09-19T06:10:09.383Z"
   },
   {
    "duration": 30,
    "start_time": "2022-09-19T06:10:09.468Z"
   },
   {
    "duration": 120,
    "start_time": "2022-09-19T06:10:09.499Z"
   },
   {
    "duration": 117,
    "start_time": "2022-09-19T06:10:09.621Z"
   },
   {
    "duration": 143,
    "start_time": "2022-09-19T06:10:09.740Z"
   },
   {
    "duration": 127,
    "start_time": "2022-09-19T06:10:09.884Z"
   },
   {
    "duration": 220,
    "start_time": "2022-09-19T06:10:10.013Z"
   },
   {
    "duration": 92,
    "start_time": "2022-09-19T06:10:10.235Z"
   },
   {
    "duration": 209,
    "start_time": "2022-09-19T06:10:10.328Z"
   },
   {
    "duration": 2,
    "start_time": "2022-09-19T06:10:10.540Z"
   },
   {
    "duration": 4,
    "start_time": "2022-09-19T06:10:10.544Z"
   },
   {
    "duration": 8,
    "start_time": "2022-09-19T06:10:10.550Z"
   },
   {
    "duration": 3,
    "start_time": "2022-09-19T06:10:10.560Z"
   },
   {
    "duration": 13,
    "start_time": "2022-09-19T06:10:10.564Z"
   },
   {
    "duration": 3,
    "start_time": "2022-09-19T06:10:10.578Z"
   },
   {
    "duration": 18,
    "start_time": "2022-09-19T06:10:10.610Z"
   },
   {
    "duration": 7,
    "start_time": "2022-09-19T06:10:10.629Z"
   },
   {
    "duration": 8,
    "start_time": "2022-09-19T06:10:10.637Z"
   },
   {
    "duration": 3,
    "start_time": "2022-09-19T06:10:10.647Z"
   },
   {
    "duration": 6,
    "start_time": "2022-09-19T06:10:10.651Z"
   },
   {
    "duration": 910,
    "start_time": "2022-09-19T06:10:10.658Z"
   },
   {
    "duration": 1085,
    "start_time": "2022-09-19T06:10:11.570Z"
   },
   {
    "duration": 976,
    "start_time": "2022-09-19T06:10:12.657Z"
   },
   {
    "duration": 4,
    "start_time": "2022-09-19T06:18:17.681Z"
   },
   {
    "duration": 2,
    "start_time": "2022-09-19T06:18:27.164Z"
   },
   {
    "duration": 154,
    "start_time": "2022-09-19T06:18:34.632Z"
   },
   {
    "duration": 138,
    "start_time": "2022-09-19T06:18:37.166Z"
   },
   {
    "duration": 213,
    "start_time": "2022-09-19T06:18:41.014Z"
   },
   {
    "duration": 1426,
    "start_time": "2022-09-19T06:19:31.154Z"
   },
   {
    "duration": 4,
    "start_time": "2022-09-19T06:19:32.582Z"
   },
   {
    "duration": 615,
    "start_time": "2022-09-19T06:19:32.588Z"
   },
   {
    "duration": 22,
    "start_time": "2022-09-19T06:19:33.204Z"
   },
   {
    "duration": 527,
    "start_time": "2022-09-19T06:19:33.238Z"
   },
   {
    "duration": 556,
    "start_time": "2022-09-19T06:19:33.767Z"
   },
   {
    "duration": 684,
    "start_time": "2022-09-19T06:19:34.324Z"
   },
   {
    "duration": 43,
    "start_time": "2022-09-19T06:19:35.020Z"
   },
   {
    "duration": 79,
    "start_time": "2022-09-19T06:19:35.065Z"
   },
   {
    "duration": 7,
    "start_time": "2022-09-19T06:19:35.146Z"
   },
   {
    "duration": 7,
    "start_time": "2022-09-19T06:19:35.155Z"
   },
   {
    "duration": 19,
    "start_time": "2022-09-19T06:19:35.163Z"
   },
   {
    "duration": 54,
    "start_time": "2022-09-19T06:19:35.184Z"
   },
   {
    "duration": 63,
    "start_time": "2022-09-19T06:19:35.243Z"
   },
   {
    "duration": 42,
    "start_time": "2022-09-19T06:19:35.308Z"
   },
   {
    "duration": 20,
    "start_time": "2022-09-19T06:19:35.352Z"
   },
   {
    "duration": 19,
    "start_time": "2022-09-19T06:19:35.374Z"
   },
   {
    "duration": 54,
    "start_time": "2022-09-19T06:19:35.395Z"
   },
   {
    "duration": 11,
    "start_time": "2022-09-19T06:19:35.450Z"
   },
   {
    "duration": 17,
    "start_time": "2022-09-19T06:19:35.463Z"
   },
   {
    "duration": 52,
    "start_time": "2022-09-19T06:19:35.482Z"
   },
   {
    "duration": 59,
    "start_time": "2022-09-19T06:19:35.535Z"
   },
   {
    "duration": 85,
    "start_time": "2022-09-19T06:19:35.596Z"
   },
   {
    "duration": 62,
    "start_time": "2022-09-19T06:19:35.683Z"
   },
   {
    "duration": 31,
    "start_time": "2022-09-19T06:19:35.747Z"
   },
   {
    "duration": 54,
    "start_time": "2022-09-19T06:19:35.780Z"
   },
   {
    "duration": 41,
    "start_time": "2022-09-19T06:19:35.835Z"
   },
   {
    "duration": 35,
    "start_time": "2022-09-19T06:19:35.878Z"
   },
   {
    "duration": 60,
    "start_time": "2022-09-19T06:19:35.915Z"
   },
   {
    "duration": 6,
    "start_time": "2022-09-19T06:19:35.977Z"
   },
   {
    "duration": 162,
    "start_time": "2022-09-19T06:19:35.985Z"
   },
   {
    "duration": 25,
    "start_time": "2022-09-19T06:19:36.214Z"
   },
   {
    "duration": 199,
    "start_time": "2022-09-19T06:19:36.240Z"
   },
   {
    "duration": 85,
    "start_time": "2022-09-19T06:19:36.442Z"
   },
   {
    "duration": 240,
    "start_time": "2022-09-19T06:19:36.529Z"
   },
   {
    "duration": 50,
    "start_time": "2022-09-19T06:19:36.772Z"
   },
   {
    "duration": 235,
    "start_time": "2022-09-19T06:19:36.824Z"
   },
   {
    "duration": 3,
    "start_time": "2022-09-19T06:19:37.060Z"
   },
   {
    "duration": 17,
    "start_time": "2022-09-19T06:19:37.064Z"
   },
   {
    "duration": 9,
    "start_time": "2022-09-19T06:19:37.083Z"
   },
   {
    "duration": 9,
    "start_time": "2022-09-19T06:19:37.097Z"
   },
   {
    "duration": 47,
    "start_time": "2022-09-19T06:19:37.115Z"
   },
   {
    "duration": 8,
    "start_time": "2022-09-19T06:19:37.164Z"
   },
   {
    "duration": 14,
    "start_time": "2022-09-19T06:19:37.174Z"
   },
   {
    "duration": 7,
    "start_time": "2022-09-19T06:19:37.189Z"
   },
   {
    "duration": 11,
    "start_time": "2022-09-19T06:19:37.197Z"
   },
   {
    "duration": 28,
    "start_time": "2022-09-19T06:19:37.226Z"
   },
   {
    "duration": 6,
    "start_time": "2022-09-19T06:19:37.256Z"
   },
   {
    "duration": 976,
    "start_time": "2022-09-19T06:19:37.264Z"
   },
   {
    "duration": 1122,
    "start_time": "2022-09-19T06:19:38.244Z"
   },
   {
    "duration": 1073,
    "start_time": "2022-09-19T06:19:39.368Z"
   },
   {
    "duration": 1383,
    "start_time": "2022-09-19T20:47:53.271Z"
   },
   {
    "duration": 4,
    "start_time": "2022-09-19T20:47:54.656Z"
   },
   {
    "duration": 964,
    "start_time": "2022-09-19T20:47:54.662Z"
   },
   {
    "duration": 5,
    "start_time": "2022-09-19T20:47:55.627Z"
   },
   {
    "duration": 488,
    "start_time": "2022-09-19T20:47:55.634Z"
   },
   {
    "duration": 504,
    "start_time": "2022-09-19T20:47:56.124Z"
   },
   {
    "duration": 520,
    "start_time": "2022-09-19T20:47:56.629Z"
   },
   {
    "duration": 19,
    "start_time": "2022-09-19T20:47:57.151Z"
   },
   {
    "duration": 52,
    "start_time": "2022-09-19T20:47:57.171Z"
   },
   {
    "duration": 4,
    "start_time": "2022-09-19T20:47:57.225Z"
   },
   {
    "duration": 5,
    "start_time": "2022-09-19T20:47:57.231Z"
   },
   {
    "duration": 19,
    "start_time": "2022-09-19T20:47:57.238Z"
   },
   {
    "duration": 20,
    "start_time": "2022-09-19T20:47:57.259Z"
   },
   {
    "duration": 38,
    "start_time": "2022-09-19T20:47:57.308Z"
   },
   {
    "duration": 4,
    "start_time": "2022-09-19T20:47:57.348Z"
   },
   {
    "duration": 17,
    "start_time": "2022-09-19T20:47:57.353Z"
   },
   {
    "duration": 30,
    "start_time": "2022-09-19T20:47:57.371Z"
   },
   {
    "duration": 44,
    "start_time": "2022-09-19T20:47:57.403Z"
   },
   {
    "duration": 3,
    "start_time": "2022-09-19T20:47:57.449Z"
   },
   {
    "duration": 14,
    "start_time": "2022-09-19T20:47:57.454Z"
   },
   {
    "duration": 42,
    "start_time": "2022-09-19T20:47:57.469Z"
   },
   {
    "duration": 35,
    "start_time": "2022-09-19T20:47:57.512Z"
   },
   {
    "duration": 28,
    "start_time": "2022-09-19T20:47:57.548Z"
   },
   {
    "duration": 38,
    "start_time": "2022-09-19T20:47:57.577Z"
   },
   {
    "duration": 31,
    "start_time": "2022-09-19T20:47:57.617Z"
   },
   {
    "duration": 29,
    "start_time": "2022-09-19T20:47:57.649Z"
   },
   {
    "duration": 39,
    "start_time": "2022-09-19T20:47:57.680Z"
   },
   {
    "duration": 31,
    "start_time": "2022-09-19T20:47:57.720Z"
   },
   {
    "duration": 29,
    "start_time": "2022-09-19T20:47:57.753Z"
   },
   {
    "duration": 6,
    "start_time": "2022-09-19T20:47:57.783Z"
   },
   {
    "duration": 119,
    "start_time": "2022-09-19T20:47:57.790Z"
   },
   {
    "duration": 99,
    "start_time": "2022-09-19T20:47:57.911Z"
   },
   {
    "duration": 134,
    "start_time": "2022-09-19T20:47:58.012Z"
   },
   {
    "duration": 163,
    "start_time": "2022-09-19T20:47:58.147Z"
   },
   {
    "duration": 142,
    "start_time": "2022-09-19T20:47:58.311Z"
   },
   {
    "duration": 60,
    "start_time": "2022-09-19T20:47:58.455Z"
   },
   {
    "duration": 218,
    "start_time": "2022-09-19T20:47:58.516Z"
   },
   {
    "duration": 2,
    "start_time": "2022-09-19T20:47:58.735Z"
   },
   {
    "duration": 7,
    "start_time": "2022-09-19T20:47:58.738Z"
   },
   {
    "duration": 5,
    "start_time": "2022-09-19T20:47:58.746Z"
   },
   {
    "duration": 3,
    "start_time": "2022-09-19T20:47:58.755Z"
   },
   {
    "duration": 11,
    "start_time": "2022-09-19T20:47:58.759Z"
   },
   {
    "duration": 3,
    "start_time": "2022-09-19T20:47:58.772Z"
   },
   {
    "duration": 8,
    "start_time": "2022-09-19T20:47:58.777Z"
   },
   {
    "duration": 24,
    "start_time": "2022-09-19T20:47:58.786Z"
   },
   {
    "duration": 9,
    "start_time": "2022-09-19T20:47:58.811Z"
   },
   {
    "duration": 3,
    "start_time": "2022-09-19T20:47:58.821Z"
   },
   {
    "duration": 6,
    "start_time": "2022-09-19T20:47:58.825Z"
   },
   {
    "duration": 897,
    "start_time": "2022-09-19T20:47:58.833Z"
   },
   {
    "duration": 899,
    "start_time": "2022-09-19T20:47:59.732Z"
   },
   {
    "duration": 892,
    "start_time": "2022-09-19T20:48:00.632Z"
   }
  ],
  "kernelspec": {
   "display_name": "Python 3 (ipykernel)",
   "language": "python",
   "name": "python3"
  },
  "language_info": {
   "codemirror_mode": {
    "name": "ipython",
    "version": 3
   },
   "file_extension": ".py",
   "mimetype": "text/x-python",
   "name": "python",
   "nbconvert_exporter": "python",
   "pygments_lexer": "ipython3",
   "version": "3.9.2"
  },
  "toc": {
   "base_numbering": 1,
   "nav_menu": {},
   "number_sections": true,
   "sideBar": true,
   "skip_h1_title": true,
   "title_cell": "Table of Contents",
   "title_sidebar": "Contents",
   "toc_cell": true,
   "toc_position": {
    "height": "calc(100% - 180px)",
    "left": "10px",
    "top": "150px",
    "width": "287.195px"
   },
   "toc_section_display": true,
   "toc_window_display": true
  }
 },
 "nbformat": 4,
 "nbformat_minor": 5
}

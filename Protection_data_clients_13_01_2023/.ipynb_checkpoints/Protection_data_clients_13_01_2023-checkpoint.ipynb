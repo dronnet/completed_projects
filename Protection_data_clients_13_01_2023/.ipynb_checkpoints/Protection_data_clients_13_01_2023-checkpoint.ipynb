{
 "cells": [
  {
   "cell_type": "markdown",
   "metadata": {},
   "source": [
    "# Защита персональных данных клиентов"
   ]
  },
  {
   "cell_type": "markdown",
   "metadata": {},
   "source": [
    "Вам нужно защитить данные клиентов страховой компании «Хоть потоп». Разработайте такой метод преобразования данных, чтобы по ним было сложно восстановить персональную информацию. Обоснуйте корректность его работы.\n",
    "\n",
    "Нужно защитить данные, чтобы при преобразовании качество моделей машинного обучения не ухудшилось. Подбирать наилучшую модель не требуется."
   ]
  },
  {
   "cell_type": "code",
   "execution_count": 1,
   "metadata": {},
   "outputs": [],
   "source": [
    "\n",
    "import pandas as pd\n",
    "import numpy as np\n",
    "\n",
    "\n",
    "from sklearn.model_selection import train_test_split\n",
    "from sklearn.linear_model import LinearRegression\n",
    "from sklearn.metrics import r2_score\n"
   ]
  },
  {
   "cell_type": "code",
   "execution_count": 2,
   "metadata": {},
   "outputs": [],
   "source": [
    "#Задание констант\n",
    "\n",
    "STATE = 12345"
   ]
  },
  {
   "cell_type": "markdown",
   "metadata": {},
   "source": [
    "## Загрузка данных"
   ]
  },
  {
   "cell_type": "code",
   "execution_count": 3,
   "metadata": {},
   "outputs": [],
   "source": [
    "dt = pd.read_csv('/datasets/insurance.csv')"
   ]
  },
  {
   "cell_type": "code",
   "execution_count": 4,
   "metadata": {},
   "outputs": [
    {
     "name": "stdout",
     "output_type": "stream",
     "text": [
      "<class 'pandas.core.frame.DataFrame'>\n",
      "RangeIndex: 5000 entries, 0 to 4999\n",
      "Data columns (total 5 columns):\n",
      " #   Column             Non-Null Count  Dtype  \n",
      "---  ------             --------------  -----  \n",
      " 0   Пол                5000 non-null   int64  \n",
      " 1   Возраст            5000 non-null   float64\n",
      " 2   Зарплата           5000 non-null   float64\n",
      " 3   Члены семьи        5000 non-null   int64  \n",
      " 4   Страховые выплаты  5000 non-null   int64  \n",
      "dtypes: float64(2), int64(3)\n",
      "memory usage: 195.4 KB\n"
     ]
    }
   ],
   "source": [
    "dt.info()"
   ]
  },
  {
   "cell_type": "code",
   "execution_count": 5,
   "metadata": {
    "scrolled": true
   },
   "outputs": [
    {
     "data": {
      "text/html": [
       "<div>\n",
       "<style scoped>\n",
       "    .dataframe tbody tr th:only-of-type {\n",
       "        vertical-align: middle;\n",
       "    }\n",
       "\n",
       "    .dataframe tbody tr th {\n",
       "        vertical-align: top;\n",
       "    }\n",
       "\n",
       "    .dataframe thead th {\n",
       "        text-align: right;\n",
       "    }\n",
       "</style>\n",
       "<table border=\"1\" class=\"dataframe\">\n",
       "  <thead>\n",
       "    <tr style=\"text-align: right;\">\n",
       "      <th></th>\n",
       "      <th>Пол</th>\n",
       "      <th>Возраст</th>\n",
       "      <th>Зарплата</th>\n",
       "      <th>Члены семьи</th>\n",
       "      <th>Страховые выплаты</th>\n",
       "    </tr>\n",
       "  </thead>\n",
       "  <tbody>\n",
       "    <tr>\n",
       "      <th>2715</th>\n",
       "      <td>1</td>\n",
       "      <td>25.0</td>\n",
       "      <td>33000.0</td>\n",
       "      <td>2</td>\n",
       "      <td>0</td>\n",
       "    </tr>\n",
       "    <tr>\n",
       "      <th>504</th>\n",
       "      <td>0</td>\n",
       "      <td>21.0</td>\n",
       "      <td>35100.0</td>\n",
       "      <td>5</td>\n",
       "      <td>0</td>\n",
       "    </tr>\n",
       "    <tr>\n",
       "      <th>3844</th>\n",
       "      <td>0</td>\n",
       "      <td>29.0</td>\n",
       "      <td>29800.0</td>\n",
       "      <td>1</td>\n",
       "      <td>0</td>\n",
       "    </tr>\n",
       "    <tr>\n",
       "      <th>191</th>\n",
       "      <td>1</td>\n",
       "      <td>38.0</td>\n",
       "      <td>44400.0</td>\n",
       "      <td>0</td>\n",
       "      <td>0</td>\n",
       "    </tr>\n",
       "    <tr>\n",
       "      <th>233</th>\n",
       "      <td>0</td>\n",
       "      <td>20.0</td>\n",
       "      <td>23200.0</td>\n",
       "      <td>1</td>\n",
       "      <td>0</td>\n",
       "    </tr>\n",
       "  </tbody>\n",
       "</table>\n",
       "</div>"
      ],
      "text/plain": [
       "      Пол  Возраст  Зарплата  Члены семьи  Страховые выплаты\n",
       "2715    1     25.0   33000.0            2                  0\n",
       "504     0     21.0   35100.0            5                  0\n",
       "3844    0     29.0   29800.0            1                  0\n",
       "191     1     38.0   44400.0            0                  0\n",
       "233     0     20.0   23200.0            1                  0"
      ]
     },
     "execution_count": 5,
     "metadata": {},
     "output_type": "execute_result"
    }
   ],
   "source": [
    "dt.sample(5)"
   ]
  },
  {
   "cell_type": "code",
   "execution_count": 6,
   "metadata": {},
   "outputs": [
    {
     "data": {
      "text/plain": [
       "153"
      ]
     },
     "execution_count": 6,
     "metadata": {},
     "output_type": "execute_result"
    }
   ],
   "source": [
    "# проверка полных дубликатов строк.\n",
    "dt.duplicated().sum()"
   ]
  },
  {
   "cell_type": "code",
   "execution_count": 7,
   "metadata": {},
   "outputs": [
    {
     "data": {
      "text/plain": [
       "Пол                  0\n",
       "Возраст              0\n",
       "Зарплата             0\n",
       "Члены семьи          0\n",
       "Страховые выплаты    0\n",
       "dtype: int64"
      ]
     },
     "execution_count": 7,
     "metadata": {},
     "output_type": "execute_result"
    }
   ],
   "source": [
    "#дополнительная проверка на наличие пустых значений\n",
    "dt.isna().sum()"
   ]
  },
  {
   "cell_type": "code",
   "execution_count": 8,
   "metadata": {},
   "outputs": [
    {
     "data": {
      "image/png": "[encoded data removed]",
      "text/plain": [
       "<Figure size 864x576 with 6 Axes>"
      ]
     },
     "metadata": {
      "needs_background": "light"
     },
     "output_type": "display_data"
    }
   ],
   "source": [
    "dt.hist(bins=20, figsize=(12,8))\n",
    "None"
   ]
  },
  {
   "cell_type": "code",
   "execution_count": 9,
   "metadata": {},
   "outputs": [
    {
     "data": {
      "text/html": [
       "<div>\n",
       "<style scoped>\n",
       "    .dataframe tbody tr th:only-of-type {\n",
       "        vertical-align: middle;\n",
       "    }\n",
       "\n",
       "    .dataframe tbody tr th {\n",
       "        vertical-align: top;\n",
       "    }\n",
       "\n",
       "    .dataframe thead th {\n",
       "        text-align: right;\n",
       "    }\n",
       "</style>\n",
       "<table border=\"1\" class=\"dataframe\">\n",
       "  <thead>\n",
       "    <tr style=\"text-align: right;\">\n",
       "      <th></th>\n",
       "      <th>Пол</th>\n",
       "      <th>Возраст</th>\n",
       "      <th>Зарплата</th>\n",
       "      <th>Члены семьи</th>\n",
       "      <th>Страховые выплаты</th>\n",
       "    </tr>\n",
       "  </thead>\n",
       "  <tbody>\n",
       "    <tr>\n",
       "      <th>count</th>\n",
       "      <td>5000.000000</td>\n",
       "      <td>5000.000000</td>\n",
       "      <td>5000.000000</td>\n",
       "      <td>5000.000000</td>\n",
       "      <td>5000.000000</td>\n",
       "    </tr>\n",
       "    <tr>\n",
       "      <th>mean</th>\n",
       "      <td>0.499000</td>\n",
       "      <td>30.952800</td>\n",
       "      <td>39916.360000</td>\n",
       "      <td>1.194200</td>\n",
       "      <td>0.148000</td>\n",
       "    </tr>\n",
       "    <tr>\n",
       "      <th>std</th>\n",
       "      <td>0.500049</td>\n",
       "      <td>8.440807</td>\n",
       "      <td>9900.083569</td>\n",
       "      <td>1.091387</td>\n",
       "      <td>0.463183</td>\n",
       "    </tr>\n",
       "    <tr>\n",
       "      <th>min</th>\n",
       "      <td>0.000000</td>\n",
       "      <td>18.000000</td>\n",
       "      <td>5300.000000</td>\n",
       "      <td>0.000000</td>\n",
       "      <td>0.000000</td>\n",
       "    </tr>\n",
       "    <tr>\n",
       "      <th>25%</th>\n",
       "      <td>0.000000</td>\n",
       "      <td>24.000000</td>\n",
       "      <td>33300.000000</td>\n",
       "      <td>0.000000</td>\n",
       "      <td>0.000000</td>\n",
       "    </tr>\n",
       "    <tr>\n",
       "      <th>50%</th>\n",
       "      <td>0.000000</td>\n",
       "      <td>30.000000</td>\n",
       "      <td>40200.000000</td>\n",
       "      <td>1.000000</td>\n",
       "      <td>0.000000</td>\n",
       "    </tr>\n",
       "    <tr>\n",
       "      <th>75%</th>\n",
       "      <td>1.000000</td>\n",
       "      <td>37.000000</td>\n",
       "      <td>46600.000000</td>\n",
       "      <td>2.000000</td>\n",
       "      <td>0.000000</td>\n",
       "    </tr>\n",
       "    <tr>\n",
       "      <th>max</th>\n",
       "      <td>1.000000</td>\n",
       "      <td>65.000000</td>\n",
       "      <td>79000.000000</td>\n",
       "      <td>6.000000</td>\n",
       "      <td>5.000000</td>\n",
       "    </tr>\n",
       "  </tbody>\n",
       "</table>\n",
       "</div>"
      ],
      "text/plain": [
       "               Пол      Возраст      Зарплата  Члены семьи  Страховые выплаты\n",
       "count  5000.000000  5000.000000   5000.000000  5000.000000        5000.000000\n",
       "mean      0.499000    30.952800  39916.360000     1.194200           0.148000\n",
       "std       0.500049     8.440807   9900.083569     1.091387           0.463183\n",
       "min       0.000000    18.000000   5300.000000     0.000000           0.000000\n",
       "25%       0.000000    24.000000  33300.000000     0.000000           0.000000\n",
       "50%       0.000000    30.000000  40200.000000     1.000000           0.000000\n",
       "75%       1.000000    37.000000  46600.000000     2.000000           0.000000\n",
       "max       1.000000    65.000000  79000.000000     6.000000           5.000000"
      ]
     },
     "execution_count": 9,
     "metadata": {},
     "output_type": "execute_result"
    }
   ],
   "source": [
    "dt.describe()"
   ]
  },
  {
   "cell_type": "code",
   "execution_count": 10,
   "metadata": {},
   "outputs": [
    {
     "data": {
      "text/html": [
       "<div>\n",
       "<style scoped>\n",
       "    .dataframe tbody tr th:only-of-type {\n",
       "        vertical-align: middle;\n",
       "    }\n",
       "\n",
       "    .dataframe tbody tr th {\n",
       "        vertical-align: top;\n",
       "    }\n",
       "\n",
       "    .dataframe thead th {\n",
       "        text-align: right;\n",
       "    }\n",
       "</style>\n",
       "<table border=\"1\" class=\"dataframe\">\n",
       "  <thead>\n",
       "    <tr style=\"text-align: right;\">\n",
       "      <th></th>\n",
       "      <th>Пол</th>\n",
       "      <th>Возраст</th>\n",
       "      <th>Зарплата</th>\n",
       "      <th>Члены семьи</th>\n",
       "      <th>Страховые выплаты</th>\n",
       "    </tr>\n",
       "  </thead>\n",
       "  <tbody>\n",
       "    <tr>\n",
       "      <th>Пол</th>\n",
       "      <td>1.000000</td>\n",
       "      <td>0.002074</td>\n",
       "      <td>0.014910</td>\n",
       "      <td>-0.008991</td>\n",
       "      <td>0.010140</td>\n",
       "    </tr>\n",
       "    <tr>\n",
       "      <th>Возраст</th>\n",
       "      <td>0.002074</td>\n",
       "      <td>1.000000</td>\n",
       "      <td>-0.019093</td>\n",
       "      <td>-0.006692</td>\n",
       "      <td>0.651030</td>\n",
       "    </tr>\n",
       "    <tr>\n",
       "      <th>Зарплата</th>\n",
       "      <td>0.014910</td>\n",
       "      <td>-0.019093</td>\n",
       "      <td>1.000000</td>\n",
       "      <td>-0.030296</td>\n",
       "      <td>-0.014963</td>\n",
       "    </tr>\n",
       "    <tr>\n",
       "      <th>Члены семьи</th>\n",
       "      <td>-0.008991</td>\n",
       "      <td>-0.006692</td>\n",
       "      <td>-0.030296</td>\n",
       "      <td>1.000000</td>\n",
       "      <td>-0.036290</td>\n",
       "    </tr>\n",
       "    <tr>\n",
       "      <th>Страховые выплаты</th>\n",
       "      <td>0.010140</td>\n",
       "      <td>0.651030</td>\n",
       "      <td>-0.014963</td>\n",
       "      <td>-0.036290</td>\n",
       "      <td>1.000000</td>\n",
       "    </tr>\n",
       "  </tbody>\n",
       "</table>\n",
       "</div>"
      ],
      "text/plain": [
       "                        Пол   Возраст  Зарплата  Члены семьи  \\\n",
       "Пол                1.000000  0.002074  0.014910    -0.008991   \n",
       "Возраст            0.002074  1.000000 -0.019093    -0.006692   \n",
       "Зарплата           0.014910 -0.019093  1.000000    -0.030296   \n",
       "Члены семьи       -0.008991 -0.006692 -0.030296     1.000000   \n",
       "Страховые выплаты  0.010140  0.651030 -0.014963    -0.036290   \n",
       "\n",
       "                   Страховые выплаты  \n",
       "Пол                         0.010140  \n",
       "Возраст                     0.651030  \n",
       "Зарплата                   -0.014963  \n",
       "Члены семьи                -0.036290  \n",
       "Страховые выплаты           1.000000  "
      ]
     },
     "execution_count": 10,
     "metadata": {},
     "output_type": "execute_result"
    }
   ],
   "source": [
    "dt.corr()"
   ]
  },
  {
   "cell_type": "markdown",
   "metadata": {},
   "source": [
    "Довольно сильная корреляция Страховых выплат с Возрастом, около 0,65"
   ]
  },
  {
   "cell_type": "code",
   "execution_count": 11,
   "metadata": {},
   "outputs": [
    {
     "data": {
      "text/plain": [
       "Index(['Пол', 'Возраст', 'Зарплата', 'Члены семьи', 'Страховые выплаты'], dtype='object')"
      ]
     },
     "execution_count": 11,
     "metadata": {},
     "output_type": "execute_result"
    }
   ],
   "source": [
    "\n",
    "dt.columns"
   ]
  },
  {
   "cell_type": "code",
   "execution_count": 12,
   "metadata": {},
   "outputs": [],
   "source": [
    "#замена названий столбцов на обезличенные\n",
    "dt.columns = ['a', 'b', 'c', 'd', 'e']"
   ]
  },
  {
   "cell_type": "code",
   "execution_count": null,
   "metadata": {},
   "outputs": [],
   "source": []
  },
  {
   "cell_type": "markdown",
   "metadata": {},
   "source": [
    "## Умножение матриц"
   ]
  },
  {
   "cell_type": "markdown",
   "metadata": {},
   "source": [
    "Обозначения:\n",
    "\n",
    "- $X$ — матрица признаков (нулевой столбец состоит из единиц)\n",
    "\n",
    "- $y$ — вектор целевого признака\n",
    "\n",
    "- $P$ — матрица, на которую умножаются признаки\n",
    "\n",
    "- $w$ — вектор весов линейной регрессии (нулевой элемент равен сдвигу)"
   ]
  },
  {
   "cell_type": "markdown",
   "metadata": {},
   "source": [
    "Предсказания:\n",
    "\n",
    "$$\n",
    "a = Xw\n",
    "$$\n",
    "\n",
    "Задача обучения:\n",
    "\n",
    "$$\n",
    "w = \\arg\\min_w MSE(Xw, y)\n",
    "$$\n",
    "\n",
    "Формула обучения:\n",
    "\n",
    "$$\n",
    "w = (X^T X)^{-1} X^T y\n",
    "$$"
   ]
  },
  {
   "cell_type": "markdown",
   "metadata": {},
   "source": [
    "**Признаки умножают на обратимую матрицу. Изменится ли качество линейной регрессии?**\n",
    "\n",
    "**Ответ:** Нет, не изменится. При умножении признаков на любую подходящую по размеру матрицу (квадратную, равную по ширине исходной), качество линейной регрессии не изменится.\n",
    "\n",
    "**Обоснование:** ...\n",
    "\n",
    "Предсказания расчитываются по формуле:\n",
    "\n",
    "$$\n",
    "a = Xw\n",
    "$$\n",
    "\n",
    "Если мы умножим матрицу признаков X на некую другую матрицу P, то так же получим некие предсказания. При этом новый вектор весов w0 не обязательно будет равен первому вектору w.\n",
    "$$\n",
    "A = (XP)w0\n",
    "$$\n",
    "\n",
    "\n",
    "Чтобы предсказания были равны, то есть a = A, должны быть равны и правые части выражений:\n",
    "$$\n",
    "Xw = (XP)w0\n",
    "$$\n",
    "\n",
    "Используем свойство матриц [ассоциативность](https://ru.wikipedia.org/wiki/%D0%A3%D0%BC%D0%BD%D0%BE%D0%B6%D0%B5%D0%BD%D0%B8%D0%B5_%D0%BC%D0%B0%D1%82%D1%80%D0%B8%D1%86)\n",
    "$$\n",
    "A(BC) = (AB)C\n",
    "$$\n",
    "\n",
    "Получим:\n",
    "$$\n",
    "Xw = X(P w0)\n",
    "$$\n",
    "\n",
    "Отсюда следует, что для того чтобы равенство выше стало верным, должны быть равны w и P w0:\n",
    "$$\n",
    "w = P w0\n",
    "$$\n",
    "\n",
    "Можно сразу расчитать новый вектор весов, зная матрицу для умножения.\n",
    "$$\n",
    "w0 = w P^{-1}\n",
    "$$\n",
    "\n",
    "Исходя из этой формулы, матрица для умножения P должна иметь обратную матрицу.\n",
    "\n",
    "-- -- \n",
    "\n",
    "Следовательно, умножение матрицы исходных признаков на любую (даже со случайными значениями) матрицу не изменит предсказания модели, поменяется только вектор весов."
   ]
  },
  {
   "cell_type": "markdown",
   "metadata": {},
   "source": [
    "## Алгоритм преобразования"
   ]
  },
  {
   "cell_type": "markdown",
   "metadata": {},
   "source": [
    "**Алгоритм**\n",
    "\n",
    "На основании предыдущих выводов, алгоритм довольно простой:\n",
    "\n",
    "- генерируем квадратную матрицу P размером как матрица признаков X, заполненую случайными числами;\n",
    " - проверяем эту матрицу Р на обратимость;\n",
    " - если матрица не обратимая генерируем следующую и так же проверяем на обратимость, пока не получим обратимую;\n",
    "- умножаем матрицу признаков X на матрицу P, получаем преобразованую матрицу;\n",
    "- разделяем первоначальную матрицу X на выборки, обучающую и тестировочную;\n",
    "- разделяем преобразованную матрицу на выборки, обучающую и тестировочную (преобразованные);\n",
    "- обучаем модель линейной регрессии на не преобразованной (исходной) выборке;\n",
    "- тестируем качество модели на тестовой выборке (не преобразованной);\n",
    "- обучаем модель линейной регрессии на преобразованной выборке;\n",
    "- тестируем качество модели на преобразованной тестовой выборке;\n",
    "- сравниваем результаты."
   ]
  },
  {
   "cell_type": "markdown",
   "metadata": {},
   "source": [
    "**Обоснование**\n",
    "\n",
    "Математическое доказательство в п.2 приводит к алгоритму преобразования в п.3."
   ]
  },
  {
   "cell_type": "markdown",
   "metadata": {},
   "source": [
    "## Проверка алгоритма"
   ]
  },
  {
   "cell_type": "markdown",
   "metadata": {},
   "source": [
    "### Генерация матрицы для умножения"
   ]
  },
  {
   "cell_type": "code",
   "execution_count": 13,
   "metadata": {},
   "outputs": [
    {
     "data": {
      "text/plain": [
       "(5000, 5)"
      ]
     },
     "execution_count": 13,
     "metadata": {},
     "output_type": "execute_result"
    }
   ],
   "source": [
    "dt.shape"
   ]
  },
  {
   "cell_type": "raw",
   "metadata": {},
   "source": [
    "P = np.random.randint(-100, 100, (dt.shape[1]-1,dt.shape[1]-1)) "
   ]
  },
  {
   "cell_type": "raw",
   "metadata": {},
   "source": [
    "np.linalg.det(P)"
   ]
  },
  {
   "cell_type": "code",
   "execution_count": 14,
   "metadata": {},
   "outputs": [
    {
     "name": "stdout",
     "output_type": "stream",
     "text": [
      "количество итераций поиска матрицы = 1\n",
      "\n",
      "получившаяся матрица Р\n",
      "[[ -7  -6  45  44]\n",
      " [-26 -47  94  45]\n",
      " [ 29 -36  53  82]\n",
      " [-18 -94  85  19]]\n"
     ]
    }
   ],
   "source": [
    "#генерируем квадратную матрицу P размером как матрица признаков X, заполненую случайными числами.\n",
    "# размер матрицы меньше на один столбец (без столбца с целевым признаком)\n",
    "#проверяем матрицу на обратимость, если не является обратимой, генерируем ещё раз.\n",
    "k = 0\n",
    "check = True\n",
    "\n",
    "while check:\n",
    "    \n",
    "    #генерируем квадратную матрицу заполненую случайными числами от минус 100 до 100 (можно любые другие).\n",
    "    #размер матрицы на единицу меньше чем ширина исходных данных (кол-во столбцов)\n",
    "    P = np.random.randint(-100, 100, (dt.shape[1]-1,dt.shape[1]-1)) \n",
    "    k += 1\n",
    "    \n",
    "    if round(np.linalg.det(P), 4) == 0: #проверяем что детерминант матрицы равен нулю, до 4-го знака.\n",
    "                                        #и если это так возвращаемся в начало цикла и генерируем новую матрицу\n",
    "        check = True\n",
    "    else:\n",
    "        check = False\n",
    "        print('количество итераций поиска матрицы =', k)\n",
    "        print()\n",
    "        print('получившаяся матрица Р')\n",
    "        print(P)"
   ]
  },
  {
   "cell_type": "code",
   "execution_count": 15,
   "metadata": {},
   "outputs": [
    {
     "data": {
      "text/plain": [
       "(4, 4)"
      ]
     },
     "execution_count": 15,
     "metadata": {},
     "output_type": "execute_result"
    }
   ],
   "source": [
    "#проверка размера\n",
    "P.shape"
   ]
  },
  {
   "cell_type": "code",
   "execution_count": null,
   "metadata": {},
   "outputs": [],
   "source": []
  },
  {
   "cell_type": "markdown",
   "metadata": {},
   "source": [
    "### Разделение выборки на обучающие признаки и целевой признак"
   ]
  },
  {
   "cell_type": "code",
   "execution_count": 16,
   "metadata": {},
   "outputs": [
    {
     "data": {
      "text/plain": [
       "Index(['a', 'b', 'c', 'd', 'e'], dtype='object')"
      ]
     },
     "execution_count": 16,
     "metadata": {},
     "output_type": "execute_result"
    }
   ],
   "source": [
    "dt.columns"
   ]
  },
  {
   "cell_type": "code",
   "execution_count": 17,
   "metadata": {},
   "outputs": [],
   "source": [
    "#\n",
    "target = np.array(dt['e'])\n",
    "features = np.array(dt.drop(['e'] , axis=1))"
   ]
  },
  {
   "cell_type": "code",
   "execution_count": 18,
   "metadata": {},
   "outputs": [
    {
     "data": {
      "text/plain": [
       "(5000,)"
      ]
     },
     "execution_count": 18,
     "metadata": {},
     "output_type": "execute_result"
    }
   ],
   "source": [
    "target.shape"
   ]
  },
  {
   "cell_type": "code",
   "execution_count": 19,
   "metadata": {},
   "outputs": [
    {
     "data": {
      "text/plain": [
       "(5000, 4)"
      ]
     },
     "execution_count": 19,
     "metadata": {},
     "output_type": "execute_result"
    }
   ],
   "source": [
    "features.shape"
   ]
  },
  {
   "cell_type": "code",
   "execution_count": null,
   "metadata": {},
   "outputs": [],
   "source": []
  },
  {
   "cell_type": "markdown",
   "metadata": {},
   "source": [
    "### умножаем матрицу признаков X на матрицу P"
   ]
  },
  {
   "cell_type": "code",
   "execution_count": 20,
   "metadata": {},
   "outputs": [],
   "source": [
    "features_P = features @ P"
   ]
  },
  {
   "cell_type": "code",
   "execution_count": 21,
   "metadata": {},
   "outputs": [
    {
     "data": {
      "text/plain": [
       "array([[ 1437309., -1787627.,  2632784.,  4069108.],\n",
       "       [ 1100786., -1370256.,  2018409.,  3118089.],\n",
       "       [  608246.,  -757363.,  1115726.,  1723305.],\n",
       "       ...,\n",
       "       [  982544., -1221528.,  1798750.,  2780738.],\n",
       "       [  947667., -1178522.,  1735468.,  2682491.],\n",
       "       [ 1176647., -1463016.,  2154562.,  3330523.]])"
      ]
     },
     "execution_count": 21,
     "metadata": {},
     "output_type": "execute_result"
    }
   ],
   "source": [
    "features_P"
   ]
  },
  {
   "cell_type": "code",
   "execution_count": 22,
   "metadata": {},
   "outputs": [
    {
     "data": {
      "text/plain": [
       "(5000, 4)"
      ]
     },
     "execution_count": 22,
     "metadata": {},
     "output_type": "execute_result"
    }
   ],
   "source": [
    "features_P.shape"
   ]
  },
  {
   "cell_type": "markdown",
   "metadata": {},
   "source": [
    "Видно что полученная матрица заполнена изменёнными числами"
   ]
  },
  {
   "cell_type": "code",
   "execution_count": 23,
   "metadata": {},
   "outputs": [
    {
     "data": {
      "image/png": "[encoded data removed]",
      "text/plain": [
       "<Figure size 864x576 with 4 Axes>"
      ]
     },
     "metadata": {
      "needs_background": "light"
     },
     "output_type": "display_data"
    }
   ],
   "source": [
    "pd.DataFrame(features_P).hist(bins=20, figsize=(12,8))\n",
    "None"
   ]
  },
  {
   "cell_type": "markdown",
   "metadata": {},
   "source": [
    "После преобразования все столбцы, `['Пол', 'Возраст', 'Зарплата', 'Члены семьи']` кроме `'Страховые выплаты'`, изменили значения и изменились по характеру. \n",
    "\n",
    "Преобразованные столбцы стали иметь распределения близкие к нормальным, хотя изначально нормальное распределение имел только один столбец."
   ]
  },
  {
   "cell_type": "code",
   "execution_count": null,
   "metadata": {},
   "outputs": [],
   "source": []
  },
  {
   "cell_type": "markdown",
   "metadata": {},
   "source": [
    "### Разделяем первоначальную матрицу X на выборки, обучающую и тестировочную"
   ]
  },
  {
   "cell_type": "code",
   "execution_count": 24,
   "metadata": {},
   "outputs": [],
   "source": [
    "features_train, features_test, target_train, target_test = train_test_split(\n",
    "        features, \n",
    "        target, \n",
    "        test_size=0.25, \n",
    "        random_state=STATE)"
   ]
  },
  {
   "cell_type": "markdown",
   "metadata": {},
   "source": [
    "### Разделяем преобразованную матрицу на выборки, обучающую и тестировочную (преобразованные)"
   ]
  },
  {
   "cell_type": "code",
   "execution_count": 25,
   "metadata": {},
   "outputs": [],
   "source": [
    "features_train_p, features_test_p, target_train_p, target_test_p = train_test_split(\n",
    "        features_P, \n",
    "        target, \n",
    "        test_size=0.25, \n",
    "        random_state=STATE)"
   ]
  },
  {
   "cell_type": "code",
   "execution_count": null,
   "metadata": {},
   "outputs": [],
   "source": []
  },
  {
   "cell_type": "markdown",
   "metadata": {},
   "source": [
    "### Обучаем модель линейной регрессии на НЕ преобразованной (исходной) выборке;"
   ]
  },
  {
   "cell_type": "code",
   "execution_count": 26,
   "metadata": {},
   "outputs": [],
   "source": [
    "model = LinearRegression()"
   ]
  },
  {
   "cell_type": "code",
   "execution_count": 27,
   "metadata": {},
   "outputs": [
    {
     "data": {
      "text/plain": [
       "LinearRegression()"
      ]
     },
     "execution_count": 27,
     "metadata": {},
     "output_type": "execute_result"
    }
   ],
   "source": [
    "model.fit(features_train, target_train)"
   ]
  },
  {
   "cell_type": "code",
   "execution_count": null,
   "metadata": {},
   "outputs": [],
   "source": []
  },
  {
   "cell_type": "markdown",
   "metadata": {},
   "source": [
    "### Тестируем качество модели на тестовой выборке (не преобразованной);"
   ]
  },
  {
   "cell_type": "code",
   "execution_count": 28,
   "metadata": {},
   "outputs": [],
   "source": [
    "predicted_valid = model.predict(features_test) #предсказания модели на тестовых данных"
   ]
  },
  {
   "cell_type": "code",
   "execution_count": 29,
   "metadata": {},
   "outputs": [
    {
     "name": "stdout",
     "output_type": "stream",
     "text": [
      "R2 = 0.4352\n"
     ]
    }
   ],
   "source": [
    "r2 = r2_score(target_test, predicted_valid)\n",
    "print(\"R2 =\", round(r2, 4))"
   ]
  },
  {
   "cell_type": "code",
   "execution_count": null,
   "metadata": {},
   "outputs": [],
   "source": []
  },
  {
   "cell_type": "markdown",
   "metadata": {},
   "source": [
    "### Обучаем модель линейной регрессии на преобразованной выборке"
   ]
  },
  {
   "cell_type": "code",
   "execution_count": 30,
   "metadata": {},
   "outputs": [
    {
     "data": {
      "text/plain": [
       "LinearRegression()"
      ]
     },
     "execution_count": 30,
     "metadata": {},
     "output_type": "execute_result"
    }
   ],
   "source": [
    "model.fit(features_train_p, target_train_p)"
   ]
  },
  {
   "cell_type": "code",
   "execution_count": null,
   "metadata": {},
   "outputs": [],
   "source": []
  },
  {
   "cell_type": "markdown",
   "metadata": {},
   "source": [
    "### Тестируем качество модели на преобразованной тестовой выборке"
   ]
  },
  {
   "cell_type": "code",
   "execution_count": 31,
   "metadata": {},
   "outputs": [],
   "source": [
    "predicted_valid = model.predict(features_test_p) #предсказания модели на тестовых, преобразованных данных"
   ]
  },
  {
   "cell_type": "code",
   "execution_count": 32,
   "metadata": {},
   "outputs": [
    {
     "name": "stdout",
     "output_type": "stream",
     "text": [
      "R2 = 0.4352\n"
     ]
    }
   ],
   "source": [
    "r2 = r2_score(target_test_p, predicted_valid)\n",
    "print(\"R2 =\", round(r2, 4))"
   ]
  },
  {
   "cell_type": "code",
   "execution_count": null,
   "metadata": {},
   "outputs": [],
   "source": []
  },
  {
   "cell_type": "markdown",
   "metadata": {},
   "source": [
    "### Сравнение результатов и выводы"
   ]
  },
  {
   "cell_type": "markdown",
   "metadata": {},
   "source": [
    "Очевидно, что метрика R2 на чистых данных и преобразованных данных одинакова.\n",
    "\n",
    "R2 = 0.4352 - Обучающие данные чистые, не преобразованные\n",
    "\n",
    "R2 = 0.4352 - Обучающие данные преобразованные, то есть умноженные на квадратную матрицу со случайными числами\n",
    "\n",
    "-- --\n",
    "\n",
    "Неоднократные запуски кода приводят к абсолютно тем же результатам. При этом при каждом запуске, каждый раз, генерируется новая матрица для умножения со случайными числами.\n"
   ]
  },
  {
   "cell_type": "code",
   "execution_count": null,
   "metadata": {},
   "outputs": [],
   "source": []
  },
  {
   "cell_type": "markdown",
   "metadata": {},
   "source": [
    "## Вывод"
   ]
  },
  {
   "cell_type": "markdown",
   "metadata": {},
   "source": [
    "Проработан метод преобразования входных данных для линейной регресии.\n",
    "\n",
    "Кратко: Входные признаки умножаются на квадратную, обратимую матрицу содержащую случайные числа.\n",
    "\n",
    "Математически доказано, что такое преобразование никак не меняет предсказание модели.\n",
    "\n",
    "При таком преобразовании данные сильно меняются. \n",
    "\n",
    "Во первых данные напоминают случайные, а во вторых все преобразованнные данные становятся данными с нормальным распределением. Даже если входные данные и близко не имели такого распределения.\n",
    "\n",
    "Практически доказано, что это преобразование никак не меняет качество предсказания модели.\n",
    "\n",
    "Многократный запуск кода не приводит к изменению метрики качества, несмотря на то что каждый раз генерируется матрица со случайными значениями.\n",
    "\n",
    "-- --\n",
    "Получены следующие метрики качества\n",
    "\n",
    "R2 = 0.4352 - Обучающие данные чистые, не преобразованные\n",
    "\n",
    "R2 = 0.4352 - Обучающие данные преобразованные, то есть умноженные на квадратную матрицу со случайными числами."
   ]
  },
  {
   "cell_type": "code",
   "execution_count": null,
   "metadata": {},
   "outputs": [],
   "source": []
  }
 ],
 "metadata": {
  "ExecuteTimeLog": [
   {
    "duration": 378,
    "start_time": "2023-01-08T09:24:47.204Z"
   },
   {
    "duration": 73,
    "start_time": "2023-01-08T09:29:29.916Z"
   },
   {
    "duration": 14,
    "start_time": "2023-01-08T09:30:00.949Z"
   },
   {
    "duration": 17,
    "start_time": "2023-01-08T09:30:26.040Z"
   },
   {
    "duration": 6,
    "start_time": "2023-01-08T09:32:55.374Z"
   },
   {
    "duration": 7,
    "start_time": "2023-01-08T09:33:12.745Z"
   },
   {
    "duration": 8,
    "start_time": "2023-01-08T09:33:28.507Z"
   },
   {
    "duration": 6,
    "start_time": "2023-01-08T11:39:17.900Z"
   },
   {
    "duration": 924,
    "start_time": "2023-01-08T11:39:37.539Z"
   },
   {
    "duration": 575,
    "start_time": "2023-01-08T11:40:02.143Z"
   },
   {
    "duration": 578,
    "start_time": "2023-01-08T11:40:19.351Z"
   },
   {
    "duration": 642,
    "start_time": "2023-01-08T11:40:33.485Z"
   },
   {
    "duration": 691,
    "start_time": "2023-01-08T11:41:29.244Z"
   },
   {
    "duration": 58,
    "start_time": "2023-01-09T07:37:57.230Z"
   },
   {
    "duration": 416,
    "start_time": "2023-01-09T07:38:02.817Z"
   },
   {
    "duration": 103,
    "start_time": "2023-01-09T07:38:03.236Z"
   },
   {
    "duration": 14,
    "start_time": "2023-01-09T07:38:03.340Z"
   },
   {
    "duration": 23,
    "start_time": "2023-01-09T07:38:03.356Z"
   },
   {
    "duration": 30,
    "start_time": "2023-01-09T07:38:03.385Z"
   },
   {
    "duration": 40,
    "start_time": "2023-01-09T07:38:03.416Z"
   },
   {
    "duration": 0,
    "start_time": "2023-01-09T07:38:03.458Z"
   },
   {
    "duration": 7,
    "start_time": "2023-01-09T07:38:21.716Z"
   },
   {
    "duration": 1240,
    "start_time": "2023-01-09T07:38:24.438Z"
   },
   {
    "duration": 25,
    "start_time": "2023-01-09T11:06:26.585Z"
   },
   {
    "duration": 14,
    "start_time": "2023-01-09T11:20:18.036Z"
   },
   {
    "duration": 50,
    "start_time": "2023-01-11T07:55:01.939Z"
   },
   {
    "duration": 6,
    "start_time": "2023-01-11T07:55:07.349Z"
   },
   {
    "duration": 1287,
    "start_time": "2023-01-11T07:55:15.286Z"
   },
   {
    "duration": 102,
    "start_time": "2023-01-11T07:55:16.575Z"
   },
   {
    "duration": 13,
    "start_time": "2023-01-11T07:55:16.679Z"
   },
   {
    "duration": 21,
    "start_time": "2023-01-11T07:55:16.694Z"
   },
   {
    "duration": 6,
    "start_time": "2023-01-11T07:55:16.717Z"
   },
   {
    "duration": 10,
    "start_time": "2023-01-11T07:55:16.725Z"
   },
   {
    "duration": 1174,
    "start_time": "2023-01-11T07:55:16.737Z"
   },
   {
    "duration": 46,
    "start_time": "2023-01-11T07:55:17.913Z"
   },
   {
    "duration": 14,
    "start_time": "2023-01-11T07:55:17.961Z"
   },
   {
    "duration": 11,
    "start_time": "2023-01-11T07:55:17.978Z"
   },
   {
    "duration": 81,
    "start_time": "2023-01-11T07:55:17.991Z"
   },
   {
    "duration": 4,
    "start_time": "2023-01-11T07:56:53.349Z"
   },
   {
    "duration": 116,
    "start_time": "2023-01-11T07:57:02.506Z"
   },
   {
    "duration": 6,
    "start_time": "2023-01-11T07:57:06.060Z"
   },
   {
    "duration": 14,
    "start_time": "2023-01-11T07:58:09.199Z"
   },
   {
    "duration": 5,
    "start_time": "2023-01-11T07:58:20.031Z"
   },
   {
    "duration": 13,
    "start_time": "2023-01-11T07:58:28.648Z"
   },
   {
    "duration": 13,
    "start_time": "2023-01-11T07:58:31.453Z"
   },
   {
    "duration": 9,
    "start_time": "2023-01-11T08:08:01.745Z"
   },
   {
    "duration": 10,
    "start_time": "2023-01-11T08:08:07.383Z"
   },
   {
    "duration": 7,
    "start_time": "2023-01-11T08:08:16.760Z"
   },
   {
    "duration": 4,
    "start_time": "2023-01-11T08:08:27.438Z"
   },
   {
    "duration": 3,
    "start_time": "2023-01-11T08:08:50.748Z"
   },
   {
    "duration": 4,
    "start_time": "2023-01-11T08:08:51.076Z"
   },
   {
    "duration": 5,
    "start_time": "2023-01-11T08:08:51.521Z"
   },
   {
    "duration": 13,
    "start_time": "2023-01-11T08:10:47.328Z"
   },
   {
    "duration": 5,
    "start_time": "2023-01-11T08:10:49.727Z"
   },
   {
    "duration": 4,
    "start_time": "2023-01-11T08:36:22.769Z"
   },
   {
    "duration": 3,
    "start_time": "2023-01-11T08:37:03.731Z"
   },
   {
    "duration": 1123,
    "start_time": "2023-01-11T08:37:11.161Z"
   },
   {
    "duration": 28,
    "start_time": "2023-01-11T08:37:12.286Z"
   },
   {
    "duration": 13,
    "start_time": "2023-01-11T08:37:12.315Z"
   },
   {
    "duration": 22,
    "start_time": "2023-01-11T08:37:12.330Z"
   },
   {
    "duration": 11,
    "start_time": "2023-01-11T08:37:12.354Z"
   },
   {
    "duration": 14,
    "start_time": "2023-01-11T08:37:12.366Z"
   },
   {
    "duration": 955,
    "start_time": "2023-01-11T08:37:12.382Z"
   },
   {
    "duration": 24,
    "start_time": "2023-01-11T08:37:13.339Z"
   },
   {
    "duration": 11,
    "start_time": "2023-01-11T08:37:13.365Z"
   },
   {
    "duration": 5,
    "start_time": "2023-01-11T08:37:13.378Z"
   },
   {
    "duration": 25,
    "start_time": "2023-01-11T08:37:13.385Z"
   },
   {
    "duration": 15,
    "start_time": "2023-01-11T08:37:13.412Z"
   },
   {
    "duration": 22,
    "start_time": "2023-01-11T08:37:13.429Z"
   },
   {
    "duration": 7,
    "start_time": "2023-01-11T08:37:13.453Z"
   },
   {
    "duration": 8,
    "start_time": "2023-01-11T08:37:13.462Z"
   },
   {
    "duration": 11,
    "start_time": "2023-01-11T08:37:13.471Z"
   },
   {
    "duration": 1243,
    "start_time": "2023-01-11T08:37:13.483Z"
   },
   {
    "duration": 5,
    "start_time": "2023-01-11T08:37:56.435Z"
   },
   {
    "duration": 3,
    "start_time": "2023-01-11T08:38:55.648Z"
   },
   {
    "duration": 5,
    "start_time": "2023-01-11T08:39:07.885Z"
   },
   {
    "duration": 4,
    "start_time": "2023-01-11T08:40:04.484Z"
   },
   {
    "duration": 74,
    "start_time": "2023-01-11T08:41:34.041Z"
   },
   {
    "duration": 12,
    "start_time": "2023-01-11T08:43:56.847Z"
   },
   {
    "duration": 5,
    "start_time": "2023-01-11T08:44:14.374Z"
   },
   {
    "duration": 5,
    "start_time": "2023-01-11T08:44:16.293Z"
   },
   {
    "duration": 5,
    "start_time": "2023-01-11T08:44:30.455Z"
   },
   {
    "duration": 4,
    "start_time": "2023-01-11T08:44:31.580Z"
   },
   {
    "duration": 3,
    "start_time": "2023-01-11T08:44:31.926Z"
   },
   {
    "duration": 9,
    "start_time": "2023-01-11T08:44:34.009Z"
   },
   {
    "duration": 4,
    "start_time": "2023-01-11T08:45:49.043Z"
   },
   {
    "duration": 4,
    "start_time": "2023-01-11T08:45:49.408Z"
   },
   {
    "duration": 4,
    "start_time": "2023-01-11T08:45:50.169Z"
   },
   {
    "duration": 3,
    "start_time": "2023-01-11T08:45:54.504Z"
   },
   {
    "duration": 4,
    "start_time": "2023-01-11T08:45:58.623Z"
   },
   {
    "duration": 34,
    "start_time": "2023-01-11T08:45:58.630Z"
   },
   {
    "duration": 11,
    "start_time": "2023-01-11T08:45:58.666Z"
   },
   {
    "duration": 15,
    "start_time": "2023-01-11T08:45:58.678Z"
   },
   {
    "duration": 8,
    "start_time": "2023-01-11T08:45:58.695Z"
   },
   {
    "duration": 6,
    "start_time": "2023-01-11T08:45:58.705Z"
   },
   {
    "duration": 792,
    "start_time": "2023-01-11T08:45:58.713Z"
   },
   {
    "duration": 39,
    "start_time": "2023-01-11T08:45:59.507Z"
   },
   {
    "duration": 12,
    "start_time": "2023-01-11T08:45:59.548Z"
   },
   {
    "duration": 4,
    "start_time": "2023-01-11T08:45:59.561Z"
   },
   {
    "duration": 13,
    "start_time": "2023-01-11T08:45:59.567Z"
   },
   {
    "duration": 14,
    "start_time": "2023-01-11T08:45:59.582Z"
   },
   {
    "duration": 18,
    "start_time": "2023-01-11T08:45:59.598Z"
   },
   {
    "duration": 21,
    "start_time": "2023-01-11T08:45:59.618Z"
   },
   {
    "duration": 17,
    "start_time": "2023-01-11T08:45:59.641Z"
   },
   {
    "duration": 10,
    "start_time": "2023-01-11T08:45:59.660Z"
   },
   {
    "duration": 20,
    "start_time": "2023-01-11T08:45:59.672Z"
   },
   {
    "duration": 9,
    "start_time": "2023-01-11T08:45:59.694Z"
   },
   {
    "duration": 8,
    "start_time": "2023-01-11T08:45:59.705Z"
   },
   {
    "duration": 423,
    "start_time": "2023-01-11T08:45:59.715Z"
   },
   {
    "duration": 6,
    "start_time": "2023-01-11T08:46:14.160Z"
   },
   {
    "duration": 4,
    "start_time": "2023-01-11T08:46:40.398Z"
   },
   {
    "duration": 4,
    "start_time": "2023-01-11T08:47:37.866Z"
   },
   {
    "duration": 8,
    "start_time": "2023-01-11T08:47:38.083Z"
   },
   {
    "duration": 4,
    "start_time": "2023-01-11T08:47:40.013Z"
   },
   {
    "duration": 3,
    "start_time": "2023-01-11T08:49:02.671Z"
   },
   {
    "duration": 53,
    "start_time": "2023-01-11T08:49:02.676Z"
   },
   {
    "duration": 12,
    "start_time": "2023-01-11T08:49:02.731Z"
   },
   {
    "duration": 23,
    "start_time": "2023-01-11T08:49:02.745Z"
   },
   {
    "duration": 16,
    "start_time": "2023-01-11T08:49:02.770Z"
   },
   {
    "duration": 13,
    "start_time": "2023-01-11T08:49:02.788Z"
   },
   {
    "duration": 630,
    "start_time": "2023-01-11T08:49:02.803Z"
   },
   {
    "duration": 25,
    "start_time": "2023-01-11T08:49:03.436Z"
   },
   {
    "duration": 11,
    "start_time": "2023-01-11T08:49:03.463Z"
   },
   {
    "duration": 10,
    "start_time": "2023-01-11T08:49:03.475Z"
   },
   {
    "duration": 10,
    "start_time": "2023-01-11T08:49:03.487Z"
   },
   {
    "duration": 8,
    "start_time": "2023-01-11T08:49:03.499Z"
   },
   {
    "duration": 6,
    "start_time": "2023-01-11T08:49:03.508Z"
   },
   {
    "duration": 29,
    "start_time": "2023-01-11T08:49:03.516Z"
   },
   {
    "duration": 28,
    "start_time": "2023-01-11T08:49:03.547Z"
   },
   {
    "duration": 19,
    "start_time": "2023-01-11T08:49:03.577Z"
   },
   {
    "duration": 9,
    "start_time": "2023-01-11T08:49:03.598Z"
   },
   {
    "duration": 26,
    "start_time": "2023-01-11T08:49:03.609Z"
   },
   {
    "duration": 22,
    "start_time": "2023-01-11T08:49:03.636Z"
   },
   {
    "duration": 45,
    "start_time": "2023-01-11T08:49:03.660Z"
   },
   {
    "duration": 46,
    "start_time": "2023-01-11T08:49:03.706Z"
   },
   {
    "duration": 29,
    "start_time": "2023-01-11T08:49:03.754Z"
   },
   {
    "duration": 10,
    "start_time": "2023-01-11T08:50:22.120Z"
   },
   {
    "duration": 9,
    "start_time": "2023-01-11T08:50:58.312Z"
   },
   {
    "duration": 9,
    "start_time": "2023-01-11T08:51:01.263Z"
   },
   {
    "duration": 4,
    "start_time": "2023-01-11T08:51:18.028Z"
   },
   {
    "duration": 9,
    "start_time": "2023-01-11T08:51:22.758Z"
   },
   {
    "duration": 7,
    "start_time": "2023-01-11T08:52:13.315Z"
   },
   {
    "duration": 6,
    "start_time": "2023-01-11T08:52:40.810Z"
   },
   {
    "duration": 14,
    "start_time": "2023-01-11T10:25:39.372Z"
   },
   {
    "duration": 345,
    "start_time": "2023-01-11T10:25:49.859Z"
   },
   {
    "duration": 559,
    "start_time": "2023-01-11T10:26:24.683Z"
   },
   {
    "duration": 3,
    "start_time": "2023-01-11T10:39:12.860Z"
   },
   {
    "duration": 4,
    "start_time": "2023-01-11T10:41:13.253Z"
   },
   {
    "duration": 4,
    "start_time": "2023-01-11T10:44:28.436Z"
   },
   {
    "duration": 3,
    "start_time": "2023-01-11T10:47:49.879Z"
   },
   {
    "duration": 7,
    "start_time": "2023-01-11T10:48:01.238Z"
   },
   {
    "duration": 3,
    "start_time": "2023-01-11T10:49:32.946Z"
   },
   {
    "duration": 99,
    "start_time": "2023-01-11T10:49:50.512Z"
   },
   {
    "duration": 10,
    "start_time": "2023-01-11T10:49:56.616Z"
   },
   {
    "duration": 4,
    "start_time": "2023-01-11T10:50:06.423Z"
   },
   {
    "duration": 2,
    "start_time": "2023-01-11T10:51:43.481Z"
   },
   {
    "duration": 2,
    "start_time": "2023-01-11T10:52:40.543Z"
   },
   {
    "duration": 5,
    "start_time": "2023-01-11T10:53:25.094Z"
   },
   {
    "duration": 10,
    "start_time": "2023-01-11T10:54:25.377Z"
   },
   {
    "duration": 4,
    "start_time": "2023-01-11T10:54:29.859Z"
   },
   {
    "duration": 4,
    "start_time": "2023-01-11T10:55:01.539Z"
   },
   {
    "duration": 1421,
    "start_time": "2023-01-11T10:59:58.258Z"
   },
   {
    "duration": 2,
    "start_time": "2023-01-11T10:59:59.681Z"
   },
   {
    "duration": 33,
    "start_time": "2023-01-11T10:59:59.685Z"
   },
   {
    "duration": 12,
    "start_time": "2023-01-11T10:59:59.721Z"
   },
   {
    "duration": 18,
    "start_time": "2023-01-11T10:59:59.734Z"
   },
   {
    "duration": 5,
    "start_time": "2023-01-11T10:59:59.754Z"
   },
   {
    "duration": 8,
    "start_time": "2023-01-11T10:59:59.761Z"
   },
   {
    "duration": 670,
    "start_time": "2023-01-11T10:59:59.770Z"
   },
   {
    "duration": 24,
    "start_time": "2023-01-11T11:00:00.442Z"
   },
   {
    "duration": 13,
    "start_time": "2023-01-11T11:00:00.470Z"
   },
   {
    "duration": 23,
    "start_time": "2023-01-11T11:00:00.485Z"
   },
   {
    "duration": 16,
    "start_time": "2023-01-11T11:00:00.509Z"
   },
   {
    "duration": 38,
    "start_time": "2023-01-11T11:00:00.527Z"
   },
   {
    "duration": 46,
    "start_time": "2023-01-11T11:00:00.567Z"
   },
   {
    "duration": 16,
    "start_time": "2023-01-11T11:00:00.615Z"
   },
   {
    "duration": 15,
    "start_time": "2023-01-11T11:00:00.633Z"
   },
   {
    "duration": 16,
    "start_time": "2023-01-11T11:00:00.650Z"
   },
   {
    "duration": 21,
    "start_time": "2023-01-11T11:00:00.667Z"
   },
   {
    "duration": 73,
    "start_time": "2023-01-11T11:00:00.690Z"
   },
   {
    "duration": 12,
    "start_time": "2023-01-11T11:00:00.764Z"
   },
   {
    "duration": 13,
    "start_time": "2023-01-11T11:00:00.778Z"
   },
   {
    "duration": 7,
    "start_time": "2023-01-11T11:00:00.793Z"
   },
   {
    "duration": 18,
    "start_time": "2023-01-11T11:00:00.802Z"
   },
   {
    "duration": 655,
    "start_time": "2023-01-11T11:00:00.822Z"
   },
   {
    "duration": 4,
    "start_time": "2023-01-11T11:00:01.479Z"
   },
   {
    "duration": 55,
    "start_time": "2023-01-11T11:00:01.485Z"
   },
   {
    "duration": 92,
    "start_time": "2023-01-11T11:00:01.542Z"
   },
   {
    "duration": 50,
    "start_time": "2023-01-11T11:00:01.638Z"
   },
   {
    "duration": 37,
    "start_time": "2023-01-11T11:00:01.690Z"
   },
   {
    "duration": 44,
    "start_time": "2023-01-11T11:00:01.728Z"
   },
   {
    "duration": 13,
    "start_time": "2023-01-11T11:00:01.774Z"
   },
   {
    "duration": 15,
    "start_time": "2023-01-11T11:00:01.789Z"
   },
   {
    "duration": 69,
    "start_time": "2023-01-11T11:00:01.806Z"
   },
   {
    "duration": 4,
    "start_time": "2023-01-11T11:28:12.737Z"
   },
   {
    "duration": 5,
    "start_time": "2023-01-11T11:28:36.947Z"
   },
   {
    "duration": 4,
    "start_time": "2023-01-11T11:28:40.418Z"
   },
   {
    "duration": 4,
    "start_time": "2023-01-11T11:28:56.835Z"
   },
   {
    "duration": 1579,
    "start_time": "2023-01-11T11:29:17.858Z"
   },
   {
    "duration": 3,
    "start_time": "2023-01-11T11:29:19.439Z"
   },
   {
    "duration": 41,
    "start_time": "2023-01-11T11:29:19.444Z"
   },
   {
    "duration": 13,
    "start_time": "2023-01-11T11:29:19.487Z"
   },
   {
    "duration": 66,
    "start_time": "2023-01-11T11:29:19.501Z"
   },
   {
    "duration": 82,
    "start_time": "2023-01-11T11:29:19.568Z"
   },
   {
    "duration": 41,
    "start_time": "2023-01-11T11:29:19.652Z"
   },
   {
    "duration": 678,
    "start_time": "2023-01-11T11:29:19.695Z"
   },
   {
    "duration": 24,
    "start_time": "2023-01-11T11:29:20.375Z"
   },
   {
    "duration": 27,
    "start_time": "2023-01-11T11:29:20.402Z"
   },
   {
    "duration": 21,
    "start_time": "2023-01-11T11:29:20.431Z"
   },
   {
    "duration": 26,
    "start_time": "2023-01-11T11:29:20.453Z"
   },
   {
    "duration": 28,
    "start_time": "2023-01-11T11:29:20.481Z"
   },
   {
    "duration": 25,
    "start_time": "2023-01-11T11:29:20.511Z"
   },
   {
    "duration": 20,
    "start_time": "2023-01-11T11:29:20.538Z"
   },
   {
    "duration": 72,
    "start_time": "2023-01-11T11:29:20.559Z"
   },
   {
    "duration": 29,
    "start_time": "2023-01-11T11:29:20.633Z"
   },
   {
    "duration": 30,
    "start_time": "2023-01-11T11:29:20.664Z"
   },
   {
    "duration": 33,
    "start_time": "2023-01-11T11:29:20.696Z"
   },
   {
    "duration": 27,
    "start_time": "2023-01-11T11:29:20.730Z"
   },
   {
    "duration": 29,
    "start_time": "2023-01-11T11:29:20.759Z"
   },
   {
    "duration": 28,
    "start_time": "2023-01-11T11:29:20.789Z"
   },
   {
    "duration": 34,
    "start_time": "2023-01-11T11:29:20.819Z"
   },
   {
    "duration": 667,
    "start_time": "2023-01-11T11:29:20.855Z"
   },
   {
    "duration": 14,
    "start_time": "2023-01-11T11:29:21.524Z"
   },
   {
    "duration": 42,
    "start_time": "2023-01-11T11:29:21.539Z"
   },
   {
    "duration": 22,
    "start_time": "2023-01-11T11:29:21.583Z"
   },
   {
    "duration": 45,
    "start_time": "2023-01-11T11:29:21.608Z"
   },
   {
    "duration": 34,
    "start_time": "2023-01-11T11:29:21.655Z"
   },
   {
    "duration": 31,
    "start_time": "2023-01-11T11:29:21.690Z"
   },
   {
    "duration": 21,
    "start_time": "2023-01-11T11:29:21.723Z"
   },
   {
    "duration": 13,
    "start_time": "2023-01-11T11:29:21.746Z"
   },
   {
    "duration": 31,
    "start_time": "2023-01-11T11:29:21.761Z"
   },
   {
    "duration": 1530,
    "start_time": "2023-01-11T11:43:24.944Z"
   },
   {
    "duration": 2,
    "start_time": "2023-01-11T11:43:26.476Z"
   },
   {
    "duration": 50,
    "start_time": "2023-01-11T11:43:26.480Z"
   },
   {
    "duration": 18,
    "start_time": "2023-01-11T11:43:26.532Z"
   },
   {
    "duration": 38,
    "start_time": "2023-01-11T11:43:26.554Z"
   },
   {
    "duration": 36,
    "start_time": "2023-01-11T11:43:26.594Z"
   },
   {
    "duration": 31,
    "start_time": "2023-01-11T11:43:26.632Z"
   },
   {
    "duration": 703,
    "start_time": "2023-01-11T11:43:26.664Z"
   },
   {
    "duration": 25,
    "start_time": "2023-01-11T11:43:27.369Z"
   },
   {
    "duration": 11,
    "start_time": "2023-01-11T11:43:27.395Z"
   },
   {
    "duration": 30,
    "start_time": "2023-01-11T11:43:27.407Z"
   },
   {
    "duration": 4,
    "start_time": "2023-01-11T11:43:27.439Z"
   },
   {
    "duration": 25,
    "start_time": "2023-01-11T11:43:27.444Z"
   },
   {
    "duration": 12,
    "start_time": "2023-01-11T11:43:27.472Z"
   },
   {
    "duration": 13,
    "start_time": "2023-01-11T11:43:27.486Z"
   },
   {
    "duration": 11,
    "start_time": "2023-01-11T11:43:27.501Z"
   },
   {
    "duration": 17,
    "start_time": "2023-01-11T11:43:27.514Z"
   },
   {
    "duration": 16,
    "start_time": "2023-01-11T11:43:27.533Z"
   },
   {
    "duration": 20,
    "start_time": "2023-01-11T11:43:27.551Z"
   },
   {
    "duration": 20,
    "start_time": "2023-01-11T11:43:27.573Z"
   },
   {
    "duration": 20,
    "start_time": "2023-01-11T11:43:27.594Z"
   },
   {
    "duration": 21,
    "start_time": "2023-01-11T11:43:27.616Z"
   },
   {
    "duration": 15,
    "start_time": "2023-01-11T11:43:27.639Z"
   },
   {
    "duration": 735,
    "start_time": "2023-01-11T11:43:27.656Z"
   },
   {
    "duration": 4,
    "start_time": "2023-01-11T11:43:28.393Z"
   },
   {
    "duration": 8,
    "start_time": "2023-01-11T11:43:28.399Z"
   },
   {
    "duration": 11,
    "start_time": "2023-01-11T11:43:28.409Z"
   },
   {
    "duration": 17,
    "start_time": "2023-01-11T11:43:28.422Z"
   },
   {
    "duration": 5,
    "start_time": "2023-01-11T11:43:28.441Z"
   },
   {
    "duration": 10,
    "start_time": "2023-01-11T11:43:28.449Z"
   },
   {
    "duration": 13,
    "start_time": "2023-01-11T11:43:28.461Z"
   },
   {
    "duration": 9,
    "start_time": "2023-01-11T11:43:28.475Z"
   },
   {
    "duration": 17,
    "start_time": "2023-01-11T11:43:28.486Z"
   },
   {
    "duration": 1387,
    "start_time": "2023-01-11T12:38:12.255Z"
   },
   {
    "duration": 2,
    "start_time": "2023-01-11T12:38:13.644Z"
   },
   {
    "duration": 33,
    "start_time": "2023-01-11T12:38:13.647Z"
   },
   {
    "duration": 12,
    "start_time": "2023-01-11T12:38:13.682Z"
   },
   {
    "duration": 17,
    "start_time": "2023-01-11T12:38:13.695Z"
   },
   {
    "duration": 5,
    "start_time": "2023-01-11T12:38:13.714Z"
   },
   {
    "duration": 13,
    "start_time": "2023-01-11T12:38:13.721Z"
   },
   {
    "duration": 686,
    "start_time": "2023-01-11T12:38:13.736Z"
   },
   {
    "duration": 35,
    "start_time": "2023-01-11T12:38:14.423Z"
   },
   {
    "duration": 11,
    "start_time": "2023-01-11T12:38:14.462Z"
   },
   {
    "duration": 5,
    "start_time": "2023-01-11T12:38:14.474Z"
   },
   {
    "duration": 5,
    "start_time": "2023-01-11T12:38:14.480Z"
   },
   {
    "duration": 7,
    "start_time": "2023-01-11T12:38:14.486Z"
   },
   {
    "duration": 6,
    "start_time": "2023-01-11T12:38:14.495Z"
   },
   {
    "duration": 35,
    "start_time": "2023-01-11T12:38:14.502Z"
   },
   {
    "duration": 12,
    "start_time": "2023-01-11T12:38:14.540Z"
   },
   {
    "duration": 20,
    "start_time": "2023-01-11T12:38:14.554Z"
   },
   {
    "duration": 29,
    "start_time": "2023-01-11T12:38:14.576Z"
   },
   {
    "duration": 8,
    "start_time": "2023-01-11T12:38:14.607Z"
   },
   {
    "duration": 7,
    "start_time": "2023-01-11T12:38:14.617Z"
   },
   {
    "duration": 6,
    "start_time": "2023-01-11T12:38:14.625Z"
   },
   {
    "duration": 9,
    "start_time": "2023-01-11T12:38:14.632Z"
   },
   {
    "duration": 19,
    "start_time": "2023-01-11T12:38:14.642Z"
   },
   {
    "duration": 632,
    "start_time": "2023-01-11T12:38:14.663Z"
   },
   {
    "duration": 4,
    "start_time": "2023-01-11T12:38:15.297Z"
   },
   {
    "duration": 7,
    "start_time": "2023-01-11T12:38:15.303Z"
   },
   {
    "duration": 17,
    "start_time": "2023-01-11T12:38:15.312Z"
   },
   {
    "duration": 7,
    "start_time": "2023-01-11T12:38:15.337Z"
   },
   {
    "duration": 4,
    "start_time": "2023-01-11T12:38:15.346Z"
   },
   {
    "duration": 33,
    "start_time": "2023-01-11T12:38:15.352Z"
   },
   {
    "duration": 21,
    "start_time": "2023-01-11T12:38:15.388Z"
   },
   {
    "duration": 8,
    "start_time": "2023-01-11T12:38:15.411Z"
   },
   {
    "duration": 9,
    "start_time": "2023-01-11T12:38:15.421Z"
   },
   {
    "duration": 3,
    "start_time": "2023-01-11T12:38:40.303Z"
   },
   {
    "duration": 5,
    "start_time": "2023-01-11T12:38:51.679Z"
   },
   {
    "duration": 1341,
    "start_time": "2023-01-11T12:39:00.630Z"
   },
   {
    "duration": 3,
    "start_time": "2023-01-11T12:39:01.974Z"
   },
   {
    "duration": 94,
    "start_time": "2023-01-11T12:39:01.978Z"
   },
   {
    "duration": 32,
    "start_time": "2023-01-11T12:39:02.075Z"
   },
   {
    "duration": 52,
    "start_time": "2023-01-11T12:39:02.109Z"
   },
   {
    "duration": 24,
    "start_time": "2023-01-11T12:39:02.163Z"
   },
   {
    "duration": 29,
    "start_time": "2023-01-11T12:39:02.190Z"
   },
   {
    "duration": 1041,
    "start_time": "2023-01-11T12:39:02.222Z"
   },
   {
    "duration": 34,
    "start_time": "2023-01-11T12:39:03.265Z"
   },
   {
    "duration": 62,
    "start_time": "2023-01-11T12:39:03.304Z"
   },
   {
    "duration": 25,
    "start_time": "2023-01-11T12:39:03.369Z"
   },
   {
    "duration": 31,
    "start_time": "2023-01-11T12:39:03.398Z"
   },
   {
    "duration": 28,
    "start_time": "2023-01-11T12:39:03.431Z"
   },
   {
    "duration": 21,
    "start_time": "2023-01-11T12:39:03.462Z"
   },
   {
    "duration": 37,
    "start_time": "2023-01-11T12:39:03.485Z"
   },
   {
    "duration": 28,
    "start_time": "2023-01-11T12:39:03.526Z"
   },
   {
    "duration": 26,
    "start_time": "2023-01-11T12:39:03.557Z"
   },
   {
    "duration": 36,
    "start_time": "2023-01-11T12:39:03.586Z"
   },
   {
    "duration": 25,
    "start_time": "2023-01-11T12:39:03.624Z"
   },
   {
    "duration": 56,
    "start_time": "2023-01-11T12:39:03.652Z"
   },
   {
    "duration": 25,
    "start_time": "2023-01-11T12:39:03.710Z"
   },
   {
    "duration": 39,
    "start_time": "2023-01-11T12:39:03.737Z"
   },
   {
    "duration": 33,
    "start_time": "2023-01-11T12:39:03.778Z"
   },
   {
    "duration": 767,
    "start_time": "2023-01-11T12:39:03.813Z"
   },
   {
    "duration": 4,
    "start_time": "2023-01-11T12:39:04.584Z"
   },
   {
    "duration": 22,
    "start_time": "2023-01-11T12:39:04.589Z"
   },
   {
    "duration": 57,
    "start_time": "2023-01-11T12:39:04.612Z"
   },
   {
    "duration": 26,
    "start_time": "2023-01-11T12:39:04.674Z"
   },
   {
    "duration": 30,
    "start_time": "2023-01-11T12:39:04.703Z"
   },
   {
    "duration": 61,
    "start_time": "2023-01-11T12:39:04.734Z"
   },
   {
    "duration": 35,
    "start_time": "2023-01-11T12:39:04.796Z"
   },
   {
    "duration": 46,
    "start_time": "2023-01-11T12:39:04.833Z"
   },
   {
    "duration": 80,
    "start_time": "2023-01-11T12:39:04.881Z"
   },
   {
    "duration": 17,
    "start_time": "2023-01-11T13:23:16.132Z"
   },
   {
    "duration": 4,
    "start_time": "2023-01-11T13:23:17.225Z"
   },
   {
    "duration": 3,
    "start_time": "2023-01-11T13:23:17.288Z"
   },
   {
    "duration": 28,
    "start_time": "2023-01-11T13:23:17.314Z"
   },
   {
    "duration": 17,
    "start_time": "2023-01-11T13:23:17.350Z"
   },
   {
    "duration": 13,
    "start_time": "2023-01-11T13:23:17.380Z"
   },
   {
    "duration": 8,
    "start_time": "2023-01-11T13:23:17.404Z"
   },
   {
    "duration": 8,
    "start_time": "2023-01-11T13:23:17.418Z"
   },
   {
    "duration": 712,
    "start_time": "2023-01-11T13:23:17.442Z"
   },
   {
    "duration": 38,
    "start_time": "2023-01-11T13:23:18.162Z"
   },
   {
    "duration": 19,
    "start_time": "2023-01-11T13:23:18.208Z"
   },
   {
    "duration": 16,
    "start_time": "2023-01-11T13:23:18.238Z"
   },
   {
    "duration": 1849,
    "start_time": "2023-01-11T13:27:19.743Z"
   },
   {
    "duration": 2,
    "start_time": "2023-01-11T13:27:21.593Z"
   },
   {
    "duration": 48,
    "start_time": "2023-01-11T13:27:21.597Z"
   },
   {
    "duration": 10,
    "start_time": "2023-01-11T13:27:21.647Z"
   },
   {
    "duration": 38,
    "start_time": "2023-01-11T13:27:21.659Z"
   },
   {
    "duration": 13,
    "start_time": "2023-01-11T13:27:21.699Z"
   },
   {
    "duration": 17,
    "start_time": "2023-01-11T13:27:21.713Z"
   },
   {
    "duration": 980,
    "start_time": "2023-01-11T13:27:21.731Z"
   },
   {
    "duration": 28,
    "start_time": "2023-01-11T13:27:22.713Z"
   },
   {
    "duration": 13,
    "start_time": "2023-01-11T13:27:22.744Z"
   },
   {
    "duration": 21,
    "start_time": "2023-01-11T13:27:22.758Z"
   },
   {
    "duration": 9,
    "start_time": "2023-01-11T13:27:22.781Z"
   },
   {
    "duration": 12,
    "start_time": "2023-01-11T13:27:22.792Z"
   },
   {
    "duration": 7,
    "start_time": "2023-01-11T13:27:22.806Z"
   },
   {
    "duration": 10,
    "start_time": "2023-01-11T13:27:22.814Z"
   },
   {
    "duration": 16,
    "start_time": "2023-01-11T13:27:22.825Z"
   },
   {
    "duration": 17,
    "start_time": "2023-01-11T13:27:22.843Z"
   },
   {
    "duration": 17,
    "start_time": "2023-01-11T13:27:22.861Z"
   },
   {
    "duration": 11,
    "start_time": "2023-01-11T13:27:22.879Z"
   },
   {
    "duration": 19,
    "start_time": "2023-01-11T13:27:22.892Z"
   },
   {
    "duration": 16,
    "start_time": "2023-01-11T13:27:22.913Z"
   },
   {
    "duration": 12,
    "start_time": "2023-01-11T13:27:22.931Z"
   },
   {
    "duration": 15,
    "start_time": "2023-01-11T13:27:22.945Z"
   },
   {
    "duration": 702,
    "start_time": "2023-01-11T13:27:22.962Z"
   },
   {
    "duration": 4,
    "start_time": "2023-01-11T13:27:23.666Z"
   },
   {
    "duration": 9,
    "start_time": "2023-01-11T13:27:23.678Z"
   },
   {
    "duration": 11,
    "start_time": "2023-01-11T13:27:23.689Z"
   },
   {
    "duration": 23,
    "start_time": "2023-01-11T13:27:23.703Z"
   },
   {
    "duration": 12,
    "start_time": "2023-01-11T13:27:23.728Z"
   },
   {
    "duration": 7,
    "start_time": "2023-01-11T13:27:23.742Z"
   },
   {
    "duration": 23,
    "start_time": "2023-01-11T13:27:23.751Z"
   },
   {
    "duration": 8,
    "start_time": "2023-01-11T13:27:23.776Z"
   },
   {
    "duration": 35,
    "start_time": "2023-01-11T13:27:23.786Z"
   },
   {
    "duration": 106,
    "start_time": "2023-01-13T12:29:58.109Z"
   },
   {
    "duration": 72,
    "start_time": "2023-01-13T12:38:38.736Z"
   },
   {
    "duration": 8,
    "start_time": "2023-01-13T18:15:58.326Z"
   },
   {
    "duration": 66,
    "start_time": "2023-01-13T18:24:55.062Z"
   },
   {
    "duration": 1178,
    "start_time": "2023-01-13T18:25:03.379Z"
   },
   {
    "duration": 3,
    "start_time": "2023-01-13T18:25:04.559Z"
   },
   {
    "duration": 100,
    "start_time": "2023-01-13T18:25:04.563Z"
   },
   {
    "duration": 10,
    "start_time": "2023-01-13T18:25:04.665Z"
   },
   {
    "duration": 23,
    "start_time": "2023-01-13T18:25:04.678Z"
   },
   {
    "duration": 7,
    "start_time": "2023-01-13T18:25:04.702Z"
   },
   {
    "duration": 6,
    "start_time": "2023-01-13T18:25:04.710Z"
   },
   {
    "duration": 1022,
    "start_time": "2023-01-13T18:25:04.717Z"
   },
   {
    "duration": 42,
    "start_time": "2023-01-13T18:25:05.741Z"
   },
   {
    "duration": 11,
    "start_time": "2023-01-13T18:25:05.787Z"
   },
   {
    "duration": 11,
    "start_time": "2023-01-13T18:25:05.800Z"
   },
   {
    "duration": 15,
    "start_time": "2023-01-13T18:25:05.813Z"
   },
   {
    "duration": 7,
    "start_time": "2023-01-13T18:25:05.831Z"
   },
   {
    "duration": 126,
    "start_time": "2023-01-13T18:25:05.839Z"
   },
   {
    "duration": 0,
    "start_time": "2023-01-13T18:25:05.967Z"
   },
   {
    "duration": 0,
    "start_time": "2023-01-13T18:25:05.968Z"
   },
   {
    "duration": 0,
    "start_time": "2023-01-13T18:25:05.969Z"
   },
   {
    "duration": 0,
    "start_time": "2023-01-13T18:25:05.970Z"
   },
   {
    "duration": 0,
    "start_time": "2023-01-13T18:25:05.977Z"
   },
   {
    "duration": 0,
    "start_time": "2023-01-13T18:25:05.979Z"
   },
   {
    "duration": 0,
    "start_time": "2023-01-13T18:25:05.980Z"
   },
   {
    "duration": 0,
    "start_time": "2023-01-13T18:25:05.982Z"
   },
   {
    "duration": 0,
    "start_time": "2023-01-13T18:25:05.983Z"
   },
   {
    "duration": 0,
    "start_time": "2023-01-13T18:25:05.984Z"
   },
   {
    "duration": 0,
    "start_time": "2023-01-13T18:25:05.985Z"
   },
   {
    "duration": 0,
    "start_time": "2023-01-13T18:25:05.987Z"
   },
   {
    "duration": 0,
    "start_time": "2023-01-13T18:25:05.988Z"
   },
   {
    "duration": 0,
    "start_time": "2023-01-13T18:25:05.989Z"
   },
   {
    "duration": 0,
    "start_time": "2023-01-13T18:25:05.990Z"
   },
   {
    "duration": 0,
    "start_time": "2023-01-13T18:25:05.990Z"
   },
   {
    "duration": 0,
    "start_time": "2023-01-13T18:25:05.991Z"
   },
   {
    "duration": 0,
    "start_time": "2023-01-13T18:25:05.992Z"
   },
   {
    "duration": 0,
    "start_time": "2023-01-13T18:25:05.993Z"
   },
   {
    "duration": 1262,
    "start_time": "2023-01-13T18:26:19.296Z"
   },
   {
    "duration": 3,
    "start_time": "2023-01-13T18:26:20.560Z"
   },
   {
    "duration": 69,
    "start_time": "2023-01-13T18:26:20.566Z"
   },
   {
    "duration": 15,
    "start_time": "2023-01-13T18:26:20.638Z"
   },
   {
    "duration": 30,
    "start_time": "2023-01-13T18:26:20.656Z"
   },
   {
    "duration": 31,
    "start_time": "2023-01-13T18:26:20.689Z"
   },
   {
    "duration": 15,
    "start_time": "2023-01-13T18:26:20.723Z"
   },
   {
    "duration": 1018,
    "start_time": "2023-01-13T18:26:20.741Z"
   },
   {
    "duration": 36,
    "start_time": "2023-01-13T18:26:21.761Z"
   },
   {
    "duration": 22,
    "start_time": "2023-01-13T18:26:21.800Z"
   },
   {
    "duration": 5,
    "start_time": "2023-01-13T18:26:21.823Z"
   },
   {
    "duration": 7,
    "start_time": "2023-01-13T18:26:21.830Z"
   },
   {
    "duration": 21,
    "start_time": "2023-01-13T18:26:21.839Z"
   },
   {
    "duration": 1148,
    "start_time": "2023-01-13T18:30:01.960Z"
   },
   {
    "duration": 3,
    "start_time": "2023-01-13T18:30:03.111Z"
   },
   {
    "duration": 39,
    "start_time": "2023-01-13T18:30:03.117Z"
   },
   {
    "duration": 11,
    "start_time": "2023-01-13T18:30:03.158Z"
   },
   {
    "duration": 20,
    "start_time": "2023-01-13T18:30:03.171Z"
   },
   {
    "duration": 10,
    "start_time": "2023-01-13T18:30:03.194Z"
   },
   {
    "duration": 15,
    "start_time": "2023-01-13T18:30:03.207Z"
   },
   {
    "duration": 884,
    "start_time": "2023-01-13T18:30:03.224Z"
   },
   {
    "duration": 28,
    "start_time": "2023-01-13T18:30:04.111Z"
   },
   {
    "duration": 20,
    "start_time": "2023-01-13T18:30:04.143Z"
   },
   {
    "duration": 5,
    "start_time": "2023-01-13T18:30:04.178Z"
   },
   {
    "duration": 35,
    "start_time": "2023-01-13T18:30:04.185Z"
   },
   {
    "duration": 17,
    "start_time": "2023-01-13T18:30:04.222Z"
   },
   {
    "duration": 23,
    "start_time": "2023-01-13T18:30:04.241Z"
   },
   {
    "duration": 61,
    "start_time": "2023-01-13T18:30:04.266Z"
   },
   {
    "duration": 9,
    "start_time": "2023-01-13T18:30:04.330Z"
   },
   {
    "duration": 22,
    "start_time": "2023-01-13T18:30:04.342Z"
   },
   {
    "duration": 28,
    "start_time": "2023-01-13T18:30:04.366Z"
   },
   {
    "duration": 18,
    "start_time": "2023-01-13T18:30:04.396Z"
   },
   {
    "duration": 12,
    "start_time": "2023-01-13T18:30:04.417Z"
   },
   {
    "duration": 9,
    "start_time": "2023-01-13T18:30:04.432Z"
   },
   {
    "duration": 7,
    "start_time": "2023-01-13T18:30:04.443Z"
   },
   {
    "duration": 9,
    "start_time": "2023-01-13T18:30:04.451Z"
   },
   {
    "duration": 8,
    "start_time": "2023-01-13T18:30:04.461Z"
   },
   {
    "duration": 681,
    "start_time": "2023-01-13T18:30:04.471Z"
   },
   {
    "duration": 4,
    "start_time": "2023-01-13T18:30:05.154Z"
   },
   {
    "duration": 24,
    "start_time": "2023-01-13T18:30:05.159Z"
   },
   {
    "duration": 24,
    "start_time": "2023-01-13T18:30:05.187Z"
   },
   {
    "duration": 13,
    "start_time": "2023-01-13T18:30:05.213Z"
   },
   {
    "duration": 16,
    "start_time": "2023-01-13T18:30:05.228Z"
   },
   {
    "duration": 9,
    "start_time": "2023-01-13T18:30:05.245Z"
   },
   {
    "duration": 34,
    "start_time": "2023-01-13T18:30:05.256Z"
   },
   {
    "duration": 8,
    "start_time": "2023-01-13T18:30:05.293Z"
   },
   {
    "duration": 13,
    "start_time": "2023-01-13T18:30:05.303Z"
   },
   {
    "duration": 52,
    "start_time": "2023-01-13T18:33:11.317Z"
   },
   {
    "duration": 1099,
    "start_time": "2023-01-13T18:33:16.964Z"
   },
   {
    "duration": 3,
    "start_time": "2023-01-13T18:33:18.066Z"
   },
   {
    "duration": 36,
    "start_time": "2023-01-13T18:33:18.072Z"
   },
   {
    "duration": 15,
    "start_time": "2023-01-13T18:33:18.110Z"
   },
   {
    "duration": 15,
    "start_time": "2023-01-13T18:33:18.128Z"
   },
   {
    "duration": 5,
    "start_time": "2023-01-13T18:33:18.144Z"
   },
   {
    "duration": 7,
    "start_time": "2023-01-13T18:33:18.150Z"
   },
   {
    "duration": 917,
    "start_time": "2023-01-13T18:33:18.159Z"
   },
   {
    "duration": 39,
    "start_time": "2023-01-13T18:33:19.092Z"
   },
   {
    "duration": 19,
    "start_time": "2023-01-13T18:33:19.133Z"
   },
   {
    "duration": 7,
    "start_time": "2023-01-13T18:33:19.155Z"
   },
   {
    "duration": 17,
    "start_time": "2023-01-13T18:33:19.164Z"
   },
   {
    "duration": 27,
    "start_time": "2023-01-13T18:33:19.183Z"
   },
   {
    "duration": 1209,
    "start_time": "2023-01-13T18:37:53.488Z"
   },
   {
    "duration": 3,
    "start_time": "2023-01-13T18:37:54.700Z"
   },
   {
    "duration": 41,
    "start_time": "2023-01-13T18:37:54.705Z"
   },
   {
    "duration": 12,
    "start_time": "2023-01-13T18:37:54.748Z"
   },
   {
    "duration": 104,
    "start_time": "2023-01-13T18:37:54.761Z"
   },
   {
    "duration": 6,
    "start_time": "2023-01-13T18:37:54.867Z"
   },
   {
    "duration": 17,
    "start_time": "2023-01-13T18:37:54.874Z"
   },
   {
    "duration": 960,
    "start_time": "2023-01-13T18:37:54.894Z"
   },
   {
    "duration": 46,
    "start_time": "2023-01-13T18:37:55.856Z"
   },
   {
    "duration": 12,
    "start_time": "2023-01-13T18:37:55.906Z"
   },
   {
    "duration": 5,
    "start_time": "2023-01-13T18:37:55.920Z"
   },
   {
    "duration": 5,
    "start_time": "2023-01-13T18:37:55.926Z"
   },
   {
    "duration": 7,
    "start_time": "2023-01-13T18:37:55.933Z"
   },
   {
    "duration": 40,
    "start_time": "2023-01-13T18:37:55.942Z"
   },
   {
    "duration": 12,
    "start_time": "2023-01-13T18:37:55.984Z"
   },
   {
    "duration": 11,
    "start_time": "2023-01-13T18:37:55.998Z"
   },
   {
    "duration": 6,
    "start_time": "2023-01-13T18:37:56.011Z"
   },
   {
    "duration": 7,
    "start_time": "2023-01-13T18:37:56.018Z"
   },
   {
    "duration": 6,
    "start_time": "2023-01-13T18:37:56.026Z"
   },
   {
    "duration": 15,
    "start_time": "2023-01-13T18:37:56.033Z"
   },
   {
    "duration": 31,
    "start_time": "2023-01-13T18:37:56.049Z"
   },
   {
    "duration": 8,
    "start_time": "2023-01-13T18:37:56.083Z"
   },
   {
    "duration": 5,
    "start_time": "2023-01-13T18:37:56.093Z"
   },
   {
    "duration": 634,
    "start_time": "2023-01-13T18:37:56.100Z"
   },
   {
    "duration": 5,
    "start_time": "2023-01-13T18:37:56.736Z"
   },
   {
    "duration": 10,
    "start_time": "2023-01-13T18:37:56.742Z"
   },
   {
    "duration": 5,
    "start_time": "2023-01-13T18:37:56.754Z"
   },
   {
    "duration": 9,
    "start_time": "2023-01-13T18:37:56.781Z"
   },
   {
    "duration": 16,
    "start_time": "2023-01-13T18:37:56.793Z"
   },
   {
    "duration": 8,
    "start_time": "2023-01-13T18:37:56.811Z"
   },
   {
    "duration": 7,
    "start_time": "2023-01-13T18:37:56.821Z"
   },
   {
    "duration": 17,
    "start_time": "2023-01-13T18:37:56.830Z"
   },
   {
    "duration": 31,
    "start_time": "2023-01-13T18:37:56.849Z"
   },
   {
    "duration": 1108,
    "start_time": "2023-01-13T18:39:28.118Z"
   },
   {
    "duration": 2,
    "start_time": "2023-01-13T18:39:29.229Z"
   },
   {
    "duration": 39,
    "start_time": "2023-01-13T18:39:29.232Z"
   },
   {
    "duration": 14,
    "start_time": "2023-01-13T18:39:29.273Z"
   },
   {
    "duration": 30,
    "start_time": "2023-01-13T18:39:29.289Z"
   },
   {
    "duration": 11,
    "start_time": "2023-01-13T18:39:29.320Z"
   },
   {
    "duration": 6,
    "start_time": "2023-01-13T18:39:29.333Z"
   },
   {
    "duration": 997,
    "start_time": "2023-01-13T18:39:29.340Z"
   },
   {
    "duration": 41,
    "start_time": "2023-01-13T18:39:30.339Z"
   },
   {
    "duration": 26,
    "start_time": "2023-01-13T18:39:30.384Z"
   },
   {
    "duration": 4,
    "start_time": "2023-01-13T18:39:30.412Z"
   },
   {
    "duration": 14,
    "start_time": "2023-01-13T18:39:30.418Z"
   },
   {
    "duration": 13,
    "start_time": "2023-01-13T18:39:30.433Z"
   },
   {
    "duration": 13,
    "start_time": "2023-01-13T18:39:30.448Z"
   },
   {
    "duration": 21,
    "start_time": "2023-01-13T18:39:30.462Z"
   },
   {
    "duration": 25,
    "start_time": "2023-01-13T18:39:30.485Z"
   },
   {
    "duration": 18,
    "start_time": "2023-01-13T18:39:30.513Z"
   },
   {
    "duration": 5,
    "start_time": "2023-01-13T18:39:30.534Z"
   },
   {
    "duration": 7,
    "start_time": "2023-01-13T18:39:30.542Z"
   },
   {
    "duration": 5,
    "start_time": "2023-01-13T18:39:30.552Z"
   },
   {
    "duration": 7,
    "start_time": "2023-01-13T18:39:30.559Z"
   },
   {
    "duration": 5,
    "start_time": "2023-01-13T18:39:30.579Z"
   },
   {
    "duration": 677,
    "start_time": "2023-01-13T18:39:30.586Z"
   },
   {
    "duration": 13,
    "start_time": "2023-01-13T18:39:31.265Z"
   },
   {
    "duration": 12,
    "start_time": "2023-01-13T18:39:31.280Z"
   },
   {
    "duration": 20,
    "start_time": "2023-01-13T18:39:31.294Z"
   },
   {
    "duration": 29,
    "start_time": "2023-01-13T18:39:31.315Z"
   },
   {
    "duration": 10,
    "start_time": "2023-01-13T18:39:31.347Z"
   },
   {
    "duration": 47,
    "start_time": "2023-01-13T18:39:31.359Z"
   },
   {
    "duration": 18,
    "start_time": "2023-01-13T18:39:31.408Z"
   },
   {
    "duration": 16,
    "start_time": "2023-01-13T18:39:31.428Z"
   },
   {
    "duration": 33,
    "start_time": "2023-01-13T18:39:31.445Z"
   },
   {
    "duration": 1210,
    "start_time": "2023-01-13T18:41:31.282Z"
   },
   {
    "duration": 8,
    "start_time": "2023-01-13T18:41:32.494Z"
   },
   {
    "duration": 37,
    "start_time": "2023-01-13T18:41:32.504Z"
   },
   {
    "duration": 19,
    "start_time": "2023-01-13T18:41:32.543Z"
   },
   {
    "duration": 24,
    "start_time": "2023-01-13T18:41:32.565Z"
   },
   {
    "duration": 18,
    "start_time": "2023-01-13T18:41:32.596Z"
   },
   {
    "duration": 10,
    "start_time": "2023-01-13T18:41:32.615Z"
   },
   {
    "duration": 979,
    "start_time": "2023-01-13T18:41:32.626Z"
   },
   {
    "duration": 34,
    "start_time": "2023-01-13T18:41:33.607Z"
   },
   {
    "duration": 35,
    "start_time": "2023-01-13T18:41:33.645Z"
   },
   {
    "duration": 3,
    "start_time": "2023-01-13T18:41:33.683Z"
   },
   {
    "duration": 23,
    "start_time": "2023-01-13T18:41:33.689Z"
   },
   {
    "duration": 9,
    "start_time": "2023-01-13T18:41:33.713Z"
   },
   {
    "duration": 8,
    "start_time": "2023-01-13T18:41:33.724Z"
   },
   {
    "duration": 13,
    "start_time": "2023-01-13T18:41:33.735Z"
   },
   {
    "duration": 29,
    "start_time": "2023-01-13T18:41:33.749Z"
   },
   {
    "duration": 6,
    "start_time": "2023-01-13T18:41:33.780Z"
   },
   {
    "duration": 29,
    "start_time": "2023-01-13T18:41:33.787Z"
   },
   {
    "duration": 7,
    "start_time": "2023-01-13T18:41:33.817Z"
   },
   {
    "duration": 8,
    "start_time": "2023-01-13T18:41:33.826Z"
   },
   {
    "duration": 8,
    "start_time": "2023-01-13T18:41:33.836Z"
   },
   {
    "duration": 7,
    "start_time": "2023-01-13T18:41:33.847Z"
   },
   {
    "duration": 711,
    "start_time": "2023-01-13T18:41:33.879Z"
   },
   {
    "duration": 11,
    "start_time": "2023-01-13T18:41:34.592Z"
   },
   {
    "duration": 15,
    "start_time": "2023-01-13T18:41:34.605Z"
   },
   {
    "duration": 7,
    "start_time": "2023-01-13T18:41:34.623Z"
   },
   {
    "duration": 10,
    "start_time": "2023-01-13T18:41:34.631Z"
   },
   {
    "duration": 6,
    "start_time": "2023-01-13T18:41:34.646Z"
   },
   {
    "duration": 27,
    "start_time": "2023-01-13T18:41:34.654Z"
   },
   {
    "duration": 14,
    "start_time": "2023-01-13T18:41:34.683Z"
   },
   {
    "duration": 15,
    "start_time": "2023-01-13T18:41:34.699Z"
   },
   {
    "duration": 9,
    "start_time": "2023-01-13T18:41:34.716Z"
   },
   {
    "duration": 9,
    "start_time": "2023-01-13T18:42:07.346Z"
   },
   {
    "duration": 6,
    "start_time": "2023-01-14T19:22:49.838Z"
   },
   {
    "duration": 1090,
    "start_time": "2023-01-14T19:56:41.874Z"
   },
   {
    "duration": 3,
    "start_time": "2023-01-14T19:56:42.965Z"
   },
   {
    "duration": 50,
    "start_time": "2023-01-14T19:56:42.969Z"
   },
   {
    "duration": 12,
    "start_time": "2023-01-14T19:56:43.022Z"
   },
   {
    "duration": 31,
    "start_time": "2023-01-14T19:56:43.035Z"
   },
   {
    "duration": 20,
    "start_time": "2023-01-14T19:56:43.067Z"
   },
   {
    "duration": 22,
    "start_time": "2023-01-14T19:56:43.089Z"
   },
   {
    "duration": 831,
    "start_time": "2023-01-14T19:56:43.113Z"
   },
   {
    "duration": 37,
    "start_time": "2023-01-14T19:56:43.945Z"
   },
   {
    "duration": 18,
    "start_time": "2023-01-14T19:56:43.985Z"
   },
   {
    "duration": 35,
    "start_time": "2023-01-14T19:56:44.005Z"
   },
   {
    "duration": 25,
    "start_time": "2023-01-14T19:56:44.042Z"
   },
   {
    "duration": 35,
    "start_time": "2023-01-14T19:56:44.069Z"
   },
   {
    "duration": 42,
    "start_time": "2023-01-14T19:56:44.106Z"
   },
   {
    "duration": 36,
    "start_time": "2023-01-14T19:56:44.150Z"
   },
   {
    "duration": 25,
    "start_time": "2023-01-14T19:56:44.187Z"
   },
   {
    "duration": 33,
    "start_time": "2023-01-14T19:56:44.214Z"
   },
   {
    "duration": 15,
    "start_time": "2023-01-14T19:56:44.248Z"
   },
   {
    "duration": 23,
    "start_time": "2023-01-14T19:56:44.264Z"
   },
   {
    "duration": 24,
    "start_time": "2023-01-14T19:56:44.289Z"
   },
   {
    "duration": 21,
    "start_time": "2023-01-14T19:56:44.314Z"
   },
   {
    "duration": 38,
    "start_time": "2023-01-14T19:56:44.336Z"
   },
   {
    "duration": 555,
    "start_time": "2023-01-14T19:56:44.375Z"
   },
   {
    "duration": 4,
    "start_time": "2023-01-14T19:56:44.931Z"
   },
   {
    "duration": 27,
    "start_time": "2023-01-14T19:56:44.936Z"
   },
   {
    "duration": 10,
    "start_time": "2023-01-14T19:56:44.965Z"
   },
   {
    "duration": 24,
    "start_time": "2023-01-14T19:56:44.977Z"
   },
   {
    "duration": 31,
    "start_time": "2023-01-14T19:56:45.006Z"
   },
   {
    "duration": 40,
    "start_time": "2023-01-14T19:56:45.039Z"
   },
   {
    "duration": 11,
    "start_time": "2023-01-14T19:56:45.081Z"
   },
   {
    "duration": 26,
    "start_time": "2023-01-14T19:56:45.093Z"
   },
   {
    "duration": 28,
    "start_time": "2023-01-14T19:56:45.121Z"
   }
  ],
  "kernelspec": {
   "display_name": "Python 3 (ipykernel)",
   "language": "python",
   "name": "python3"
  },
  "language_info": {
   "codemirror_mode": {
    "name": "ipython",
    "version": 3
   },
   "file_extension": ".py",
   "mimetype": "text/x-python",
   "name": "python",
   "nbconvert_exporter": "python",
   "pygments_lexer": "ipython3",
   "version": "3.9.2"
  },
  "toc": {
   "base_numbering": 1,
   "nav_menu": {},
   "number_sections": true,
   "sideBar": true,
   "skip_h1_title": true,
   "title_cell": "Содержание",
   "title_sidebar": "Contents",
   "toc_cell": true,
   "toc_position": {
    "height": "calc(100% - 180px)",
    "left": "10px",
    "top": "150px",
    "width": "169.391px"
   },
   "toc_section_display": true,
   "toc_window_display": false
  }
 },
 "nbformat": 4,
 "nbformat_minor": 2
}
